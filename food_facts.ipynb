{
 "cells": [
  {
   "cell_type": "code",
   "execution_count": 1,
   "metadata": {
    "collapsed": false
   },
   "outputs": [],
   "source": [
    "%matplotlib inline\n",
    "import numpy as np\n",
    "import pandas as pd\n",
    "import seaborn as sns\n",
    "import matplotlib.pyplot as plt\n",
    "from sklearn import cross_validation\n",
    "from sklearn.grid_search import GridSearchCV\n",
    "from sklearn.metrics import roc_auc_score, f1_score, precision_score, recall_score, accuracy_score, roc_curve, auc, confusion_matrix\n",
    "from sklearn.linear_model import LogisticRegression\n",
    "from sklearn.preprocessing import StandardScaler\n",
    "from scipy import interp\n",
    "pd.set_option('display.float_format', lambda x: '%.3f' % x)"
   ]
  },
  {
   "cell_type": "code",
   "execution_count": 11,
   "metadata": {
    "collapsed": false
   },
   "outputs": [
    {
     "name": "stderr",
     "output_type": "stream",
     "text": [
      "//anaconda/lib/python3.5/site-packages/IPython/core/interactiveshell.py:2723: DtypeWarning: Columns (0,3,5,27,36) have mixed types. Specify dtype option on import or set low_memory=False.\n",
      "  interactivity=interactivity, compiler=compiler, result=result)\n"
     ]
    }
   ],
   "source": [
    "df = pd.read_csv('FoodFacts.csv')"
   ]
  },
  {
   "cell_type": "code",
   "execution_count": 12,
   "metadata": {
    "collapsed": false
   },
   "outputs": [],
   "source": [
    "# Don't need code column\n",
    "df.drop(['code', 'created_t', 'last_modified_datetime'], axis=1, inplace=True)"
   ]
  },
  {
   "cell_type": "code",
   "execution_count": 13,
   "metadata": {
    "collapsed": false
   },
   "outputs": [],
   "source": [
    "from collections import Counter\n",
    "def cleanLists(l):\n",
    "    if type(l) != list:\n",
    "        return []\n",
    "    else:\n",
    "        return [cat.strip().lower() for cat in l]\n",
    "\n",
    "def oneHotEncodeCategories(df, numCategories=10):\n",
    "    '''\n",
    "        df: dataframe\n",
    "        numCategories: how many categories, starting with the most common categories, to one hot encode.\n",
    "        returns: \n",
    "            df: dataframe with categories one hot encoded. \n",
    "            category_columns: the names of the one hot encoded category columns\n",
    "    '''\n",
    "    \n",
    "    df['categories_en_list'] = df.categories_en.apply(lambda x: x.split(',') if type(x) == str else x)\n",
    "    df['categories_en_list'] = df.categories_en_list.apply(cleanLists)\n",
    "    \n",
    "    all_cats = []\n",
    "    _ = df.categories_en_list.apply(lambda x: all_cats.extend(x))\n",
    "    cat_counts = Counter(all_cats)\n",
    "    most_common_cats = [cat[0] for cat in cat_counts.most_common(numCategories)]\n",
    "    for cat in most_common_cats:\n",
    "        df[cat] = df['categories_en_list'].apply(lambda x: 1 if cat in x else 0)\n",
    "    return df, most_common_cats\n",
    "\n",
    "df, category_columns = oneHotEncodeCategories(df, numCategories=100)"
   ]
  },
  {
   "cell_type": "code",
   "execution_count": 16,
   "metadata": {
    "collapsed": false
   },
   "outputs": [],
   "source": [
    "\n",
    "#https://www.kaggle.com/christinampoid/d/openfoodfacts/world-food-facts/europe-habits\n",
    "\n",
    "#labels: list of Strings with country names\n",
    "#returns the rows that have as country name any of the names in labels\n",
    "def get_rows_country(labels):\n",
    "    return df[df.countries.isin(labels)]\n",
    "\n",
    "#labels: list of Strings with country names\n",
    "#returns the categories and the percentage that appear in the rows of a particular country\n",
    "def get_categories_counts(labels):\n",
    "    rows = get_rows_country(labels)\n",
    "    food_country = rows.main_category_en.value_counts() / len(rows)*100\n",
    "    return food_country\n",
    "\n",
    "#France\n",
    "labels_france = ['France', 'en:FR', 'France,Europe','Belgique,France']\n",
    "french_food = get_rows_country(labels_france)\n",
    "\n",
    "#Spain\n",
    "labels_spain = ['España','en:ES','Espagne','Spain']\n",
    "spanish_food = get_rows_country(labels_spain)\n",
    "\n",
    "#Germany\n",
    "labels_germany = ['Deutschland','Germany','Allemagne','en:DE']\n",
    "german_food = get_rows_country(labels_germany)\n",
    "\n",
    "#United Kingdom\n",
    "labels_uk = ['en:UK','United Kingdom','en:GB','uk','UK']\n",
    "uk_food = get_rows_country(labels_uk)\n",
    "\n",
    "#Belgium\n",
    "labels_belgium = ['Belgique','en:BE','Belgique,France','Belgium','Belgique,France']\n",
    "belgium_food = get_rows_country(labels_belgium)\n",
    "\n",
    "#Italia\n",
    "labels_italia = ['Italia','en:IT','Italie']\n",
    "italian_food = get_rows_country(labels_italia)\n",
    "\n",
    "#Switzerland\n",
    "labels_switzerland = ['Suisse','Switzerland']\n",
    "suisse_food = get_rows_country(labels_switzerland)\n",
    "\n",
    "#Netherlands\n",
    "labels_netherlands = ['Netherlands', 'Holland']\n",
    "holland_food = get_rows_country(labels_netherlands)\n",
    "\n",
    "#Denmark\n",
    "labels_denmark = ['Denmark','Dänemark']\n",
    "dannish_food = get_rows_country(labels_denmark)\n",
    "\n",
    "#Portugal\n",
    "labels_portugal = ['Portugal','en:portugal']\n",
    "portuguese_food = get_rows_country(labels_portugal)\n",
    "\n",
    "#Greece\n",
    "labels_greece = ['Greece','en:GR','Grèce','en:greece']\n",
    "greek_food = get_rows_country(labels_greece)\n",
    "\n",
    "#Sweden\n",
    "labels_sweden = ['Sweden','en:SE','en:sweden']\n",
    "swedish_food = get_rows_country(labels_sweden)\n",
    "\n",
    "#Norway\n",
    "labels_norway = ['Norway','en:NO','en:norway']\n",
    "norwegian_food = get_rows_country(labels_norway)\n",
    "\n",
    "#Croatia\n",
    "labels_croatia = ['Croatia','en:HR','en:croatia']\n",
    "croatian_food = get_rows_country(labels_croatia)\n",
    "\n",
    "#Albania\n",
    "labels_albania = ['Albania','en:AL','en:albania']\n",
    "albanian_food = get_rows_country(labels_albania)\n",
    "\n",
    "labels_usa = ['United States', 'en:US', 'US', 'USA', 'en:united-states','United states', 'united states', 'United States of America']\n",
    "usa = get_rows_country(labels_usa)"
   ]
  },
  {
   "cell_type": "code",
   "execution_count": 17,
   "metadata": {
    "collapsed": false
   },
   "outputs": [],
   "source": [
    "europe = pd.concat([french_food,\n",
    "                    spanish_food,\n",
    "                    german_food, \n",
    "                    uk_food, \n",
    "                    belgium_food, \n",
    "                    italian_food, \n",
    "                    suisse_food,\n",
    "                    holland_food,\n",
    "                    dannish_food, \n",
    "                    portuguese_food, \n",
    "                    greek_food, \n",
    "                    swedish_food,\n",
    "                    norwegian_food,\n",
    "                    croatian_food, \n",
    "                    albanian_food])"
   ]
  },
  {
   "cell_type": "code",
   "execution_count": 18,
   "metadata": {
    "collapsed": false
   },
   "outputs": [
    {
     "name": "stdout",
     "output_type": "stream",
     "text": [
      "(55942, 205)\n",
      "(2413, 205)\n"
     ]
    }
   ],
   "source": [
    "usaNaCols = [col for col in usa.columns if usa[col].isnull().all()]\n",
    "euroNaCols = [col for col in europe.columns if europe[col].isnull().all()]\n",
    "combinedNaCols = usaNaCols + euroNaCols\n",
    "\n",
    "usa = usa.drop(combinedNaCols, axis=1)\n",
    "europe = europe.drop(combinedNaCols, axis=1)\n",
    "usa['isUS'] = 1\n",
    "europe['isUS'] = 0\n",
    "print(europe.shape)\n",
    "print(usa.shape)\n"
   ]
  },
  {
   "cell_type": "code",
   "execution_count": 20,
   "metadata": {
    "collapsed": false
   },
   "outputs": [
    {
     "data": {
      "text/plain": [
       "<matplotlib.axes._subplots.AxesSubplot at 0x121b82908>"
      ]
     },
     "execution_count": 20,
     "metadata": {},
     "output_type": "execute_result"
    },
    {
     "data": {
      "image/png": "[encoded data removed]",
      "text/plain": [
       "<matplotlib.figure.Figure at 0x11429e668>"
      ]
     },
     "metadata": {},
     "output_type": "display_data"
    }
   ],
   "source": [
    "most_common_usa = usa[category_columns].sum().sort_values(ascending=False).iloc[0:25]\n",
    "most_common_usa_perc = most_common_usa.apply(lambda x: x/usa.shape[0])\n",
    "most_common_usa_perc.plot(kind='bar')"
   ]
  },
  {
   "cell_type": "code",
   "execution_count": 21,
   "metadata": {
    "collapsed": false
   },
   "outputs": [
    {
     "data": {
      "text/plain": [
       "<matplotlib.axes._subplots.AxesSubplot at 0x11bcfeac8>"
      ]
     },
     "execution_count": 21,
     "metadata": {},
     "output_type": "execute_result"
    },
    {
     "data": {
      "image/png": "[encoded data removed]",
      "text/plain": [
       "<matplotlib.figure.Figure at 0x11bcee358>"
      ]
     },
     "metadata": {},
     "output_type": "display_data"
    }
   ],
   "source": [
    "most_common_euro = europe[category_columns].sum().sort_values(ascending=False).iloc[0:25]\n",
    "most_common_euro = most_common_euro.apply(lambda x: x/europe.shape[0])\n",
    "most_common_euro.plot(kind='bar')"
   ]
  },
  {
   "cell_type": "code",
   "execution_count": 24,
   "metadata": {
    "collapsed": false
   },
   "outputs": [
    {
     "data": {
      "text/plain": [
       "['plant-based foods and beverages',\n",
       " 'plant-based foods',\n",
       " 'beverages',\n",
       " 'sugary snacks',\n",
       " 'groceries',\n",
       " 'cereals and potatoes',\n",
       " 'dairies',\n",
       " 'cereals and their products',\n",
       " 'non-sugared beverages',\n",
       " 'breakfasts',\n",
       " 'biscuits and cakes',\n",
       " 'spreads',\n",
       " 'plant-based beverages',\n",
       " 'chocolates']"
      ]
     },
     "execution_count": 24,
     "metadata": {},
     "output_type": "execute_result"
    }
   ],
   "source": [
    "most_common_in_both = [cat for cat in most_common_usa.index if cat in most_common_euro.index]\n",
    "most_common_in_both"
   ]
  },
  {
   "cell_type": "code",
   "execution_count": 40,
   "metadata": {
    "collapsed": false
   },
   "outputs": [
    {
     "name": "stderr",
     "output_type": "stream",
     "text": [
      "//anaconda/lib/python3.5/site-packages/pandas/core/frame.py:2756: SettingWithCopyWarning: \n",
      "A value is trying to be set on a copy of a slice from a DataFrame\n",
      "\n",
      "See the caveats in the documentation: http://pandas.pydata.org/pandas-docs/stable/indexing.html#indexing-view-versus-copy\n",
      "  downcast=downcast, **kwargs)\n"
     ]
    },
    {
     "name": "stdout",
     "output_type": "stream",
     "text": [
      "['isUS', 'plant-based foods and beverages', 'plant-based foods', 'beverages', 'sugary snacks', 'dairies', 'fruits and vegetables based foods', 'cereals and potatoes', 'fresh foods', 'meals', 'cereals and their products', 'canned foods', 'groceries', 'desserts', 'meats', 'biscuits and cakes', 'vegetables based foods', 'spreads', 'cheeses', 'non-sugared beverages', 'frozen foods', 'breakfasts', 'plant-based beverages', 'sauces', 'prepared meats', 'chocolates', 'fruits based foods', 'biscuits', 'alcoholic beverages', 'confectioneries', 'seafood', 'fruit-based beverages', 'salty snacks', 'canned plant-based foods', 'appetizers', 'condiments', 'juices and nectars', 'yogurts', 'fishes', 'non-alcoholic beverages', 'sugared beverages', 'fruit juices and nectars', 'legumes and their products', 'pastas', 'sweet spreads', 'hot beverages', 'cow cheeses', 'fruit juices', 'fresh plant-based foods', 'seeds', 'carbonated drinks', 'breads', 'fats', 'milks', 'plant-based spreads', 'pasteurized cheeses', 'canned vegetables', 'fresh vegetables', 'microwave meals', 'meals with meat', 'beers', 'candies', 'breakfast cereals', 'sodas', 'french cheeses', 'dried products', 'cakes', 'wines', 'chips and fries', 'fresh meals', 'dry pasta', 'salted spreads', 'frozen ready-made meals', 'chocolate biscuits', 'fruit preserves', 'nuts and their products', 'hams', 'herbal teas', 'canned fishes', 'canned meals', 'crisps', 'dark chocolates', 'soups', 'sweeteners', 'cereal grains', 'vegetable fats', 'jams', 'farming products', 'waters', 'fruits', 'dairy desserts', 'spreadable fats', 'spices', 'poultries', 'milk chocolates', 'industrial cheese', 'crackers', 'tomato sauces', 'frozen desserts', 'pork', 'frozen plant-based foods']\n",
      "Index(['additives_n', 'ingredients_from_palm_oil_n',\n",
      "       'ingredients_that_may_be_from_palm_oil_n', 'energy_100g',\n",
      "       'energy_from_fat_100g', 'fat_100g', 'saturated_fat_100g',\n",
      "       'monounsaturated_fat_100g', 'polyunsaturated_fat_100g',\n",
      "       'omega_3_fat_100g', 'alpha_linolenic_acid_100g', 'trans_fat_100g',\n",
      "       'cholesterol_100g', 'carbohydrates_100g', 'sugars_100g', 'lactose_100g',\n",
      "       'polyols_100g', 'fiber_100g', 'proteins_100g', 'salt_100g',\n",
      "       'sodium_100g', 'alcohol_100g', 'vitamin_a_100g', 'vitamin_d_100g',\n",
      "       'vitamin_e_100g', 'vitamin_k_100g', 'vitamin_c_100g', 'vitamin_b1_100g',\n",
      "       'vitamin_b2_100g', 'vitamin_pp_100g', 'vitamin_b6_100g',\n",
      "       'vitamin_b9_100g', 'vitamin_b12_100g', 'biotin_100g',\n",
      "       'pantothenic_acid_100g', 'potassium_100g', 'calcium_100g',\n",
      "       'phosphorus_100g', 'iron_100g', 'magnesium_100g', 'zinc_100g',\n",
      "       'copper_100g', 'manganese_100g', 'selenium_100g', 'chromium_100g',\n",
      "       'molybdenum_100g', 'iodine_100g', 'caffeine_100g',\n",
      "       'fruits_vegetables_nuts_100g', 'cocoa_100g', 'carbon_footprint_100g',\n",
      "       'nutrition_score_fr_100g', 'nutrition_score_uk_100g'],\n",
      "      dtype='object')\n",
      "plant-based foods and beverages\n",
      "Index(['additives_n', 'ingredients_from_palm_oil_n',\n",
      "       'ingredients_that_may_be_from_palm_oil_n', 'energy_100g',\n",
      "       'energy_from_fat_100g', 'fat_100g', 'saturated_fat_100g',\n",
      "       'monounsaturated_fat_100g', 'polyunsaturated_fat_100g',\n",
      "       'omega_3_fat_100g', 'alpha_linolenic_acid_100g', 'trans_fat_100g',\n",
      "       'cholesterol_100g', 'carbohydrates_100g', 'sugars_100g', 'lactose_100g',\n",
      "       'polyols_100g', 'fiber_100g', 'proteins_100g', 'salt_100g',\n",
      "       'sodium_100g', 'alcohol_100g', 'vitamin_a_100g', 'vitamin_d_100g',\n",
      "       'vitamin_e_100g', 'vitamin_k_100g', 'vitamin_c_100g', 'vitamin_b1_100g',\n",
      "       'vitamin_b2_100g', 'vitamin_pp_100g', 'vitamin_b6_100g',\n",
      "       'vitamin_b9_100g', 'vitamin_b12_100g', 'biotin_100g',\n",
      "       'pantothenic_acid_100g', 'potassium_100g', 'calcium_100g',\n",
      "       'phosphorus_100g', 'iron_100g', 'magnesium_100g', 'zinc_100g',\n",
      "       'copper_100g', 'manganese_100g', 'selenium_100g', 'chromium_100g',\n",
      "       'molybdenum_100g', 'iodine_100g', 'caffeine_100g',\n",
      "       'fruits_vegetables_nuts_100g', 'cocoa_100g', 'carbon_footprint_100g',\n",
      "       'nutrition_score_fr_100g', 'nutrition_score_uk_100g'],\n",
      "      dtype='object')\n",
      "plant-based foods\n",
      "Index(['additives_n', 'ingredients_from_palm_oil_n',\n",
      "       'ingredients_that_may_be_from_palm_oil_n', 'energy_100g',\n",
      "       'energy_from_fat_100g', 'fat_100g', 'saturated_fat_100g',\n",
      "       'monounsaturated_fat_100g', 'polyunsaturated_fat_100g',\n",
      "       'omega_3_fat_100g', 'alpha_linolenic_acid_100g', 'trans_fat_100g',\n",
      "       'cholesterol_100g', 'carbohydrates_100g', 'sugars_100g', 'lactose_100g',\n",
      "       'polyols_100g', 'fiber_100g', 'proteins_100g', 'salt_100g',\n",
      "       'sodium_100g', 'alcohol_100g', 'vitamin_a_100g', 'vitamin_d_100g',\n",
      "       'vitamin_e_100g', 'vitamin_k_100g', 'vitamin_c_100g', 'vitamin_b1_100g',\n",
      "       'vitamin_b2_100g', 'vitamin_pp_100g', 'vitamin_b6_100g',\n",
      "       'vitamin_b9_100g', 'vitamin_b12_100g', 'biotin_100g',\n",
      "       'pantothenic_acid_100g', 'potassium_100g', 'calcium_100g',\n",
      "       'phosphorus_100g', 'iron_100g', 'magnesium_100g', 'zinc_100g',\n",
      "       'copper_100g', 'manganese_100g', 'selenium_100g', 'chromium_100g',\n",
      "       'molybdenum_100g', 'iodine_100g', 'caffeine_100g',\n",
      "       'fruits_vegetables_nuts_100g', 'cocoa_100g', 'carbon_footprint_100g',\n",
      "       'nutrition_score_fr_100g', 'nutrition_score_uk_100g'],\n",
      "      dtype='object')\n",
      "beverages\n",
      "Index(['additives_n', 'ingredients_from_palm_oil_n',\n",
      "       'ingredients_that_may_be_from_palm_oil_n', 'energy_100g',\n",
      "       'energy_from_fat_100g', 'fat_100g', 'saturated_fat_100g',\n",
      "       'monounsaturated_fat_100g', 'polyunsaturated_fat_100g',\n",
      "       'omega_3_fat_100g', 'alpha_linolenic_acid_100g', 'trans_fat_100g',\n",
      "       'cholesterol_100g', 'carbohydrates_100g', 'sugars_100g', 'lactose_100g',\n",
      "       'polyols_100g', 'fiber_100g', 'proteins_100g', 'salt_100g',\n",
      "       'sodium_100g', 'alcohol_100g', 'vitamin_a_100g', 'vitamin_d_100g',\n",
      "       'vitamin_e_100g', 'vitamin_k_100g', 'vitamin_c_100g', 'vitamin_b1_100g',\n",
      "       'vitamin_b2_100g', 'vitamin_pp_100g', 'vitamin_b6_100g',\n",
      "       'vitamin_b9_100g', 'vitamin_b12_100g', 'biotin_100g',\n",
      "       'pantothenic_acid_100g', 'potassium_100g', 'calcium_100g',\n",
      "       'phosphorus_100g', 'iron_100g', 'magnesium_100g', 'zinc_100g',\n",
      "       'copper_100g', 'manganese_100g', 'selenium_100g', 'chromium_100g',\n",
      "       'molybdenum_100g', 'iodine_100g', 'caffeine_100g',\n",
      "       'fruits_vegetables_nuts_100g', 'cocoa_100g', 'carbon_footprint_100g',\n",
      "       'nutrition_score_fr_100g', 'nutrition_score_uk_100g'],\n",
      "      dtype='object')\n",
      "sugary snacks\n",
      "Index(['additives_n', 'ingredients_from_palm_oil_n',\n",
      "       'ingredients_that_may_be_from_palm_oil_n', 'energy_100g',\n",
      "       'energy_from_fat_100g', 'fat_100g', 'saturated_fat_100g',\n",
      "       'monounsaturated_fat_100g', 'polyunsaturated_fat_100g',\n",
      "       'omega_3_fat_100g', 'alpha_linolenic_acid_100g', 'trans_fat_100g',\n",
      "       'cholesterol_100g', 'carbohydrates_100g', 'sugars_100g', 'lactose_100g',\n",
      "       'polyols_100g', 'fiber_100g', 'proteins_100g', 'salt_100g',\n",
      "       'sodium_100g', 'alcohol_100g', 'vitamin_a_100g', 'vitamin_d_100g',\n",
      "       'vitamin_e_100g', 'vitamin_k_100g', 'vitamin_c_100g', 'vitamin_b1_100g',\n",
      "       'vitamin_b2_100g', 'vitamin_pp_100g', 'vitamin_b6_100g',\n",
      "       'vitamin_b9_100g', 'vitamin_b12_100g', 'biotin_100g',\n",
      "       'pantothenic_acid_100g', 'potassium_100g', 'calcium_100g',\n",
      "       'phosphorus_100g', 'iron_100g', 'magnesium_100g', 'zinc_100g',\n",
      "       'copper_100g', 'manganese_100g', 'selenium_100g', 'chromium_100g',\n",
      "       'molybdenum_100g', 'iodine_100g', 'caffeine_100g',\n",
      "       'fruits_vegetables_nuts_100g', 'cocoa_100g', 'carbon_footprint_100g',\n",
      "       'nutrition_score_fr_100g', 'nutrition_score_uk_100g'],\n",
      "      dtype='object')\n",
      "groceries\n",
      "Index(['additives_n', 'ingredients_from_palm_oil_n',\n",
      "       'ingredients_that_may_be_from_palm_oil_n', 'energy_100g',\n",
      "       'energy_from_fat_100g', 'fat_100g', 'saturated_fat_100g',\n",
      "       'monounsaturated_fat_100g', 'polyunsaturated_fat_100g',\n",
      "       'omega_3_fat_100g', 'alpha_linolenic_acid_100g', 'trans_fat_100g',\n",
      "       'cholesterol_100g', 'carbohydrates_100g', 'sugars_100g', 'lactose_100g',\n",
      "       'polyols_100g', 'fiber_100g', 'proteins_100g', 'salt_100g',\n",
      "       'sodium_100g', 'alcohol_100g', 'vitamin_a_100g', 'vitamin_d_100g',\n",
      "       'vitamin_e_100g', 'vitamin_k_100g', 'vitamin_c_100g', 'vitamin_b1_100g',\n",
      "       'vitamin_b2_100g', 'vitamin_pp_100g', 'vitamin_b6_100g',\n",
      "       'vitamin_b9_100g', 'vitamin_b12_100g', 'biotin_100g',\n",
      "       'pantothenic_acid_100g', 'potassium_100g', 'calcium_100g',\n",
      "       'phosphorus_100g', 'iron_100g', 'magnesium_100g', 'zinc_100g',\n",
      "       'copper_100g', 'manganese_100g', 'selenium_100g', 'chromium_100g',\n",
      "       'molybdenum_100g', 'iodine_100g', 'caffeine_100g',\n",
      "       'fruits_vegetables_nuts_100g', 'cocoa_100g', 'carbon_footprint_100g',\n",
      "       'nutrition_score_fr_100g', 'nutrition_score_uk_100g'],\n",
      "      dtype='object')\n",
      "cereals and potatoes\n",
      "Index(['additives_n', 'ingredients_from_palm_oil_n',\n",
      "       'ingredients_that_may_be_from_palm_oil_n', 'energy_100g',\n",
      "       'energy_from_fat_100g', 'fat_100g', 'saturated_fat_100g',\n",
      "       'monounsaturated_fat_100g', 'polyunsaturated_fat_100g',\n",
      "       'omega_3_fat_100g', 'alpha_linolenic_acid_100g', 'trans_fat_100g',\n",
      "       'cholesterol_100g', 'carbohydrates_100g', 'sugars_100g', 'lactose_100g',\n",
      "       'polyols_100g', 'fiber_100g', 'proteins_100g', 'salt_100g',\n",
      "       'sodium_100g', 'alcohol_100g', 'vitamin_a_100g', 'vitamin_d_100g',\n",
      "       'vitamin_e_100g', 'vitamin_k_100g', 'vitamin_c_100g', 'vitamin_b1_100g',\n",
      "       'vitamin_b2_100g', 'vitamin_pp_100g', 'vitamin_b6_100g',\n",
      "       'vitamin_b9_100g', 'vitamin_b12_100g', 'biotin_100g',\n",
      "       'pantothenic_acid_100g', 'potassium_100g', 'calcium_100g',\n",
      "       'phosphorus_100g', 'iron_100g', 'magnesium_100g', 'zinc_100g',\n",
      "       'copper_100g', 'manganese_100g', 'selenium_100g', 'chromium_100g',\n",
      "       'molybdenum_100g', 'iodine_100g', 'caffeine_100g',\n",
      "       'fruits_vegetables_nuts_100g', 'cocoa_100g', 'carbon_footprint_100g',\n",
      "       'nutrition_score_fr_100g', 'nutrition_score_uk_100g'],\n",
      "      dtype='object')\n",
      "dairies\n",
      "Index(['additives_n', 'ingredients_from_palm_oil_n',\n",
      "       'ingredients_that_may_be_from_palm_oil_n', 'energy_100g',\n",
      "       'energy_from_fat_100g', 'fat_100g', 'saturated_fat_100g',\n",
      "       'monounsaturated_fat_100g', 'polyunsaturated_fat_100g',\n",
      "       'omega_3_fat_100g', 'alpha_linolenic_acid_100g', 'trans_fat_100g',\n",
      "       'cholesterol_100g', 'carbohydrates_100g', 'sugars_100g', 'lactose_100g',\n",
      "       'polyols_100g', 'fiber_100g', 'proteins_100g', 'salt_100g',\n",
      "       'sodium_100g', 'alcohol_100g', 'vitamin_a_100g', 'vitamin_d_100g',\n",
      "       'vitamin_e_100g', 'vitamin_k_100g', 'vitamin_c_100g', 'vitamin_b1_100g',\n",
      "       'vitamin_b2_100g', 'vitamin_pp_100g', 'vitamin_b6_100g',\n",
      "       'vitamin_b9_100g', 'vitamin_b12_100g', 'biotin_100g',\n",
      "       'pantothenic_acid_100g', 'potassium_100g', 'calcium_100g',\n",
      "       'phosphorus_100g', 'iron_100g', 'magnesium_100g', 'zinc_100g',\n",
      "       'copper_100g', 'manganese_100g', 'selenium_100g', 'chromium_100g',\n",
      "       'molybdenum_100g', 'iodine_100g', 'caffeine_100g',\n",
      "       'fruits_vegetables_nuts_100g', 'cocoa_100g', 'carbon_footprint_100g',\n",
      "       'nutrition_score_fr_100g', 'nutrition_score_uk_100g'],\n",
      "      dtype='object')\n",
      "cereals and their products\n",
      "Index(['additives_n', 'ingredients_from_palm_oil_n',\n",
      "       'ingredients_that_may_be_from_palm_oil_n', 'energy_100g',\n",
      "       'energy_from_fat_100g', 'fat_100g', 'saturated_fat_100g',\n",
      "       'monounsaturated_fat_100g', 'polyunsaturated_fat_100g',\n",
      "       'omega_3_fat_100g', 'alpha_linolenic_acid_100g', 'trans_fat_100g',\n",
      "       'cholesterol_100g', 'carbohydrates_100g', 'sugars_100g', 'lactose_100g',\n",
      "       'polyols_100g', 'fiber_100g', 'proteins_100g', 'salt_100g',\n",
      "       'sodium_100g', 'alcohol_100g', 'vitamin_a_100g', 'vitamin_d_100g',\n",
      "       'vitamin_e_100g', 'vitamin_k_100g', 'vitamin_c_100g', 'vitamin_b1_100g',\n",
      "       'vitamin_b2_100g', 'vitamin_pp_100g', 'vitamin_b6_100g',\n",
      "       'vitamin_b9_100g', 'vitamin_b12_100g', 'biotin_100g',\n",
      "       'pantothenic_acid_100g', 'potassium_100g', 'calcium_100g',\n",
      "       'phosphorus_100g', 'iron_100g', 'magnesium_100g', 'zinc_100g',\n",
      "       'copper_100g', 'manganese_100g', 'selenium_100g', 'chromium_100g',\n",
      "       'molybdenum_100g', 'iodine_100g', 'caffeine_100g',\n",
      "       'fruits_vegetables_nuts_100g', 'cocoa_100g', 'carbon_footprint_100g',\n",
      "       'nutrition_score_fr_100g', 'nutrition_score_uk_100g'],\n",
      "      dtype='object')\n",
      "non-sugared beverages\n",
      "Index(['additives_n', 'ingredients_from_palm_oil_n',\n",
      "       'ingredients_that_may_be_from_palm_oil_n', 'energy_100g',\n",
      "       'energy_from_fat_100g', 'fat_100g', 'saturated_fat_100g',\n",
      "       'monounsaturated_fat_100g', 'polyunsaturated_fat_100g',\n",
      "       'omega_3_fat_100g', 'alpha_linolenic_acid_100g', 'trans_fat_100g',\n",
      "       'cholesterol_100g', 'carbohydrates_100g', 'sugars_100g', 'lactose_100g',\n",
      "       'polyols_100g', 'fiber_100g', 'proteins_100g', 'salt_100g',\n",
      "       'sodium_100g', 'alcohol_100g', 'vitamin_a_100g', 'vitamin_d_100g',\n",
      "       'vitamin_e_100g', 'vitamin_k_100g', 'vitamin_c_100g', 'vitamin_b1_100g',\n",
      "       'vitamin_b2_100g', 'vitamin_pp_100g', 'vitamin_b6_100g',\n",
      "       'vitamin_b9_100g', 'vitamin_b12_100g', 'biotin_100g',\n",
      "       'pantothenic_acid_100g', 'potassium_100g', 'calcium_100g',\n",
      "       'phosphorus_100g', 'iron_100g', 'magnesium_100g', 'zinc_100g',\n",
      "       'copper_100g', 'manganese_100g', 'selenium_100g', 'chromium_100g',\n",
      "       'molybdenum_100g', 'iodine_100g', 'caffeine_100g',\n",
      "       'fruits_vegetables_nuts_100g', 'cocoa_100g', 'carbon_footprint_100g',\n",
      "       'nutrition_score_fr_100g', 'nutrition_score_uk_100g'],\n",
      "      dtype='object')\n",
      "breakfasts\n",
      "Index(['additives_n', 'ingredients_from_palm_oil_n',\n",
      "       'ingredients_that_may_be_from_palm_oil_n', 'energy_100g',\n",
      "       'energy_from_fat_100g', 'fat_100g', 'saturated_fat_100g',\n",
      "       'monounsaturated_fat_100g', 'polyunsaturated_fat_100g',\n",
      "       'omega_3_fat_100g', 'alpha_linolenic_acid_100g', 'trans_fat_100g',\n",
      "       'cholesterol_100g', 'carbohydrates_100g', 'sugars_100g', 'lactose_100g',\n",
      "       'polyols_100g', 'fiber_100g', 'proteins_100g', 'salt_100g',\n",
      "       'sodium_100g', 'alcohol_100g', 'vitamin_a_100g', 'vitamin_d_100g',\n",
      "       'vitamin_e_100g', 'vitamin_k_100g', 'vitamin_c_100g', 'vitamin_b1_100g',\n",
      "       'vitamin_b2_100g', 'vitamin_pp_100g', 'vitamin_b6_100g',\n",
      "       'vitamin_b9_100g', 'vitamin_b12_100g', 'biotin_100g',\n",
      "       'pantothenic_acid_100g', 'potassium_100g', 'calcium_100g',\n",
      "       'phosphorus_100g', 'iron_100g', 'magnesium_100g', 'zinc_100g',\n",
      "       'copper_100g', 'manganese_100g', 'selenium_100g', 'chromium_100g',\n",
      "       'molybdenum_100g', 'iodine_100g', 'caffeine_100g',\n",
      "       'fruits_vegetables_nuts_100g', 'cocoa_100g', 'carbon_footprint_100g',\n",
      "       'nutrition_score_fr_100g', 'nutrition_score_uk_100g'],\n",
      "      dtype='object')\n",
      "biscuits and cakes\n",
      "Index(['additives_n', 'ingredients_from_palm_oil_n',\n",
      "       'ingredients_that_may_be_from_palm_oil_n', 'energy_100g',\n",
      "       'energy_from_fat_100g', 'fat_100g', 'saturated_fat_100g',\n",
      "       'monounsaturated_fat_100g', 'polyunsaturated_fat_100g',\n",
      "       'omega_3_fat_100g', 'alpha_linolenic_acid_100g', 'trans_fat_100g',\n",
      "       'cholesterol_100g', 'carbohydrates_100g', 'sugars_100g', 'lactose_100g',\n",
      "       'polyols_100g', 'fiber_100g', 'proteins_100g', 'salt_100g',\n",
      "       'sodium_100g', 'alcohol_100g', 'vitamin_a_100g', 'vitamin_d_100g',\n",
      "       'vitamin_e_100g', 'vitamin_k_100g', 'vitamin_c_100g', 'vitamin_b1_100g',\n",
      "       'vitamin_b2_100g', 'vitamin_pp_100g', 'vitamin_b6_100g',\n",
      "       'vitamin_b9_100g', 'vitamin_b12_100g', 'biotin_100g',\n",
      "       'pantothenic_acid_100g', 'potassium_100g', 'calcium_100g',\n",
      "       'phosphorus_100g', 'iron_100g', 'magnesium_100g', 'zinc_100g',\n",
      "       'copper_100g', 'manganese_100g', 'selenium_100g', 'chromium_100g',\n",
      "       'molybdenum_100g', 'iodine_100g', 'caffeine_100g',\n",
      "       'fruits_vegetables_nuts_100g', 'cocoa_100g', 'carbon_footprint_100g',\n",
      "       'nutrition_score_fr_100g', 'nutrition_score_uk_100g'],\n",
      "      dtype='object')\n",
      "spreads\n",
      "Index(['additives_n', 'ingredients_from_palm_oil_n',\n",
      "       'ingredients_that_may_be_from_palm_oil_n', 'energy_100g',\n",
      "       'energy_from_fat_100g', 'fat_100g', 'saturated_fat_100g',\n",
      "       'monounsaturated_fat_100g', 'polyunsaturated_fat_100g',\n",
      "       'omega_3_fat_100g', 'alpha_linolenic_acid_100g', 'trans_fat_100g',\n",
      "       'cholesterol_100g', 'carbohydrates_100g', 'sugars_100g', 'lactose_100g',\n",
      "       'polyols_100g', 'fiber_100g', 'proteins_100g', 'salt_100g',\n",
      "       'sodium_100g', 'alcohol_100g', 'vitamin_a_100g', 'vitamin_d_100g',\n",
      "       'vitamin_e_100g', 'vitamin_k_100g', 'vitamin_c_100g', 'vitamin_b1_100g',\n",
      "       'vitamin_b2_100g', 'vitamin_pp_100g', 'vitamin_b6_100g',\n",
      "       'vitamin_b9_100g', 'vitamin_b12_100g', 'biotin_100g',\n",
      "       'pantothenic_acid_100g', 'potassium_100g', 'calcium_100g',\n",
      "       'phosphorus_100g', 'iron_100g', 'magnesium_100g', 'zinc_100g',\n",
      "       'copper_100g', 'manganese_100g', 'selenium_100g', 'chromium_100g',\n",
      "       'molybdenum_100g', 'iodine_100g', 'caffeine_100g',\n",
      "       'fruits_vegetables_nuts_100g', 'cocoa_100g', 'carbon_footprint_100g',\n",
      "       'nutrition_score_fr_100g', 'nutrition_score_uk_100g'],\n",
      "      dtype='object')\n",
      "plant-based beverages\n",
      "Index(['additives_n', 'ingredients_from_palm_oil_n',\n",
      "       'ingredients_that_may_be_from_palm_oil_n', 'energy_100g',\n",
      "       'energy_from_fat_100g', 'fat_100g', 'saturated_fat_100g',\n",
      "       'monounsaturated_fat_100g', 'polyunsaturated_fat_100g',\n",
      "       'omega_3_fat_100g', 'alpha_linolenic_acid_100g', 'trans_fat_100g',\n",
      "       'cholesterol_100g', 'carbohydrates_100g', 'sugars_100g', 'lactose_100g',\n",
      "       'polyols_100g', 'fiber_100g', 'proteins_100g', 'salt_100g',\n",
      "       'sodium_100g', 'alcohol_100g', 'vitamin_a_100g', 'vitamin_d_100g',\n",
      "       'vitamin_e_100g', 'vitamin_k_100g', 'vitamin_c_100g', 'vitamin_b1_100g',\n",
      "       'vitamin_b2_100g', 'vitamin_pp_100g', 'vitamin_b6_100g',\n",
      "       'vitamin_b9_100g', 'vitamin_b12_100g', 'biotin_100g',\n",
      "       'pantothenic_acid_100g', 'potassium_100g', 'calcium_100g',\n",
      "       'phosphorus_100g', 'iron_100g', 'magnesium_100g', 'zinc_100g',\n",
      "       'copper_100g', 'manganese_100g', 'selenium_100g', 'chromium_100g',\n",
      "       'molybdenum_100g', 'iodine_100g', 'caffeine_100g',\n",
      "       'fruits_vegetables_nuts_100g', 'cocoa_100g', 'carbon_footprint_100g',\n",
      "       'nutrition_score_fr_100g', 'nutrition_score_uk_100g'],\n",
      "      dtype='object')\n",
      "chocolates\n"
     ]
    }
   ],
   "source": [
    "train = pd.concat([usa, europe])\n",
    "numericCols = train.select_dtypes(include=[np.number]).columns\n",
    "dfNumOnly = train[numericCols]\n",
    "dfNumOnly.fillna(0, inplace=True)\n",
    "models = []\n",
    "toDrop = ['isUS']\n",
    "toDrop.extend(category_columns)\n",
    "print(toDrop)\n",
    "for cat in most_common_in_both:\n",
    "    cat_rows = dfNumOnly[dfNumOnly[cat] == 1]\n",
    "    X = cat_rows.drop(toDrop, axis=1)\n",
    "    print(X.columns)\n",
    "    y = cat_rows['isUS'].values\n",
    "    (Xtrain, Xtest, yTrain, yTest) = cross_validation.train_test_split(X, y, stratify=y)\n",
    "    clf = LogisticRegression()\n",
    "    sc = StandardScaler()\n",
    "    X = sc.fit_transform(X)\n",
    "    clf.fit(Xtrain, yTrain)\n",
    "    preds = clf.predict(Xtest)\n",
    "    print(cat)\n",
    "    auc_score = roc_auc_score(preds, yTest)\n",
    "    models.append((cat, auc_score,  clf))"
   ]
  },
  {
   "cell_type": "code",
   "execution_count": 41,
   "metadata": {
    "collapsed": false
   },
   "outputs": [
    {
     "data": {
      "text/html": [
       "<div>\n",
       "<table border=\"1\" class=\"dataframe\">\n",
       "  <thead>\n",
       "    <tr style=\"text-align: right;\">\n",
       "      <th></th>\n",
       "      <th>category</th>\n",
       "      <th>auc</th>\n",
       "    </tr>\n",
       "  </thead>\n",
       "  <tbody>\n",
       "    <tr>\n",
       "      <th>0</th>\n",
       "      <td>plant-based foods and beverages</td>\n",
       "      <td>0.979</td>\n",
       "    </tr>\n",
       "    <tr>\n",
       "      <th>1</th>\n",
       "      <td>plant-based foods</td>\n",
       "      <td>0.958</td>\n",
       "    </tr>\n",
       "    <tr>\n",
       "      <th>2</th>\n",
       "      <td>beverages</td>\n",
       "      <td>0.981</td>\n",
       "    </tr>\n",
       "    <tr>\n",
       "      <th>3</th>\n",
       "      <td>sugary snacks</td>\n",
       "      <td>0.991</td>\n",
       "    </tr>\n",
       "    <tr>\n",
       "      <th>4</th>\n",
       "      <td>groceries</td>\n",
       "      <td>0.981</td>\n",
       "    </tr>\n",
       "    <tr>\n",
       "      <th>5</th>\n",
       "      <td>cereals and potatoes</td>\n",
       "      <td>0.953</td>\n",
       "    </tr>\n",
       "    <tr>\n",
       "      <th>6</th>\n",
       "      <td>dairies</td>\n",
       "      <td>0.993</td>\n",
       "    </tr>\n",
       "    <tr>\n",
       "      <th>7</th>\n",
       "      <td>cereals and their products</td>\n",
       "      <td>0.964</td>\n",
       "    </tr>\n",
       "    <tr>\n",
       "      <th>8</th>\n",
       "      <td>non-sugared beverages</td>\n",
       "      <td>0.853</td>\n",
       "    </tr>\n",
       "    <tr>\n",
       "      <th>9</th>\n",
       "      <td>breakfasts</td>\n",
       "      <td>0.987</td>\n",
       "    </tr>\n",
       "    <tr>\n",
       "      <th>10</th>\n",
       "      <td>biscuits and cakes</td>\n",
       "      <td>0.991</td>\n",
       "    </tr>\n",
       "    <tr>\n",
       "      <th>11</th>\n",
       "      <td>spreads</td>\n",
       "      <td>0.944</td>\n",
       "    </tr>\n",
       "    <tr>\n",
       "      <th>12</th>\n",
       "      <td>plant-based beverages</td>\n",
       "      <td>0.988</td>\n",
       "    </tr>\n",
       "    <tr>\n",
       "      <th>13</th>\n",
       "      <td>chocolates</td>\n",
       "      <td>0.848</td>\n",
       "    </tr>\n",
       "  </tbody>\n",
       "</table>\n",
       "</div>"
      ],
      "text/plain": [
       "                           category   auc\n",
       "0   plant-based foods and beverages 0.979\n",
       "1                 plant-based foods 0.958\n",
       "2                         beverages 0.981\n",
       "3                     sugary snacks 0.991\n",
       "4                         groceries 0.981\n",
       "5              cereals and potatoes 0.953\n",
       "6                           dairies 0.993\n",
       "7        cereals and their products 0.964\n",
       "8             non-sugared beverages 0.853\n",
       "9                        breakfasts 0.987\n",
       "10               biscuits and cakes 0.991\n",
       "11                          spreads 0.944\n",
       "12            plant-based beverages 0.988\n",
       "13                       chocolates 0.848"
      ]
     },
     "execution_count": 41,
     "metadata": {},
     "output_type": "execute_result"
    }
   ],
   "source": [
    "modelDf = pd.DataFrame(columns=['category', 'auc', 'clf'])\n",
    "for model in models:\n",
    "    modelDf = modelDf.append({'category': model[0], 'auc': model[1], 'clf': model[2]}, ignore_index=True)\n",
    "modelDf[['category', 'auc']]"
   ]
  },
  {
   "cell_type": "code",
   "execution_count": 43,
   "metadata": {
    "collapsed": false
   },
   "outputs": [
    {
     "data": {
      "text/html": [
       "<div>\n",
       "<table border=\"1\" class=\"dataframe\">\n",
       "  <thead>\n",
       "    <tr style=\"text-align: right;\">\n",
       "      <th></th>\n",
       "      <th>absVal</th>\n",
       "      <th>feature</th>\n",
       "      <th>value</th>\n",
       "    </tr>\n",
       "  </thead>\n",
       "  <tbody>\n",
       "    <tr>\n",
       "      <th>1</th>\n",
       "      <td>0.779</td>\n",
       "      <td>ingredients_from_palm_oil_n</td>\n",
       "      <td>-0.779</td>\n",
       "    </tr>\n",
       "    <tr>\n",
       "      <th>2</th>\n",
       "      <td>0.698</td>\n",
       "      <td>ingredients_that_may_be_from_palm_oil_n</td>\n",
       "      <td>-0.698</td>\n",
       "    </tr>\n",
       "    <tr>\n",
       "      <th>18</th>\n",
       "      <td>0.499</td>\n",
       "      <td>proteins_100g</td>\n",
       "      <td>-0.499</td>\n",
       "    </tr>\n",
       "    <tr>\n",
       "      <th>19</th>\n",
       "      <td>0.377</td>\n",
       "      <td>salt_100g</td>\n",
       "      <td>-0.377</td>\n",
       "    </tr>\n",
       "    <tr>\n",
       "      <th>5</th>\n",
       "      <td>0.235</td>\n",
       "      <td>fat_100g</td>\n",
       "      <td>0.235</td>\n",
       "    </tr>\n",
       "    <tr>\n",
       "      <th>49</th>\n",
       "      <td>0.232</td>\n",
       "      <td>cocoa_100g</td>\n",
       "      <td>-0.232</td>\n",
       "    </tr>\n",
       "    <tr>\n",
       "      <th>16</th>\n",
       "      <td>0.193</td>\n",
       "      <td>polyols_100g</td>\n",
       "      <td>-0.193</td>\n",
       "    </tr>\n",
       "    <tr>\n",
       "      <th>8</th>\n",
       "      <td>0.165</td>\n",
       "      <td>polyunsaturated_fat_100g</td>\n",
       "      <td>0.165</td>\n",
       "    </tr>\n",
       "    <tr>\n",
       "      <th>20</th>\n",
       "      <td>0.148</td>\n",
       "      <td>sodium_100g</td>\n",
       "      <td>-0.148</td>\n",
       "    </tr>\n",
       "    <tr>\n",
       "      <th>21</th>\n",
       "      <td>0.127</td>\n",
       "      <td>alcohol_100g</td>\n",
       "      <td>-0.127</td>\n",
       "    </tr>\n",
       "  </tbody>\n",
       "</table>\n",
       "</div>"
      ],
      "text/plain": [
       "    absVal                                  feature  value\n",
       "1    0.779              ingredients_from_palm_oil_n -0.779\n",
       "2    0.698  ingredients_that_may_be_from_palm_oil_n -0.698\n",
       "18   0.499                            proteins_100g -0.499\n",
       "19   0.377                                salt_100g -0.377\n",
       "5    0.235                                 fat_100g  0.235\n",
       "49   0.232                               cocoa_100g -0.232\n",
       "16   0.193                             polyols_100g -0.193\n",
       "8    0.165                 polyunsaturated_fat_100g  0.165\n",
       "20   0.148                              sodium_100g -0.148\n",
       "21   0.127                             alcohol_100g -0.127"
      ]
     },
     "execution_count": 43,
     "metadata": {},
     "output_type": "execute_result"
    }
   ],
   "source": [
    "spreads_clf = modelDf[modelDf.category == 'spreads'].clf\n",
    "spreads_coef = pd.DataFrame({'value': clf.coef_[0], 'absVal': abs(clf.coef_[0]), 'feature': dfNumOnly.drop(toDrop, axis=1).columns})\n",
    "spreads_coef.sort_values(by='absVal', ascending=False).iloc[0:10]"
   ]
  },
  {
   "cell_type": "code",
   "execution_count": 42,
   "metadata": {
    "collapsed": false
   },
   "outputs": [
    {
     "data": {
      "text/plain": [
       "8                                                      NaN\n",
       "13       Boisson gazeuse rafraîchissante aux extraits n...\n",
       "16       Boisson gazeuse aux extraits naturels de citro...\n",
       "27                                                     NaN\n",
       "95                                                     NaN\n",
       "306                                                    NaN\n",
       "458                              Lait de coco pour dessert\n",
       "462                         Boisson aux graines de basilic\n",
       "463                                                    NaN\n",
       "465                                                    NaN\n",
       "512                                                    NaN\n",
       "687                                                    NaN\n",
       "1072                                                   NaN\n",
       "1305                                                   NaN\n",
       "1663                                                   NaN\n",
       "1706                                       boisson au cola\n",
       "1726                                                   NaN\n",
       "1764                                                   NaN\n",
       "2080                                          eau minérale\n",
       "2166                                    Thé vert en jasmin\n",
       "2167                                                   NaN\n",
       "2168                              Thé noir à la bergamotte\n",
       "2169                                   Thé noir Darjeeling\n",
       "2171                                                   thé\n",
       "2173                                                   NaN\n",
       "2174                               Thé aromatisé bergamote\n",
       "2176                                                   NaN\n",
       "2185     Thé aromatisé bergamote et agrumes avec des éc...\n",
       "2187                                                   NaN\n",
       "2190     Thé vert d'Orient nature en feuilles entières ...\n",
       "                               ...                        \n",
       "52421                                 Agua mineral natural\n",
       "52443    Refrigerante de extracto de chá com sumo de manga\n",
       "52447      Sumo de maçã à base de concentrado pasteurizado\n",
       "52476                                         Água mineral\n",
       "52512                                                Porto\n",
       "52514                                         Vin de Porto\n",
       "52531    Néctar de frutos vermelhos proveniente de conc...\n",
       "52532                            Jus de cerise et de pomme\n",
       "52533                                    Néctar de pêssego\n",
       "52538    Néctar de tutti frutti parcialmente provenient...\n",
       "52539    Néctar de manga/laranja proveniente de concent...\n",
       "52540                                    Néctar de pêssego\n",
       "52543    Néctar de manga/maracujá proveniente de concen...\n",
       "52556                             Boisson alcoolisée bière\n",
       "52557                                   Boisson alcoolisée\n",
       "52559    Bebida refrigerante de extrato de chá com sumo...\n",
       "52631                                            Vin blanc\n",
       "52638                                        Eau gazéifiée\n",
       "52747                                                Bière\n",
       "52751                                                Tonic\n",
       "58085         Granizado de café com café solúvel açucarado\n",
       "59874                                                Tonic\n",
       "61760                                                  NaN\n",
       "62179                                                  NaN\n",
       "63219                                             Thé vert\n",
       "63768                                                  NaN\n",
       "64240           Bebida energética com alto teor de cafeína\n",
       "64388                   Refrigerante de extractos vegetais\n",
       "52893                                         Energy drink\n",
       "54039                                                  NaN\n",
       "Name: generic_name, dtype: object"
      ]
     },
     "execution_count": 42,
     "metadata": {},
     "output_type": "execute_result"
    }
   ],
   "source": [
    "#sns.distplot(usa[usa.beverages == 1].sugars_100g)\n",
    "usa_bevs = usa[usa.beverages == 1]\n",
    "europe_bevs = europe[europe.beverages == 1]\n",
    "europe_bevs.generic_name"
   ]
  },
  {
   "cell_type": "code",
   "execution_count": null,
   "metadata": {
    "collapsed": false
   },
   "outputs": [],
   "source": [
    "usaNumOnly = usaNumOnly.drop(combinedNaCols, axis=1)\n",
    "europeNumOnly = europeNumOnly.drop(combinedNaCols, axis=1)\n",
    "print(europeNumOnly.shape)\n",
    "print(usaNumOnly.shape)"
   ]
  },
  {
   "cell_type": "code",
   "execution_count": 12,
   "metadata": {
    "collapsed": false
   },
   "outputs": [],
   "source": [
    "usaNumOnly['isUS'] = 1\n",
    "europeNumOnly['isUS'] = 0\n",
    "train = pd.concat([usaNumOnly, europeNumOnly])"
   ]
  },
  {
   "cell_type": "code",
   "execution_count": 13,
   "metadata": {
    "collapsed": false
   },
   "outputs": [],
   "source": [
    "train = train.fillna(0, axis=0)"
   ]
  },
  {
   "cell_type": "code",
   "execution_count": 14,
   "metadata": {
    "collapsed": false
   },
   "outputs": [
    {
     "data": {
      "text/html": [
       "<div>\n",
       "<table border=\"1\" class=\"dataframe\">\n",
       "  <thead>\n",
       "    <tr style=\"text-align: right;\">\n",
       "      <th></th>\n",
       "      <th>additives_n</th>\n",
       "      <th>ingredients_from_palm_oil_n</th>\n",
       "      <th>ingredients_that_may_be_from_palm_oil_n</th>\n",
       "      <th>energy_100g</th>\n",
       "      <th>energy_from_fat_100g</th>\n",
       "      <th>fat_100g</th>\n",
       "      <th>saturated_fat_100g</th>\n",
       "      <th>monounsaturated_fat_100g</th>\n",
       "      <th>polyunsaturated_fat_100g</th>\n",
       "      <th>omega_3_fat_100g</th>\n",
       "      <th>...</th>\n",
       "      <th>chromium_100g</th>\n",
       "      <th>molybdenum_100g</th>\n",
       "      <th>iodine_100g</th>\n",
       "      <th>caffeine_100g</th>\n",
       "      <th>fruits_vegetables_nuts_100g</th>\n",
       "      <th>cocoa_100g</th>\n",
       "      <th>carbon_footprint_100g</th>\n",
       "      <th>nutrition_score_fr_100g</th>\n",
       "      <th>nutrition_score_uk_100g</th>\n",
       "      <th>isUS</th>\n",
       "    </tr>\n",
       "  </thead>\n",
       "  <tbody>\n",
       "    <tr>\n",
       "      <th>20</th>\n",
       "      <td>0.000</td>\n",
       "      <td>0.000</td>\n",
       "      <td>0.000</td>\n",
       "      <td>0.000</td>\n",
       "      <td>0.000</td>\n",
       "      <td>0.000</td>\n",
       "      <td>0.000</td>\n",
       "      <td>0.000</td>\n",
       "      <td>0.000</td>\n",
       "      <td>0.000</td>\n",
       "      <td>...</td>\n",
       "      <td>0.000</td>\n",
       "      <td>0.000</td>\n",
       "      <td>0.000</td>\n",
       "      <td>0.000</td>\n",
       "      <td>0.000</td>\n",
       "      <td>0.000</td>\n",
       "      <td>0.000</td>\n",
       "      <td>0.000</td>\n",
       "      <td>0.000</td>\n",
       "      <td>1</td>\n",
       "    </tr>\n",
       "    <tr>\n",
       "      <th>56</th>\n",
       "      <td>0.000</td>\n",
       "      <td>0.000</td>\n",
       "      <td>0.000</td>\n",
       "      <td>0.000</td>\n",
       "      <td>0.000</td>\n",
       "      <td>0.000</td>\n",
       "      <td>0.000</td>\n",
       "      <td>0.000</td>\n",
       "      <td>0.000</td>\n",
       "      <td>0.000</td>\n",
       "      <td>...</td>\n",
       "      <td>0.000</td>\n",
       "      <td>0.000</td>\n",
       "      <td>0.000</td>\n",
       "      <td>0.000</td>\n",
       "      <td>0.000</td>\n",
       "      <td>0.000</td>\n",
       "      <td>0.000</td>\n",
       "      <td>0.000</td>\n",
       "      <td>0.000</td>\n",
       "      <td>1</td>\n",
       "    </tr>\n",
       "    <tr>\n",
       "      <th>78</th>\n",
       "      <td>0.000</td>\n",
       "      <td>0.000</td>\n",
       "      <td>0.000</td>\n",
       "      <td>0.000</td>\n",
       "      <td>0.000</td>\n",
       "      <td>0.000</td>\n",
       "      <td>0.000</td>\n",
       "      <td>0.000</td>\n",
       "      <td>0.000</td>\n",
       "      <td>0.000</td>\n",
       "      <td>...</td>\n",
       "      <td>0.000</td>\n",
       "      <td>0.000</td>\n",
       "      <td>0.000</td>\n",
       "      <td>0.000</td>\n",
       "      <td>0.000</td>\n",
       "      <td>0.000</td>\n",
       "      <td>0.000</td>\n",
       "      <td>0.000</td>\n",
       "      <td>0.000</td>\n",
       "      <td>1</td>\n",
       "    </tr>\n",
       "    <tr>\n",
       "      <th>83</th>\n",
       "      <td>0.000</td>\n",
       "      <td>0.000</td>\n",
       "      <td>0.000</td>\n",
       "      <td>0.000</td>\n",
       "      <td>0.000</td>\n",
       "      <td>0.000</td>\n",
       "      <td>0.000</td>\n",
       "      <td>0.000</td>\n",
       "      <td>0.000</td>\n",
       "      <td>0.000</td>\n",
       "      <td>...</td>\n",
       "      <td>0.000</td>\n",
       "      <td>0.000</td>\n",
       "      <td>0.000</td>\n",
       "      <td>0.000</td>\n",
       "      <td>0.000</td>\n",
       "      <td>0.000</td>\n",
       "      <td>0.000</td>\n",
       "      <td>0.000</td>\n",
       "      <td>0.000</td>\n",
       "      <td>1</td>\n",
       "    </tr>\n",
       "    <tr>\n",
       "      <th>87</th>\n",
       "      <td>3.000</td>\n",
       "      <td>0.000</td>\n",
       "      <td>0.000</td>\n",
       "      <td>761.000</td>\n",
       "      <td>275.000</td>\n",
       "      <td>7.580</td>\n",
       "      <td>4.040</td>\n",
       "      <td>0.000</td>\n",
       "      <td>0.000</td>\n",
       "      <td>0.000</td>\n",
       "      <td>...</td>\n",
       "      <td>0.000</td>\n",
       "      <td>0.000</td>\n",
       "      <td>0.000</td>\n",
       "      <td>0.000</td>\n",
       "      <td>0.000</td>\n",
       "      <td>0.000</td>\n",
       "      <td>0.000</td>\n",
       "      <td>4.000</td>\n",
       "      <td>4.000</td>\n",
       "      <td>1</td>\n",
       "    </tr>\n",
       "  </tbody>\n",
       "</table>\n",
       "<p>5 rows × 54 columns</p>\n",
       "</div>"
      ],
      "text/plain": [
       "    additives_n  ingredients_from_palm_oil_n  \\\n",
       "20        0.000                        0.000   \n",
       "56        0.000                        0.000   \n",
       "78        0.000                        0.000   \n",
       "83        0.000                        0.000   \n",
       "87        3.000                        0.000   \n",
       "\n",
       "    ingredients_that_may_be_from_palm_oil_n  energy_100g  \\\n",
       "20                                    0.000        0.000   \n",
       "56                                    0.000        0.000   \n",
       "78                                    0.000        0.000   \n",
       "83                                    0.000        0.000   \n",
       "87                                    0.000      761.000   \n",
       "\n",
       "    energy_from_fat_100g  fat_100g  saturated_fat_100g  \\\n",
       "20                 0.000     0.000               0.000   \n",
       "56                 0.000     0.000               0.000   \n",
       "78                 0.000     0.000               0.000   \n",
       "83                 0.000     0.000               0.000   \n",
       "87               275.000     7.580               4.040   \n",
       "\n",
       "    monounsaturated_fat_100g  polyunsaturated_fat_100g  omega_3_fat_100g  \\\n",
       "20                     0.000                     0.000             0.000   \n",
       "56                     0.000                     0.000             0.000   \n",
       "78                     0.000                     0.000             0.000   \n",
       "83                     0.000                     0.000             0.000   \n",
       "87                     0.000                     0.000             0.000   \n",
       "\n",
       "    ...   chromium_100g  molybdenum_100g  iodine_100g  caffeine_100g  \\\n",
       "20  ...           0.000            0.000        0.000          0.000   \n",
       "56  ...           0.000            0.000        0.000          0.000   \n",
       "78  ...           0.000            0.000        0.000          0.000   \n",
       "83  ...           0.000            0.000        0.000          0.000   \n",
       "87  ...           0.000            0.000        0.000          0.000   \n",
       "\n",
       "    fruits_vegetables_nuts_100g  cocoa_100g  carbon_footprint_100g  \\\n",
       "20                        0.000       0.000                  0.000   \n",
       "56                        0.000       0.000                  0.000   \n",
       "78                        0.000       0.000                  0.000   \n",
       "83                        0.000       0.000                  0.000   \n",
       "87                        0.000       0.000                  0.000   \n",
       "\n",
       "    nutrition_score_fr_100g  nutrition_score_uk_100g  isUS  \n",
       "20                    0.000                    0.000     1  \n",
       "56                    0.000                    0.000     1  \n",
       "78                    0.000                    0.000     1  \n",
       "83                    0.000                    0.000     1  \n",
       "87                    4.000                    4.000     1  \n",
       "\n",
       "[5 rows x 54 columns]"
      ]
     },
     "execution_count": 14,
     "metadata": {},
     "output_type": "execute_result"
    }
   ],
   "source": [
    "train.head()"
   ]
  },
  {
   "cell_type": "code",
   "execution_count": 15,
   "metadata": {
    "collapsed": false
   },
   "outputs": [
    {
     "data": {
      "text/html": [
       "<div>\n",
       "<table border=\"1\" class=\"dataframe\">\n",
       "  <thead>\n",
       "    <tr style=\"text-align: right;\">\n",
       "      <th></th>\n",
       "      <th>product_name</th>\n",
       "      <th>energy_from_fat_100g</th>\n",
       "    </tr>\n",
       "  </thead>\n",
       "  <tbody>\n",
       "    <tr>\n",
       "      <th>5141</th>\n",
       "      <td>Lemon Ginger</td>\n",
       "      <td>3740.000</td>\n",
       "    </tr>\n",
       "    <tr>\n",
       "      <th>683</th>\n",
       "      <td>Virgin coconut oil</td>\n",
       "      <td>3590.000</td>\n",
       "    </tr>\n",
       "    <tr>\n",
       "      <th>641</th>\n",
       "      <td>Corn Oil</td>\n",
       "      <td>3350.000</td>\n",
       "    </tr>\n",
       "    <tr>\n",
       "      <th>3612</th>\n",
       "      <td>NaN</td>\n",
       "      <td>3350.000</td>\n",
       "    </tr>\n",
       "    <tr>\n",
       "      <th>2922</th>\n",
       "      <td>Mayonnaise</td>\n",
       "      <td>3220.000</td>\n",
       "    </tr>\n",
       "    <tr>\n",
       "      <th>2934</th>\n",
       "      <td>Mayonnaise</td>\n",
       "      <td>3220.000</td>\n",
       "    </tr>\n",
       "    <tr>\n",
       "      <th>2276</th>\n",
       "      <td>Grade AA Butter</td>\n",
       "      <td>2990.000</td>\n",
       "    </tr>\n",
       "    <tr>\n",
       "      <th>4653</th>\n",
       "      <td>Sweat Cream Butter</td>\n",
       "      <td>2990.000</td>\n",
       "    </tr>\n",
       "    <tr>\n",
       "      <th>1672</th>\n",
       "      <td>Real Mayonnaise</td>\n",
       "      <td>2990.000</td>\n",
       "    </tr>\n",
       "    <tr>\n",
       "      <th>1000</th>\n",
       "      <td>Real Mayonnaise</td>\n",
       "      <td>2990.000</td>\n",
       "    </tr>\n",
       "  </tbody>\n",
       "</table>\n",
       "</div>"
      ],
      "text/plain": [
       "            product_name  energy_from_fat_100g\n",
       "5141        Lemon Ginger              3740.000\n",
       "683   Virgin coconut oil              3590.000\n",
       "641             Corn Oil              3350.000\n",
       "3612                 NaN              3350.000\n",
       "2922          Mayonnaise              3220.000\n",
       "2934          Mayonnaise              3220.000\n",
       "2276     Grade AA Butter              2990.000\n",
       "4653  Sweat Cream Butter              2990.000\n",
       "1672     Real Mayonnaise              2990.000\n",
       "1000     Real Mayonnaise              2990.000"
      ]
     },
     "execution_count": 15,
     "metadata": {},
     "output_type": "execute_result"
    }
   ],
   "source": [
    "usaFattiest = train[train['isUS'] == 1].energy_from_fat_100g.sort_values(ascending=False)\n",
    "usa.ix[usaFattiest.index.values, :][['product_name', 'energy_from_fat_100g']].head(10)"
   ]
  },
  {
   "cell_type": "code",
   "execution_count": 16,
   "metadata": {
    "collapsed": false
   },
   "outputs": [
    {
     "data": {
      "text/html": [
       "<div>\n",
       "<table border=\"1\" class=\"dataframe\">\n",
       "  <thead>\n",
       "    <tr style=\"text-align: right;\">\n",
       "      <th></th>\n",
       "      <th>product_name</th>\n",
       "      <th>energy_from_fat_100g</th>\n",
       "    </tr>\n",
       "  </thead>\n",
       "  <tbody>\n",
       "    <tr>\n",
       "      <th>5217</th>\n",
       "      <td>Dark Chocolate with Almonds</td>\n",
       "      <td>1420.000</td>\n",
       "    </tr>\n",
       "    <tr>\n",
       "      <th>59124</th>\n",
       "      <td>Chocolat au lait et gaufrette</td>\n",
       "      <td>1140.000</td>\n",
       "    </tr>\n",
       "    <tr>\n",
       "      <th>41801</th>\n",
       "      <td>La Galette fine Chocolat</td>\n",
       "      <td>741.000</td>\n",
       "    </tr>\n",
       "    <tr>\n",
       "      <th>34576</th>\n",
       "      <td>Chocolat en poudre lacté 4 étoiles</td>\n",
       "      <td>167.000</td>\n",
       "    </tr>\n",
       "    <tr>\n",
       "      <th>4603</th>\n",
       "      <td>ISO 100  Hydrolyzed 100% Whey Protein Isolate</td>\n",
       "      <td>66.200</td>\n",
       "    </tr>\n",
       "    <tr>\n",
       "      <th>26098</th>\n",
       "      <td>Biscuits sablés à la noix de coco Leader Price</td>\n",
       "      <td>nan</td>\n",
       "    </tr>\n",
       "    <tr>\n",
       "      <th>26097</th>\n",
       "      <td>Boudoirs aux oeufs frais</td>\n",
       "      <td>nan</td>\n",
       "    </tr>\n",
       "    <tr>\n",
       "      <th>26096</th>\n",
       "      <td>Tartelettes au Citron Pur Beurre</td>\n",
       "      <td>nan</td>\n",
       "    </tr>\n",
       "    <tr>\n",
       "      <th>26095</th>\n",
       "      <td>Tartelettes à la fraise</td>\n",
       "      <td>nan</td>\n",
       "    </tr>\n",
       "    <tr>\n",
       "      <th>26094</th>\n",
       "      <td>Gaufres au miel bio</td>\n",
       "      <td>nan</td>\n",
       "    </tr>\n",
       "  </tbody>\n",
       "</table>\n",
       "</div>"
      ],
      "text/plain": [
       "                                         product_name  energy_from_fat_100g\n",
       "5217                      Dark Chocolate with Almonds              1420.000\n",
       "59124                   Chocolat au lait et gaufrette              1140.000\n",
       "41801                        La Galette fine Chocolat               741.000\n",
       "34576             Chocolat en poudre lacté 4 étoiles                167.000\n",
       "4603    ISO 100  Hydrolyzed 100% Whey Protein Isolate                66.200\n",
       "26098  Biscuits sablés à la noix de coco Leader Price                   nan\n",
       "26097                        Boudoirs aux oeufs frais                   nan\n",
       "26096                Tartelettes au Citron Pur Beurre                   nan\n",
       "26095                         Tartelettes à la fraise                   nan\n",
       "26094                             Gaufres au miel bio                   nan"
      ]
     },
     "execution_count": 16,
     "metadata": {},
     "output_type": "execute_result"
    }
   ],
   "source": [
    "euroFattiest = train[train['isUS'] == 0].energy_from_fat_100g.sort_values(ascending=False)\n",
    "europe.ix[euroFattiest.index.values, :][['product_name', 'energy_from_fat_100g']].head(10)"
   ]
  },
  {
   "cell_type": "code",
   "execution_count": 18,
   "metadata": {
    "collapsed": false
   },
   "outputs": [
    {
     "data": {
      "text/html": [
       "<div>\n",
       "<table border=\"1\" class=\"dataframe\">\n",
       "  <thead>\n",
       "    <tr style=\"text-align: right;\">\n",
       "      <th></th>\n",
       "      <th>product_name</th>\n",
       "      <th>cholesterol_100g</th>\n",
       "    </tr>\n",
       "  </thead>\n",
       "  <tbody>\n",
       "    <tr>\n",
       "      <th>2748</th>\n",
       "      <td>6 grade A large brown eggs</td>\n",
       "      <td>0.432</td>\n",
       "    </tr>\n",
       "    <tr>\n",
       "      <th>2525</th>\n",
       "      <td>12 large grade cage free AA eggs</td>\n",
       "      <td>0.430</td>\n",
       "    </tr>\n",
       "    <tr>\n",
       "      <th>4654</th>\n",
       "      <td>Large Grade AA 5 Dozen Eggs</td>\n",
       "      <td>0.430</td>\n",
       "    </tr>\n",
       "    <tr>\n",
       "      <th>1804</th>\n",
       "      <td>6 large grade AA eggs</td>\n",
       "      <td>0.370</td>\n",
       "    </tr>\n",
       "    <tr>\n",
       "      <th>4640</th>\n",
       "      <td>Egg Land's best</td>\n",
       "      <td>0.357</td>\n",
       "    </tr>\n",
       "    <tr>\n",
       "      <th>178</th>\n",
       "      <td>Saki Ika Prepared Squid (Hot)</td>\n",
       "      <td>0.306</td>\n",
       "    </tr>\n",
       "    <tr>\n",
       "      <th>1231</th>\n",
       "      <td>Wild Caught Shrimp</td>\n",
       "      <td>0.223</td>\n",
       "    </tr>\n",
       "    <tr>\n",
       "      <th>391</th>\n",
       "      <td>European style unsalted butter</td>\n",
       "      <td>0.214</td>\n",
       "    </tr>\n",
       "    <tr>\n",
       "      <th>1470</th>\n",
       "      <td>Challenge Butter unsalted</td>\n",
       "      <td>0.214</td>\n",
       "    </tr>\n",
       "    <tr>\n",
       "      <th>4653</th>\n",
       "      <td>Sweat Cream Butter</td>\n",
       "      <td>0.214</td>\n",
       "    </tr>\n",
       "  </tbody>\n",
       "</table>\n",
       "</div>"
      ],
      "text/plain": [
       "                          product_name  cholesterol_100g\n",
       "2748        6 grade A large brown eggs             0.432\n",
       "2525  12 large grade cage free AA eggs             0.430\n",
       "4654       Large Grade AA 5 Dozen Eggs             0.430\n",
       "1804             6 large grade AA eggs             0.370\n",
       "4640                   Egg Land's best             0.357\n",
       "178      Saki Ika Prepared Squid (Hot)             0.306\n",
       "1231                Wild Caught Shrimp             0.223\n",
       "391     European style unsalted butter             0.214\n",
       "1470         Challenge Butter unsalted             0.214\n",
       "4653                Sweat Cream Butter             0.214"
      ]
     },
     "execution_count": 18,
     "metadata": {},
     "output_type": "execute_result"
    }
   ],
   "source": [
    "usaMostChol = train[train['isUS'] == 1].cholesterol_100g.sort_values(ascending=False)\n",
    "usa.ix[usaMostChol.index.values, :][['product_name', 'cholesterol_100g']].head(10)"
   ]
  },
  {
   "cell_type": "code",
   "execution_count": 20,
   "metadata": {
    "collapsed": false
   },
   "outputs": [
    {
     "data": {
      "text/html": [
       "<div>\n",
       "<table border=\"1\" class=\"dataframe\">\n",
       "  <thead>\n",
       "    <tr style=\"text-align: right;\">\n",
       "      <th></th>\n",
       "      <th>product_name</th>\n",
       "      <th>cholesterol_100g</th>\n",
       "    </tr>\n",
       "  </thead>\n",
       "  <tbody>\n",
       "    <tr>\n",
       "      <th>27934</th>\n",
       "      <td>6 Oeufs Frais Bio</td>\n",
       "      <td>0.378</td>\n",
       "    </tr>\n",
       "    <tr>\n",
       "      <th>52486</th>\n",
       "      <td>Manteiga com sal</td>\n",
       "      <td>0.230</td>\n",
       "    </tr>\n",
       "    <tr>\n",
       "      <th>22438</th>\n",
       "      <td>Beurre d'Isigny</td>\n",
       "      <td>0.214</td>\n",
       "    </tr>\n",
       "    <tr>\n",
       "      <th>34575</th>\n",
       "      <td>Palets pur beurre</td>\n",
       "      <td>0.213</td>\n",
       "    </tr>\n",
       "    <tr>\n",
       "      <th>57548</th>\n",
       "      <td>Pandoro traditionnel italien</td>\n",
       "      <td>0.175</td>\n",
       "    </tr>\n",
       "    <tr>\n",
       "      <th>6492</th>\n",
       "      <td>Tentacules d'encornet géant</td>\n",
       "      <td>0.168</td>\n",
       "    </tr>\n",
       "    <tr>\n",
       "      <th>57243</th>\n",
       "      <td>La colomba</td>\n",
       "      <td>0.150</td>\n",
       "    </tr>\n",
       "    <tr>\n",
       "      <th>14683</th>\n",
       "      <td>Assortiment Traou Mad et galettes de Pont-Aven</td>\n",
       "      <td>0.130</td>\n",
       "    </tr>\n",
       "    <tr>\n",
       "      <th>4592</th>\n",
       "      <td>Palets aux Perles de Chocolat</td>\n",
       "      <td>0.127</td>\n",
       "    </tr>\n",
       "    <tr>\n",
       "      <th>43420</th>\n",
       "      <td>Gressins Tomate Origan</td>\n",
       "      <td>0.080</td>\n",
       "    </tr>\n",
       "  </tbody>\n",
       "</table>\n",
       "</div>"
      ],
      "text/plain": [
       "                                         product_name  cholesterol_100g\n",
       "27934                               6 Oeufs Frais Bio             0.378\n",
       "52486                                Manteiga com sal             0.230\n",
       "22438                                 Beurre d'Isigny             0.214\n",
       "34575                               Palets pur beurre             0.213\n",
       "57548                   Pandoro traditionnel italien              0.175\n",
       "6492                      Tentacules d'encornet géant             0.168\n",
       "57243                                      La colomba             0.150\n",
       "14683  Assortiment Traou Mad et galettes de Pont-Aven             0.130\n",
       "4592                    Palets aux Perles de Chocolat             0.127\n",
       "43420                          Gressins Tomate Origan             0.080"
      ]
     },
     "execution_count": 20,
     "metadata": {},
     "output_type": "execute_result"
    }
   ],
   "source": [
    "euroMostChol = train[train['isUS'] == 0].cholesterol_100g.sort_values(ascending=False)\n",
    "europe.ix[euroMostChol.index.values, :][['product_name', 'cholesterol_100g']].head(10)"
   ]
  },
  {
   "cell_type": "code",
   "execution_count": 21,
   "metadata": {
    "collapsed": false
   },
   "outputs": [
    {
     "data": {
      "text/plain": [
       "Plant-based foods and beverages,Plant-based foods,Cereals and potatoes,Cereals and their products,Pastas                                                                                     24\n",
       "Sugary snacks,Biscuits and cakes,Biscuits,Cookies                                                                                                                                            19\n",
       "Plant-based foods and beverages,Plant-based foods,Breakfasts,Cereals and potatoes,Cereals and their products,Breakfast cereals                                                               19\n",
       "Sugary snacks,Confectioneries,Candies                                                                                                                                                        19\n",
       "Plant-based foods and beverages,Plant-based foods,Cereals and potatoes,Cereals and their products,Noodles,Instant noodles                                                                    14\n",
       "Groceries,Sauces,Tomato sauces,Ketchup                                                                                                                                                       14\n",
       "Dairies,Milks                                                                                                                                                                                13\n",
       "Crackers                                                                                                                                                                                     13\n",
       "Salty snacks,Appetizers,Crackers                                                                                                                                                             13\n",
       "Beverages,Alcoholic beverages,Beers                                                                                                                                                          11\n",
       "Snacks                                                                                                                                                                                       11\n",
       "Groceries,Sauces,Mayonnaises                                                                                                                                                                 11\n",
       "Groceries,Sauces,Pasta sauces                                                                                                                                                                10\n",
       "Dairies,Cheeses                                                                                                                                                                              10\n",
       "Sugary snacks,Chocolates,Dark chocolates                                                                                                                                                     10\n",
       "Groceries,Condiments,Sauces,Mustards                                                                                                                                                         10\n",
       "Beers                                                                                                                                                                                         9\n",
       "water                                                                                                                                                                                         9\n",
       "Sugary snacks,Bars                                                                                                                                                                            9\n",
       "Sugary snacks,Biscuits and cakes,Biscuits,Cookies,Chocolate cookies                                                                                                                           8\n",
       "Cheese                                                                                                                                                                                        8\n",
       "Beverages,Waters,Non-sugared beverages                                                                                                                                                        8\n",
       "Groceries,Sauces                                                                                                                                                                              8\n",
       "Dairies,Yogurts                                                                                                                                                                               8\n",
       "pasta                                                                                                                                                                                         8\n",
       "Breakfast cereals                                                                                                                                                                             7\n",
       "Sugary snacks,Chocolates,Milk chocolates                                                                                                                                                      7\n",
       "Dairies,Yogurts,Low-fat yogurts                                                                                                                                                               7\n",
       "Mayonnaise                                                                                                                                                                                    7\n",
       "Candies                                                                                                                                                                                       6\n",
       "                                                                                                                                                                                             ..\n",
       "Sugary snacks,Biscuits and cakes,Biscuits,Chocolates,Cookies,Bars,Candy bars,Chocolate chip cookies                                                                                           1\n",
       "Ginseng Tea                                                                                                                                                                                   1\n",
       "bean flour                                                                                                                                                                                    1\n",
       "Orange juice                                                                                                                                                                                  1\n",
       "spring water,water                                                                                                                                                                            1\n",
       "crackers,snacks                                                                                                                                                                               1\n",
       "Beverages,Plant-based beverages,Fruit-based beverages,Juices and nectars,Fruit juices and nectars,Fruit juices,Concentrated fruit juices,Multifruit juices,Concentrated multifruit juices     1\n",
       "Beverages,Plant-based beverages,Juices and nectars,Artificially sweetened beverages,Vegetable-based beverages,Vegetable juices,Non-sugared beverages                                          1\n",
       "dark chocolates                                                                                                                                                                               1\n",
       "Salty snacks,Chips and fries,Potato Chips,Potato crips                                                                                                                                        1\n",
       "sparkling mineral water                                                                                                                                                                       1\n",
       "Plant-based foods and beverages,Plant-based foods,Cereals and potatoes,Cereals and their products,Frosted Cereal                                                                              1\n",
       "Mustards,Dijon mustards                                                                                                                                                                       1\n",
       "Meals                                                                                                                                                                                         1\n",
       "breads,grain products,baked goods                                                                                                                                                             1\n",
       "Sauces,Hot sauces                                                                                                                                                                             1\n",
       "Almond butter                                                                                                                                                                                 1\n",
       "grape juice drink                                                                                                                                                                             1\n",
       "Squeezed orange juices                                                                                                                                                                        1\n",
       "Chicken,Poultries                                                                                                                                                                             1\n",
       "sugary-snacks,ice cream                                                                                                                                                                       1\n",
       "Dairies,Yogurts,Fruit yogurts,Low-fat yogurts,Blueberry Yogurt                                                                                                                                1\n",
       "Instant Noodles,Dehydrated Soups                                                                                                                                                              1\n",
       "yellow mustard                                                                                                                                                                                1\n",
       "meats,PORK                                                                                                                                                                                    1\n",
       "Snacks,Crackers                                                                                                                                                                               1\n",
       "tea                                                                                                                                                                                           1\n",
       "Meals,Soups,Vegetable soups                                                                                                                                                                   1\n",
       "Lollipops                                                                                                                                                                                     1\n",
       "Coconut Cream                                                                                                                                                                                 1\n",
       "Name: categories, dtype: int64"
      ]
     },
     "execution_count": 21,
     "metadata": {},
     "output_type": "execute_result"
    }
   ],
   "source": [
    "usa.categories.value_counts().sort_values(ascending=False)"
   ]
  },
  {
   "cell_type": "code",
   "execution_count": null,
   "metadata": {
    "collapsed": true
   },
   "outputs": [],
   "source": []
  },
  {
   "cell_type": "markdown",
   "metadata": {},
   "source": [
    "### Fit various models to assess the predictive power of each ingredient in distinguishing Euro foods from USA foods"
   ]
  },
  {
   "cell_type": "code",
   "execution_count": null,
   "metadata": {
    "collapsed": true
   },
   "outputs": [],
   "source": []
  },
  {
   "cell_type": "code",
   "execution_count": 93,
   "metadata": {
    "collapsed": true
   },
   "outputs": [],
   "source": [
    "def makeTrainingSet(colsToDrop=[]):\n",
    "    X = train.drop(['isUS'] + colsToDrop, axis=1)\n",
    "    y = train['isUS']\n",
    "    return (X, y)\n",
    "\n",
    "def makeCoefDf(clf, X):\n",
    "    coef_df = pd.DataFrame({'value': clf.coef_[0], 'absVal': abs(clf.coef_[0]), 'feature': X.columns })\n",
    "    return coef_df.sort_values(by='absVal', ascending=False)\n",
    "\n",
    "def makeFeatureImpDf(clf, X):\n",
    "    coef_df = pd.DataFrame({'value': clf.feature_importances_[0], 'feature': X.columns })\n",
    "    return coef_df.sort_values(by='value', ascending=False)"
   ]
  },
  {
   "cell_type": "code",
   "execution_count": 33,
   "metadata": {
    "collapsed": false
   },
   "outputs": [
    {
     "data": {
      "text/plain": [
       "LogisticRegression(C=1.0, class_weight=None, dual=False, fit_intercept=True,\n",
       "          intercept_scaling=1, max_iter=100, multi_class='ovr', n_jobs=1,\n",
       "          penalty='l2', random_state=None, solver='liblinear', tol=0.0001,\n",
       "          verbose=0, warm_start=False)"
      ]
     },
     "execution_count": 33,
     "metadata": {},
     "output_type": "execute_result"
    }
   ],
   "source": [
    "from sklearn.linear_model import LogisticRegression\n",
    "(X, y) = makeTrainingSet(colsToDrop = [])\n",
    "clf = LogisticRegression()\n",
    "clf.fit(X,y)"
   ]
  },
  {
   "cell_type": "code",
   "execution_count": 34,
   "metadata": {
    "collapsed": false
   },
   "outputs": [],
   "source": [
    "lr_coef_one = makeCoefDf(clf, X)"
   ]
  },
  {
   "cell_type": "code",
   "execution_count": 35,
   "metadata": {
    "collapsed": false
   },
   "outputs": [
    {
     "data": {
      "text/html": [
       "<div>\n",
       "<table border=\"1\" class=\"dataframe\">\n",
       "  <thead>\n",
       "    <tr style=\"text-align: right;\">\n",
       "      <th></th>\n",
       "      <th>absVal</th>\n",
       "      <th>feature</th>\n",
       "      <th>value</th>\n",
       "    </tr>\n",
       "  </thead>\n",
       "  <tbody>\n",
       "    <tr>\n",
       "      <th>1</th>\n",
       "      <td>2.582</td>\n",
       "      <td>ingredients_from_palm_oil_n</td>\n",
       "      <td>-2.582</td>\n",
       "    </tr>\n",
       "    <tr>\n",
       "      <th>2</th>\n",
       "      <td>1.675</td>\n",
       "      <td>ingredients_that_may_be_from_palm_oil_n</td>\n",
       "      <td>-1.675</td>\n",
       "    </tr>\n",
       "    <tr>\n",
       "      <th>12</th>\n",
       "      <td>1.404</td>\n",
       "      <td>cholesterol_100g</td>\n",
       "      <td>1.404</td>\n",
       "    </tr>\n",
       "    <tr>\n",
       "      <th>9</th>\n",
       "      <td>0.790</td>\n",
       "      <td>omega_3_fat_100g</td>\n",
       "      <td>-0.790</td>\n",
       "    </tr>\n",
       "    <tr>\n",
       "      <th>31</th>\n",
       "      <td>0.528</td>\n",
       "      <td>vitamin_b9_100g</td>\n",
       "      <td>0.528</td>\n",
       "    </tr>\n",
       "    <tr>\n",
       "      <th>40</th>\n",
       "      <td>0.526</td>\n",
       "      <td>zinc_100g</td>\n",
       "      <td>0.526</td>\n",
       "    </tr>\n",
       "    <tr>\n",
       "      <th>15</th>\n",
       "      <td>0.273</td>\n",
       "      <td>lactose_100g</td>\n",
       "      <td>-0.273</td>\n",
       "    </tr>\n",
       "    <tr>\n",
       "      <th>10</th>\n",
       "      <td>0.222</td>\n",
       "      <td>alpha_linolenic_acid_100g</td>\n",
       "      <td>-0.222</td>\n",
       "    </tr>\n",
       "    <tr>\n",
       "      <th>39</th>\n",
       "      <td>0.174</td>\n",
       "      <td>magnesium_100g</td>\n",
       "      <td>-0.174</td>\n",
       "    </tr>\n",
       "    <tr>\n",
       "      <th>38</th>\n",
       "      <td>0.169</td>\n",
       "      <td>iron_100g</td>\n",
       "      <td>0.169</td>\n",
       "    </tr>\n",
       "  </tbody>\n",
       "</table>\n",
       "</div>"
      ],
      "text/plain": [
       "    absVal                                  feature  value\n",
       "1    2.582              ingredients_from_palm_oil_n -2.582\n",
       "2    1.675  ingredients_that_may_be_from_palm_oil_n -1.675\n",
       "12   1.404                         cholesterol_100g  1.404\n",
       "9    0.790                         omega_3_fat_100g -0.790\n",
       "31   0.528                          vitamin_b9_100g  0.528\n",
       "40   0.526                                zinc_100g  0.526\n",
       "15   0.273                             lactose_100g -0.273\n",
       "10   0.222                alpha_linolenic_acid_100g -0.222\n",
       "39   0.174                           magnesium_100g -0.174\n",
       "38   0.169                                iron_100g  0.169"
      ]
     },
     "execution_count": 35,
     "metadata": {},
     "output_type": "execute_result"
    }
   ],
   "source": [
    "lr_coef_one.iloc[0:10, :]"
   ]
  },
  {
   "cell_type": "code",
   "execution_count": 36,
   "metadata": {
    "collapsed": false
   },
   "outputs": [
    {
     "data": {
      "text/plain": [
       "<matplotlib.axes._subplots.AxesSubplot at 0x121aa46d8>"
      ]
     },
     "execution_count": 36,
     "metadata": {},
     "output_type": "execute_result"
    },
    {
     "data": {
      "image/png": "[encoded data removed]",
      "text/plain": [
       "<matplotlib.figure.Figure at 0x10193a6a0>"
      ]
     },
     "metadata": {},
     "output_type": "display_data"
    }
   ],
   "source": [
    "lr_coef_one.iloc[0:10, :].plot(kind='bar', x='feature', y='value')"
   ]
  },
  {
   "cell_type": "markdown",
   "metadata": {},
   "source": [
    "It seems like many palm oil may indicate that a product is European. But that doesn't mean that European products are more likely to contain it than US products. In Europe, palm oil is required on food labels. In the US, it isn't:\n",
    "\n",
    "- https://www.theguardian.com/sustainable-business/2014/dec/12/eu-labelling-changes-palm-oil-consumer-change\n",
    "- http://www.eurofoodlaw.com/labelling/analysis-palm-oil-no-longer-a-hidden-ingredient-108325.htm\n",
    "\n",
    "\n",
    "Now let's try a random forest."
   ]
  },
  {
   "cell_type": "code",
   "execution_count": 37,
   "metadata": {
    "collapsed": false
   },
   "outputs": [
    {
     "data": {
      "text/plain": [
       "RandomForestClassifier(bootstrap=True, class_weight=None, criterion='gini',\n",
       "            max_depth=5, max_features='auto', max_leaf_nodes=None,\n",
       "            min_samples_leaf=1, min_samples_split=2,\n",
       "            min_weight_fraction_leaf=0.0, n_estimators=10, n_jobs=1,\n",
       "            oob_score=False, random_state=None, verbose=0,\n",
       "            warm_start=False)"
      ]
     },
     "execution_count": 37,
     "metadata": {},
     "output_type": "execute_result"
    }
   ],
   "source": [
    "from sklearn.ensemble import RandomForestClassifier as rf\n",
    "clf = rf(max_depth=5)\n",
    "clf.fit(X, y)"
   ]
  },
  {
   "cell_type": "code",
   "execution_count": 38,
   "metadata": {
    "collapsed": false
   },
   "outputs": [],
   "source": [
    "#importances_df.iloc[0:10, :].plot(kind='bar', x='feature', y='value')"
   ]
  },
  {
   "cell_type": "markdown",
   "metadata": {},
   "source": [
    "hmm..it looks like palm oil isn't very important to our random forest. Let's remove palm oil, and see what happes. We'll also drop uk_nutrition_score and france_nutrition_score, as US products wouldn't have those on their labels."
   ]
  },
  {
   "cell_type": "code",
   "execution_count": 98,
   "metadata": {
    "collapsed": false
   },
   "outputs": [
    {
     "data": {
      "text/html": [
       "<div>\n",
       "<table border=\"1\" class=\"dataframe\">\n",
       "  <thead>\n",
       "    <tr style=\"text-align: right;\">\n",
       "      <th></th>\n",
       "      <th>absVal</th>\n",
       "      <th>feature</th>\n",
       "      <th>value</th>\n",
       "    </tr>\n",
       "  </thead>\n",
       "  <tbody>\n",
       "    <tr>\n",
       "      <th>0</th>\n",
       "      <td>0.084</td>\n",
       "      <td>additives_n</td>\n",
       "      <td>-0.084</td>\n",
       "    </tr>\n",
       "    <tr>\n",
       "      <th>6</th>\n",
       "      <td>0.081</td>\n",
       "      <td>polyunsaturated_fat_100g</td>\n",
       "      <td>0.081</td>\n",
       "    </tr>\n",
       "    <tr>\n",
       "      <th>30</th>\n",
       "      <td>0.078</td>\n",
       "      <td>vitamin_b12_100g</td>\n",
       "      <td>0.078</td>\n",
       "    </tr>\n",
       "    <tr>\n",
       "      <th>46</th>\n",
       "      <td>0.066</td>\n",
       "      <td>fruits_vegetables_nuts_100g</td>\n",
       "      <td>-0.066</td>\n",
       "    </tr>\n",
       "    <tr>\n",
       "      <th>14</th>\n",
       "      <td>0.065</td>\n",
       "      <td>polyols_100g</td>\n",
       "      <td>-0.065</td>\n",
       "    </tr>\n",
       "    <tr>\n",
       "      <th>33</th>\n",
       "      <td>0.063</td>\n",
       "      <td>potassium_100g</td>\n",
       "      <td>0.063</td>\n",
       "    </tr>\n",
       "    <tr>\n",
       "      <th>4</th>\n",
       "      <td>0.055</td>\n",
       "      <td>saturated_fat_100g</td>\n",
       "      <td>0.055</td>\n",
       "    </tr>\n",
       "    <tr>\n",
       "      <th>2</th>\n",
       "      <td>0.054</td>\n",
       "      <td>energy_from_fat_100g</td>\n",
       "      <td>0.054</td>\n",
       "    </tr>\n",
       "    <tr>\n",
       "      <th>47</th>\n",
       "      <td>0.051</td>\n",
       "      <td>cocoa_100g</td>\n",
       "      <td>-0.051</td>\n",
       "    </tr>\n",
       "    <tr>\n",
       "      <th>16</th>\n",
       "      <td>0.047</td>\n",
       "      <td>proteins_100g</td>\n",
       "      <td>-0.047</td>\n",
       "    </tr>\n",
       "  </tbody>\n",
       "</table>\n",
       "</div>"
      ],
      "text/plain": [
       "    absVal                      feature  value\n",
       "0    0.084                  additives_n -0.084\n",
       "6    0.081     polyunsaturated_fat_100g  0.081\n",
       "30   0.078             vitamin_b12_100g  0.078\n",
       "46   0.066  fruits_vegetables_nuts_100g -0.066\n",
       "14   0.065                 polyols_100g -0.065\n",
       "33   0.063               potassium_100g  0.063\n",
       "4    0.055           saturated_fat_100g  0.055\n",
       "2    0.054         energy_from_fat_100g  0.054\n",
       "47   0.051                   cocoa_100g -0.051\n",
       "16   0.047                proteins_100g -0.047"
      ]
     },
     "execution_count": 98,
     "metadata": {},
     "output_type": "execute_result"
    }
   ],
   "source": [
    "colsToDrop = ['ingredients_from_palm_oil_n', \n",
    "              'ingredients_that_may_be_from_palm_oil_n', \n",
    "              'nutrition_score_uk_100g',\n",
    "              'nutrition_score_fr_100g']\n",
    "train = train.drop(colsToDrop, axis=1)\n",
    "\n",
    "clf = LogisticRegression()\n",
    "(X, y) = makeTrainingSet()\n",
    "clf.fit(X,y)\n",
    "coef_wo_palm_df = makeCoefDf(clf, X)\n",
    "coef_wo_palm_df.iloc[0:10, :]"
   ]
  },
  {
   "cell_type": "code",
   "execution_count": 40,
   "metadata": {
    "collapsed": false
   },
   "outputs": [
    {
     "data": {
      "text/plain": [
       "RandomForestClassifier(bootstrap=True, class_weight=None, criterion='gini',\n",
       "            max_depth=5, max_features='auto', max_leaf_nodes=None,\n",
       "            min_samples_leaf=1, min_samples_split=2,\n",
       "            min_weight_fraction_leaf=0.0, n_estimators=10, n_jobs=1,\n",
       "            oob_score=False, random_state=None, verbose=0,\n",
       "            warm_start=False)"
      ]
     },
     "execution_count": 40,
     "metadata": {},
     "output_type": "execute_result"
    }
   ],
   "source": [
    "from sklearn.ensemble import RandomForestClassifier as rf\n",
    "clf = rf(max_depth=5)\n",
    "clf.fit(X, y)"
   ]
  },
  {
   "cell_type": "code",
   "execution_count": 41,
   "metadata": {
    "collapsed": false
   },
   "outputs": [
    {
     "data": {
      "text/html": [
       "<div>\n",
       "<table border=\"1\" class=\"dataframe\">\n",
       "  <thead>\n",
       "    <tr style=\"text-align: right;\">\n",
       "      <th></th>\n",
       "      <th>feature</th>\n",
       "      <th>value</th>\n",
       "    </tr>\n",
       "  </thead>\n",
       "  <tbody>\n",
       "    <tr>\n",
       "      <th>0</th>\n",
       "      <td>additives_n</td>\n",
       "      <td>0.007</td>\n",
       "    </tr>\n",
       "    <tr>\n",
       "      <th>25</th>\n",
       "      <td>vitamin_b1_100g</td>\n",
       "      <td>0.007</td>\n",
       "    </tr>\n",
       "    <tr>\n",
       "      <th>27</th>\n",
       "      <td>vitamin_pp_100g</td>\n",
       "      <td>0.007</td>\n",
       "    </tr>\n",
       "    <tr>\n",
       "      <th>28</th>\n",
       "      <td>vitamin_b6_100g</td>\n",
       "      <td>0.007</td>\n",
       "    </tr>\n",
       "    <tr>\n",
       "      <th>29</th>\n",
       "      <td>vitamin_b9_100g</td>\n",
       "      <td>0.007</td>\n",
       "    </tr>\n",
       "    <tr>\n",
       "      <th>30</th>\n",
       "      <td>vitamin_b12_100g</td>\n",
       "      <td>0.007</td>\n",
       "    </tr>\n",
       "    <tr>\n",
       "      <th>31</th>\n",
       "      <td>biotin_100g</td>\n",
       "      <td>0.007</td>\n",
       "    </tr>\n",
       "    <tr>\n",
       "      <th>32</th>\n",
       "      <td>pantothenic_acid_100g</td>\n",
       "      <td>0.007</td>\n",
       "    </tr>\n",
       "    <tr>\n",
       "      <th>33</th>\n",
       "      <td>potassium_100g</td>\n",
       "      <td>0.007</td>\n",
       "    </tr>\n",
       "    <tr>\n",
       "      <th>34</th>\n",
       "      <td>calcium_100g</td>\n",
       "      <td>0.007</td>\n",
       "    </tr>\n",
       "    <tr>\n",
       "      <th>35</th>\n",
       "      <td>phosphorus_100g</td>\n",
       "      <td>0.007</td>\n",
       "    </tr>\n",
       "    <tr>\n",
       "      <th>36</th>\n",
       "      <td>iron_100g</td>\n",
       "      <td>0.007</td>\n",
       "    </tr>\n",
       "    <tr>\n",
       "      <th>37</th>\n",
       "      <td>magnesium_100g</td>\n",
       "      <td>0.007</td>\n",
       "    </tr>\n",
       "    <tr>\n",
       "      <th>38</th>\n",
       "      <td>zinc_100g</td>\n",
       "      <td>0.007</td>\n",
       "    </tr>\n",
       "    <tr>\n",
       "      <th>39</th>\n",
       "      <td>copper_100g</td>\n",
       "      <td>0.007</td>\n",
       "    </tr>\n",
       "    <tr>\n",
       "      <th>40</th>\n",
       "      <td>manganese_100g</td>\n",
       "      <td>0.007</td>\n",
       "    </tr>\n",
       "    <tr>\n",
       "      <th>41</th>\n",
       "      <td>selenium_100g</td>\n",
       "      <td>0.007</td>\n",
       "    </tr>\n",
       "    <tr>\n",
       "      <th>42</th>\n",
       "      <td>chromium_100g</td>\n",
       "      <td>0.007</td>\n",
       "    </tr>\n",
       "    <tr>\n",
       "      <th>43</th>\n",
       "      <td>molybdenum_100g</td>\n",
       "      <td>0.007</td>\n",
       "    </tr>\n",
       "    <tr>\n",
       "      <th>44</th>\n",
       "      <td>iodine_100g</td>\n",
       "      <td>0.007</td>\n",
       "    </tr>\n",
       "    <tr>\n",
       "      <th>45</th>\n",
       "      <td>caffeine_100g</td>\n",
       "      <td>0.007</td>\n",
       "    </tr>\n",
       "    <tr>\n",
       "      <th>46</th>\n",
       "      <td>fruits_vegetables_nuts_100g</td>\n",
       "      <td>0.007</td>\n",
       "    </tr>\n",
       "    <tr>\n",
       "      <th>47</th>\n",
       "      <td>cocoa_100g</td>\n",
       "      <td>0.007</td>\n",
       "    </tr>\n",
       "    <tr>\n",
       "      <th>26</th>\n",
       "      <td>vitamin_b2_100g</td>\n",
       "      <td>0.007</td>\n",
       "    </tr>\n",
       "    <tr>\n",
       "      <th>24</th>\n",
       "      <td>vitamin_c_100g</td>\n",
       "      <td>0.007</td>\n",
       "    </tr>\n",
       "    <tr>\n",
       "      <th>1</th>\n",
       "      <td>energy_100g</td>\n",
       "      <td>0.007</td>\n",
       "    </tr>\n",
       "    <tr>\n",
       "      <th>23</th>\n",
       "      <td>vitamin_k_100g</td>\n",
       "      <td>0.007</td>\n",
       "    </tr>\n",
       "    <tr>\n",
       "      <th>2</th>\n",
       "      <td>energy_from_fat_100g</td>\n",
       "      <td>0.007</td>\n",
       "    </tr>\n",
       "    <tr>\n",
       "      <th>3</th>\n",
       "      <td>fat_100g</td>\n",
       "      <td>0.007</td>\n",
       "    </tr>\n",
       "    <tr>\n",
       "      <th>4</th>\n",
       "      <td>saturated_fat_100g</td>\n",
       "      <td>0.007</td>\n",
       "    </tr>\n",
       "    <tr>\n",
       "      <th>5</th>\n",
       "      <td>monounsaturated_fat_100g</td>\n",
       "      <td>0.007</td>\n",
       "    </tr>\n",
       "    <tr>\n",
       "      <th>6</th>\n",
       "      <td>polyunsaturated_fat_100g</td>\n",
       "      <td>0.007</td>\n",
       "    </tr>\n",
       "    <tr>\n",
       "      <th>7</th>\n",
       "      <td>omega_3_fat_100g</td>\n",
       "      <td>0.007</td>\n",
       "    </tr>\n",
       "    <tr>\n",
       "      <th>8</th>\n",
       "      <td>alpha_linolenic_acid_100g</td>\n",
       "      <td>0.007</td>\n",
       "    </tr>\n",
       "    <tr>\n",
       "      <th>9</th>\n",
       "      <td>trans_fat_100g</td>\n",
       "      <td>0.007</td>\n",
       "    </tr>\n",
       "    <tr>\n",
       "      <th>10</th>\n",
       "      <td>cholesterol_100g</td>\n",
       "      <td>0.007</td>\n",
       "    </tr>\n",
       "    <tr>\n",
       "      <th>11</th>\n",
       "      <td>carbohydrates_100g</td>\n",
       "      <td>0.007</td>\n",
       "    </tr>\n",
       "    <tr>\n",
       "      <th>12</th>\n",
       "      <td>sugars_100g</td>\n",
       "      <td>0.007</td>\n",
       "    </tr>\n",
       "    <tr>\n",
       "      <th>13</th>\n",
       "      <td>lactose_100g</td>\n",
       "      <td>0.007</td>\n",
       "    </tr>\n",
       "    <tr>\n",
       "      <th>14</th>\n",
       "      <td>polyols_100g</td>\n",
       "      <td>0.007</td>\n",
       "    </tr>\n",
       "    <tr>\n",
       "      <th>15</th>\n",
       "      <td>fiber_100g</td>\n",
       "      <td>0.007</td>\n",
       "    </tr>\n",
       "    <tr>\n",
       "      <th>16</th>\n",
       "      <td>proteins_100g</td>\n",
       "      <td>0.007</td>\n",
       "    </tr>\n",
       "    <tr>\n",
       "      <th>17</th>\n",
       "      <td>salt_100g</td>\n",
       "      <td>0.007</td>\n",
       "    </tr>\n",
       "    <tr>\n",
       "      <th>18</th>\n",
       "      <td>sodium_100g</td>\n",
       "      <td>0.007</td>\n",
       "    </tr>\n",
       "    <tr>\n",
       "      <th>19</th>\n",
       "      <td>alcohol_100g</td>\n",
       "      <td>0.007</td>\n",
       "    </tr>\n",
       "    <tr>\n",
       "      <th>20</th>\n",
       "      <td>vitamin_a_100g</td>\n",
       "      <td>0.007</td>\n",
       "    </tr>\n",
       "    <tr>\n",
       "      <th>21</th>\n",
       "      <td>vitamin_d_100g</td>\n",
       "      <td>0.007</td>\n",
       "    </tr>\n",
       "    <tr>\n",
       "      <th>22</th>\n",
       "      <td>vitamin_e_100g</td>\n",
       "      <td>0.007</td>\n",
       "    </tr>\n",
       "    <tr>\n",
       "      <th>48</th>\n",
       "      <td>carbon_footprint_100g</td>\n",
       "      <td>0.007</td>\n",
       "    </tr>\n",
       "  </tbody>\n",
       "</table>\n",
       "</div>"
      ],
      "text/plain": [
       "                        feature  value\n",
       "0                   additives_n  0.007\n",
       "25              vitamin_b1_100g  0.007\n",
       "27              vitamin_pp_100g  0.007\n",
       "28              vitamin_b6_100g  0.007\n",
       "29              vitamin_b9_100g  0.007\n",
       "30             vitamin_b12_100g  0.007\n",
       "31                  biotin_100g  0.007\n",
       "32        pantothenic_acid_100g  0.007\n",
       "33               potassium_100g  0.007\n",
       "34                 calcium_100g  0.007\n",
       "35              phosphorus_100g  0.007\n",
       "36                    iron_100g  0.007\n",
       "37               magnesium_100g  0.007\n",
       "38                    zinc_100g  0.007\n",
       "39                  copper_100g  0.007\n",
       "40               manganese_100g  0.007\n",
       "41                selenium_100g  0.007\n",
       "42                chromium_100g  0.007\n",
       "43              molybdenum_100g  0.007\n",
       "44                  iodine_100g  0.007\n",
       "45                caffeine_100g  0.007\n",
       "46  fruits_vegetables_nuts_100g  0.007\n",
       "47                   cocoa_100g  0.007\n",
       "26              vitamin_b2_100g  0.007\n",
       "24               vitamin_c_100g  0.007\n",
       "1                   energy_100g  0.007\n",
       "23               vitamin_k_100g  0.007\n",
       "2          energy_from_fat_100g  0.007\n",
       "3                      fat_100g  0.007\n",
       "4            saturated_fat_100g  0.007\n",
       "5      monounsaturated_fat_100g  0.007\n",
       "6      polyunsaturated_fat_100g  0.007\n",
       "7              omega_3_fat_100g  0.007\n",
       "8     alpha_linolenic_acid_100g  0.007\n",
       "9                trans_fat_100g  0.007\n",
       "10             cholesterol_100g  0.007\n",
       "11           carbohydrates_100g  0.007\n",
       "12                  sugars_100g  0.007\n",
       "13                 lactose_100g  0.007\n",
       "14                 polyols_100g  0.007\n",
       "15                   fiber_100g  0.007\n",
       "16                proteins_100g  0.007\n",
       "17                    salt_100g  0.007\n",
       "18                  sodium_100g  0.007\n",
       "19                 alcohol_100g  0.007\n",
       "20               vitamin_a_100g  0.007\n",
       "21               vitamin_d_100g  0.007\n",
       "22               vitamin_e_100g  0.007\n",
       "48        carbon_footprint_100g  0.007"
      ]
     },
     "execution_count": 41,
     "metadata": {},
     "output_type": "execute_result"
    }
   ],
   "source": [
    "importances_wo_palm_df = makeFeatureImpDf(clf, X) \n",
    "importances_wo_palm_df"
   ]
  },
  {
   "cell_type": "markdown",
   "metadata": {},
   "source": [
    "Without palm oil, the random forest has gone haywire"
   ]
  },
  {
   "cell_type": "markdown",
   "metadata": {},
   "source": [
    "Let's look at correlation coeffiecients."
   ]
  },
  {
   "cell_type": "code",
   "execution_count": 42,
   "metadata": {
    "collapsed": false
   },
   "outputs": [
    {
     "data": {
      "text/html": [
       "<div>\n",
       "<table border=\"1\" class=\"dataframe\">\n",
       "  <thead>\n",
       "    <tr style=\"text-align: right;\">\n",
       "      <th></th>\n",
       "      <th>feature</th>\n",
       "      <th>pval</th>\n",
       "      <th>value</th>\n",
       "      <th>absVal</th>\n",
       "    </tr>\n",
       "  </thead>\n",
       "  <tbody>\n",
       "    <tr>\n",
       "      <th>2</th>\n",
       "      <td>energy_from_fat_100g</td>\n",
       "      <td>0.000</td>\n",
       "      <td>0.340</td>\n",
       "      <td>0.340</td>\n",
       "    </tr>\n",
       "    <tr>\n",
       "      <th>10</th>\n",
       "      <td>cholesterol_100g</td>\n",
       "      <td>0.000</td>\n",
       "      <td>0.199</td>\n",
       "      <td>0.199</td>\n",
       "    </tr>\n",
       "    <tr>\n",
       "      <th>9</th>\n",
       "      <td>trans_fat_100g</td>\n",
       "      <td>0.000</td>\n",
       "      <td>0.039</td>\n",
       "      <td>0.039</td>\n",
       "    </tr>\n",
       "    <tr>\n",
       "      <th>16</th>\n",
       "      <td>proteins_100g</td>\n",
       "      <td>0.000</td>\n",
       "      <td>-0.037</td>\n",
       "      <td>0.037</td>\n",
       "    </tr>\n",
       "    <tr>\n",
       "      <th>0</th>\n",
       "      <td>additives_n</td>\n",
       "      <td>0.000</td>\n",
       "      <td>-0.031</td>\n",
       "      <td>0.031</td>\n",
       "    </tr>\n",
       "    <tr>\n",
       "      <th>6</th>\n",
       "      <td>polyunsaturated_fat_100g</td>\n",
       "      <td>0.000</td>\n",
       "      <td>0.025</td>\n",
       "      <td>0.025</td>\n",
       "    </tr>\n",
       "    <tr>\n",
       "      <th>46</th>\n",
       "      <td>fruits_vegetables_nuts_100g</td>\n",
       "      <td>0.000</td>\n",
       "      <td>-0.022</td>\n",
       "      <td>0.022</td>\n",
       "    </tr>\n",
       "    <tr>\n",
       "      <th>42</th>\n",
       "      <td>chromium_100g</td>\n",
       "      <td>0.000</td>\n",
       "      <td>0.021</td>\n",
       "      <td>0.021</td>\n",
       "    </tr>\n",
       "    <tr>\n",
       "      <th>38</th>\n",
       "      <td>zinc_100g</td>\n",
       "      <td>0.000</td>\n",
       "      <td>0.021</td>\n",
       "      <td>0.021</td>\n",
       "    </tr>\n",
       "    <tr>\n",
       "      <th>1</th>\n",
       "      <td>energy_100g</td>\n",
       "      <td>0.000</td>\n",
       "      <td>-0.021</td>\n",
       "      <td>0.021</td>\n",
       "    </tr>\n",
       "  </tbody>\n",
       "</table>\n",
       "</div>"
      ],
      "text/plain": [
       "                        feature  pval  value  absVal\n",
       "2          energy_from_fat_100g 0.000  0.340   0.340\n",
       "10             cholesterol_100g 0.000  0.199   0.199\n",
       "9                trans_fat_100g 0.000  0.039   0.039\n",
       "16                proteins_100g 0.000 -0.037   0.037\n",
       "0                   additives_n 0.000 -0.031   0.031\n",
       "6      polyunsaturated_fat_100g 0.000  0.025   0.025\n",
       "46  fruits_vegetables_nuts_100g 0.000 -0.022   0.022\n",
       "42                chromium_100g 0.000  0.021   0.021\n",
       "38                    zinc_100g 0.000  0.021   0.021\n",
       "1                   energy_100g 0.000 -0.021   0.021"
      ]
     },
     "execution_count": 42,
     "metadata": {},
     "output_type": "execute_result"
    }
   ],
   "source": [
    "corr_df = pd.DataFrame({'feature': [], 'pval': [], 'value': []})\n",
    "\n",
    "from scipy.stats import pointbiserialr\n",
    "(X, y) = makeTrainingSet()\n",
    "\n",
    "\n",
    "for col in train.drop(['isUS'], axis= 1).columns:\n",
    "    corr = pointbiserialr(train['isUS'].values, train[col].values)\n",
    "    corr_df = corr_df.append(pd.Series({'feature': col, 'pval':corr.pvalue, 'value': corr.correlation, 'absVal': abs(corr.correlation)}), ignore_index=True)\n",
    "\n",
    "corr_df.sort_values(by='absVal', ascending=False, inplace=True)\n",
    "corr_df.iloc[0:10, :]"
   ]
  },
  {
   "cell_type": "code",
   "execution_count": 43,
   "metadata": {
    "collapsed": false
   },
   "outputs": [
    {
     "data": {
      "text/plain": [
       "<matplotlib.axes._subplots.AxesSubplot at 0x12283a358>"
      ]
     },
     "execution_count": 43,
     "metadata": {},
     "output_type": "execute_result"
    },
    {
     "data": {
      "image/png": "[encoded data removed]",
      "text/plain": [
       "<matplotlib.figure.Figure at 0x122838fd0>"
      ]
     },
     "metadata": {},
     "output_type": "display_data"
    }
   ],
   "source": [
    "us = train[train['isUS'] == 1]\n",
    "euro = train[train['isUS'] == 0]\n",
    "#sns.kdeplot(us['cholesterol_100g'], label='US')\n",
    "sns.kdeplot(euro['cholesterol_100g'], label='Euro')"
   ]
  },
  {
   "cell_type": "code",
   "execution_count": 44,
   "metadata": {
    "collapsed": false
   },
   "outputs": [
    {
     "ename": "KeyError",
     "evalue": "'cholesterol'",
     "output_type": "error",
     "traceback": [
      "\u001b[0;31m---------------------------------------------------------------------------\u001b[0m",
      "\u001b[0;31mKeyError\u001b[0m                                  Traceback (most recent call last)",
      "\u001b[0;32m//anaconda/lib/python3.5/site-packages/pandas/indexes/base.py\u001b[0m in \u001b[0;36mget_loc\u001b[0;34m(self, key, method, tolerance)\u001b[0m\n\u001b[1;32m   1875\u001b[0m             \u001b[0;32mtry\u001b[0m\u001b[0;34m:\u001b[0m\u001b[0;34m\u001b[0m\u001b[0m\n\u001b[0;32m-> 1876\u001b[0;31m                 \u001b[0;32mreturn\u001b[0m \u001b[0mself\u001b[0m\u001b[0;34m.\u001b[0m\u001b[0m_engine\u001b[0m\u001b[0;34m.\u001b[0m\u001b[0mget_loc\u001b[0m\u001b[0;34m(\u001b[0m\u001b[0mkey\u001b[0m\u001b[0;34m)\u001b[0m\u001b[0;34m\u001b[0m\u001b[0m\n\u001b[0m\u001b[1;32m   1877\u001b[0m             \u001b[0;32mexcept\u001b[0m \u001b[0mKeyError\u001b[0m\u001b[0;34m:\u001b[0m\u001b[0;34m\u001b[0m\u001b[0m\n",
      "\u001b[0;32mpandas/index.pyx\u001b[0m in \u001b[0;36mpandas.index.IndexEngine.get_loc (pandas/index.c:4027)\u001b[0;34m()\u001b[0m\n",
      "\u001b[0;32mpandas/index.pyx\u001b[0m in \u001b[0;36mpandas.index.IndexEngine.get_loc (pandas/index.c:3891)\u001b[0;34m()\u001b[0m\n",
      "\u001b[0;32mpandas/hashtable.pyx\u001b[0m in \u001b[0;36mpandas.hashtable.PyObjectHashTable.get_item (pandas/hashtable.c:12408)\u001b[0;34m()\u001b[0m\n",
      "\u001b[0;32mpandas/hashtable.pyx\u001b[0m in \u001b[0;36mpandas.hashtable.PyObjectHashTable.get_item (pandas/hashtable.c:12359)\u001b[0;34m()\u001b[0m\n",
      "\u001b[0;31mKeyError\u001b[0m: 'cholesterol'",
      "\nDuring handling of the above exception, another exception occurred:\n",
      "\u001b[0;31mKeyError\u001b[0m                                  Traceback (most recent call last)",
      "\u001b[0;32m<ipython-input-44-629c59465c4f>\u001b[0m in \u001b[0;36m<module>\u001b[0;34m()\u001b[0m\n\u001b[0;32m----> 1\u001b[0;31m \u001b[0msns\u001b[0m\u001b[0;34m.\u001b[0m\u001b[0mkdeplot\u001b[0m\u001b[0;34m(\u001b[0m\u001b[0mus\u001b[0m\u001b[0;34m[\u001b[0m\u001b[0;34m'cholesterol'\u001b[0m\u001b[0;34m]\u001b[0m\u001b[0;34m,\u001b[0m \u001b[0mlabel\u001b[0m\u001b[0;34m=\u001b[0m\u001b[0;34m'US'\u001b[0m\u001b[0;34m)\u001b[0m\u001b[0;34m\u001b[0m\u001b[0m\n\u001b[0m\u001b[1;32m      2\u001b[0m \u001b[0msns\u001b[0m\u001b[0;34m.\u001b[0m\u001b[0mkdeplot\u001b[0m\u001b[0;34m(\u001b[0m\u001b[0meuro\u001b[0m\u001b[0;34m[\u001b[0m\u001b[0;34m'cholesterol'\u001b[0m\u001b[0;34m]\u001b[0m\u001b[0;34m,\u001b[0m \u001b[0mlabel\u001b[0m\u001b[0;34m=\u001b[0m\u001b[0;34m'Euro'\u001b[0m\u001b[0;34m)\u001b[0m\u001b[0;34m\u001b[0m\u001b[0m\n",
      "\u001b[0;32m//anaconda/lib/python3.5/site-packages/pandas/core/frame.py\u001b[0m in \u001b[0;36m__getitem__\u001b[0;34m(self, key)\u001b[0m\n\u001b[1;32m   1990\u001b[0m             \u001b[0;32mreturn\u001b[0m \u001b[0mself\u001b[0m\u001b[0;34m.\u001b[0m\u001b[0m_getitem_multilevel\u001b[0m\u001b[0;34m(\u001b[0m\u001b[0mkey\u001b[0m\u001b[0;34m)\u001b[0m\u001b[0;34m\u001b[0m\u001b[0m\n\u001b[1;32m   1991\u001b[0m         \u001b[0;32melse\u001b[0m\u001b[0;34m:\u001b[0m\u001b[0;34m\u001b[0m\u001b[0m\n\u001b[0;32m-> 1992\u001b[0;31m             \u001b[0;32mreturn\u001b[0m \u001b[0mself\u001b[0m\u001b[0;34m.\u001b[0m\u001b[0m_getitem_column\u001b[0m\u001b[0;34m(\u001b[0m\u001b[0mkey\u001b[0m\u001b[0;34m)\u001b[0m\u001b[0;34m\u001b[0m\u001b[0m\n\u001b[0m\u001b[1;32m   1993\u001b[0m \u001b[0;34m\u001b[0m\u001b[0m\n\u001b[1;32m   1994\u001b[0m     \u001b[0;32mdef\u001b[0m \u001b[0m_getitem_column\u001b[0m\u001b[0;34m(\u001b[0m\u001b[0mself\u001b[0m\u001b[0;34m,\u001b[0m \u001b[0mkey\u001b[0m\u001b[0;34m)\u001b[0m\u001b[0;34m:\u001b[0m\u001b[0;34m\u001b[0m\u001b[0m\n",
      "\u001b[0;32m//anaconda/lib/python3.5/site-packages/pandas/core/frame.py\u001b[0m in \u001b[0;36m_getitem_column\u001b[0;34m(self, key)\u001b[0m\n\u001b[1;32m   1997\u001b[0m         \u001b[0;31m# get column\u001b[0m\u001b[0;34m\u001b[0m\u001b[0;34m\u001b[0m\u001b[0m\n\u001b[1;32m   1998\u001b[0m         \u001b[0;32mif\u001b[0m \u001b[0mself\u001b[0m\u001b[0;34m.\u001b[0m\u001b[0mcolumns\u001b[0m\u001b[0;34m.\u001b[0m\u001b[0mis_unique\u001b[0m\u001b[0;34m:\u001b[0m\u001b[0;34m\u001b[0m\u001b[0m\n\u001b[0;32m-> 1999\u001b[0;31m             \u001b[0;32mreturn\u001b[0m \u001b[0mself\u001b[0m\u001b[0;34m.\u001b[0m\u001b[0m_get_item_cache\u001b[0m\u001b[0;34m(\u001b[0m\u001b[0mkey\u001b[0m\u001b[0;34m)\u001b[0m\u001b[0;34m\u001b[0m\u001b[0m\n\u001b[0m\u001b[1;32m   2000\u001b[0m \u001b[0;34m\u001b[0m\u001b[0m\n\u001b[1;32m   2001\u001b[0m         \u001b[0;31m# duplicate columns & possible reduce dimensionality\u001b[0m\u001b[0;34m\u001b[0m\u001b[0;34m\u001b[0m\u001b[0m\n",
      "\u001b[0;32m//anaconda/lib/python3.5/site-packages/pandas/core/generic.py\u001b[0m in \u001b[0;36m_get_item_cache\u001b[0;34m(self, item)\u001b[0m\n\u001b[1;32m   1343\u001b[0m         \u001b[0mres\u001b[0m \u001b[0;34m=\u001b[0m \u001b[0mcache\u001b[0m\u001b[0;34m.\u001b[0m\u001b[0mget\u001b[0m\u001b[0;34m(\u001b[0m\u001b[0mitem\u001b[0m\u001b[0;34m)\u001b[0m\u001b[0;34m\u001b[0m\u001b[0m\n\u001b[1;32m   1344\u001b[0m         \u001b[0;32mif\u001b[0m \u001b[0mres\u001b[0m \u001b[0;32mis\u001b[0m \u001b[0;32mNone\u001b[0m\u001b[0;34m:\u001b[0m\u001b[0;34m\u001b[0m\u001b[0m\n\u001b[0;32m-> 1345\u001b[0;31m             \u001b[0mvalues\u001b[0m \u001b[0;34m=\u001b[0m \u001b[0mself\u001b[0m\u001b[0;34m.\u001b[0m\u001b[0m_data\u001b[0m\u001b[0;34m.\u001b[0m\u001b[0mget\u001b[0m\u001b[0;34m(\u001b[0m\u001b[0mitem\u001b[0m\u001b[0;34m)\u001b[0m\u001b[0;34m\u001b[0m\u001b[0m\n\u001b[0m\u001b[1;32m   1346\u001b[0m             \u001b[0mres\u001b[0m \u001b[0;34m=\u001b[0m \u001b[0mself\u001b[0m\u001b[0;34m.\u001b[0m\u001b[0m_box_item_values\u001b[0m\u001b[0;34m(\u001b[0m\u001b[0mitem\u001b[0m\u001b[0;34m,\u001b[0m \u001b[0mvalues\u001b[0m\u001b[0;34m)\u001b[0m\u001b[0;34m\u001b[0m\u001b[0m\n\u001b[1;32m   1347\u001b[0m             \u001b[0mcache\u001b[0m\u001b[0;34m[\u001b[0m\u001b[0mitem\u001b[0m\u001b[0;34m]\u001b[0m \u001b[0;34m=\u001b[0m \u001b[0mres\u001b[0m\u001b[0;34m\u001b[0m\u001b[0m\n",
      "\u001b[0;32m//anaconda/lib/python3.5/site-packages/pandas/core/internals.py\u001b[0m in \u001b[0;36mget\u001b[0;34m(self, item, fastpath)\u001b[0m\n\u001b[1;32m   3223\u001b[0m \u001b[0;34m\u001b[0m\u001b[0m\n\u001b[1;32m   3224\u001b[0m             \u001b[0;32mif\u001b[0m \u001b[0;32mnot\u001b[0m \u001b[0misnull\u001b[0m\u001b[0;34m(\u001b[0m\u001b[0mitem\u001b[0m\u001b[0;34m)\u001b[0m\u001b[0;34m:\u001b[0m\u001b[0;34m\u001b[0m\u001b[0m\n\u001b[0;32m-> 3225\u001b[0;31m                 \u001b[0mloc\u001b[0m \u001b[0;34m=\u001b[0m \u001b[0mself\u001b[0m\u001b[0;34m.\u001b[0m\u001b[0mitems\u001b[0m\u001b[0;34m.\u001b[0m\u001b[0mget_loc\u001b[0m\u001b[0;34m(\u001b[0m\u001b[0mitem\u001b[0m\u001b[0;34m)\u001b[0m\u001b[0;34m\u001b[0m\u001b[0m\n\u001b[0m\u001b[1;32m   3226\u001b[0m             \u001b[0;32melse\u001b[0m\u001b[0;34m:\u001b[0m\u001b[0;34m\u001b[0m\u001b[0m\n\u001b[1;32m   3227\u001b[0m                 \u001b[0mindexer\u001b[0m \u001b[0;34m=\u001b[0m \u001b[0mnp\u001b[0m\u001b[0;34m.\u001b[0m\u001b[0marange\u001b[0m\u001b[0;34m(\u001b[0m\u001b[0mlen\u001b[0m\u001b[0;34m(\u001b[0m\u001b[0mself\u001b[0m\u001b[0;34m.\u001b[0m\u001b[0mitems\u001b[0m\u001b[0;34m)\u001b[0m\u001b[0;34m)\u001b[0m\u001b[0;34m[\u001b[0m\u001b[0misnull\u001b[0m\u001b[0;34m(\u001b[0m\u001b[0mself\u001b[0m\u001b[0;34m.\u001b[0m\u001b[0mitems\u001b[0m\u001b[0;34m)\u001b[0m\u001b[0;34m]\u001b[0m\u001b[0;34m\u001b[0m\u001b[0m\n",
      "\u001b[0;32m//anaconda/lib/python3.5/site-packages/pandas/indexes/base.py\u001b[0m in \u001b[0;36mget_loc\u001b[0;34m(self, key, method, tolerance)\u001b[0m\n\u001b[1;32m   1876\u001b[0m                 \u001b[0;32mreturn\u001b[0m \u001b[0mself\u001b[0m\u001b[0;34m.\u001b[0m\u001b[0m_engine\u001b[0m\u001b[0;34m.\u001b[0m\u001b[0mget_loc\u001b[0m\u001b[0;34m(\u001b[0m\u001b[0mkey\u001b[0m\u001b[0;34m)\u001b[0m\u001b[0;34m\u001b[0m\u001b[0m\n\u001b[1;32m   1877\u001b[0m             \u001b[0;32mexcept\u001b[0m \u001b[0mKeyError\u001b[0m\u001b[0;34m:\u001b[0m\u001b[0;34m\u001b[0m\u001b[0m\n\u001b[0;32m-> 1878\u001b[0;31m                 \u001b[0;32mreturn\u001b[0m \u001b[0mself\u001b[0m\u001b[0;34m.\u001b[0m\u001b[0m_engine\u001b[0m\u001b[0;34m.\u001b[0m\u001b[0mget_loc\u001b[0m\u001b[0;34m(\u001b[0m\u001b[0mself\u001b[0m\u001b[0;34m.\u001b[0m\u001b[0m_maybe_cast_indexer\u001b[0m\u001b[0;34m(\u001b[0m\u001b[0mkey\u001b[0m\u001b[0;34m)\u001b[0m\u001b[0;34m)\u001b[0m\u001b[0;34m\u001b[0m\u001b[0m\n\u001b[0m\u001b[1;32m   1879\u001b[0m \u001b[0;34m\u001b[0m\u001b[0m\n\u001b[1;32m   1880\u001b[0m         \u001b[0mindexer\u001b[0m \u001b[0;34m=\u001b[0m \u001b[0mself\u001b[0m\u001b[0;34m.\u001b[0m\u001b[0mget_indexer\u001b[0m\u001b[0;34m(\u001b[0m\u001b[0;34m[\u001b[0m\u001b[0mkey\u001b[0m\u001b[0;34m]\u001b[0m\u001b[0;34m,\u001b[0m \u001b[0mmethod\u001b[0m\u001b[0;34m=\u001b[0m\u001b[0mmethod\u001b[0m\u001b[0;34m,\u001b[0m \u001b[0mtolerance\u001b[0m\u001b[0;34m=\u001b[0m\u001b[0mtolerance\u001b[0m\u001b[0;34m)\u001b[0m\u001b[0;34m\u001b[0m\u001b[0m\n",
      "\u001b[0;32mpandas/index.pyx\u001b[0m in \u001b[0;36mpandas.index.IndexEngine.get_loc (pandas/index.c:4027)\u001b[0;34m()\u001b[0m\n",
      "\u001b[0;32mpandas/index.pyx\u001b[0m in \u001b[0;36mpandas.index.IndexEngine.get_loc (pandas/index.c:3891)\u001b[0;34m()\u001b[0m\n",
      "\u001b[0;32mpandas/hashtable.pyx\u001b[0m in \u001b[0;36mpandas.hashtable.PyObjectHashTable.get_item (pandas/hashtable.c:12408)\u001b[0;34m()\u001b[0m\n",
      "\u001b[0;32mpandas/hashtable.pyx\u001b[0m in \u001b[0;36mpandas.hashtable.PyObjectHashTable.get_item (pandas/hashtable.c:12359)\u001b[0;34m()\u001b[0m\n",
      "\u001b[0;31mKeyError\u001b[0m: 'cholesterol'"
     ]
    }
   ],
   "source": [
    "sns.kdeplot(us['cholesterol'], label='US')\n",
    "sns.kdeplot(euro['cholesterol'], label='Euro')"
   ]
  },
  {
   "cell_type": "code",
   "execution_count": 45,
   "metadata": {
    "collapsed": false
   },
   "outputs": [
    {
     "data": {
      "text/plain": [
       "1420.0"
      ]
     },
     "execution_count": 45,
     "metadata": {},
     "output_type": "execute_result"
    }
   ],
   "source": [
    "euro['energy_from_fat_100g'].max()"
   ]
  },
  {
   "cell_type": "code",
   "execution_count": null,
   "metadata": {
    "collapsed": false
   },
   "outputs": [],
   "source": [
    "top_features = corr_df.iloc[0:4, :]['feature']\n",
    "g = sns.pairplot(train[top_features])"
   ]
  },
  {
   "cell_type": "code",
   "execution_count": null,
   "metadata": {
    "collapsed": false
   },
   "outputs": [],
   "source": [
    "(X, y) = makeTrainingSet()\n",
    "(Xtrain, Xtest, yTrain, yTest) = cross_validation.train_test_split(X, y)\n",
    "clf = LogisticRegression(class_weight='balanced')\n",
    "clf.fit(Xtrain, yTrain)\n",
    "print('F1 Score: {}'.format(f1_score(yTest.values, clf.predict(Xtest.values))))\n",
    "print('AUC: {}'.format(roc_auc_score(clf.predict(Xtest.values), yTest.values)))\n",
    "print('Precision: {}'.format(precision_score(y_true=yTest.values,y_pred= clf.predict(Xtest.values))))\n",
    "print('Recall: {}'.format(recall_score(y_true=yTest.values,y_pred= clf.predict(Xtest.values))))\n",
    "print('Accuracy: {}'.format(accuracy_score(y_true=yTest.values,y_pred= clf.predict(Xtest.values))))"
   ]
  },
  {
   "cell_type": "markdown",
   "metadata": {},
   "source": [
    "We might as well be guessing randomly. Particularly, the precision score indicates we're making many false positive errors, predicting European foods as US foods."
   ]
  },
  {
   "cell_type": "code",
   "execution_count": null,
   "metadata": {
    "collapsed": false
   },
   "outputs": [],
   "source": [
    "clf = rf(class_weight='balanced', max_depth=5)\n",
    "clf.fit(Xtrain, yTrain)\n",
    "print('F1 Score: {}'.format(f1_score(yTest.values, clf.predict(Xtest.values))))\n",
    "print('AUC: {}'.format(roc_auc_score(clf.predict(Xtest.values), yTest.values)))\n",
    "print('Precision: {}'.format(precision_score(y_true=yTest.values,y_pred= clf.predict(Xtest.values))))\n",
    "print('Recall: {}'.format(recall_score(ytrue=yTest.values,y_pred= clf.predict(Xtest.values))))\n",
    "print('Accuracy: {}'.format(accuracy_score(y_true=yTest.values,y_pred= clf.predict(Xtest.values))))"
   ]
  },
  {
   "cell_type": "code",
   "execution_count": null,
   "metadata": {
    "collapsed": false
   },
   "outputs": [],
   "source": [
    "plt.scatter(train.energy_from_fat_100g, train.cholesterol_100g, c=train.isEuro)\n",
    "plt.xlabel('energy from fat')\n",
    "plt.ylabel('cholesterol')\n",
    "plt.legend(loc='best')"
   ]
  },
  {
   "cell_type": "code",
   "execution_count": 46,
   "metadata": {
    "collapsed": false
   },
   "outputs": [
    {
     "name": "stdout",
     "output_type": "stream",
     "text": [
      "best C: 100\n",
      "best AUC: 0.7807087912670242\n"
     ]
    }
   ],
   "source": [
    "X = train.drop(['isUS'], axis=1).values\n",
    "y = train['isUS'].values\n",
    "(Xtrain, Xtest, yTrain, yTest) = cross_validation.train_test_split(X, y, stratify=y)\n",
    "clf = LogisticRegression()\n",
    "sc = StandardScaler()\n",
    "X = sc.fit_transform(X)\n",
    "params = {'C': [0.01, 0.1, 1, 10, 100, 1000]}\n",
    "gs = GridSearchCV(clf, param_grid=params, scoring='roc_auc')\n",
    "gs.fit(Xtrain, yTrain)\n",
    "\n",
    "print('best C: {}'.format(gs.best_params_['C']))\n",
    "print('best AUC: {}'.format(gs.best_score_))\n",
    "\n",
    "\n"
   ]
  },
  {
   "cell_type": "code",
   "execution_count": 82,
   "metadata": {
    "collapsed": false
   },
   "outputs": [
    {
     "name": "stdout",
     "output_type": "stream",
     "text": [
      "Test Set AUC: 0.9544634491784633\n",
      "Accuracy: 0.9678524916032627\n"
     ]
    }
   ],
   "source": [
    "#preds = gs.predict(Xtest)\n",
    "probas = gs.predict_proba(Xtest)\n",
    "preds = [1 if x > 0.37 else 0 for x in probas[:, 1]]\n",
    "print('Test Set AUC: {}'.format(roc_auc_score(preds, yTest)))\n",
    "print('Accuracy: {}'.format(accuracy_score(y_true=yTest, y_pred= preds)))"
   ]
  },
  {
   "cell_type": "code",
   "execution_count": 81,
   "metadata": {
    "collapsed": false
   },
   "outputs": [
    {
     "data": {
      "text/plain": [
       "array([[13959,    27],\n",
       "       [  448,   155]])"
      ]
     },
     "execution_count": 81,
     "metadata": {},
     "output_type": "execute_result"
    }
   ],
   "source": [
    "confusion_matrix(y_true=yTest, y_pred= preds)"
   ]
  },
  {
   "cell_type": "code",
   "execution_count": 90,
   "metadata": {
    "collapsed": false
   },
   "outputs": [
    {
     "data": {
      "text/plain": [
       "95.866748920419496"
      ]
     },
     "execution_count": 90,
     "metadata": {},
     "output_type": "execute_result"
    }
   ],
   "source": [
    "100 - (sum(yTest) / len(yTest) * 100)"
   ]
  },
  {
   "cell_type": "code",
   "execution_count": 100,
   "metadata": {
    "collapsed": false
   },
   "outputs": [
    {
     "data": {
      "text/html": [
       "<div>\n",
       "<table border=\"1\" class=\"dataframe\">\n",
       "  <thead>\n",
       "    <tr style=\"text-align: right;\">\n",
       "      <th></th>\n",
       "      <th>absVal</th>\n",
       "      <th>feature</th>\n",
       "      <th>value</th>\n",
       "    </tr>\n",
       "  </thead>\n",
       "  <tbody>\n",
       "    <tr>\n",
       "      <th>47</th>\n",
       "      <td>2.078</td>\n",
       "      <td>cocoa_100g</td>\n",
       "      <td>-2.078</td>\n",
       "    </tr>\n",
       "    <tr>\n",
       "      <th>7</th>\n",
       "      <td>0.389</td>\n",
       "      <td>omega_3_fat_100g</td>\n",
       "      <td>-0.389</td>\n",
       "    </tr>\n",
       "    <tr>\n",
       "      <th>10</th>\n",
       "      <td>0.281</td>\n",
       "      <td>cholesterol_100g</td>\n",
       "      <td>0.281</td>\n",
       "    </tr>\n",
       "    <tr>\n",
       "      <th>14</th>\n",
       "      <td>0.179</td>\n",
       "      <td>polyols_100g</td>\n",
       "      <td>-0.179</td>\n",
       "    </tr>\n",
       "    <tr>\n",
       "      <th>30</th>\n",
       "      <td>0.130</td>\n",
       "      <td>vitamin_b12_100g</td>\n",
       "      <td>0.130</td>\n",
       "    </tr>\n",
       "    <tr>\n",
       "      <th>8</th>\n",
       "      <td>0.117</td>\n",
       "      <td>alpha_linolenic_acid_100g</td>\n",
       "      <td>-0.117</td>\n",
       "    </tr>\n",
       "    <tr>\n",
       "      <th>13</th>\n",
       "      <td>0.104</td>\n",
       "      <td>lactose_100g</td>\n",
       "      <td>-0.104</td>\n",
       "    </tr>\n",
       "    <tr>\n",
       "      <th>48</th>\n",
       "      <td>0.096</td>\n",
       "      <td>carbon_footprint_100g</td>\n",
       "      <td>-0.096</td>\n",
       "    </tr>\n",
       "    <tr>\n",
       "      <th>33</th>\n",
       "      <td>0.088</td>\n",
       "      <td>potassium_100g</td>\n",
       "      <td>0.088</td>\n",
       "    </tr>\n",
       "    <tr>\n",
       "      <th>6</th>\n",
       "      <td>0.085</td>\n",
       "      <td>polyunsaturated_fat_100g</td>\n",
       "      <td>0.085</td>\n",
       "    </tr>\n",
       "  </tbody>\n",
       "</table>\n",
       "</div>"
      ],
      "text/plain": [
       "    absVal                    feature  value\n",
       "47   2.078                 cocoa_100g -2.078\n",
       "7    0.389           omega_3_fat_100g -0.389\n",
       "10   0.281           cholesterol_100g  0.281\n",
       "14   0.179               polyols_100g -0.179\n",
       "30   0.130           vitamin_b12_100g  0.130\n",
       "8    0.117  alpha_linolenic_acid_100g -0.117\n",
       "13   0.104               lactose_100g -0.104\n",
       "48   0.096      carbon_footprint_100g -0.096\n",
       "33   0.088             potassium_100g  0.088\n",
       "6    0.085   polyunsaturated_fat_100g  0.085"
      ]
     },
     "execution_count": 100,
     "metadata": {},
     "output_type": "execute_result"
    }
   ],
   "source": [
    "(X_df, y) = makeTrainingSet()\n",
    "coef_df = makeCoefDf(gs.best_estimator_, X_df)\n",
    "coef_df.iloc[0:10, :]"
   ]
  },
  {
   "cell_type": "code",
   "execution_count": 106,
   "metadata": {
    "collapsed": false
   },
   "outputs": [
    {
     "name": "stdout",
     "output_type": "stream",
     "text": [
      "0.024865312888520515\n"
     ]
    },
    {
     "data": {
      "text/plain": [
       "0.3447213185084552"
      ]
     },
     "execution_count": 106,
     "metadata": {},
     "output_type": "execute_result"
    }
   ],
   "source": [
    "print(train[train['isUS'] == 1].cocoa_100g.mean())\n",
    "train[train['isUS'] == 0].cocoa_100g.mean()"
   ]
  },
  {
   "cell_type": "code",
   "execution_count": 83,
   "metadata": {
    "collapsed": false
   },
   "outputs": [
    {
     "data": {
      "text/html": [
       "<div>\n",
       "<table border=\"1\" class=\"dataframe\">\n",
       "  <thead>\n",
       "    <tr style=\"text-align: right;\">\n",
       "      <th></th>\n",
       "      <th>Pred 0</th>\n",
       "      <th>Pred 1</th>\n",
       "    </tr>\n",
       "  </thead>\n",
       "  <tbody>\n",
       "    <tr>\n",
       "      <th>Acutal 0</th>\n",
       "      <td>13977</td>\n",
       "      <td>9</td>\n",
       "    </tr>\n",
       "    <tr>\n",
       "      <th>Acutal 1</th>\n",
       "      <td>460</td>\n",
       "      <td>143</td>\n",
       "    </tr>\n",
       "  </tbody>\n",
       "</table>\n",
       "</div>"
      ],
      "text/plain": [
       "          Pred 0  Pred 1\n",
       "Acutal 0   13977       9\n",
       "Acutal 1     460     143"
      ]
     },
     "execution_count": 83,
     "metadata": {},
     "output_type": "execute_result"
    }
   ],
   "source": [
    "def makeConfusionDf(true, pred):\n",
    "    c = confusion_matrix(y_true=yTest, y_pred= preds) \n",
    "    return pd.DataFrame(c, columns=['Pred 0', 'Pred 1'], index=['Acutal 0', 'Acutal 1'])\n",
    "makeConfusionDf(yTest, preds)"
   ]
  },
  {
   "cell_type": "code",
   "execution_count": 64,
   "metadata": {
    "collapsed": false
   },
   "outputs": [
    {
     "data": {
      "image/png": "[encoded data removed]",
      "text/plain": [
       "<matplotlib.figure.Figure at 0x11b1ccf60>"
      ]
     },
     "metadata": {},
     "output_type": "display_data"
    }
   ],
   "source": [
    "cv = cross_validation.StratifiedKFold(y, n_folds=5, random_state=2)\n",
    "\n",
    "fig = plt.figure(figsize=(7, 5))\n",
    "\n",
    "mean_tpr = 0.0\n",
    "mean_fpr = np.linspace(0, 1, 100)\n",
    "all_tpr = []\n",
    "\n",
    "\n",
    "for i, (train, test) in enumerate(cv):\n",
    "    probas = gs.predict_proba(Xtest)\n",
    "    \n",
    "    fpr, tpr, thresholds = roc_curve(yTest,\n",
    "                                     probas[:, 1],\n",
    "                                     pos_label=1)\n",
    "    mean_tpr += interp(mean_fpr, fpr, tpr)\n",
    "    mean_tpr[0] = 0.0\n",
    "    roc_auc = auc(fpr, tpr)\n",
    "    plt.plot(fpr,\n",
    "             tpr,\n",
    "             lw=1,\n",
    "             label='ROC fold %d (area = %0.2f)'\n",
    "                   % (i+1, roc_auc))\n",
    "mean_tpr /= len(cv)\n",
    "mean_tpr[-1] = 1.0\n",
    "plt.plot([0, 1],\n",
    "         [0, 1],\n",
    "         linestyle='--',\n",
    "         color=(0.6, 0.6, 0.6),\n",
    "         label='random guessing')\n",
    "mean_auc = auc(mean_fpr, mean_tpr)\n",
    "plt.plot(mean_fpr, mean_tpr, 'k--',\n",
    "         label='mean ROC (area = %0.2f)' % mean_auc, lw=2)\n",
    "plt.plot([0, 0, 1],\n",
    "         [0, 1, 1],\n",
    "         lw=2,\n",
    "         linestyle=':',\n",
    "         color='black',\n",
    "         label='perfect performance')\n",
    "\n",
    "plt.xlim([-0.05, 1.05])\n",
    "plt.ylim([-0.05, 1.05])\n",
    "plt.xlabel('false positive rate')\n",
    "plt.ylabel('true positive rate')\n",
    "plt.title('Receiver Operator Characteristic')\n",
    "plt.legend(loc=\"lower right\")\n",
    "\n",
    "plt.tight_layout()\n",
    "plt.show()"
   ]
  },
  {
   "cell_type": "code",
   "execution_count": null,
   "metadata": {
    "collapsed": false
   },
   "outputs": [],
   "source": [
    "strat_df = makeCoefDf(clf, train.drop(['isUS'], axis=1))\n",
    "strat_df.iloc[0:10, :]"
   ]
  },
  {
   "cell_type": "markdown",
   "metadata": {},
   "source": [
    "### Let's explore the how US and Euro foods differ within food categories"
   ]
  }
 ],
 "metadata": {
  "kernelspec": {
   "display_name": "Python 3",
   "language": "python",
   "name": "python3"
  },
  "language_info": {
   "codemirror_mode": {
    "name": "ipython",
    "version": 3
   },
   "file_extension": ".py",
   "mimetype": "text/x-python",
   "name": "python",
   "nbconvert_exporter": "python",
   "pygments_lexer": "ipython3",
   "version": "3.5.1"
  }
 },
 "nbformat": 4,
 "nbformat_minor": 0
}
