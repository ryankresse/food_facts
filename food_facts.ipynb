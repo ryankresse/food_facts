{
 "cells": [
  {
   "cell_type": "code",
   "execution_count": 1,
   "metadata": {
    "collapsed": false
   },
   "outputs": [],
   "source": [
    "%matplotlib inline\n",
    "import numpy as np\n",
    "import pandas as pd\n",
    "import seaborn as sns\n",
    "import matplotlib.pyplot as plt\n",
    "from sklearn import cross_validation\n",
    "from sklearn.grid_search import GridSearchCV\n",
    "from sklearn.metrics import roc_auc_score, f1_score, precision_score, recall_score, accuracy_score, roc_curve, auc, confusion_matrix\n",
    "from sklearn.linear_model import LogisticRegression\n",
    "from sklearn.preprocessing import StandardScaler\n",
    "from scipy import interp\n",
    "import re\n",
    "pd.set_option('display.float_format', lambda x: '%.3f' % x)"
   ]
  },
  {
   "cell_type": "code",
   "execution_count": 2,
   "metadata": {
    "collapsed": false
   },
   "outputs": [
    {
     "name": "stderr",
     "output_type": "stream",
     "text": [
      "//anaconda/lib/python3.5/site-packages/IPython/core/interactiveshell.py:2723: DtypeWarning: Columns (0,3,5,27,36) have mixed types. Specify dtype option on import or set low_memory=False.\n",
      "  interactivity=interactivity, compiler=compiler, result=result)\n"
     ]
    }
   ],
   "source": [
    "df = pd.read_csv('FoodFacts.csv')"
   ]
  },
  {
   "cell_type": "code",
   "execution_count": 3,
   "metadata": {
    "collapsed": false
   },
   "outputs": [],
   "source": [
    "# Don't need these columns\n",
    "cols_to_drop = ['code', 'created_t', 'energy_from_fat_100g', 'last_modified_datetime', 'nutrition_score_fr_100g', 'nutrition_score_uk_100g']\n",
    "cols_to_drop.extend([col for col in df.columns if re.search('palm_oil', col)])\n",
    "df.drop(cols_to_drop, axis=1, inplace=True)"
   ]
  },
  {
   "cell_type": "code",
   "execution_count": 4,
   "metadata": {
    "collapsed": false
   },
   "outputs": [],
   "source": [
    "from collections import Counter\n",
    "def cleanLists(l):\n",
    "    if type(l) != list:\n",
    "        return []\n",
    "    else:\n",
    "        return [cat.strip().lower() for cat in l]\n",
    "\n",
    "def oneHotEncodeCategories(df, numCategories=10):\n",
    "    '''\n",
    "        df: dataframe\n",
    "        numCategories: how many categories, starting with the most common categories, to one hot encode.\n",
    "        returns: \n",
    "            df: dataframe with categories one hot encoded. \n",
    "            category_columns: the names of the one hot encoded category columns\n",
    "    '''\n",
    "    \n",
    "    df['categories_en_list'] = df.categories_en.apply(lambda x: x.split(',') if type(x) == str else x)\n",
    "    df['categories_en_list'] = df.categories_en_list.apply(cleanLists)\n",
    "    \n",
    "    all_cats = []\n",
    "    _ = df.categories_en_list.apply(lambda x: all_cats.extend(x))\n",
    "    cat_counts = Counter(all_cats)\n",
    "    most_common_cats = [cat[0] for cat in cat_counts.most_common(numCategories)]\n",
    "    for cat in most_common_cats:\n",
    "        df[cat] = df['categories_en_list'].apply(lambda x: 1 if cat in x else 0)\n",
    "    return df, most_common_cats\n",
    "\n",
    "df, category_columns = oneHotEncodeCategories(df, numCategories=100)"
   ]
  },
  {
   "cell_type": "code",
   "execution_count": 5,
   "metadata": {
    "collapsed": false
   },
   "outputs": [],
   "source": [
    "\n",
    "#https://www.kaggle.com/christinampoid/d/openfoodfacts/world-food-facts/europe-habits\n",
    "\n",
    "#labels: list of Strings with country names\n",
    "#returns the rows that have as country name any of the names in labels\n",
    "def get_rows_country(labels):\n",
    "    return df[df.countries.isin(labels)]\n",
    "\n",
    "#labels: list of Strings with country names\n",
    "#returns the categories and the percentage that appear in the rows of a particular country\n",
    "def get_categories_counts(labels):\n",
    "    rows = get_rows_country(labels)\n",
    "    food_country = rows.main_category_en.value_counts() / len(rows)*100\n",
    "    return food_country\n",
    "\n",
    "#France\n",
    "labels_france = ['France', 'en:FR', 'France,Europe','Belgique,France']\n",
    "french_food = get_rows_country(labels_france)\n",
    "\n",
    "#Spain\n",
    "labels_spain = ['España','en:ES','Espagne','Spain']\n",
    "spanish_food = get_rows_country(labels_spain)\n",
    "\n",
    "#Germany\n",
    "labels_germany = ['Deutschland','Germany','Allemagne','en:DE']\n",
    "german_food = get_rows_country(labels_germany)\n",
    "\n",
    "#United Kingdom\n",
    "labels_uk = ['en:UK','United Kingdom','en:GB','uk','UK']\n",
    "uk_food = get_rows_country(labels_uk)\n",
    "\n",
    "#Belgium\n",
    "labels_belgium = ['Belgique','en:BE','Belgique,France','Belgium','Belgique,France']\n",
    "belgium_food = get_rows_country(labels_belgium)\n",
    "\n",
    "#Italia\n",
    "labels_italia = ['Italia','en:IT','Italie']\n",
    "italian_food = get_rows_country(labels_italia)\n",
    "\n",
    "#Switzerland\n",
    "labels_switzerland = ['Suisse','Switzerland']\n",
    "suisse_food = get_rows_country(labels_switzerland)\n",
    "\n",
    "#Netherlands\n",
    "labels_netherlands = ['Netherlands', 'Holland']\n",
    "holland_food = get_rows_country(labels_netherlands)\n",
    "\n",
    "#Denmark\n",
    "labels_denmark = ['Denmark','Dänemark']\n",
    "dannish_food = get_rows_country(labels_denmark)\n",
    "\n",
    "#Portugal\n",
    "labels_portugal = ['Portugal','en:portugal']\n",
    "portuguese_food = get_rows_country(labels_portugal)\n",
    "\n",
    "#Greece\n",
    "labels_greece = ['Greece','en:GR','Grèce','en:greece']\n",
    "greek_food = get_rows_country(labels_greece)\n",
    "\n",
    "#Sweden\n",
    "labels_sweden = ['Sweden','en:SE','en:sweden']\n",
    "swedish_food = get_rows_country(labels_sweden)\n",
    "\n",
    "#Norway\n",
    "labels_norway = ['Norway','en:NO','en:norway']\n",
    "norwegian_food = get_rows_country(labels_norway)\n",
    "\n",
    "#Croatia\n",
    "labels_croatia = ['Croatia','en:HR','en:croatia']\n",
    "croatian_food = get_rows_country(labels_croatia)\n",
    "\n",
    "#Albania\n",
    "labels_albania = ['Albania','en:AL','en:albania']\n",
    "albanian_food = get_rows_country(labels_albania)\n",
    "\n",
    "labels_usa = ['United States', 'en:US', 'US', 'USA', 'en:united-states','United states', 'united states', 'United States of America']\n",
    "usa = get_rows_country(labels_usa)"
   ]
  },
  {
   "cell_type": "code",
   "execution_count": 6,
   "metadata": {
    "collapsed": false
   },
   "outputs": [],
   "source": [
    "europe = pd.concat([french_food,\n",
    "                    spanish_food,\n",
    "                    german_food, \n",
    "                    uk_food, \n",
    "                    belgium_food, \n",
    "                    italian_food, \n",
    "                    suisse_food,\n",
    "                    holland_food,\n",
    "                    dannish_food, \n",
    "                    portuguese_food, \n",
    "                    greek_food, \n",
    "                    swedish_food,\n",
    "                    norwegian_food,\n",
    "                    croatian_food, \n",
    "                    albanian_food])"
   ]
  },
  {
   "cell_type": "code",
   "execution_count": 12,
   "metadata": {
    "collapsed": false
   },
   "outputs": [
    {
     "name": "stdout",
     "output_type": "stream",
     "text": [
      "(55942, 199)\n",
      "(2413, 199)\n"
     ]
    }
   ],
   "source": [
    "usaNaCols = [col for col in usa.columns if usa[col].isnull().all()]\n",
    "euroNaCols = [col for col in europe.columns if europe[col].isnull().all()]\n",
    "combinedNaCols = usaNaCols + euroNaCols\n",
    "\n",
    "usa = usa.drop(combinedNaCols, axis=1)\n",
    "europe = europe.drop(combinedNaCols, axis=1)\n",
    "usa['isUS'] = 1\n",
    "europe['isUS'] = 0\n",
    "print(europe.shape)\n",
    "print(usa.shape)\n"
   ]
  },
  {
   "cell_type": "code",
   "execution_count": 13,
   "metadata": {
    "collapsed": false
   },
   "outputs": [
    {
     "data": {
      "text/plain": [
       "<matplotlib.axes._subplots.AxesSubplot at 0x1265267f0>"
      ]
     },
     "execution_count": 13,
     "metadata": {},
     "output_type": "execute_result"
    },
    {
     "data": {
      "image/png": "[encoded data removed]",
      "text/plain": [
       "<matplotlib.figure.Figure at 0x123c293c8>"
      ]
     },
     "metadata": {},
     "output_type": "display_data"
    }
   ],
   "source": [
    "most_common_usa = usa[category_columns].sum().sort_values(ascending=False).iloc[0:25]\n",
    "most_common_usa_perc = most_common_usa.apply(lambda x: x/usa.shape[0])\n",
    "most_common_usa_perc.plot(kind='bar')"
   ]
  },
  {
   "cell_type": "code",
   "execution_count": 14,
   "metadata": {
    "collapsed": false
   },
   "outputs": [
    {
     "data": {
      "text/plain": [
       "<matplotlib.axes._subplots.AxesSubplot at 0x122ce9128>"
      ]
     },
     "execution_count": 14,
     "metadata": {},
     "output_type": "execute_result"
    },
    {
     "data": {
      "image/png": "[encoded data removed]",
      "text/plain": [
       "<matplotlib.figure.Figure at 0x116579080>"
      ]
     },
     "metadata": {},
     "output_type": "display_data"
    }
   ],
   "source": [
    "most_common_euro = europe[category_columns].sum().sort_values(ascending=False).iloc[0:25]\n",
    "most_common_euro = most_common_euro.apply(lambda x: x/europe.shape[0])\n",
    "most_common_euro.plot(kind='bar')"
   ]
  },
  {
   "cell_type": "code",
   "execution_count": 20,
   "metadata": {
    "collapsed": false
   },
   "outputs": [
    {
     "data": {
      "text/plain": [
       "['plant-based foods and beverages',\n",
       " 'plant-based foods',\n",
       " 'beverages',\n",
       " 'sugary snacks',\n",
       " 'groceries',\n",
       " 'cereals and potatoes',\n",
       " 'dairies',\n",
       " 'cereals and their products',\n",
       " 'non-sugared beverages',\n",
       " 'breakfasts',\n",
       " 'biscuits and cakes',\n",
       " 'spreads',\n",
       " 'plant-based beverages',\n",
       " 'chocolates']"
      ]
     },
     "execution_count": 20,
     "metadata": {},
     "output_type": "execute_result"
    }
   ],
   "source": [
    "most_common_in_both = [cat for cat in most_common_usa.index if cat in most_common_euro.index]\n",
    "most_common_in_both"
   ]
  },
  {
   "cell_type": "code",
   "execution_count": 17,
   "metadata": {
    "collapsed": false
   },
   "outputs": [
    {
     "name": "stderr",
     "output_type": "stream",
     "text": [
      "//anaconda/lib/python3.5/site-packages/pandas/core/frame.py:2756: SettingWithCopyWarning: \n",
      "A value is trying to be set on a copy of a slice from a DataFrame\n",
      "\n",
      "See the caveats in the documentation: http://pandas.pydata.org/pandas-docs/stable/indexing.html#indexing-view-versus-copy\n",
      "  downcast=downcast, **kwargs)\n"
     ]
    },
    {
     "name": "stdout",
     "output_type": "stream",
     "text": [
      "plant-based foods and beverages\n"
     ]
    },
    {
     "ename": "ValueError",
     "evalue": "Only one class present in y_true. ROC AUC score is not defined in that case.",
     "output_type": "error",
     "traceback": [
      "\u001b[0;31m---------------------------------------------------------------------------\u001b[0m",
      "\u001b[0;31mValueError\u001b[0m                                Traceback (most recent call last)",
      "\u001b[0;32m<ipython-input-17-f906b2625721>\u001b[0m in \u001b[0;36m<module>\u001b[0;34m()\u001b[0m\n\u001b[1;32m     17\u001b[0m     \u001b[0mclf\u001b[0m\u001b[0;34m.\u001b[0m\u001b[0mfit\u001b[0m\u001b[0;34m(\u001b[0m\u001b[0mXtrain\u001b[0m\u001b[0;34m,\u001b[0m \u001b[0myTrain\u001b[0m\u001b[0;34m)\u001b[0m\u001b[0;34m\u001b[0m\u001b[0m\n\u001b[1;32m     18\u001b[0m     \u001b[0mpreds\u001b[0m \u001b[0;34m=\u001b[0m \u001b[0mclf\u001b[0m\u001b[0;34m.\u001b[0m\u001b[0mpredict\u001b[0m\u001b[0;34m(\u001b[0m\u001b[0mXtest\u001b[0m\u001b[0;34m)\u001b[0m\u001b[0;34m\u001b[0m\u001b[0m\n\u001b[0;32m---> 19\u001b[0;31m     \u001b[0mauc_score\u001b[0m \u001b[0;34m=\u001b[0m \u001b[0mroc_auc_score\u001b[0m\u001b[0;34m(\u001b[0m\u001b[0mpreds\u001b[0m\u001b[0;34m,\u001b[0m \u001b[0myTest\u001b[0m\u001b[0;34m)\u001b[0m\u001b[0;34m\u001b[0m\u001b[0m\n\u001b[0m\u001b[1;32m     20\u001b[0m     \u001b[0mmodels\u001b[0m\u001b[0;34m.\u001b[0m\u001b[0mappend\u001b[0m\u001b[0;34m(\u001b[0m\u001b[0;34m(\u001b[0m\u001b[0mcat\u001b[0m\u001b[0;34m,\u001b[0m \u001b[0mauc_score\u001b[0m\u001b[0;34m,\u001b[0m  \u001b[0mclf\u001b[0m\u001b[0;34m)\u001b[0m\u001b[0;34m)\u001b[0m\u001b[0;34m\u001b[0m\u001b[0m\n",
      "\u001b[0;32m//anaconda/lib/python3.5/site-packages/sklearn/metrics/ranking.py\u001b[0m in \u001b[0;36mroc_auc_score\u001b[0;34m(y_true, y_score, average, sample_weight)\u001b[0m\n\u001b[1;32m    255\u001b[0m     return _average_binary_score(\n\u001b[1;32m    256\u001b[0m         \u001b[0m_binary_roc_auc_score\u001b[0m\u001b[0;34m,\u001b[0m \u001b[0my_true\u001b[0m\u001b[0;34m,\u001b[0m \u001b[0my_score\u001b[0m\u001b[0;34m,\u001b[0m \u001b[0maverage\u001b[0m\u001b[0;34m,\u001b[0m\u001b[0;34m\u001b[0m\u001b[0m\n\u001b[0;32m--> 257\u001b[0;31m         sample_weight=sample_weight)\n\u001b[0m\u001b[1;32m    258\u001b[0m \u001b[0;34m\u001b[0m\u001b[0m\n\u001b[1;32m    259\u001b[0m \u001b[0;34m\u001b[0m\u001b[0m\n",
      "\u001b[0;32m//anaconda/lib/python3.5/site-packages/sklearn/metrics/base.py\u001b[0m in \u001b[0;36m_average_binary_score\u001b[0;34m(binary_metric, y_true, y_score, average, sample_weight)\u001b[0m\n\u001b[1;32m     77\u001b[0m \u001b[0;34m\u001b[0m\u001b[0m\n\u001b[1;32m     78\u001b[0m     \u001b[0;32mif\u001b[0m \u001b[0my_type\u001b[0m \u001b[0;34m==\u001b[0m \u001b[0;34m\"binary\"\u001b[0m\u001b[0;34m:\u001b[0m\u001b[0;34m\u001b[0m\u001b[0m\n\u001b[0;32m---> 79\u001b[0;31m         \u001b[0;32mreturn\u001b[0m \u001b[0mbinary_metric\u001b[0m\u001b[0;34m(\u001b[0m\u001b[0my_true\u001b[0m\u001b[0;34m,\u001b[0m \u001b[0my_score\u001b[0m\u001b[0;34m,\u001b[0m \u001b[0msample_weight\u001b[0m\u001b[0;34m=\u001b[0m\u001b[0msample_weight\u001b[0m\u001b[0;34m)\u001b[0m\u001b[0;34m\u001b[0m\u001b[0m\n\u001b[0m\u001b[1;32m     80\u001b[0m \u001b[0;34m\u001b[0m\u001b[0m\n\u001b[1;32m     81\u001b[0m     \u001b[0mcheck_consistent_length\u001b[0m\u001b[0;34m(\u001b[0m\u001b[0my_true\u001b[0m\u001b[0;34m,\u001b[0m \u001b[0my_score\u001b[0m\u001b[0;34m,\u001b[0m \u001b[0msample_weight\u001b[0m\u001b[0;34m)\u001b[0m\u001b[0;34m\u001b[0m\u001b[0m\n",
      "\u001b[0;32m//anaconda/lib/python3.5/site-packages/sklearn/metrics/ranking.py\u001b[0m in \u001b[0;36m_binary_roc_auc_score\u001b[0;34m(y_true, y_score, sample_weight)\u001b[0m\n\u001b[1;32m    246\u001b[0m     \u001b[0;32mdef\u001b[0m \u001b[0m_binary_roc_auc_score\u001b[0m\u001b[0;34m(\u001b[0m\u001b[0my_true\u001b[0m\u001b[0;34m,\u001b[0m \u001b[0my_score\u001b[0m\u001b[0;34m,\u001b[0m \u001b[0msample_weight\u001b[0m\u001b[0;34m=\u001b[0m\u001b[0;32mNone\u001b[0m\u001b[0;34m)\u001b[0m\u001b[0;34m:\u001b[0m\u001b[0;34m\u001b[0m\u001b[0m\n\u001b[1;32m    247\u001b[0m         \u001b[0;32mif\u001b[0m \u001b[0mlen\u001b[0m\u001b[0;34m(\u001b[0m\u001b[0mnp\u001b[0m\u001b[0;34m.\u001b[0m\u001b[0munique\u001b[0m\u001b[0;34m(\u001b[0m\u001b[0my_true\u001b[0m\u001b[0;34m)\u001b[0m\u001b[0;34m)\u001b[0m \u001b[0;34m!=\u001b[0m \u001b[0;36m2\u001b[0m\u001b[0;34m:\u001b[0m\u001b[0;34m\u001b[0m\u001b[0m\n\u001b[0;32m--> 248\u001b[0;31m             raise ValueError(\"Only one class present in y_true. ROC AUC score \"\n\u001b[0m\u001b[1;32m    249\u001b[0m                              \"is not defined in that case.\")\n\u001b[1;32m    250\u001b[0m \u001b[0;34m\u001b[0m\u001b[0m\n",
      "\u001b[0;31mValueError\u001b[0m: Only one class present in y_true. ROC AUC score is not defined in that case."
     ]
    }
   ],
   "source": [
    "train = pd.concat([usa, europe]).fillna(0)\n",
    "numericCols = train.select_dtypes(include=[np.number]).columns\n",
    "dfNumOnly = train[numericCols]\n",
    "dfNumOnly.fillna(0, inplace=True)\n",
    "models = []\n",
    "toDrop = ['isUS']\n",
    "toDrop.extend(category_columns)\n",
    "for cat in most_common_in_both:\n",
    "    print(cat)\n",
    "    cat_rows = dfNumOnly[dfNumOnly[cat] == 1]\n",
    "    X = cat_rows.drop(toDrop, axis=1)\n",
    "    y = cat_rows['isUS'].values\n",
    "    (Xtrain, Xtest, yTrain, yTest) = cross_validation.train_test_split(X, y, stratify=y)\n",
    "    clf = LogisticRegression()\n",
    "    sc = StandardScaler()\n",
    "    X = sc.fit_transform(X)\n",
    "    clf.fit(Xtrain, yTrain)\n",
    "    preds = clf.predict(Xtest)\n",
    "    auc_score = roc_auc_score(preds, yTest)\n",
    "    models.append((cat, auc_score,  clf))"
   ]
  },
  {
   "cell_type": "code",
   "execution_count": 18,
   "metadata": {
    "collapsed": false
   },
   "outputs": [],
   "source": [
    "from scipy.stats import pointbiserialr\n",
    "\n",
    "def getNutritionCorrByCat(cat, df):\n",
    "    corr_df = pd.DataFrame({'feature': [], 'pval': [], 'value': [], 'category': []})\n",
    "    cat_rows = df[df[cat] == 1]\n",
    "    numericCols = cat_rows.select_dtypes(include=[np.number]).columns\n",
    "    cat_rows_num_only = cat_rows[numericCols]\n",
    "    cat_rows_num_only.fillna(0, inplace=True)\n",
    "    toDrop = ['isUS']\n",
    "    toDrop.extend(category_columns)\n",
    "    for col in [col for col in cat_rows_num_only.columns if col not in toDrop]:\n",
    "        corr = pointbiserialr(cat_rows_num_only['isUS'].values, cat_rows_num_only[col].values)\n",
    "        corr_df = corr_df.append(pd.Series({'feature': col, 'pval':corr.pvalue, 'category': cat, 'value': corr.correlation, 'absVal': abs(corr.correlation)}), ignore_index=True)\n",
    "    return corr_df.sort_values(by='absVal', ascending=False)\n"
   ]
  },
  {
   "cell_type": "code",
   "execution_count": 64,
   "metadata": {
    "collapsed": false
   },
   "outputs": [
    {
     "name": "stderr",
     "output_type": "stream",
     "text": [
      "//anaconda/lib/python3.5/site-packages/pandas/core/frame.py:2756: SettingWithCopyWarning: \n",
      "A value is trying to be set on a copy of a slice from a DataFrame\n",
      "\n",
      "See the caveats in the documentation: http://pandas.pydata.org/pandas-docs/stable/indexing.html#indexing-view-versus-copy\n",
      "  downcast=downcast, **kwargs)\n"
     ]
    }
   ],
   "source": [
    "corr_df = pd.DataFrame(columns=['category', 'feature', 'pval', 'value', 'absVal'])\n",
    "for cat in most_common_in_both:\n",
    "    corr_df = corr_df.append(getNutritionCorrByCat(cat, train.fillna(0)), ignore_index=True)"
   ]
  },
  {
   "cell_type": "code",
   "execution_count": 65,
   "metadata": {
    "collapsed": false
   },
   "outputs": [],
   "source": [
    "corr_df.sort_values(by='absVal', ascending=False, inplace=True)"
   ]
  },
  {
   "cell_type": "code",
   "execution_count": 66,
   "metadata": {
    "collapsed": false
   },
   "outputs": [
    {
     "data": {
      "text/html": [
       "<div>\n",
       "<table border=\"1\" class=\"dataframe\">\n",
       "  <thead>\n",
       "    <tr style=\"text-align: right;\">\n",
       "      <th></th>\n",
       "      <th>category</th>\n",
       "      <th>feature</th>\n",
       "      <th>pval</th>\n",
       "      <th>value</th>\n",
       "      <th>absVal</th>\n",
       "    </tr>\n",
       "  </thead>\n",
       "  <tbody>\n",
       "    <tr>\n",
       "      <th>624</th>\n",
       "      <td>chocolates</td>\n",
       "      <td>cholesterol_100g</td>\n",
       "      <td>0.000</td>\n",
       "      <td>0.550</td>\n",
       "      <td>0.550</td>\n",
       "    </tr>\n",
       "    <tr>\n",
       "      <th>432</th>\n",
       "      <td>breakfasts</td>\n",
       "      <td>vitamin_a_100g</td>\n",
       "      <td>0.000</td>\n",
       "      <td>0.501</td>\n",
       "      <td>0.501</td>\n",
       "    </tr>\n",
       "    <tr>\n",
       "      <th>288</th>\n",
       "      <td>dairies</td>\n",
       "      <td>cholesterol_100g</td>\n",
       "      <td>0.000</td>\n",
       "      <td>0.453</td>\n",
       "      <td>0.453</td>\n",
       "    </tr>\n",
       "    <tr>\n",
       "      <th>336</th>\n",
       "      <td>cereals and their products</td>\n",
       "      <td>vitamin_a_100g</td>\n",
       "      <td>0.000</td>\n",
       "      <td>0.438</td>\n",
       "      <td>0.438</td>\n",
       "    </tr>\n",
       "    <tr>\n",
       "      <th>433</th>\n",
       "      <td>breakfasts</td>\n",
       "      <td>vitamin_d_100g</td>\n",
       "      <td>0.000</td>\n",
       "      <td>0.436</td>\n",
       "      <td>0.436</td>\n",
       "    </tr>\n",
       "    <tr>\n",
       "      <th>576</th>\n",
       "      <td>plant-based beverages</td>\n",
       "      <td>potassium_100g</td>\n",
       "      <td>0.000</td>\n",
       "      <td>0.434</td>\n",
       "      <td>0.434</td>\n",
       "    </tr>\n",
       "    <tr>\n",
       "      <th>240</th>\n",
       "      <td>cereals and potatoes</td>\n",
       "      <td>vitamin_a_100g</td>\n",
       "      <td>0.000</td>\n",
       "      <td>0.415</td>\n",
       "      <td>0.415</td>\n",
       "    </tr>\n",
       "    <tr>\n",
       "      <th>434</th>\n",
       "      <td>breakfasts</td>\n",
       "      <td>vitamin_b9_100g</td>\n",
       "      <td>0.000</td>\n",
       "      <td>0.402</td>\n",
       "      <td>0.402</td>\n",
       "    </tr>\n",
       "    <tr>\n",
       "      <th>435</th>\n",
       "      <td>breakfasts</td>\n",
       "      <td>zinc_100g</td>\n",
       "      <td>0.000</td>\n",
       "      <td>0.401</td>\n",
       "      <td>0.401</td>\n",
       "    </tr>\n",
       "    <tr>\n",
       "      <th>192</th>\n",
       "      <td>groceries</td>\n",
       "      <td>cholesterol_100g</td>\n",
       "      <td>0.000</td>\n",
       "      <td>0.390</td>\n",
       "      <td>0.390</td>\n",
       "    </tr>\n",
       "    <tr>\n",
       "      <th>337</th>\n",
       "      <td>cereals and their products</td>\n",
       "      <td>vitamin_d_100g</td>\n",
       "      <td>0.000</td>\n",
       "      <td>0.375</td>\n",
       "      <td>0.375</td>\n",
       "    </tr>\n",
       "    <tr>\n",
       "      <th>241</th>\n",
       "      <td>cereals and potatoes</td>\n",
       "      <td>vitamin_d_100g</td>\n",
       "      <td>0.000</td>\n",
       "      <td>0.356</td>\n",
       "      <td>0.356</td>\n",
       "    </tr>\n",
       "    <tr>\n",
       "      <th>436</th>\n",
       "      <td>breakfasts</td>\n",
       "      <td>vitamin_b12_100g</td>\n",
       "      <td>0.000</td>\n",
       "      <td>0.350</td>\n",
       "      <td>0.350</td>\n",
       "    </tr>\n",
       "    <tr>\n",
       "      <th>480</th>\n",
       "      <td>biscuits and cakes</td>\n",
       "      <td>iron_100g</td>\n",
       "      <td>0.000</td>\n",
       "      <td>0.335</td>\n",
       "      <td>0.335</td>\n",
       "    </tr>\n",
       "    <tr>\n",
       "      <th>338</th>\n",
       "      <td>cereals and their products</td>\n",
       "      <td>zinc_100g</td>\n",
       "      <td>0.000</td>\n",
       "      <td>0.328</td>\n",
       "      <td>0.328</td>\n",
       "    </tr>\n",
       "    <tr>\n",
       "      <th>528</th>\n",
       "      <td>spreads</td>\n",
       "      <td>cholesterol_100g</td>\n",
       "      <td>0.000</td>\n",
       "      <td>0.300</td>\n",
       "      <td>0.300</td>\n",
       "    </tr>\n",
       "    <tr>\n",
       "      <th>339</th>\n",
       "      <td>cereals and their products</td>\n",
       "      <td>vitamin_b12_100g</td>\n",
       "      <td>0.000</td>\n",
       "      <td>0.297</td>\n",
       "      <td>0.297</td>\n",
       "    </tr>\n",
       "    <tr>\n",
       "      <th>529</th>\n",
       "      <td>spreads</td>\n",
       "      <td>vitamin_pp_100g</td>\n",
       "      <td>0.000</td>\n",
       "      <td>0.287</td>\n",
       "      <td>0.287</td>\n",
       "    </tr>\n",
       "    <tr>\n",
       "      <th>242</th>\n",
       "      <td>cereals and potatoes</td>\n",
       "      <td>vitamin_b12_100g</td>\n",
       "      <td>0.000</td>\n",
       "      <td>0.284</td>\n",
       "      <td>0.284</td>\n",
       "    </tr>\n",
       "    <tr>\n",
       "      <th>243</th>\n",
       "      <td>cereals and potatoes</td>\n",
       "      <td>vitamin_b1_100g</td>\n",
       "      <td>0.000</td>\n",
       "      <td>0.279</td>\n",
       "      <td>0.279</td>\n",
       "    </tr>\n",
       "    <tr>\n",
       "      <th>481</th>\n",
       "      <td>biscuits and cakes</td>\n",
       "      <td>cholesterol_100g</td>\n",
       "      <td>0.000</td>\n",
       "      <td>0.273</td>\n",
       "      <td>0.273</td>\n",
       "    </tr>\n",
       "    <tr>\n",
       "      <th>289</th>\n",
       "      <td>dairies</td>\n",
       "      <td>vitamin_a_100g</td>\n",
       "      <td>0.000</td>\n",
       "      <td>0.272</td>\n",
       "      <td>0.272</td>\n",
       "    </tr>\n",
       "    <tr>\n",
       "      <th>340</th>\n",
       "      <td>cereals and their products</td>\n",
       "      <td>vitamin_b1_100g</td>\n",
       "      <td>0.000</td>\n",
       "      <td>0.270</td>\n",
       "      <td>0.270</td>\n",
       "    </tr>\n",
       "    <tr>\n",
       "      <th>625</th>\n",
       "      <td>chocolates</td>\n",
       "      <td>calcium_100g</td>\n",
       "      <td>0.000</td>\n",
       "      <td>0.251</td>\n",
       "      <td>0.251</td>\n",
       "    </tr>\n",
       "    <tr>\n",
       "      <th>341</th>\n",
       "      <td>cereals and their products</td>\n",
       "      <td>additives_n</td>\n",
       "      <td>0.000</td>\n",
       "      <td>0.241</td>\n",
       "      <td>0.241</td>\n",
       "    </tr>\n",
       "    <tr>\n",
       "      <th>577</th>\n",
       "      <td>plant-based beverages</td>\n",
       "      <td>iron_100g</td>\n",
       "      <td>0.000</td>\n",
       "      <td>0.240</td>\n",
       "      <td>0.240</td>\n",
       "    </tr>\n",
       "    <tr>\n",
       "      <th>437</th>\n",
       "      <td>breakfasts</td>\n",
       "      <td>vitamin_b6_100g</td>\n",
       "      <td>0.000</td>\n",
       "      <td>0.239</td>\n",
       "      <td>0.239</td>\n",
       "    </tr>\n",
       "    <tr>\n",
       "      <th>144</th>\n",
       "      <td>sugary snacks</td>\n",
       "      <td>cholesterol_100g</td>\n",
       "      <td>0.000</td>\n",
       "      <td>0.232</td>\n",
       "      <td>0.232</td>\n",
       "    </tr>\n",
       "    <tr>\n",
       "      <th>244</th>\n",
       "      <td>cereals and potatoes</td>\n",
       "      <td>vitamin_pp_100g</td>\n",
       "      <td>0.000</td>\n",
       "      <td>0.225</td>\n",
       "      <td>0.225</td>\n",
       "    </tr>\n",
       "    <tr>\n",
       "      <th>342</th>\n",
       "      <td>cereals and their products</td>\n",
       "      <td>vitamin_pp_100g</td>\n",
       "      <td>0.000</td>\n",
       "      <td>0.223</td>\n",
       "      <td>0.223</td>\n",
       "    </tr>\n",
       "    <tr>\n",
       "      <th>...</th>\n",
       "      <td>...</td>\n",
       "      <td>...</td>\n",
       "      <td>...</td>\n",
       "      <td>...</td>\n",
       "      <td>...</td>\n",
       "    </tr>\n",
       "    <tr>\n",
       "      <th>520</th>\n",
       "      <td>biscuits and cakes</td>\n",
       "      <td>lactose_100g</td>\n",
       "      <td>1.000</td>\n",
       "      <td>nan</td>\n",
       "      <td>nan</td>\n",
       "    </tr>\n",
       "    <tr>\n",
       "      <th>521</th>\n",
       "      <td>biscuits and cakes</td>\n",
       "      <td>vitamin_k_100g</td>\n",
       "      <td>1.000</td>\n",
       "      <td>nan</td>\n",
       "      <td>nan</td>\n",
       "    </tr>\n",
       "    <tr>\n",
       "      <th>522</th>\n",
       "      <td>biscuits and cakes</td>\n",
       "      <td>biotin_100g</td>\n",
       "      <td>1.000</td>\n",
       "      <td>nan</td>\n",
       "      <td>nan</td>\n",
       "    </tr>\n",
       "    <tr>\n",
       "      <th>523</th>\n",
       "      <td>biscuits and cakes</td>\n",
       "      <td>selenium_100g</td>\n",
       "      <td>1.000</td>\n",
       "      <td>nan</td>\n",
       "      <td>nan</td>\n",
       "    </tr>\n",
       "    <tr>\n",
       "      <th>524</th>\n",
       "      <td>biscuits and cakes</td>\n",
       "      <td>chromium_100g</td>\n",
       "      <td>1.000</td>\n",
       "      <td>nan</td>\n",
       "      <td>nan</td>\n",
       "    </tr>\n",
       "    <tr>\n",
       "      <th>525</th>\n",
       "      <td>biscuits and cakes</td>\n",
       "      <td>molybdenum_100g</td>\n",
       "      <td>1.000</td>\n",
       "      <td>nan</td>\n",
       "      <td>nan</td>\n",
       "    </tr>\n",
       "    <tr>\n",
       "      <th>526</th>\n",
       "      <td>biscuits and cakes</td>\n",
       "      <td>iodine_100g</td>\n",
       "      <td>1.000</td>\n",
       "      <td>nan</td>\n",
       "      <td>nan</td>\n",
       "    </tr>\n",
       "    <tr>\n",
       "      <th>527</th>\n",
       "      <td>biscuits and cakes</td>\n",
       "      <td>caffeine_100g</td>\n",
       "      <td>1.000</td>\n",
       "      <td>nan</td>\n",
       "      <td>nan</td>\n",
       "    </tr>\n",
       "    <tr>\n",
       "      <th>568</th>\n",
       "      <td>spreads</td>\n",
       "      <td>lactose_100g</td>\n",
       "      <td>1.000</td>\n",
       "      <td>nan</td>\n",
       "      <td>nan</td>\n",
       "    </tr>\n",
       "    <tr>\n",
       "      <th>569</th>\n",
       "      <td>spreads</td>\n",
       "      <td>alcohol_100g</td>\n",
       "      <td>1.000</td>\n",
       "      <td>nan</td>\n",
       "      <td>nan</td>\n",
       "    </tr>\n",
       "    <tr>\n",
       "      <th>570</th>\n",
       "      <td>spreads</td>\n",
       "      <td>vitamin_k_100g</td>\n",
       "      <td>1.000</td>\n",
       "      <td>nan</td>\n",
       "      <td>nan</td>\n",
       "    </tr>\n",
       "    <tr>\n",
       "      <th>571</th>\n",
       "      <td>spreads</td>\n",
       "      <td>selenium_100g</td>\n",
       "      <td>1.000</td>\n",
       "      <td>nan</td>\n",
       "      <td>nan</td>\n",
       "    </tr>\n",
       "    <tr>\n",
       "      <th>572</th>\n",
       "      <td>spreads</td>\n",
       "      <td>chromium_100g</td>\n",
       "      <td>1.000</td>\n",
       "      <td>nan</td>\n",
       "      <td>nan</td>\n",
       "    </tr>\n",
       "    <tr>\n",
       "      <th>573</th>\n",
       "      <td>spreads</td>\n",
       "      <td>molybdenum_100g</td>\n",
       "      <td>1.000</td>\n",
       "      <td>nan</td>\n",
       "      <td>nan</td>\n",
       "    </tr>\n",
       "    <tr>\n",
       "      <th>574</th>\n",
       "      <td>spreads</td>\n",
       "      <td>iodine_100g</td>\n",
       "      <td>1.000</td>\n",
       "      <td>nan</td>\n",
       "      <td>nan</td>\n",
       "    </tr>\n",
       "    <tr>\n",
       "      <th>575</th>\n",
       "      <td>spreads</td>\n",
       "      <td>caffeine_100g</td>\n",
       "      <td>1.000</td>\n",
       "      <td>nan</td>\n",
       "      <td>nan</td>\n",
       "    </tr>\n",
       "    <tr>\n",
       "      <th>616</th>\n",
       "      <td>plant-based beverages</td>\n",
       "      <td>trans_fat_100g</td>\n",
       "      <td>1.000</td>\n",
       "      <td>nan</td>\n",
       "      <td>nan</td>\n",
       "    </tr>\n",
       "    <tr>\n",
       "      <th>617</th>\n",
       "      <td>plant-based beverages</td>\n",
       "      <td>alcohol_100g</td>\n",
       "      <td>1.000</td>\n",
       "      <td>nan</td>\n",
       "      <td>nan</td>\n",
       "    </tr>\n",
       "    <tr>\n",
       "      <th>618</th>\n",
       "      <td>plant-based beverages</td>\n",
       "      <td>vitamin_k_100g</td>\n",
       "      <td>1.000</td>\n",
       "      <td>nan</td>\n",
       "      <td>nan</td>\n",
       "    </tr>\n",
       "    <tr>\n",
       "      <th>619</th>\n",
       "      <td>plant-based beverages</td>\n",
       "      <td>chromium_100g</td>\n",
       "      <td>1.000</td>\n",
       "      <td>nan</td>\n",
       "      <td>nan</td>\n",
       "    </tr>\n",
       "    <tr>\n",
       "      <th>620</th>\n",
       "      <td>plant-based beverages</td>\n",
       "      <td>molybdenum_100g</td>\n",
       "      <td>1.000</td>\n",
       "      <td>nan</td>\n",
       "      <td>nan</td>\n",
       "    </tr>\n",
       "    <tr>\n",
       "      <th>621</th>\n",
       "      <td>plant-based beverages</td>\n",
       "      <td>iodine_100g</td>\n",
       "      <td>1.000</td>\n",
       "      <td>nan</td>\n",
       "      <td>nan</td>\n",
       "    </tr>\n",
       "    <tr>\n",
       "      <th>622</th>\n",
       "      <td>plant-based beverages</td>\n",
       "      <td>caffeine_100g</td>\n",
       "      <td>1.000</td>\n",
       "      <td>nan</td>\n",
       "      <td>nan</td>\n",
       "    </tr>\n",
       "    <tr>\n",
       "      <th>623</th>\n",
       "      <td>plant-based beverages</td>\n",
       "      <td>cocoa_100g</td>\n",
       "      <td>1.000</td>\n",
       "      <td>nan</td>\n",
       "      <td>nan</td>\n",
       "    </tr>\n",
       "    <tr>\n",
       "      <th>666</th>\n",
       "      <td>chocolates</td>\n",
       "      <td>selenium_100g</td>\n",
       "      <td>1.000</td>\n",
       "      <td>nan</td>\n",
       "      <td>nan</td>\n",
       "    </tr>\n",
       "    <tr>\n",
       "      <th>667</th>\n",
       "      <td>chocolates</td>\n",
       "      <td>chromium_100g</td>\n",
       "      <td>1.000</td>\n",
       "      <td>nan</td>\n",
       "      <td>nan</td>\n",
       "    </tr>\n",
       "    <tr>\n",
       "      <th>668</th>\n",
       "      <td>chocolates</td>\n",
       "      <td>molybdenum_100g</td>\n",
       "      <td>1.000</td>\n",
       "      <td>nan</td>\n",
       "      <td>nan</td>\n",
       "    </tr>\n",
       "    <tr>\n",
       "      <th>669</th>\n",
       "      <td>chocolates</td>\n",
       "      <td>iodine_100g</td>\n",
       "      <td>1.000</td>\n",
       "      <td>nan</td>\n",
       "      <td>nan</td>\n",
       "    </tr>\n",
       "    <tr>\n",
       "      <th>670</th>\n",
       "      <td>chocolates</td>\n",
       "      <td>caffeine_100g</td>\n",
       "      <td>1.000</td>\n",
       "      <td>nan</td>\n",
       "      <td>nan</td>\n",
       "    </tr>\n",
       "    <tr>\n",
       "      <th>671</th>\n",
       "      <td>chocolates</td>\n",
       "      <td>fruits_vegetables_nuts_100g</td>\n",
       "      <td>1.000</td>\n",
       "      <td>nan</td>\n",
       "      <td>nan</td>\n",
       "    </tr>\n",
       "  </tbody>\n",
       "</table>\n",
       "<p>672 rows × 5 columns</p>\n",
       "</div>"
      ],
      "text/plain": [
       "                       category                      feature  pval  value  \\\n",
       "624                  chocolates             cholesterol_100g 0.000  0.550   \n",
       "432                  breakfasts               vitamin_a_100g 0.000  0.501   \n",
       "288                     dairies             cholesterol_100g 0.000  0.453   \n",
       "336  cereals and their products               vitamin_a_100g 0.000  0.438   \n",
       "433                  breakfasts               vitamin_d_100g 0.000  0.436   \n",
       "576       plant-based beverages               potassium_100g 0.000  0.434   \n",
       "240        cereals and potatoes               vitamin_a_100g 0.000  0.415   \n",
       "434                  breakfasts              vitamin_b9_100g 0.000  0.402   \n",
       "435                  breakfasts                    zinc_100g 0.000  0.401   \n",
       "192                   groceries             cholesterol_100g 0.000  0.390   \n",
       "337  cereals and their products               vitamin_d_100g 0.000  0.375   \n",
       "241        cereals and potatoes               vitamin_d_100g 0.000  0.356   \n",
       "436                  breakfasts             vitamin_b12_100g 0.000  0.350   \n",
       "480          biscuits and cakes                    iron_100g 0.000  0.335   \n",
       "338  cereals and their products                    zinc_100g 0.000  0.328   \n",
       "528                     spreads             cholesterol_100g 0.000  0.300   \n",
       "339  cereals and their products             vitamin_b12_100g 0.000  0.297   \n",
       "529                     spreads              vitamin_pp_100g 0.000  0.287   \n",
       "242        cereals and potatoes             vitamin_b12_100g 0.000  0.284   \n",
       "243        cereals and potatoes              vitamin_b1_100g 0.000  0.279   \n",
       "481          biscuits and cakes             cholesterol_100g 0.000  0.273   \n",
       "289                     dairies               vitamin_a_100g 0.000  0.272   \n",
       "340  cereals and their products              vitamin_b1_100g 0.000  0.270   \n",
       "625                  chocolates                 calcium_100g 0.000  0.251   \n",
       "341  cereals and their products                  additives_n 0.000  0.241   \n",
       "577       plant-based beverages                    iron_100g 0.000  0.240   \n",
       "437                  breakfasts              vitamin_b6_100g 0.000  0.239   \n",
       "144               sugary snacks             cholesterol_100g 0.000  0.232   \n",
       "244        cereals and potatoes              vitamin_pp_100g 0.000  0.225   \n",
       "342  cereals and their products              vitamin_pp_100g 0.000  0.223   \n",
       "..                          ...                          ...   ...    ...   \n",
       "520          biscuits and cakes                 lactose_100g 1.000    nan   \n",
       "521          biscuits and cakes               vitamin_k_100g 1.000    nan   \n",
       "522          biscuits and cakes                  biotin_100g 1.000    nan   \n",
       "523          biscuits and cakes                selenium_100g 1.000    nan   \n",
       "524          biscuits and cakes                chromium_100g 1.000    nan   \n",
       "525          biscuits and cakes              molybdenum_100g 1.000    nan   \n",
       "526          biscuits and cakes                  iodine_100g 1.000    nan   \n",
       "527          biscuits and cakes                caffeine_100g 1.000    nan   \n",
       "568                     spreads                 lactose_100g 1.000    nan   \n",
       "569                     spreads                 alcohol_100g 1.000    nan   \n",
       "570                     spreads               vitamin_k_100g 1.000    nan   \n",
       "571                     spreads                selenium_100g 1.000    nan   \n",
       "572                     spreads                chromium_100g 1.000    nan   \n",
       "573                     spreads              molybdenum_100g 1.000    nan   \n",
       "574                     spreads                  iodine_100g 1.000    nan   \n",
       "575                     spreads                caffeine_100g 1.000    nan   \n",
       "616       plant-based beverages               trans_fat_100g 1.000    nan   \n",
       "617       plant-based beverages                 alcohol_100g 1.000    nan   \n",
       "618       plant-based beverages               vitamin_k_100g 1.000    nan   \n",
       "619       plant-based beverages                chromium_100g 1.000    nan   \n",
       "620       plant-based beverages              molybdenum_100g 1.000    nan   \n",
       "621       plant-based beverages                  iodine_100g 1.000    nan   \n",
       "622       plant-based beverages                caffeine_100g 1.000    nan   \n",
       "623       plant-based beverages                   cocoa_100g 1.000    nan   \n",
       "666                  chocolates                selenium_100g 1.000    nan   \n",
       "667                  chocolates                chromium_100g 1.000    nan   \n",
       "668                  chocolates              molybdenum_100g 1.000    nan   \n",
       "669                  chocolates                  iodine_100g 1.000    nan   \n",
       "670                  chocolates                caffeine_100g 1.000    nan   \n",
       "671                  chocolates  fruits_vegetables_nuts_100g 1.000    nan   \n",
       "\n",
       "     absVal  \n",
       "624   0.550  \n",
       "432   0.501  \n",
       "288   0.453  \n",
       "336   0.438  \n",
       "433   0.436  \n",
       "576   0.434  \n",
       "240   0.415  \n",
       "434   0.402  \n",
       "435   0.401  \n",
       "192   0.390  \n",
       "337   0.375  \n",
       "241   0.356  \n",
       "436   0.350  \n",
       "480   0.335  \n",
       "338   0.328  \n",
       "528   0.300  \n",
       "339   0.297  \n",
       "529   0.287  \n",
       "242   0.284  \n",
       "243   0.279  \n",
       "481   0.273  \n",
       "289   0.272  \n",
       "340   0.270  \n",
       "625   0.251  \n",
       "341   0.241  \n",
       "577   0.240  \n",
       "437   0.239  \n",
       "144   0.232  \n",
       "244   0.225  \n",
       "342   0.223  \n",
       "..      ...  \n",
       "520     nan  \n",
       "521     nan  \n",
       "522     nan  \n",
       "523     nan  \n",
       "524     nan  \n",
       "525     nan  \n",
       "526     nan  \n",
       "527     nan  \n",
       "568     nan  \n",
       "569     nan  \n",
       "570     nan  \n",
       "571     nan  \n",
       "572     nan  \n",
       "573     nan  \n",
       "574     nan  \n",
       "575     nan  \n",
       "616     nan  \n",
       "617     nan  \n",
       "618     nan  \n",
       "619     nan  \n",
       "620     nan  \n",
       "621     nan  \n",
       "622     nan  \n",
       "623     nan  \n",
       "666     nan  \n",
       "667     nan  \n",
       "668     nan  \n",
       "669     nan  \n",
       "670     nan  \n",
       "671     nan  \n",
       "\n",
       "[672 rows x 5 columns]"
      ]
     },
     "execution_count": 66,
     "metadata": {},
     "output_type": "execute_result"
    }
   ],
   "source": [
    "corr_df"
   ]
  },
  {
   "cell_type": "code",
   "execution_count": 92,
   "metadata": {
    "collapsed": false
   },
   "outputs": [
    {
     "name": "stdout",
     "output_type": "stream",
     "text": [
      "US Breakfast Count: 81\n",
      "Euro Breakfast Count: 2050\n",
      "US Breakfast with no vitamin D 58\n",
      "Euro Breakfast with no vitamin D 1970\n"
     ]
    },
    {
     "data": {
      "text/plain": [
       "isUS       \n",
       "0     count   2050.000\n",
       "      mean       0.000\n",
       "      std        0.000\n",
       "      min        0.000\n",
       "      25%        0.000\n",
       "      50%        0.000\n",
       "      75%        0.000\n",
       "      max        0.000\n",
       "1     count     81.000\n",
       "      mean       0.000\n",
       "      std        0.000\n",
       "      min        0.000\n",
       "      25%        0.000\n",
       "      50%        0.000\n",
       "      75%        0.000\n",
       "      max        0.000\n",
       "dtype: float64"
      ]
     },
     "execution_count": 92,
     "metadata": {},
     "output_type": "execute_result"
    }
   ],
   "source": [
    "breakfasts = train[train.breakfasts == 1].fillna(0)\n",
    "UsBreakfast = breakfasts[breakfasts.isUS == 1]\n",
    "EuroBreakfast = breakfasts[breakfasts.isUS == 0]\n",
    "print('US Breakfast Count: {}'.format(UsBreakfast.shape[0]))\n",
    "print('Euro Breakfast Count: {}'.format(EuroBreakfast.shape[0]))\n",
    "print('US Breakfast with no vitamin D {}'.format(UsBreakfast[UsBreakfast.vitamin_d_100g == 0].shape[0]))\n",
    "print('Euro Breakfast with no vitamin D {}'.format(EuroBreakfast[EuroBreakfast.vitamin_d_100g == 0].shape[0]))\n",
    "\n",
    "breakfasts.groupby('isUS').vitamin_d_100g.describe()"
   ]
  },
  {
   "cell_type": "code",
   "execution_count": 81,
   "metadata": {
    "collapsed": false
   },
   "outputs": [
    {
     "name": "stdout",
     "output_type": "stream",
     "text": [
      "Percent of Euro dairies with no cholesterol: 0.9990613853951568\n",
      "Percent of US dairies with no cholesterol: 0.34265734265734266\n"
     ]
    }
   ],
   "source": [
    "dairies = train[train.dairies == 1].fillna(0)\n",
    "dairiesEuro = dairies[dairies.isUS == 0]\n",
    "dairiesUS = dairies[dairies.isUS == 1]\n",
    "print('Percent of Euro dairies with no cholesterol: {}'.format(dairiesEuro[dairiesEuro.cholesterol_100g == 0].shape[0]/dairiesEuro.shape[0]))\n",
    "print('Percent of US dairies with no cholesterol: {}'.format(dairiesUS[dairiesUS.cholesterol_100g == 0].shape[0]/dairiesUS.shape[0]))      "
   ]
  },
  {
   "cell_type": "code",
   "execution_count": 84,
   "metadata": {
    "collapsed": false
   },
   "outputs": [
    {
     "data": {
      "text/plain": [
       "399                                                      0\n",
       "458                              Lait de coco pour dessert\n",
       "463                                                      0\n",
       "465                                                      0\n",
       "494                                                      0\n",
       "687                                                      0\n",
       "1519                                                     0\n",
       "2306                                                     0\n",
       "2491                                                     0\n",
       "3506                                                     0\n",
       "3535                                            Mozzarella\n",
       "3562                                                     0\n",
       "3772     Fromage de France AOP, à pâte pressée cuite, a...\n",
       "3775                                               Fromage\n",
       "3778     Fromage industriel de France, à pâte pressée n...\n",
       "3791                   Fromage au lait de vache pasteurisé\n",
       "3831                                             Emmental \n",
       "3862                          Fromage à pâte pressée cuite\n",
       "3865                                                     0\n",
       "3884                                                     0\n",
       "3929                                                     0\n",
       "3930     Fromage de France IGP, à pâte pressée cuite, a...\n",
       "3931     Fromage de France AOP, à pâte pressée cuite, a...\n",
       "3981     Fromage de France, à pâte molle à croûte fleur...\n",
       "4042                          Fromage à pate pressée cuite\n",
       "4075     Fromage industriel de France, à pâte molle à c...\n",
       "4078     Fromage de France AOP, à pâte pressée cuite, a...\n",
       "4119     Fromage de France AOP, à pâte pressée cuite, a...\n",
       "4124     Fromage de suisse AOP, à pâte pressée cuite, a...\n",
       "4125                                                     0\n",
       "                               ...                        \n",
       "52683                                     Manteiga com sal\n",
       "52684              Leite UHT meio gordo para profissionais\n",
       "52686                           Leite biológico meio gordo\n",
       "52687            Nata meio gorda UHT, 10% de matéria gorda\n",
       "52688       Leite com chocolate UHT, 1.1% de matéria gorda\n",
       "52689                     Queijo Flamengo M.G.E.S. 45%-60%\n",
       "52690    Pack de 12 iogurtes meio gordos aromatizados: ...\n",
       "52692    Iogurte líquido magro aromatizado com sabor a ...\n",
       "52693                          Pack de 4 iogurtes líquidos\n",
       "52694                            Pack de iogurtes líquidos\n",
       "52695    Iogurte líquido meio gordo com melão, limão e ...\n",
       "52745    Queijo fresco de cabra de fabrico artesanal, M...\n",
       "52813                                  Fromage bleu danois\n",
       "53043    Sobremesa láctea com preparado de papaia (14%)...\n",
       "56226                                 Fromage philadelphia\n",
       "61000    Pack de 8 iogurtes líquidos semi desnatados, a...\n",
       "61001    Iogurtes líquidos semidesnatados, açucarados, ...\n",
       "61746                   Leite UHT meio gordo homogeneizado\n",
       "61752                  Queijo Edam fatiado (40% M.G./E.S.)\n",
       "61787    Iogurte aromatizado líquido magro com aroma de...\n",
       "61843                              Queijo Flamengo fatiado\n",
       "61882                      Manteiga dos Açores (M.G ≥ 80%)\n",
       "62018    Leite fermentado líquido edulcorado magro com ...\n",
       "62069    Iogurte líquido açucarado com aroma de morango...\n",
       "62184    Iogurte líquido aromatizado magro com aroma a ...\n",
       "62185    Iogurte líquido aromatizado magro com aroma de...\n",
       "7212                                                     0\n",
       "51321                                                    0\n",
       "54131                                                    0\n",
       "53921                                             Lettmelk\n",
       "Name: generic_name, dtype: object"
      ]
     },
     "execution_count": 84,
     "metadata": {},
     "output_type": "execute_result"
    }
   ],
   "source": []
  },
  {
   "cell_type": "code",
   "execution_count": 74,
   "metadata": {
    "collapsed": false
   },
   "outputs": [
    {
     "data": {
      "text/plain": [
       "<seaborn.axisgrid.PairGrid at 0x118683ef0>"
      ]
     },
     "execution_count": 74,
     "metadata": {},
     "output_type": "execute_result"
    },
    {
     "data": {
      "image/png": "[encoded data removed]",
      "text/plain": [
       "<matplotlib.figure.Figure at 0x118683eb8>"
      ]
     },
     "metadata": {},
     "output_type": "display_data"
    }
   ],
   "source": [
    "sns.pairplot(train[train.spreads == 1][['isUS','fat_100g', 'cholesterol_100g', 'vitamin_pp_100g']].fillna(0), hue='isUS')"
   ]
  },
  {
   "cell_type": "code",
   "execution_count": 72,
   "metadata": {
    "collapsed": false
   },
   "outputs": [
    {
     "data": {
      "text/html": [
       "<div>\n",
       "<table border=\"1\" class=\"dataframe\">\n",
       "  <thead>\n",
       "    <tr style=\"text-align: right;\">\n",
       "      <th></th>\n",
       "      <th></th>\n",
       "      <th>fat_100g</th>\n",
       "      <th>cholesterol_100g</th>\n",
       "    </tr>\n",
       "    <tr>\n",
       "      <th>isUS</th>\n",
       "      <th></th>\n",
       "      <th></th>\n",
       "      <th></th>\n",
       "    </tr>\n",
       "  </thead>\n",
       "  <tbody>\n",
       "    <tr>\n",
       "      <th rowspan=\"8\" valign=\"top\">0</th>\n",
       "      <th>count</th>\n",
       "      <td>2234.000</td>\n",
       "      <td>2234.000</td>\n",
       "    </tr>\n",
       "    <tr>\n",
       "      <th>mean</th>\n",
       "      <td>21.270</td>\n",
       "      <td>0.000</td>\n",
       "    </tr>\n",
       "    <tr>\n",
       "      <th>std</th>\n",
       "      <td>27.531</td>\n",
       "      <td>0.007</td>\n",
       "    </tr>\n",
       "    <tr>\n",
       "      <th>min</th>\n",
       "      <td>0.000</td>\n",
       "      <td>0.000</td>\n",
       "    </tr>\n",
       "    <tr>\n",
       "      <th>25%</th>\n",
       "      <td>0.000</td>\n",
       "      <td>0.000</td>\n",
       "    </tr>\n",
       "    <tr>\n",
       "      <th>50%</th>\n",
       "      <td>0.500</td>\n",
       "      <td>0.000</td>\n",
       "    </tr>\n",
       "    <tr>\n",
       "      <th>75%</th>\n",
       "      <td>35.900</td>\n",
       "      <td>0.000</td>\n",
       "    </tr>\n",
       "    <tr>\n",
       "      <th>max</th>\n",
       "      <td>100.000</td>\n",
       "      <td>0.230</td>\n",
       "    </tr>\n",
       "    <tr>\n",
       "      <th rowspan=\"8\" valign=\"top\">1</th>\n",
       "      <th>count</th>\n",
       "      <td>62.000</td>\n",
       "      <td>62.000</td>\n",
       "    </tr>\n",
       "    <tr>\n",
       "      <th>mean</th>\n",
       "      <td>27.693</td>\n",
       "      <td>0.024</td>\n",
       "    </tr>\n",
       "    <tr>\n",
       "      <th>std</th>\n",
       "      <td>27.894</td>\n",
       "      <td>0.064</td>\n",
       "    </tr>\n",
       "    <tr>\n",
       "      <th>min</th>\n",
       "      <td>0.000</td>\n",
       "      <td>0.000</td>\n",
       "    </tr>\n",
       "    <tr>\n",
       "      <th>25%</th>\n",
       "      <td>0.000</td>\n",
       "      <td>0.000</td>\n",
       "    </tr>\n",
       "    <tr>\n",
       "      <th>50%</th>\n",
       "      <td>26.650</td>\n",
       "      <td>0.000</td>\n",
       "    </tr>\n",
       "    <tr>\n",
       "      <th>75%</th>\n",
       "      <td>50.000</td>\n",
       "      <td>0.000</td>\n",
       "    </tr>\n",
       "    <tr>\n",
       "      <th>max</th>\n",
       "      <td>78.600</td>\n",
       "      <td>0.214</td>\n",
       "    </tr>\n",
       "  </tbody>\n",
       "</table>\n",
       "</div>"
      ],
      "text/plain": [
       "            fat_100g  cholesterol_100g\n",
       "isUS                                  \n",
       "0    count  2234.000          2234.000\n",
       "     mean     21.270             0.000\n",
       "     std      27.531             0.007\n",
       "     min       0.000             0.000\n",
       "     25%       0.000             0.000\n",
       "     50%       0.500             0.000\n",
       "     75%      35.900             0.000\n",
       "     max     100.000             0.230\n",
       "1    count    62.000            62.000\n",
       "     mean     27.693             0.024\n",
       "     std      27.894             0.064\n",
       "     min       0.000             0.000\n",
       "     25%       0.000             0.000\n",
       "     50%      26.650             0.000\n",
       "     75%      50.000             0.000\n",
       "     max      78.600             0.214"
      ]
     },
     "execution_count": 72,
     "metadata": {},
     "output_type": "execute_result"
    }
   ],
   "source": [
    "spreads = train[train.spreads == 1].fillna(0)\n",
    "spreads.groupby('isUS')[['fat_100g', 'cholesterol_100g']].describe()"
   ]
  },
  {
   "cell_type": "code",
   "execution_count": 94,
   "metadata": {
    "collapsed": false
   },
   "outputs": [
    {
     "data": {
      "text/plain": [
       "24"
      ]
     },
     "execution_count": 94,
     "metadata": {},
     "output_type": "execute_result"
    }
   ],
   "source": [
    "import nltk\n",
    "def getProductNameCounts(df):\n",
    "    print(df.product_name)\n",
    "#getProductNameCounts(spreads)\n",
    "#spreads.groupby('product_name').size().sort_values(ascending=False)\n",
    "spreads.product_name.str.contains('Nutella').sum()"
   ]
  },
  {
   "cell_type": "code",
   "execution_count": 20,
   "metadata": {
    "collapsed": false
   },
   "outputs": [
    {
     "data": {
      "text/html": [
       "<div>\n",
       "<table border=\"1\" class=\"dataframe\">\n",
       "  <thead>\n",
       "    <tr style=\"text-align: right;\">\n",
       "      <th></th>\n",
       "      <th>category</th>\n",
       "      <th>auc</th>\n",
       "    </tr>\n",
       "  </thead>\n",
       "  <tbody>\n",
       "    <tr>\n",
       "      <th>0</th>\n",
       "      <td>plant-based foods and beverages</td>\n",
       "      <td>0.968</td>\n",
       "    </tr>\n",
       "    <tr>\n",
       "      <th>1</th>\n",
       "      <td>plant-based foods</td>\n",
       "      <td>0.992</td>\n",
       "    </tr>\n",
       "    <tr>\n",
       "      <th>2</th>\n",
       "      <td>beverages</td>\n",
       "      <td>0.981</td>\n",
       "    </tr>\n",
       "    <tr>\n",
       "      <th>3</th>\n",
       "      <td>sugary snacks</td>\n",
       "      <td>0.944</td>\n",
       "    </tr>\n",
       "    <tr>\n",
       "      <th>4</th>\n",
       "      <td>groceries</td>\n",
       "      <td>0.894</td>\n",
       "    </tr>\n",
       "    <tr>\n",
       "      <th>5</th>\n",
       "      <td>cereals and potatoes</td>\n",
       "      <td>0.960</td>\n",
       "    </tr>\n",
       "    <tr>\n",
       "      <th>6</th>\n",
       "      <td>dairies</td>\n",
       "      <td>0.967</td>\n",
       "    </tr>\n",
       "    <tr>\n",
       "      <th>7</th>\n",
       "      <td>cereals and their products</td>\n",
       "      <td>0.964</td>\n",
       "    </tr>\n",
       "    <tr>\n",
       "      <th>8</th>\n",
       "      <td>non-sugared beverages</td>\n",
       "      <td>0.978</td>\n",
       "    </tr>\n",
       "    <tr>\n",
       "      <th>9</th>\n",
       "      <td>breakfasts</td>\n",
       "      <td>0.939</td>\n",
       "    </tr>\n",
       "    <tr>\n",
       "      <th>10</th>\n",
       "      <td>biscuits and cakes</td>\n",
       "      <td>0.992</td>\n",
       "    </tr>\n",
       "    <tr>\n",
       "      <th>11</th>\n",
       "      <td>spreads</td>\n",
       "      <td>0.930</td>\n",
       "    </tr>\n",
       "    <tr>\n",
       "      <th>12</th>\n",
       "      <td>plant-based beverages</td>\n",
       "      <td>0.988</td>\n",
       "    </tr>\n",
       "    <tr>\n",
       "      <th>13</th>\n",
       "      <td>chocolates</td>\n",
       "      <td>0.905</td>\n",
       "    </tr>\n",
       "  </tbody>\n",
       "</table>\n",
       "</div>"
      ],
      "text/plain": [
       "                           category   auc\n",
       "0   plant-based foods and beverages 0.968\n",
       "1                 plant-based foods 0.992\n",
       "2                         beverages 0.981\n",
       "3                     sugary snacks 0.944\n",
       "4                         groceries 0.894\n",
       "5              cereals and potatoes 0.960\n",
       "6                           dairies 0.967\n",
       "7        cereals and their products 0.964\n",
       "8             non-sugared beverages 0.978\n",
       "9                        breakfasts 0.939\n",
       "10               biscuits and cakes 0.992\n",
       "11                          spreads 0.930\n",
       "12            plant-based beverages 0.988\n",
       "13                       chocolates 0.905"
      ]
     },
     "execution_count": 20,
     "metadata": {},
     "output_type": "execute_result"
    }
   ],
   "source": [
    "modelDf = pd.DataFrame(columns=['category', 'auc', 'clf'])\n",
    "for model in models:\n",
    "    modelDf = modelDf.append({'category': model[0], 'auc': model[1], 'clf': model[2]}, ignore_index=True)\n",
    "modelDf[['category', 'auc']]"
   ]
  },
  {
   "cell_type": "code",
   "execution_count": 21,
   "metadata": {
    "collapsed": false
   },
   "outputs": [
    {
     "data": {
      "text/html": [
       "<div>\n",
       "<table border=\"1\" class=\"dataframe\">\n",
       "  <thead>\n",
       "    <tr style=\"text-align: right;\">\n",
       "      <th></th>\n",
       "      <th>absVal</th>\n",
       "      <th>feature</th>\n",
       "      <th>value</th>\n",
       "    </tr>\n",
       "  </thead>\n",
       "  <tbody>\n",
       "    <tr>\n",
       "      <th>14</th>\n",
       "      <td>0.365</td>\n",
       "      <td>polyols_100g</td>\n",
       "      <td>-0.365</td>\n",
       "    </tr>\n",
       "    <tr>\n",
       "      <th>16</th>\n",
       "      <td>0.327</td>\n",
       "      <td>proteins_100g</td>\n",
       "      <td>-0.327</td>\n",
       "    </tr>\n",
       "    <tr>\n",
       "      <th>34</th>\n",
       "      <td>0.314</td>\n",
       "      <td>calcium_100g</td>\n",
       "      <td>0.314</td>\n",
       "    </tr>\n",
       "    <tr>\n",
       "      <th>5</th>\n",
       "      <td>0.203</td>\n",
       "      <td>monounsaturated_fat_100g</td>\n",
       "      <td>-0.203</td>\n",
       "    </tr>\n",
       "    <tr>\n",
       "      <th>47</th>\n",
       "      <td>0.171</td>\n",
       "      <td>cocoa_100g</td>\n",
       "      <td>-0.171</td>\n",
       "    </tr>\n",
       "    <tr>\n",
       "      <th>17</th>\n",
       "      <td>0.136</td>\n",
       "      <td>salt_100g</td>\n",
       "      <td>-0.136</td>\n",
       "    </tr>\n",
       "    <tr>\n",
       "      <th>3</th>\n",
       "      <td>0.104</td>\n",
       "      <td>fat_100g</td>\n",
       "      <td>0.104</td>\n",
       "    </tr>\n",
       "    <tr>\n",
       "      <th>19</th>\n",
       "      <td>0.090</td>\n",
       "      <td>alcohol_100g</td>\n",
       "      <td>-0.090</td>\n",
       "    </tr>\n",
       "    <tr>\n",
       "      <th>4</th>\n",
       "      <td>0.088</td>\n",
       "      <td>saturated_fat_100g</td>\n",
       "      <td>0.088</td>\n",
       "    </tr>\n",
       "    <tr>\n",
       "      <th>11</th>\n",
       "      <td>0.088</td>\n",
       "      <td>carbohydrates_100g</td>\n",
       "      <td>0.088</td>\n",
       "    </tr>\n",
       "  </tbody>\n",
       "</table>\n",
       "</div>"
      ],
      "text/plain": [
       "    absVal                   feature  value\n",
       "14   0.365              polyols_100g -0.365\n",
       "16   0.327             proteins_100g -0.327\n",
       "34   0.314              calcium_100g  0.314\n",
       "5    0.203  monounsaturated_fat_100g -0.203\n",
       "47   0.171                cocoa_100g -0.171\n",
       "17   0.136                 salt_100g -0.136\n",
       "3    0.104                  fat_100g  0.104\n",
       "19   0.090              alcohol_100g -0.090\n",
       "4    0.088        saturated_fat_100g  0.088\n",
       "11   0.088        carbohydrates_100g  0.088"
      ]
     },
     "execution_count": 21,
     "metadata": {},
     "output_type": "execute_result"
    }
   ],
   "source": [
    "spreads_clf = modelDf[modelDf.category == 'spreads'].clf\n",
    "spreads_coef = pd.DataFrame({'value': clf.coef_[0], 'absVal': abs(clf.coef_[0]), 'feature': dfNumOnly.drop(toDrop, axis=1).columns})\n",
    "spreads_coef.sort_values(by='absVal', ascending=False).iloc[0:10]"
   ]
  },
  {
   "cell_type": "code",
   "execution_count": 49,
   "metadata": {
    "collapsed": false
   },
   "outputs": [
    {
     "data": {
      "text/plain": [
       "<seaborn.axisgrid.PairGrid at 0x1198e49b0>"
      ]
     },
     "execution_count": 49,
     "metadata": {},
     "output_type": "execute_result"
    },
    {
     "data": {
      "image/png": "[encoded data removed]",
      "text/plain": [
       "<matplotlib.figure.Figure at 0x1198c6208>"
      ]
     },
     "metadata": {},
     "output_type": "display_data"
    },
    {
     "data": {
      "image/png": "[encoded data removed]",
      "text/plain": [
       "<matplotlib.figure.Figure at 0x1198ff940>"
      ]
     },
     "metadata": {},
     "output_type": "display_data"
    }
   ],
   "source": [
    "sns.lmplot(\"polyols_100g\", \"proteins_100g\", data=train, hue='isUS', fit_reg=False, scatter_kws={'alpha':0.5})\n",
    "sns.pairplot(train[[\"polyols_100g\", \"proteins_100g\", 'calcium_100g', 'isUS']].fillna(0), hue='isUS')"
   ]
  },
  {
   "cell_type": "code",
   "execution_count": 42,
   "metadata": {
    "collapsed": false
   },
   "outputs": [
    {
     "data": {
      "text/plain": [
       "8                                                      NaN\n",
       "13       Boisson gazeuse rafraîchissante aux extraits n...\n",
       "16       Boisson gazeuse aux extraits naturels de citro...\n",
       "27                                                     NaN\n",
       "95                                                     NaN\n",
       "306                                                    NaN\n",
       "458                              Lait de coco pour dessert\n",
       "462                         Boisson aux graines de basilic\n",
       "463                                                    NaN\n",
       "465                                                    NaN\n",
       "512                                                    NaN\n",
       "687                                                    NaN\n",
       "1072                                                   NaN\n",
       "1305                                                   NaN\n",
       "1663                                                   NaN\n",
       "1706                                       boisson au cola\n",
       "1726                                                   NaN\n",
       "1764                                                   NaN\n",
       "2080                                          eau minérale\n",
       "2166                                    Thé vert en jasmin\n",
       "2167                                                   NaN\n",
       "2168                              Thé noir à la bergamotte\n",
       "2169                                   Thé noir Darjeeling\n",
       "2171                                                   thé\n",
       "2173                                                   NaN\n",
       "2174                               Thé aromatisé bergamote\n",
       "2176                                                   NaN\n",
       "2185     Thé aromatisé bergamote et agrumes avec des éc...\n",
       "2187                                                   NaN\n",
       "2190     Thé vert d'Orient nature en feuilles entières ...\n",
       "                               ...                        \n",
       "52421                                 Agua mineral natural\n",
       "52443    Refrigerante de extracto de chá com sumo de manga\n",
       "52447      Sumo de maçã à base de concentrado pasteurizado\n",
       "52476                                         Água mineral\n",
       "52512                                                Porto\n",
       "52514                                         Vin de Porto\n",
       "52531    Néctar de frutos vermelhos proveniente de conc...\n",
       "52532                            Jus de cerise et de pomme\n",
       "52533                                    Néctar de pêssego\n",
       "52538    Néctar de tutti frutti parcialmente provenient...\n",
       "52539    Néctar de manga/laranja proveniente de concent...\n",
       "52540                                    Néctar de pêssego\n",
       "52543    Néctar de manga/maracujá proveniente de concen...\n",
       "52556                             Boisson alcoolisée bière\n",
       "52557                                   Boisson alcoolisée\n",
       "52559    Bebida refrigerante de extrato de chá com sumo...\n",
       "52631                                            Vin blanc\n",
       "52638                                        Eau gazéifiée\n",
       "52747                                                Bière\n",
       "52751                                                Tonic\n",
       "58085         Granizado de café com café solúvel açucarado\n",
       "59874                                                Tonic\n",
       "61760                                                  NaN\n",
       "62179                                                  NaN\n",
       "63219                                             Thé vert\n",
       "63768                                                  NaN\n",
       "64240           Bebida energética com alto teor de cafeína\n",
       "64388                   Refrigerante de extractos vegetais\n",
       "52893                                         Energy drink\n",
       "54039                                                  NaN\n",
       "Name: generic_name, dtype: object"
      ]
     },
     "execution_count": 42,
     "metadata": {},
     "output_type": "execute_result"
    }
   ],
   "source": [
    "#sns.distplot(usa[usa.beverages == 1].sugars_100g)\n",
    "usa_bevs = usa[usa.beverages == 1]\n",
    "europe_bevs = europe[europe.beverages == 1]\n",
    "europe_bevs.generic_name"
   ]
  },
  {
   "cell_type": "code",
   "execution_count": null,
   "metadata": {
    "collapsed": true
   },
   "outputs": [],
   "source": [
    "corr_df = pd.DataFrame({'feature': [], 'pval': [], 'value': []})\n",
    "\n",
    "from scipy.stats import pointbiserialr\n",
    "\n",
    "\n",
    "for col in train.drop(['isUS'], axis= 1).columns:\n",
    "    corr = pointbiserialr(train['isUS'].values, train[col].values)\n",
    "    corr_df = corr_df.append(pd.Series({'feature': col, 'pval':corr.pvalue, 'value': corr.correlation, 'absVal': abs(corr.correlation)}), ignore_index=True)\n",
    "\n",
    "corr_df.sort_values(by='absVal', ascending=False, inplace=True)\n",
    "corr_df.iloc[0:10, :]"
   ]
  },
  {
   "cell_type": "code",
   "execution_count": null,
   "metadata": {
    "collapsed": false
   },
   "outputs": [],
   "source": [
    "usaNumOnly = usaNumOnly.drop(combinedNaCols, axis=1)\n",
    "europeNumOnly = europeNumOnly.drop(combinedNaCols, axis=1)\n",
    "print(europeNumOnly.shape)\n",
    "print(usaNumOnly.shape)"
   ]
  },
  {
   "cell_type": "code",
   "execution_count": 12,
   "metadata": {
    "collapsed": false
   },
   "outputs": [],
   "source": [
    "usaNumOnly['isUS'] = 1\n",
    "europeNumOnly['isUS'] = 0\n",
    "train = pd.concat([usaNumOnly, europeNumOnly])"
   ]
  },
  {
   "cell_type": "code",
   "execution_count": 13,
   "metadata": {
    "collapsed": false
   },
   "outputs": [],
   "source": [
    "train = train.fillna(0, axis=0)"
   ]
  },
  {
   "cell_type": "code",
   "execution_count": 14,
   "metadata": {
    "collapsed": false
   },
   "outputs": [
    {
     "data": {
      "text/html": [
       "<div>\n",
       "<table border=\"1\" class=\"dataframe\">\n",
       "  <thead>\n",
       "    <tr style=\"text-align: right;\">\n",
       "      <th></th>\n",
       "      <th>additives_n</th>\n",
       "      <th>ingredients_from_palm_oil_n</th>\n",
       "      <th>ingredients_that_may_be_from_palm_oil_n</th>\n",
       "      <th>energy_100g</th>\n",
       "      <th>energy_from_fat_100g</th>\n",
       "      <th>fat_100g</th>\n",
       "      <th>saturated_fat_100g</th>\n",
       "      <th>monounsaturated_fat_100g</th>\n",
       "      <th>polyunsaturated_fat_100g</th>\n",
       "      <th>omega_3_fat_100g</th>\n",
       "      <th>...</th>\n",
       "      <th>chromium_100g</th>\n",
       "      <th>molybdenum_100g</th>\n",
       "      <th>iodine_100g</th>\n",
       "      <th>caffeine_100g</th>\n",
       "      <th>fruits_vegetables_nuts_100g</th>\n",
       "      <th>cocoa_100g</th>\n",
       "      <th>carbon_footprint_100g</th>\n",
       "      <th>nutrition_score_fr_100g</th>\n",
       "      <th>nutrition_score_uk_100g</th>\n",
       "      <th>isUS</th>\n",
       "    </tr>\n",
       "  </thead>\n",
       "  <tbody>\n",
       "    <tr>\n",
       "      <th>20</th>\n",
       "      <td>0.000</td>\n",
       "      <td>0.000</td>\n",
       "      <td>0.000</td>\n",
       "      <td>0.000</td>\n",
       "      <td>0.000</td>\n",
       "      <td>0.000</td>\n",
       "      <td>0.000</td>\n",
       "      <td>0.000</td>\n",
       "      <td>0.000</td>\n",
       "      <td>0.000</td>\n",
       "      <td>...</td>\n",
       "      <td>0.000</td>\n",
       "      <td>0.000</td>\n",
       "      <td>0.000</td>\n",
       "      <td>0.000</td>\n",
       "      <td>0.000</td>\n",
       "      <td>0.000</td>\n",
       "      <td>0.000</td>\n",
       "      <td>0.000</td>\n",
       "      <td>0.000</td>\n",
       "      <td>1</td>\n",
       "    </tr>\n",
       "    <tr>\n",
       "      <th>56</th>\n",
       "      <td>0.000</td>\n",
       "      <td>0.000</td>\n",
       "      <td>0.000</td>\n",
       "      <td>0.000</td>\n",
       "      <td>0.000</td>\n",
       "      <td>0.000</td>\n",
       "      <td>0.000</td>\n",
       "      <td>0.000</td>\n",
       "      <td>0.000</td>\n",
       "      <td>0.000</td>\n",
       "      <td>...</td>\n",
       "      <td>0.000</td>\n",
       "      <td>0.000</td>\n",
       "      <td>0.000</td>\n",
       "      <td>0.000</td>\n",
       "      <td>0.000</td>\n",
       "      <td>0.000</td>\n",
       "      <td>0.000</td>\n",
       "      <td>0.000</td>\n",
       "      <td>0.000</td>\n",
       "      <td>1</td>\n",
       "    </tr>\n",
       "    <tr>\n",
       "      <th>78</th>\n",
       "      <td>0.000</td>\n",
       "      <td>0.000</td>\n",
       "      <td>0.000</td>\n",
       "      <td>0.000</td>\n",
       "      <td>0.000</td>\n",
       "      <td>0.000</td>\n",
       "      <td>0.000</td>\n",
       "      <td>0.000</td>\n",
       "      <td>0.000</td>\n",
       "      <td>0.000</td>\n",
       "      <td>...</td>\n",
       "      <td>0.000</td>\n",
       "      <td>0.000</td>\n",
       "      <td>0.000</td>\n",
       "      <td>0.000</td>\n",
       "      <td>0.000</td>\n",
       "      <td>0.000</td>\n",
       "      <td>0.000</td>\n",
       "      <td>0.000</td>\n",
       "      <td>0.000</td>\n",
       "      <td>1</td>\n",
       "    </tr>\n",
       "    <tr>\n",
       "      <th>83</th>\n",
       "      <td>0.000</td>\n",
       "      <td>0.000</td>\n",
       "      <td>0.000</td>\n",
       "      <td>0.000</td>\n",
       "      <td>0.000</td>\n",
       "      <td>0.000</td>\n",
       "      <td>0.000</td>\n",
       "      <td>0.000</td>\n",
       "      <td>0.000</td>\n",
       "      <td>0.000</td>\n",
       "      <td>...</td>\n",
       "      <td>0.000</td>\n",
       "      <td>0.000</td>\n",
       "      <td>0.000</td>\n",
       "      <td>0.000</td>\n",
       "      <td>0.000</td>\n",
       "      <td>0.000</td>\n",
       "      <td>0.000</td>\n",
       "      <td>0.000</td>\n",
       "      <td>0.000</td>\n",
       "      <td>1</td>\n",
       "    </tr>\n",
       "    <tr>\n",
       "      <th>87</th>\n",
       "      <td>3.000</td>\n",
       "      <td>0.000</td>\n",
       "      <td>0.000</td>\n",
       "      <td>761.000</td>\n",
       "      <td>275.000</td>\n",
       "      <td>7.580</td>\n",
       "      <td>4.040</td>\n",
       "      <td>0.000</td>\n",
       "      <td>0.000</td>\n",
       "      <td>0.000</td>\n",
       "      <td>...</td>\n",
       "      <td>0.000</td>\n",
       "      <td>0.000</td>\n",
       "      <td>0.000</td>\n",
       "      <td>0.000</td>\n",
       "      <td>0.000</td>\n",
       "      <td>0.000</td>\n",
       "      <td>0.000</td>\n",
       "      <td>4.000</td>\n",
       "      <td>4.000</td>\n",
       "      <td>1</td>\n",
       "    </tr>\n",
       "  </tbody>\n",
       "</table>\n",
       "<p>5 rows × 54 columns</p>\n",
       "</div>"
      ],
      "text/plain": [
       "    additives_n  ingredients_from_palm_oil_n  \\\n",
       "20        0.000                        0.000   \n",
       "56        0.000                        0.000   \n",
       "78        0.000                        0.000   \n",
       "83        0.000                        0.000   \n",
       "87        3.000                        0.000   \n",
       "\n",
       "    ingredients_that_may_be_from_palm_oil_n  energy_100g  \\\n",
       "20                                    0.000        0.000   \n",
       "56                                    0.000        0.000   \n",
       "78                                    0.000        0.000   \n",
       "83                                    0.000        0.000   \n",
       "87                                    0.000      761.000   \n",
       "\n",
       "    energy_from_fat_100g  fat_100g  saturated_fat_100g  \\\n",
       "20                 0.000     0.000               0.000   \n",
       "56                 0.000     0.000               0.000   \n",
       "78                 0.000     0.000               0.000   \n",
       "83                 0.000     0.000               0.000   \n",
       "87               275.000     7.580               4.040   \n",
       "\n",
       "    monounsaturated_fat_100g  polyunsaturated_fat_100g  omega_3_fat_100g  \\\n",
       "20                     0.000                     0.000             0.000   \n",
       "56                     0.000                     0.000             0.000   \n",
       "78                     0.000                     0.000             0.000   \n",
       "83                     0.000                     0.000             0.000   \n",
       "87                     0.000                     0.000             0.000   \n",
       "\n",
       "    ...   chromium_100g  molybdenum_100g  iodine_100g  caffeine_100g  \\\n",
       "20  ...           0.000            0.000        0.000          0.000   \n",
       "56  ...           0.000            0.000        0.000          0.000   \n",
       "78  ...           0.000            0.000        0.000          0.000   \n",
       "83  ...           0.000            0.000        0.000          0.000   \n",
       "87  ...           0.000            0.000        0.000          0.000   \n",
       "\n",
       "    fruits_vegetables_nuts_100g  cocoa_100g  carbon_footprint_100g  \\\n",
       "20                        0.000       0.000                  0.000   \n",
       "56                        0.000       0.000                  0.000   \n",
       "78                        0.000       0.000                  0.000   \n",
       "83                        0.000       0.000                  0.000   \n",
       "87                        0.000       0.000                  0.000   \n",
       "\n",
       "    nutrition_score_fr_100g  nutrition_score_uk_100g  isUS  \n",
       "20                    0.000                    0.000     1  \n",
       "56                    0.000                    0.000     1  \n",
       "78                    0.000                    0.000     1  \n",
       "83                    0.000                    0.000     1  \n",
       "87                    4.000                    4.000     1  \n",
       "\n",
       "[5 rows x 54 columns]"
      ]
     },
     "execution_count": 14,
     "metadata": {},
     "output_type": "execute_result"
    }
   ],
   "source": [
    "train.head()"
   ]
  },
  {
   "cell_type": "code",
   "execution_count": 15,
   "metadata": {
    "collapsed": false
   },
   "outputs": [
    {
     "data": {
      "text/html": [
       "<div>\n",
       "<table border=\"1\" class=\"dataframe\">\n",
       "  <thead>\n",
       "    <tr style=\"text-align: right;\">\n",
       "      <th></th>\n",
       "      <th>product_name</th>\n",
       "      <th>energy_from_fat_100g</th>\n",
       "    </tr>\n",
       "  </thead>\n",
       "  <tbody>\n",
       "    <tr>\n",
       "      <th>5141</th>\n",
       "      <td>Lemon Ginger</td>\n",
       "      <td>3740.000</td>\n",
       "    </tr>\n",
       "    <tr>\n",
       "      <th>683</th>\n",
       "      <td>Virgin coconut oil</td>\n",
       "      <td>3590.000</td>\n",
       "    </tr>\n",
       "    <tr>\n",
       "      <th>641</th>\n",
       "      <td>Corn Oil</td>\n",
       "      <td>3350.000</td>\n",
       "    </tr>\n",
       "    <tr>\n",
       "      <th>3612</th>\n",
       "      <td>NaN</td>\n",
       "      <td>3350.000</td>\n",
       "    </tr>\n",
       "    <tr>\n",
       "      <th>2922</th>\n",
       "      <td>Mayonnaise</td>\n",
       "      <td>3220.000</td>\n",
       "    </tr>\n",
       "    <tr>\n",
       "      <th>2934</th>\n",
       "      <td>Mayonnaise</td>\n",
       "      <td>3220.000</td>\n",
       "    </tr>\n",
       "    <tr>\n",
       "      <th>2276</th>\n",
       "      <td>Grade AA Butter</td>\n",
       "      <td>2990.000</td>\n",
       "    </tr>\n",
       "    <tr>\n",
       "      <th>4653</th>\n",
       "      <td>Sweat Cream Butter</td>\n",
       "      <td>2990.000</td>\n",
       "    </tr>\n",
       "    <tr>\n",
       "      <th>1672</th>\n",
       "      <td>Real Mayonnaise</td>\n",
       "      <td>2990.000</td>\n",
       "    </tr>\n",
       "    <tr>\n",
       "      <th>1000</th>\n",
       "      <td>Real Mayonnaise</td>\n",
       "      <td>2990.000</td>\n",
       "    </tr>\n",
       "  </tbody>\n",
       "</table>\n",
       "</div>"
      ],
      "text/plain": [
       "            product_name  energy_from_fat_100g\n",
       "5141        Lemon Ginger              3740.000\n",
       "683   Virgin coconut oil              3590.000\n",
       "641             Corn Oil              3350.000\n",
       "3612                 NaN              3350.000\n",
       "2922          Mayonnaise              3220.000\n",
       "2934          Mayonnaise              3220.000\n",
       "2276     Grade AA Butter              2990.000\n",
       "4653  Sweat Cream Butter              2990.000\n",
       "1672     Real Mayonnaise              2990.000\n",
       "1000     Real Mayonnaise              2990.000"
      ]
     },
     "execution_count": 15,
     "metadata": {},
     "output_type": "execute_result"
    }
   ],
   "source": [
    "usaFattiest = train[train['isUS'] == 1].energy_from_fat_100g.sort_values(ascending=False)\n",
    "usa.ix[usaFattiest.index.values, :][['product_name', 'energy_from_fat_100g']].head(10)"
   ]
  },
  {
   "cell_type": "code",
   "execution_count": 16,
   "metadata": {
    "collapsed": false
   },
   "outputs": [
    {
     "data": {
      "text/html": [
       "<div>\n",
       "<table border=\"1\" class=\"dataframe\">\n",
       "  <thead>\n",
       "    <tr style=\"text-align: right;\">\n",
       "      <th></th>\n",
       "      <th>product_name</th>\n",
       "      <th>energy_from_fat_100g</th>\n",
       "    </tr>\n",
       "  </thead>\n",
       "  <tbody>\n",
       "    <tr>\n",
       "      <th>5217</th>\n",
       "      <td>Dark Chocolate with Almonds</td>\n",
       "      <td>1420.000</td>\n",
       "    </tr>\n",
       "    <tr>\n",
       "      <th>59124</th>\n",
       "      <td>Chocolat au lait et gaufrette</td>\n",
       "      <td>1140.000</td>\n",
       "    </tr>\n",
       "    <tr>\n",
       "      <th>41801</th>\n",
       "      <td>La Galette fine Chocolat</td>\n",
       "      <td>741.000</td>\n",
       "    </tr>\n",
       "    <tr>\n",
       "      <th>34576</th>\n",
       "      <td>Chocolat en poudre lacté 4 étoiles</td>\n",
       "      <td>167.000</td>\n",
       "    </tr>\n",
       "    <tr>\n",
       "      <th>4603</th>\n",
       "      <td>ISO 100  Hydrolyzed 100% Whey Protein Isolate</td>\n",
       "      <td>66.200</td>\n",
       "    </tr>\n",
       "    <tr>\n",
       "      <th>26098</th>\n",
       "      <td>Biscuits sablés à la noix de coco Leader Price</td>\n",
       "      <td>nan</td>\n",
       "    </tr>\n",
       "    <tr>\n",
       "      <th>26097</th>\n",
       "      <td>Boudoirs aux oeufs frais</td>\n",
       "      <td>nan</td>\n",
       "    </tr>\n",
       "    <tr>\n",
       "      <th>26096</th>\n",
       "      <td>Tartelettes au Citron Pur Beurre</td>\n",
       "      <td>nan</td>\n",
       "    </tr>\n",
       "    <tr>\n",
       "      <th>26095</th>\n",
       "      <td>Tartelettes à la fraise</td>\n",
       "      <td>nan</td>\n",
       "    </tr>\n",
       "    <tr>\n",
       "      <th>26094</th>\n",
       "      <td>Gaufres au miel bio</td>\n",
       "      <td>nan</td>\n",
       "    </tr>\n",
       "  </tbody>\n",
       "</table>\n",
       "</div>"
      ],
      "text/plain": [
       "                                         product_name  energy_from_fat_100g\n",
       "5217                      Dark Chocolate with Almonds              1420.000\n",
       "59124                   Chocolat au lait et gaufrette              1140.000\n",
       "41801                        La Galette fine Chocolat               741.000\n",
       "34576             Chocolat en poudre lacté 4 étoiles                167.000\n",
       "4603    ISO 100  Hydrolyzed 100% Whey Protein Isolate                66.200\n",
       "26098  Biscuits sablés à la noix de coco Leader Price                   nan\n",
       "26097                        Boudoirs aux oeufs frais                   nan\n",
       "26096                Tartelettes au Citron Pur Beurre                   nan\n",
       "26095                         Tartelettes à la fraise                   nan\n",
       "26094                             Gaufres au miel bio                   nan"
      ]
     },
     "execution_count": 16,
     "metadata": {},
     "output_type": "execute_result"
    }
   ],
   "source": [
    "euroFattiest = train[train['isUS'] == 0].energy_from_fat_100g.sort_values(ascending=False)\n",
    "europe.ix[euroFattiest.index.values, :][['product_name', 'energy_from_fat_100g']].head(10)"
   ]
  },
  {
   "cell_type": "code",
   "execution_count": 18,
   "metadata": {
    "collapsed": false
   },
   "outputs": [
    {
     "data": {
      "text/html": [
       "<div>\n",
       "<table border=\"1\" class=\"dataframe\">\n",
       "  <thead>\n",
       "    <tr style=\"text-align: right;\">\n",
       "      <th></th>\n",
       "      <th>product_name</th>\n",
       "      <th>cholesterol_100g</th>\n",
       "    </tr>\n",
       "  </thead>\n",
       "  <tbody>\n",
       "    <tr>\n",
       "      <th>2748</th>\n",
       "      <td>6 grade A large brown eggs</td>\n",
       "      <td>0.432</td>\n",
       "    </tr>\n",
       "    <tr>\n",
       "      <th>2525</th>\n",
       "      <td>12 large grade cage free AA eggs</td>\n",
       "      <td>0.430</td>\n",
       "    </tr>\n",
       "    <tr>\n",
       "      <th>4654</th>\n",
       "      <td>Large Grade AA 5 Dozen Eggs</td>\n",
       "      <td>0.430</td>\n",
       "    </tr>\n",
       "    <tr>\n",
       "      <th>1804</th>\n",
       "      <td>6 large grade AA eggs</td>\n",
       "      <td>0.370</td>\n",
       "    </tr>\n",
       "    <tr>\n",
       "      <th>4640</th>\n",
       "      <td>Egg Land's best</td>\n",
       "      <td>0.357</td>\n",
       "    </tr>\n",
       "    <tr>\n",
       "      <th>178</th>\n",
       "      <td>Saki Ika Prepared Squid (Hot)</td>\n",
       "      <td>0.306</td>\n",
       "    </tr>\n",
       "    <tr>\n",
       "      <th>1231</th>\n",
       "      <td>Wild Caught Shrimp</td>\n",
       "      <td>0.223</td>\n",
       "    </tr>\n",
       "    <tr>\n",
       "      <th>391</th>\n",
       "      <td>European style unsalted butter</td>\n",
       "      <td>0.214</td>\n",
       "    </tr>\n",
       "    <tr>\n",
       "      <th>1470</th>\n",
       "      <td>Challenge Butter unsalted</td>\n",
       "      <td>0.214</td>\n",
       "    </tr>\n",
       "    <tr>\n",
       "      <th>4653</th>\n",
       "      <td>Sweat Cream Butter</td>\n",
       "      <td>0.214</td>\n",
       "    </tr>\n",
       "  </tbody>\n",
       "</table>\n",
       "</div>"
      ],
      "text/plain": [
       "                          product_name  cholesterol_100g\n",
       "2748        6 grade A large brown eggs             0.432\n",
       "2525  12 large grade cage free AA eggs             0.430\n",
       "4654       Large Grade AA 5 Dozen Eggs             0.430\n",
       "1804             6 large grade AA eggs             0.370\n",
       "4640                   Egg Land's best             0.357\n",
       "178      Saki Ika Prepared Squid (Hot)             0.306\n",
       "1231                Wild Caught Shrimp             0.223\n",
       "391     European style unsalted butter             0.214\n",
       "1470         Challenge Butter unsalted             0.214\n",
       "4653                Sweat Cream Butter             0.214"
      ]
     },
     "execution_count": 18,
     "metadata": {},
     "output_type": "execute_result"
    }
   ],
   "source": [
    "usaMostChol = train[train['isUS'] == 1].cholesterol_100g.sort_values(ascending=False)\n",
    "usa.ix[usaMostChol.index.values, :][['product_name', 'cholesterol_100g']].head(10)"
   ]
  },
  {
   "cell_type": "code",
   "execution_count": 20,
   "metadata": {
    "collapsed": false
   },
   "outputs": [
    {
     "data": {
      "text/html": [
       "<div>\n",
       "<table border=\"1\" class=\"dataframe\">\n",
       "  <thead>\n",
       "    <tr style=\"text-align: right;\">\n",
       "      <th></th>\n",
       "      <th>product_name</th>\n",
       "      <th>cholesterol_100g</th>\n",
       "    </tr>\n",
       "  </thead>\n",
       "  <tbody>\n",
       "    <tr>\n",
       "      <th>27934</th>\n",
       "      <td>6 Oeufs Frais Bio</td>\n",
       "      <td>0.378</td>\n",
       "    </tr>\n",
       "    <tr>\n",
       "      <th>52486</th>\n",
       "      <td>Manteiga com sal</td>\n",
       "      <td>0.230</td>\n",
       "    </tr>\n",
       "    <tr>\n",
       "      <th>22438</th>\n",
       "      <td>Beurre d'Isigny</td>\n",
       "      <td>0.214</td>\n",
       "    </tr>\n",
       "    <tr>\n",
       "      <th>34575</th>\n",
       "      <td>Palets pur beurre</td>\n",
       "      <td>0.213</td>\n",
       "    </tr>\n",
       "    <tr>\n",
       "      <th>57548</th>\n",
       "      <td>Pandoro traditionnel italien</td>\n",
       "      <td>0.175</td>\n",
       "    </tr>\n",
       "    <tr>\n",
       "      <th>6492</th>\n",
       "      <td>Tentacules d'encornet géant</td>\n",
       "      <td>0.168</td>\n",
       "    </tr>\n",
       "    <tr>\n",
       "      <th>57243</th>\n",
       "      <td>La colomba</td>\n",
       "      <td>0.150</td>\n",
       "    </tr>\n",
       "    <tr>\n",
       "      <th>14683</th>\n",
       "      <td>Assortiment Traou Mad et galettes de Pont-Aven</td>\n",
       "      <td>0.130</td>\n",
       "    </tr>\n",
       "    <tr>\n",
       "      <th>4592</th>\n",
       "      <td>Palets aux Perles de Chocolat</td>\n",
       "      <td>0.127</td>\n",
       "    </tr>\n",
       "    <tr>\n",
       "      <th>43420</th>\n",
       "      <td>Gressins Tomate Origan</td>\n",
       "      <td>0.080</td>\n",
       "    </tr>\n",
       "  </tbody>\n",
       "</table>\n",
       "</div>"
      ],
      "text/plain": [
       "                                         product_name  cholesterol_100g\n",
       "27934                               6 Oeufs Frais Bio             0.378\n",
       "52486                                Manteiga com sal             0.230\n",
       "22438                                 Beurre d'Isigny             0.214\n",
       "34575                               Palets pur beurre             0.213\n",
       "57548                   Pandoro traditionnel italien              0.175\n",
       "6492                      Tentacules d'encornet géant             0.168\n",
       "57243                                      La colomba             0.150\n",
       "14683  Assortiment Traou Mad et galettes de Pont-Aven             0.130\n",
       "4592                    Palets aux Perles de Chocolat             0.127\n",
       "43420                          Gressins Tomate Origan             0.080"
      ]
     },
     "execution_count": 20,
     "metadata": {},
     "output_type": "execute_result"
    }
   ],
   "source": [
    "euroMostChol = train[train['isUS'] == 0].cholesterol_100g.sort_values(ascending=False)\n",
    "europe.ix[euroMostChol.index.values, :][['product_name', 'cholesterol_100g']].head(10)"
   ]
  },
  {
   "cell_type": "code",
   "execution_count": 21,
   "metadata": {
    "collapsed": false
   },
   "outputs": [
    {
     "data": {
      "text/plain": [
       "Plant-based foods and beverages,Plant-based foods,Cereals and potatoes,Cereals and their products,Pastas                                                                                     24\n",
       "Sugary snacks,Biscuits and cakes,Biscuits,Cookies                                                                                                                                            19\n",
       "Plant-based foods and beverages,Plant-based foods,Breakfasts,Cereals and potatoes,Cereals and their products,Breakfast cereals                                                               19\n",
       "Sugary snacks,Confectioneries,Candies                                                                                                                                                        19\n",
       "Plant-based foods and beverages,Plant-based foods,Cereals and potatoes,Cereals and their products,Noodles,Instant noodles                                                                    14\n",
       "Groceries,Sauces,Tomato sauces,Ketchup                                                                                                                                                       14\n",
       "Dairies,Milks                                                                                                                                                                                13\n",
       "Crackers                                                                                                                                                                                     13\n",
       "Salty snacks,Appetizers,Crackers                                                                                                                                                             13\n",
       "Beverages,Alcoholic beverages,Beers                                                                                                                                                          11\n",
       "Snacks                                                                                                                                                                                       11\n",
       "Groceries,Sauces,Mayonnaises                                                                                                                                                                 11\n",
       "Groceries,Sauces,Pasta sauces                                                                                                                                                                10\n",
       "Dairies,Cheeses                                                                                                                                                                              10\n",
       "Sugary snacks,Chocolates,Dark chocolates                                                                                                                                                     10\n",
       "Groceries,Condiments,Sauces,Mustards                                                                                                                                                         10\n",
       "Beers                                                                                                                                                                                         9\n",
       "water                                                                                                                                                                                         9\n",
       "Sugary snacks,Bars                                                                                                                                                                            9\n",
       "Sugary snacks,Biscuits and cakes,Biscuits,Cookies,Chocolate cookies                                                                                                                           8\n",
       "Cheese                                                                                                                                                                                        8\n",
       "Beverages,Waters,Non-sugared beverages                                                                                                                                                        8\n",
       "Groceries,Sauces                                                                                                                                                                              8\n",
       "Dairies,Yogurts                                                                                                                                                                               8\n",
       "pasta                                                                                                                                                                                         8\n",
       "Breakfast cereals                                                                                                                                                                             7\n",
       "Sugary snacks,Chocolates,Milk chocolates                                                                                                                                                      7\n",
       "Dairies,Yogurts,Low-fat yogurts                                                                                                                                                               7\n",
       "Mayonnaise                                                                                                                                                                                    7\n",
       "Candies                                                                                                                                                                                       6\n",
       "                                                                                                                                                                                             ..\n",
       "Sugary snacks,Biscuits and cakes,Biscuits,Chocolates,Cookies,Bars,Candy bars,Chocolate chip cookies                                                                                           1\n",
       "Ginseng Tea                                                                                                                                                                                   1\n",
       "bean flour                                                                                                                                                                                    1\n",
       "Orange juice                                                                                                                                                                                  1\n",
       "spring water,water                                                                                                                                                                            1\n",
       "crackers,snacks                                                                                                                                                                               1\n",
       "Beverages,Plant-based beverages,Fruit-based beverages,Juices and nectars,Fruit juices and nectars,Fruit juices,Concentrated fruit juices,Multifruit juices,Concentrated multifruit juices     1\n",
       "Beverages,Plant-based beverages,Juices and nectars,Artificially sweetened beverages,Vegetable-based beverages,Vegetable juices,Non-sugared beverages                                          1\n",
       "dark chocolates                                                                                                                                                                               1\n",
       "Salty snacks,Chips and fries,Potato Chips,Potato crips                                                                                                                                        1\n",
       "sparkling mineral water                                                                                                                                                                       1\n",
       "Plant-based foods and beverages,Plant-based foods,Cereals and potatoes,Cereals and their products,Frosted Cereal                                                                              1\n",
       "Mustards,Dijon mustards                                                                                                                                                                       1\n",
       "Meals                                                                                                                                                                                         1\n",
       "breads,grain products,baked goods                                                                                                                                                             1\n",
       "Sauces,Hot sauces                                                                                                                                                                             1\n",
       "Almond butter                                                                                                                                                                                 1\n",
       "grape juice drink                                                                                                                                                                             1\n",
       "Squeezed orange juices                                                                                                                                                                        1\n",
       "Chicken,Poultries                                                                                                                                                                             1\n",
       "sugary-snacks,ice cream                                                                                                                                                                       1\n",
       "Dairies,Yogurts,Fruit yogurts,Low-fat yogurts,Blueberry Yogurt                                                                                                                                1\n",
       "Instant Noodles,Dehydrated Soups                                                                                                                                                              1\n",
       "yellow mustard                                                                                                                                                                                1\n",
       "meats,PORK                                                                                                                                                                                    1\n",
       "Snacks,Crackers                                                                                                                                                                               1\n",
       "tea                                                                                                                                                                                           1\n",
       "Meals,Soups,Vegetable soups                                                                                                                                                                   1\n",
       "Lollipops                                                                                                                                                                                     1\n",
       "Coconut Cream                                                                                                                                                                                 1\n",
       "Name: categories, dtype: int64"
      ]
     },
     "execution_count": 21,
     "metadata": {},
     "output_type": "execute_result"
    }
   ],
   "source": [
    "usa.categories.value_counts().sort_values(ascending=False)"
   ]
  },
  {
   "cell_type": "markdown",
   "metadata": {},
   "source": [
    "### Fit various models to assess the predictive power of each ingredient in distinguishing Euro foods from USA foods"
   ]
  },
  {
   "cell_type": "code",
   "execution_count": null,
   "metadata": {
    "collapsed": true
   },
   "outputs": [],
   "source": []
  },
  {
   "cell_type": "code",
   "execution_count": 93,
   "metadata": {
    "collapsed": true
   },
   "outputs": [],
   "source": [
    "def makeTrainingSet(colsToDrop=[]):\n",
    "    X = train.drop(['isUS'] + colsToDrop, axis=1)\n",
    "    y = train['isUS']\n",
    "    return (X, y)\n",
    "\n",
    "def makeCoefDf(clf, X):\n",
    "    coef_df = pd.DataFrame({'value': clf.coef_[0], 'absVal': abs(clf.coef_[0]), 'feature': X.columns })\n",
    "    return coef_df.sort_values(by='absVal', ascending=False)\n",
    "\n",
    "def makeFeatureImpDf(clf, X):\n",
    "    coef_df = pd.DataFrame({'value': clf.feature_importances_[0], 'feature': X.columns })\n",
    "    return coef_df.sort_values(by='value', ascending=False)"
   ]
  },
  {
   "cell_type": "code",
   "execution_count": 33,
   "metadata": {
    "collapsed": false
   },
   "outputs": [
    {
     "data": {
      "text/plain": [
       "LogisticRegression(C=1.0, class_weight=None, dual=False, fit_intercept=True,\n",
       "          intercept_scaling=1, max_iter=100, multi_class='ovr', n_jobs=1,\n",
       "          penalty='l2', random_state=None, solver='liblinear', tol=0.0001,\n",
       "          verbose=0, warm_start=False)"
      ]
     },
     "execution_count": 33,
     "metadata": {},
     "output_type": "execute_result"
    }
   ],
   "source": [
    "from sklearn.linear_model import LogisticRegression\n",
    "(X, y) = makeTrainingSet(colsToDrop = [])\n",
    "clf = LogisticRegression()\n",
    "clf.fit(X,y)"
   ]
  },
  {
   "cell_type": "code",
   "execution_count": 34,
   "metadata": {
    "collapsed": false
   },
   "outputs": [],
   "source": [
    "lr_coef_one = makeCoefDf(clf, X)"
   ]
  },
  {
   "cell_type": "code",
   "execution_count": 35,
   "metadata": {
    "collapsed": false
   },
   "outputs": [
    {
     "data": {
      "text/html": [
       "<div>\n",
       "<table border=\"1\" class=\"dataframe\">\n",
       "  <thead>\n",
       "    <tr style=\"text-align: right;\">\n",
       "      <th></th>\n",
       "      <th>absVal</th>\n",
       "      <th>feature</th>\n",
       "      <th>value</th>\n",
       "    </tr>\n",
       "  </thead>\n",
       "  <tbody>\n",
       "    <tr>\n",
       "      <th>1</th>\n",
       "      <td>2.582</td>\n",
       "      <td>ingredients_from_palm_oil_n</td>\n",
       "      <td>-2.582</td>\n",
       "    </tr>\n",
       "    <tr>\n",
       "      <th>2</th>\n",
       "      <td>1.675</td>\n",
       "      <td>ingredients_that_may_be_from_palm_oil_n</td>\n",
       "      <td>-1.675</td>\n",
       "    </tr>\n",
       "    <tr>\n",
       "      <th>12</th>\n",
       "      <td>1.404</td>\n",
       "      <td>cholesterol_100g</td>\n",
       "      <td>1.404</td>\n",
       "    </tr>\n",
       "    <tr>\n",
       "      <th>9</th>\n",
       "      <td>0.790</td>\n",
       "      <td>omega_3_fat_100g</td>\n",
       "      <td>-0.790</td>\n",
       "    </tr>\n",
       "    <tr>\n",
       "      <th>31</th>\n",
       "      <td>0.528</td>\n",
       "      <td>vitamin_b9_100g</td>\n",
       "      <td>0.528</td>\n",
       "    </tr>\n",
       "    <tr>\n",
       "      <th>40</th>\n",
       "      <td>0.526</td>\n",
       "      <td>zinc_100g</td>\n",
       "      <td>0.526</td>\n",
       "    </tr>\n",
       "    <tr>\n",
       "      <th>15</th>\n",
       "      <td>0.273</td>\n",
       "      <td>lactose_100g</td>\n",
       "      <td>-0.273</td>\n",
       "    </tr>\n",
       "    <tr>\n",
       "      <th>10</th>\n",
       "      <td>0.222</td>\n",
       "      <td>alpha_linolenic_acid_100g</td>\n",
       "      <td>-0.222</td>\n",
       "    </tr>\n",
       "    <tr>\n",
       "      <th>39</th>\n",
       "      <td>0.174</td>\n",
       "      <td>magnesium_100g</td>\n",
       "      <td>-0.174</td>\n",
       "    </tr>\n",
       "    <tr>\n",
       "      <th>38</th>\n",
       "      <td>0.169</td>\n",
       "      <td>iron_100g</td>\n",
       "      <td>0.169</td>\n",
       "    </tr>\n",
       "  </tbody>\n",
       "</table>\n",
       "</div>"
      ],
      "text/plain": [
       "    absVal                                  feature  value\n",
       "1    2.582              ingredients_from_palm_oil_n -2.582\n",
       "2    1.675  ingredients_that_may_be_from_palm_oil_n -1.675\n",
       "12   1.404                         cholesterol_100g  1.404\n",
       "9    0.790                         omega_3_fat_100g -0.790\n",
       "31   0.528                          vitamin_b9_100g  0.528\n",
       "40   0.526                                zinc_100g  0.526\n",
       "15   0.273                             lactose_100g -0.273\n",
       "10   0.222                alpha_linolenic_acid_100g -0.222\n",
       "39   0.174                           magnesium_100g -0.174\n",
       "38   0.169                                iron_100g  0.169"
      ]
     },
     "execution_count": 35,
     "metadata": {},
     "output_type": "execute_result"
    }
   ],
   "source": [
    "lr_coef_one.iloc[0:10, :]"
   ]
  },
  {
   "cell_type": "code",
   "execution_count": 36,
   "metadata": {
    "collapsed": false
   },
   "outputs": [
    {
     "data": {
      "text/plain": [
       "<matplotlib.axes._subplots.AxesSubplot at 0x121aa46d8>"
      ]
     },
     "execution_count": 36,
     "metadata": {},
     "output_type": "execute_result"
    },
    {
     "data": {
      "image/png": "[encoded data removed]",
      "text/plain": [
       "<matplotlib.figure.Figure at 0x10193a6a0>"
      ]
     },
     "metadata": {},
     "output_type": "display_data"
    }
   ],
   "source": [
    "lr_coef_one.iloc[0:10, :].plot(kind='bar', x='feature', y='value')"
   ]
  },
  {
   "cell_type": "markdown",
   "metadata": {},
   "source": [
    "It seems like many palm oil may indicate that a product is European. But that doesn't mean that European products are more likely to contain it than US products. In Europe, palm oil is required on food labels. In the US, it isn't:\n",
    "\n",
    "- https://www.theguardian.com/sustainable-business/2014/dec/12/eu-labelling-changes-palm-oil-consumer-change\n",
    "- http://www.eurofoodlaw.com/labelling/analysis-palm-oil-no-longer-a-hidden-ingredient-108325.htm\n",
    "\n",
    "\n",
    "Now let's try a random forest."
   ]
  },
  {
   "cell_type": "code",
   "execution_count": 37,
   "metadata": {
    "collapsed": false
   },
   "outputs": [
    {
     "data": {
      "text/plain": [
       "RandomForestClassifier(bootstrap=True, class_weight=None, criterion='gini',\n",
       "            max_depth=5, max_features='auto', max_leaf_nodes=None,\n",
       "            min_samples_leaf=1, min_samples_split=2,\n",
       "            min_weight_fraction_leaf=0.0, n_estimators=10, n_jobs=1,\n",
       "            oob_score=False, random_state=None, verbose=0,\n",
       "            warm_start=False)"
      ]
     },
     "execution_count": 37,
     "metadata": {},
     "output_type": "execute_result"
    }
   ],
   "source": [
    "from sklearn.ensemble import RandomForestClassifier as rf\n",
    "clf = rf(max_depth=5)\n",
    "clf.fit(X, y)"
   ]
  },
  {
   "cell_type": "code",
   "execution_count": 38,
   "metadata": {
    "collapsed": false
   },
   "outputs": [],
   "source": [
    "#importances_df.iloc[0:10, :].plot(kind='bar', x='feature', y='value')"
   ]
  },
  {
   "cell_type": "markdown",
   "metadata": {},
   "source": [
    "hmm..it looks like palm oil isn't very important to our random forest. Let's remove palm oil, and see what happes. We'll also drop uk_nutrition_score and france_nutrition_score, as US products wouldn't have those on their labels."
   ]
  },
  {
   "cell_type": "code",
   "execution_count": 98,
   "metadata": {
    "collapsed": false
   },
   "outputs": [
    {
     "data": {
      "text/html": [
       "<div>\n",
       "<table border=\"1\" class=\"dataframe\">\n",
       "  <thead>\n",
       "    <tr style=\"text-align: right;\">\n",
       "      <th></th>\n",
       "      <th>absVal</th>\n",
       "      <th>feature</th>\n",
       "      <th>value</th>\n",
       "    </tr>\n",
       "  </thead>\n",
       "  <tbody>\n",
       "    <tr>\n",
       "      <th>0</th>\n",
       "      <td>0.084</td>\n",
       "      <td>additives_n</td>\n",
       "      <td>-0.084</td>\n",
       "    </tr>\n",
       "    <tr>\n",
       "      <th>6</th>\n",
       "      <td>0.081</td>\n",
       "      <td>polyunsaturated_fat_100g</td>\n",
       "      <td>0.081</td>\n",
       "    </tr>\n",
       "    <tr>\n",
       "      <th>30</th>\n",
       "      <td>0.078</td>\n",
       "      <td>vitamin_b12_100g</td>\n",
       "      <td>0.078</td>\n",
       "    </tr>\n",
       "    <tr>\n",
       "      <th>46</th>\n",
       "      <td>0.066</td>\n",
       "      <td>fruits_vegetables_nuts_100g</td>\n",
       "      <td>-0.066</td>\n",
       "    </tr>\n",
       "    <tr>\n",
       "      <th>14</th>\n",
       "      <td>0.065</td>\n",
       "      <td>polyols_100g</td>\n",
       "      <td>-0.065</td>\n",
       "    </tr>\n",
       "    <tr>\n",
       "      <th>33</th>\n",
       "      <td>0.063</td>\n",
       "      <td>potassium_100g</td>\n",
       "      <td>0.063</td>\n",
       "    </tr>\n",
       "    <tr>\n",
       "      <th>4</th>\n",
       "      <td>0.055</td>\n",
       "      <td>saturated_fat_100g</td>\n",
       "      <td>0.055</td>\n",
       "    </tr>\n",
       "    <tr>\n",
       "      <th>2</th>\n",
       "      <td>0.054</td>\n",
       "      <td>energy_from_fat_100g</td>\n",
       "      <td>0.054</td>\n",
       "    </tr>\n",
       "    <tr>\n",
       "      <th>47</th>\n",
       "      <td>0.051</td>\n",
       "      <td>cocoa_100g</td>\n",
       "      <td>-0.051</td>\n",
       "    </tr>\n",
       "    <tr>\n",
       "      <th>16</th>\n",
       "      <td>0.047</td>\n",
       "      <td>proteins_100g</td>\n",
       "      <td>-0.047</td>\n",
       "    </tr>\n",
       "  </tbody>\n",
       "</table>\n",
       "</div>"
      ],
      "text/plain": [
       "    absVal                      feature  value\n",
       "0    0.084                  additives_n -0.084\n",
       "6    0.081     polyunsaturated_fat_100g  0.081\n",
       "30   0.078             vitamin_b12_100g  0.078\n",
       "46   0.066  fruits_vegetables_nuts_100g -0.066\n",
       "14   0.065                 polyols_100g -0.065\n",
       "33   0.063               potassium_100g  0.063\n",
       "4    0.055           saturated_fat_100g  0.055\n",
       "2    0.054         energy_from_fat_100g  0.054\n",
       "47   0.051                   cocoa_100g -0.051\n",
       "16   0.047                proteins_100g -0.047"
      ]
     },
     "execution_count": 98,
     "metadata": {},
     "output_type": "execute_result"
    }
   ],
   "source": [
    "colsToDrop = ['ingredients_from_palm_oil_n', \n",
    "              'ingredients_that_may_be_from_palm_oil_n', \n",
    "              'nutrition_score_uk_100g',\n",
    "              'nutrition_score_fr_100g']\n",
    "train = train.drop(colsToDrop, axis=1)\n",
    "\n",
    "clf = LogisticRegression()\n",
    "(X, y) = makeTrainingSet()\n",
    "clf.fit(X,y)\n",
    "coef_wo_palm_df = makeCoefDf(clf, X)\n",
    "coef_wo_palm_df.iloc[0:10, :]"
   ]
  },
  {
   "cell_type": "code",
   "execution_count": 40,
   "metadata": {
    "collapsed": false
   },
   "outputs": [
    {
     "data": {
      "text/plain": [
       "RandomForestClassifier(bootstrap=True, class_weight=None, criterion='gini',\n",
       "            max_depth=5, max_features='auto', max_leaf_nodes=None,\n",
       "            min_samples_leaf=1, min_samples_split=2,\n",
       "            min_weight_fraction_leaf=0.0, n_estimators=10, n_jobs=1,\n",
       "            oob_score=False, random_state=None, verbose=0,\n",
       "            warm_start=False)"
      ]
     },
     "execution_count": 40,
     "metadata": {},
     "output_type": "execute_result"
    }
   ],
   "source": [
    "from sklearn.ensemble import RandomForestClassifier as rf\n",
    "clf = rf(max_depth=5)\n",
    "clf.fit(X, y)"
   ]
  },
  {
   "cell_type": "code",
   "execution_count": 41,
   "metadata": {
    "collapsed": false
   },
   "outputs": [
    {
     "data": {
      "text/html": [
       "<div>\n",
       "<table border=\"1\" class=\"dataframe\">\n",
       "  <thead>\n",
       "    <tr style=\"text-align: right;\">\n",
       "      <th></th>\n",
       "      <th>feature</th>\n",
       "      <th>value</th>\n",
       "    </tr>\n",
       "  </thead>\n",
       "  <tbody>\n",
       "    <tr>\n",
       "      <th>0</th>\n",
       "      <td>additives_n</td>\n",
       "      <td>0.007</td>\n",
       "    </tr>\n",
       "    <tr>\n",
       "      <th>25</th>\n",
       "      <td>vitamin_b1_100g</td>\n",
       "      <td>0.007</td>\n",
       "    </tr>\n",
       "    <tr>\n",
       "      <th>27</th>\n",
       "      <td>vitamin_pp_100g</td>\n",
       "      <td>0.007</td>\n",
       "    </tr>\n",
       "    <tr>\n",
       "      <th>28</th>\n",
       "      <td>vitamin_b6_100g</td>\n",
       "      <td>0.007</td>\n",
       "    </tr>\n",
       "    <tr>\n",
       "      <th>29</th>\n",
       "      <td>vitamin_b9_100g</td>\n",
       "      <td>0.007</td>\n",
       "    </tr>\n",
       "    <tr>\n",
       "      <th>30</th>\n",
       "      <td>vitamin_b12_100g</td>\n",
       "      <td>0.007</td>\n",
       "    </tr>\n",
       "    <tr>\n",
       "      <th>31</th>\n",
       "      <td>biotin_100g</td>\n",
       "      <td>0.007</td>\n",
       "    </tr>\n",
       "    <tr>\n",
       "      <th>32</th>\n",
       "      <td>pantothenic_acid_100g</td>\n",
       "      <td>0.007</td>\n",
       "    </tr>\n",
       "    <tr>\n",
       "      <th>33</th>\n",
       "      <td>potassium_100g</td>\n",
       "      <td>0.007</td>\n",
       "    </tr>\n",
       "    <tr>\n",
       "      <th>34</th>\n",
       "      <td>calcium_100g</td>\n",
       "      <td>0.007</td>\n",
       "    </tr>\n",
       "    <tr>\n",
       "      <th>35</th>\n",
       "      <td>phosphorus_100g</td>\n",
       "      <td>0.007</td>\n",
       "    </tr>\n",
       "    <tr>\n",
       "      <th>36</th>\n",
       "      <td>iron_100g</td>\n",
       "      <td>0.007</td>\n",
       "    </tr>\n",
       "    <tr>\n",
       "      <th>37</th>\n",
       "      <td>magnesium_100g</td>\n",
       "      <td>0.007</td>\n",
       "    </tr>\n",
       "    <tr>\n",
       "      <th>38</th>\n",
       "      <td>zinc_100g</td>\n",
       "      <td>0.007</td>\n",
       "    </tr>\n",
       "    <tr>\n",
       "      <th>39</th>\n",
       "      <td>copper_100g</td>\n",
       "      <td>0.007</td>\n",
       "    </tr>\n",
       "    <tr>\n",
       "      <th>40</th>\n",
       "      <td>manganese_100g</td>\n",
       "      <td>0.007</td>\n",
       "    </tr>\n",
       "    <tr>\n",
       "      <th>41</th>\n",
       "      <td>selenium_100g</td>\n",
       "      <td>0.007</td>\n",
       "    </tr>\n",
       "    <tr>\n",
       "      <th>42</th>\n",
       "      <td>chromium_100g</td>\n",
       "      <td>0.007</td>\n",
       "    </tr>\n",
       "    <tr>\n",
       "      <th>43</th>\n",
       "      <td>molybdenum_100g</td>\n",
       "      <td>0.007</td>\n",
       "    </tr>\n",
       "    <tr>\n",
       "      <th>44</th>\n",
       "      <td>iodine_100g</td>\n",
       "      <td>0.007</td>\n",
       "    </tr>\n",
       "    <tr>\n",
       "      <th>45</th>\n",
       "      <td>caffeine_100g</td>\n",
       "      <td>0.007</td>\n",
       "    </tr>\n",
       "    <tr>\n",
       "      <th>46</th>\n",
       "      <td>fruits_vegetables_nuts_100g</td>\n",
       "      <td>0.007</td>\n",
       "    </tr>\n",
       "    <tr>\n",
       "      <th>47</th>\n",
       "      <td>cocoa_100g</td>\n",
       "      <td>0.007</td>\n",
       "    </tr>\n",
       "    <tr>\n",
       "      <th>26</th>\n",
       "      <td>vitamin_b2_100g</td>\n",
       "      <td>0.007</td>\n",
       "    </tr>\n",
       "    <tr>\n",
       "      <th>24</th>\n",
       "      <td>vitamin_c_100g</td>\n",
       "      <td>0.007</td>\n",
       "    </tr>\n",
       "    <tr>\n",
       "      <th>1</th>\n",
       "      <td>energy_100g</td>\n",
       "      <td>0.007</td>\n",
       "    </tr>\n",
       "    <tr>\n",
       "      <th>23</th>\n",
       "      <td>vitamin_k_100g</td>\n",
       "      <td>0.007</td>\n",
       "    </tr>\n",
       "    <tr>\n",
       "      <th>2</th>\n",
       "      <td>energy_from_fat_100g</td>\n",
       "      <td>0.007</td>\n",
       "    </tr>\n",
       "    <tr>\n",
       "      <th>3</th>\n",
       "      <td>fat_100g</td>\n",
       "      <td>0.007</td>\n",
       "    </tr>\n",
       "    <tr>\n",
       "      <th>4</th>\n",
       "      <td>saturated_fat_100g</td>\n",
       "      <td>0.007</td>\n",
       "    </tr>\n",
       "    <tr>\n",
       "      <th>5</th>\n",
       "      <td>monounsaturated_fat_100g</td>\n",
       "      <td>0.007</td>\n",
       "    </tr>\n",
       "    <tr>\n",
       "      <th>6</th>\n",
       "      <td>polyunsaturated_fat_100g</td>\n",
       "      <td>0.007</td>\n",
       "    </tr>\n",
       "    <tr>\n",
       "      <th>7</th>\n",
       "      <td>omega_3_fat_100g</td>\n",
       "      <td>0.007</td>\n",
       "    </tr>\n",
       "    <tr>\n",
       "      <th>8</th>\n",
       "      <td>alpha_linolenic_acid_100g</td>\n",
       "      <td>0.007</td>\n",
       "    </tr>\n",
       "    <tr>\n",
       "      <th>9</th>\n",
       "      <td>trans_fat_100g</td>\n",
       "      <td>0.007</td>\n",
       "    </tr>\n",
       "    <tr>\n",
       "      <th>10</th>\n",
       "      <td>cholesterol_100g</td>\n",
       "      <td>0.007</td>\n",
       "    </tr>\n",
       "    <tr>\n",
       "      <th>11</th>\n",
       "      <td>carbohydrates_100g</td>\n",
       "      <td>0.007</td>\n",
       "    </tr>\n",
       "    <tr>\n",
       "      <th>12</th>\n",
       "      <td>sugars_100g</td>\n",
       "      <td>0.007</td>\n",
       "    </tr>\n",
       "    <tr>\n",
       "      <th>13</th>\n",
       "      <td>lactose_100g</td>\n",
       "      <td>0.007</td>\n",
       "    </tr>\n",
       "    <tr>\n",
       "      <th>14</th>\n",
       "      <td>polyols_100g</td>\n",
       "      <td>0.007</td>\n",
       "    </tr>\n",
       "    <tr>\n",
       "      <th>15</th>\n",
       "      <td>fiber_100g</td>\n",
       "      <td>0.007</td>\n",
       "    </tr>\n",
       "    <tr>\n",
       "      <th>16</th>\n",
       "      <td>proteins_100g</td>\n",
       "      <td>0.007</td>\n",
       "    </tr>\n",
       "    <tr>\n",
       "      <th>17</th>\n",
       "      <td>salt_100g</td>\n",
       "      <td>0.007</td>\n",
       "    </tr>\n",
       "    <tr>\n",
       "      <th>18</th>\n",
       "      <td>sodium_100g</td>\n",
       "      <td>0.007</td>\n",
       "    </tr>\n",
       "    <tr>\n",
       "      <th>19</th>\n",
       "      <td>alcohol_100g</td>\n",
       "      <td>0.007</td>\n",
       "    </tr>\n",
       "    <tr>\n",
       "      <th>20</th>\n",
       "      <td>vitamin_a_100g</td>\n",
       "      <td>0.007</td>\n",
       "    </tr>\n",
       "    <tr>\n",
       "      <th>21</th>\n",
       "      <td>vitamin_d_100g</td>\n",
       "      <td>0.007</td>\n",
       "    </tr>\n",
       "    <tr>\n",
       "      <th>22</th>\n",
       "      <td>vitamin_e_100g</td>\n",
       "      <td>0.007</td>\n",
       "    </tr>\n",
       "    <tr>\n",
       "      <th>48</th>\n",
       "      <td>carbon_footprint_100g</td>\n",
       "      <td>0.007</td>\n",
       "    </tr>\n",
       "  </tbody>\n",
       "</table>\n",
       "</div>"
      ],
      "text/plain": [
       "                        feature  value\n",
       "0                   additives_n  0.007\n",
       "25              vitamin_b1_100g  0.007\n",
       "27              vitamin_pp_100g  0.007\n",
       "28              vitamin_b6_100g  0.007\n",
       "29              vitamin_b9_100g  0.007\n",
       "30             vitamin_b12_100g  0.007\n",
       "31                  biotin_100g  0.007\n",
       "32        pantothenic_acid_100g  0.007\n",
       "33               potassium_100g  0.007\n",
       "34                 calcium_100g  0.007\n",
       "35              phosphorus_100g  0.007\n",
       "36                    iron_100g  0.007\n",
       "37               magnesium_100g  0.007\n",
       "38                    zinc_100g  0.007\n",
       "39                  copper_100g  0.007\n",
       "40               manganese_100g  0.007\n",
       "41                selenium_100g  0.007\n",
       "42                chromium_100g  0.007\n",
       "43              molybdenum_100g  0.007\n",
       "44                  iodine_100g  0.007\n",
       "45                caffeine_100g  0.007\n",
       "46  fruits_vegetables_nuts_100g  0.007\n",
       "47                   cocoa_100g  0.007\n",
       "26              vitamin_b2_100g  0.007\n",
       "24               vitamin_c_100g  0.007\n",
       "1                   energy_100g  0.007\n",
       "23               vitamin_k_100g  0.007\n",
       "2          energy_from_fat_100g  0.007\n",
       "3                      fat_100g  0.007\n",
       "4            saturated_fat_100g  0.007\n",
       "5      monounsaturated_fat_100g  0.007\n",
       "6      polyunsaturated_fat_100g  0.007\n",
       "7              omega_3_fat_100g  0.007\n",
       "8     alpha_linolenic_acid_100g  0.007\n",
       "9                trans_fat_100g  0.007\n",
       "10             cholesterol_100g  0.007\n",
       "11           carbohydrates_100g  0.007\n",
       "12                  sugars_100g  0.007\n",
       "13                 lactose_100g  0.007\n",
       "14                 polyols_100g  0.007\n",
       "15                   fiber_100g  0.007\n",
       "16                proteins_100g  0.007\n",
       "17                    salt_100g  0.007\n",
       "18                  sodium_100g  0.007\n",
       "19                 alcohol_100g  0.007\n",
       "20               vitamin_a_100g  0.007\n",
       "21               vitamin_d_100g  0.007\n",
       "22               vitamin_e_100g  0.007\n",
       "48        carbon_footprint_100g  0.007"
      ]
     },
     "execution_count": 41,
     "metadata": {},
     "output_type": "execute_result"
    }
   ],
   "source": [
    "importances_wo_palm_df = makeFeatureImpDf(clf, X) \n",
    "importances_wo_palm_df"
   ]
  },
  {
   "cell_type": "markdown",
   "metadata": {},
   "source": [
    "Without palm oil, the random forest has gone haywire"
   ]
  },
  {
   "cell_type": "markdown",
   "metadata": {},
   "source": [
    "Let's look at correlation coeffiecients."
   ]
  },
  {
   "cell_type": "code",
   "execution_count": 42,
   "metadata": {
    "collapsed": false
   },
   "outputs": [
    {
     "data": {
      "text/html": [
       "<div>\n",
       "<table border=\"1\" class=\"dataframe\">\n",
       "  <thead>\n",
       "    <tr style=\"text-align: right;\">\n",
       "      <th></th>\n",
       "      <th>feature</th>\n",
       "      <th>pval</th>\n",
       "      <th>value</th>\n",
       "      <th>absVal</th>\n",
       "    </tr>\n",
       "  </thead>\n",
       "  <tbody>\n",
       "    <tr>\n",
       "      <th>2</th>\n",
       "      <td>energy_from_fat_100g</td>\n",
       "      <td>0.000</td>\n",
       "      <td>0.340</td>\n",
       "      <td>0.340</td>\n",
       "    </tr>\n",
       "    <tr>\n",
       "      <th>10</th>\n",
       "      <td>cholesterol_100g</td>\n",
       "      <td>0.000</td>\n",
       "      <td>0.199</td>\n",
       "      <td>0.199</td>\n",
       "    </tr>\n",
       "    <tr>\n",
       "      <th>9</th>\n",
       "      <td>trans_fat_100g</td>\n",
       "      <td>0.000</td>\n",
       "      <td>0.039</td>\n",
       "      <td>0.039</td>\n",
       "    </tr>\n",
       "    <tr>\n",
       "      <th>16</th>\n",
       "      <td>proteins_100g</td>\n",
       "      <td>0.000</td>\n",
       "      <td>-0.037</td>\n",
       "      <td>0.037</td>\n",
       "    </tr>\n",
       "    <tr>\n",
       "      <th>0</th>\n",
       "      <td>additives_n</td>\n",
       "      <td>0.000</td>\n",
       "      <td>-0.031</td>\n",
       "      <td>0.031</td>\n",
       "    </tr>\n",
       "    <tr>\n",
       "      <th>6</th>\n",
       "      <td>polyunsaturated_fat_100g</td>\n",
       "      <td>0.000</td>\n",
       "      <td>0.025</td>\n",
       "      <td>0.025</td>\n",
       "    </tr>\n",
       "    <tr>\n",
       "      <th>46</th>\n",
       "      <td>fruits_vegetables_nuts_100g</td>\n",
       "      <td>0.000</td>\n",
       "      <td>-0.022</td>\n",
       "      <td>0.022</td>\n",
       "    </tr>\n",
       "    <tr>\n",
       "      <th>42</th>\n",
       "      <td>chromium_100g</td>\n",
       "      <td>0.000</td>\n",
       "      <td>0.021</td>\n",
       "      <td>0.021</td>\n",
       "    </tr>\n",
       "    <tr>\n",
       "      <th>38</th>\n",
       "      <td>zinc_100g</td>\n",
       "      <td>0.000</td>\n",
       "      <td>0.021</td>\n",
       "      <td>0.021</td>\n",
       "    </tr>\n",
       "    <tr>\n",
       "      <th>1</th>\n",
       "      <td>energy_100g</td>\n",
       "      <td>0.000</td>\n",
       "      <td>-0.021</td>\n",
       "      <td>0.021</td>\n",
       "    </tr>\n",
       "  </tbody>\n",
       "</table>\n",
       "</div>"
      ],
      "text/plain": [
       "                        feature  pval  value  absVal\n",
       "2          energy_from_fat_100g 0.000  0.340   0.340\n",
       "10             cholesterol_100g 0.000  0.199   0.199\n",
       "9                trans_fat_100g 0.000  0.039   0.039\n",
       "16                proteins_100g 0.000 -0.037   0.037\n",
       "0                   additives_n 0.000 -0.031   0.031\n",
       "6      polyunsaturated_fat_100g 0.000  0.025   0.025\n",
       "46  fruits_vegetables_nuts_100g 0.000 -0.022   0.022\n",
       "42                chromium_100g 0.000  0.021   0.021\n",
       "38                    zinc_100g 0.000  0.021   0.021\n",
       "1                   energy_100g 0.000 -0.021   0.021"
      ]
     },
     "execution_count": 42,
     "metadata": {},
     "output_type": "execute_result"
    }
   ],
   "source": [
    "corr_df = pd.DataFrame({'feature': [], 'pval': [], 'value': []})\n",
    "\n",
    "from scipy.stats import pointbiserialr\n",
    "(X, y) = makeTrainingSet()\n",
    "\n",
    "\n",
    "for col in train.drop(['isUS'], axis= 1).columns:\n",
    "    corr = pointbiserialr(train['isUS'].values, train[col].values)\n",
    "    corr_df = corr_df.append(pd.Series({'feature': col, 'pval':corr.pvalue, 'value': corr.correlation, 'absVal': abs(corr.correlation)}), ignore_index=True)\n",
    "\n",
    "corr_df.sort_values(by='absVal', ascending=False, inplace=True)\n",
    "corr_df.iloc[0:10, :]"
   ]
  },
  {
   "cell_type": "code",
   "execution_count": 43,
   "metadata": {
    "collapsed": false
   },
   "outputs": [
    {
     "data": {
      "text/plain": [
       "<matplotlib.axes._subplots.AxesSubplot at 0x12283a358>"
      ]
     },
     "execution_count": 43,
     "metadata": {},
     "output_type": "execute_result"
    },
    {
     "data": {
      "image/png": "[encoded data removed]",
      "text/plain": [
       "<matplotlib.figure.Figure at 0x122838fd0>"
      ]
     },
     "metadata": {},
     "output_type": "display_data"
    }
   ],
   "source": [
    "us = train[train['isUS'] == 1]\n",
    "euro = train[train['isUS'] == 0]\n",
    "#sns.kdeplot(us['cholesterol_100g'], label='US')\n",
    "sns.kdeplot(euro['cholesterol_100g'], label='Euro')"
   ]
  },
  {
   "cell_type": "code",
   "execution_count": 44,
   "metadata": {
    "collapsed": false
   },
   "outputs": [
    {
     "ename": "KeyError",
     "evalue": "'cholesterol'",
     "output_type": "error",
     "traceback": [
      "\u001b[0;31m---------------------------------------------------------------------------\u001b[0m",
      "\u001b[0;31mKeyError\u001b[0m                                  Traceback (most recent call last)",
      "\u001b[0;32m//anaconda/lib/python3.5/site-packages/pandas/indexes/base.py\u001b[0m in \u001b[0;36mget_loc\u001b[0;34m(self, key, method, tolerance)\u001b[0m\n\u001b[1;32m   1875\u001b[0m             \u001b[0;32mtry\u001b[0m\u001b[0;34m:\u001b[0m\u001b[0;34m\u001b[0m\u001b[0m\n\u001b[0;32m-> 1876\u001b[0;31m                 \u001b[0;32mreturn\u001b[0m \u001b[0mself\u001b[0m\u001b[0;34m.\u001b[0m\u001b[0m_engine\u001b[0m\u001b[0;34m.\u001b[0m\u001b[0mget_loc\u001b[0m\u001b[0;34m(\u001b[0m\u001b[0mkey\u001b[0m\u001b[0;34m)\u001b[0m\u001b[0;34m\u001b[0m\u001b[0m\n\u001b[0m\u001b[1;32m   1877\u001b[0m             \u001b[0;32mexcept\u001b[0m \u001b[0mKeyError\u001b[0m\u001b[0;34m:\u001b[0m\u001b[0;34m\u001b[0m\u001b[0m\n",
      "\u001b[0;32mpandas/index.pyx\u001b[0m in \u001b[0;36mpandas.index.IndexEngine.get_loc (pandas/index.c:4027)\u001b[0;34m()\u001b[0m\n",
      "\u001b[0;32mpandas/index.pyx\u001b[0m in \u001b[0;36mpandas.index.IndexEngine.get_loc (pandas/index.c:3891)\u001b[0;34m()\u001b[0m\n",
      "\u001b[0;32mpandas/hashtable.pyx\u001b[0m in \u001b[0;36mpandas.hashtable.PyObjectHashTable.get_item (pandas/hashtable.c:12408)\u001b[0;34m()\u001b[0m\n",
      "\u001b[0;32mpandas/hashtable.pyx\u001b[0m in \u001b[0;36mpandas.hashtable.PyObjectHashTable.get_item (pandas/hashtable.c:12359)\u001b[0;34m()\u001b[0m\n",
      "\u001b[0;31mKeyError\u001b[0m: 'cholesterol'",
      "\nDuring handling of the above exception, another exception occurred:\n",
      "\u001b[0;31mKeyError\u001b[0m                                  Traceback (most recent call last)",
      "\u001b[0;32m<ipython-input-44-629c59465c4f>\u001b[0m in \u001b[0;36m<module>\u001b[0;34m()\u001b[0m\n\u001b[0;32m----> 1\u001b[0;31m \u001b[0msns\u001b[0m\u001b[0;34m.\u001b[0m\u001b[0mkdeplot\u001b[0m\u001b[0;34m(\u001b[0m\u001b[0mus\u001b[0m\u001b[0;34m[\u001b[0m\u001b[0;34m'cholesterol'\u001b[0m\u001b[0;34m]\u001b[0m\u001b[0;34m,\u001b[0m \u001b[0mlabel\u001b[0m\u001b[0;34m=\u001b[0m\u001b[0;34m'US'\u001b[0m\u001b[0;34m)\u001b[0m\u001b[0;34m\u001b[0m\u001b[0m\n\u001b[0m\u001b[1;32m      2\u001b[0m \u001b[0msns\u001b[0m\u001b[0;34m.\u001b[0m\u001b[0mkdeplot\u001b[0m\u001b[0;34m(\u001b[0m\u001b[0meuro\u001b[0m\u001b[0;34m[\u001b[0m\u001b[0;34m'cholesterol'\u001b[0m\u001b[0;34m]\u001b[0m\u001b[0;34m,\u001b[0m \u001b[0mlabel\u001b[0m\u001b[0;34m=\u001b[0m\u001b[0;34m'Euro'\u001b[0m\u001b[0;34m)\u001b[0m\u001b[0;34m\u001b[0m\u001b[0m\n",
      "\u001b[0;32m//anaconda/lib/python3.5/site-packages/pandas/core/frame.py\u001b[0m in \u001b[0;36m__getitem__\u001b[0;34m(self, key)\u001b[0m\n\u001b[1;32m   1990\u001b[0m             \u001b[0;32mreturn\u001b[0m \u001b[0mself\u001b[0m\u001b[0;34m.\u001b[0m\u001b[0m_getitem_multilevel\u001b[0m\u001b[0;34m(\u001b[0m\u001b[0mkey\u001b[0m\u001b[0;34m)\u001b[0m\u001b[0;34m\u001b[0m\u001b[0m\n\u001b[1;32m   1991\u001b[0m         \u001b[0;32melse\u001b[0m\u001b[0;34m:\u001b[0m\u001b[0;34m\u001b[0m\u001b[0m\n\u001b[0;32m-> 1992\u001b[0;31m             \u001b[0;32mreturn\u001b[0m \u001b[0mself\u001b[0m\u001b[0;34m.\u001b[0m\u001b[0m_getitem_column\u001b[0m\u001b[0;34m(\u001b[0m\u001b[0mkey\u001b[0m\u001b[0;34m)\u001b[0m\u001b[0;34m\u001b[0m\u001b[0m\n\u001b[0m\u001b[1;32m   1993\u001b[0m \u001b[0;34m\u001b[0m\u001b[0m\n\u001b[1;32m   1994\u001b[0m     \u001b[0;32mdef\u001b[0m \u001b[0m_getitem_column\u001b[0m\u001b[0;34m(\u001b[0m\u001b[0mself\u001b[0m\u001b[0;34m,\u001b[0m \u001b[0mkey\u001b[0m\u001b[0;34m)\u001b[0m\u001b[0;34m:\u001b[0m\u001b[0;34m\u001b[0m\u001b[0m\n",
      "\u001b[0;32m//anaconda/lib/python3.5/site-packages/pandas/core/frame.py\u001b[0m in \u001b[0;36m_getitem_column\u001b[0;34m(self, key)\u001b[0m\n\u001b[1;32m   1997\u001b[0m         \u001b[0;31m# get column\u001b[0m\u001b[0;34m\u001b[0m\u001b[0;34m\u001b[0m\u001b[0m\n\u001b[1;32m   1998\u001b[0m         \u001b[0;32mif\u001b[0m \u001b[0mself\u001b[0m\u001b[0;34m.\u001b[0m\u001b[0mcolumns\u001b[0m\u001b[0;34m.\u001b[0m\u001b[0mis_unique\u001b[0m\u001b[0;34m:\u001b[0m\u001b[0;34m\u001b[0m\u001b[0m\n\u001b[0;32m-> 1999\u001b[0;31m             \u001b[0;32mreturn\u001b[0m \u001b[0mself\u001b[0m\u001b[0;34m.\u001b[0m\u001b[0m_get_item_cache\u001b[0m\u001b[0;34m(\u001b[0m\u001b[0mkey\u001b[0m\u001b[0;34m)\u001b[0m\u001b[0;34m\u001b[0m\u001b[0m\n\u001b[0m\u001b[1;32m   2000\u001b[0m \u001b[0;34m\u001b[0m\u001b[0m\n\u001b[1;32m   2001\u001b[0m         \u001b[0;31m# duplicate columns & possible reduce dimensionality\u001b[0m\u001b[0;34m\u001b[0m\u001b[0;34m\u001b[0m\u001b[0m\n",
      "\u001b[0;32m//anaconda/lib/python3.5/site-packages/pandas/core/generic.py\u001b[0m in \u001b[0;36m_get_item_cache\u001b[0;34m(self, item)\u001b[0m\n\u001b[1;32m   1343\u001b[0m         \u001b[0mres\u001b[0m \u001b[0;34m=\u001b[0m \u001b[0mcache\u001b[0m\u001b[0;34m.\u001b[0m\u001b[0mget\u001b[0m\u001b[0;34m(\u001b[0m\u001b[0mitem\u001b[0m\u001b[0;34m)\u001b[0m\u001b[0;34m\u001b[0m\u001b[0m\n\u001b[1;32m   1344\u001b[0m         \u001b[0;32mif\u001b[0m \u001b[0mres\u001b[0m \u001b[0;32mis\u001b[0m \u001b[0;32mNone\u001b[0m\u001b[0;34m:\u001b[0m\u001b[0;34m\u001b[0m\u001b[0m\n\u001b[0;32m-> 1345\u001b[0;31m             \u001b[0mvalues\u001b[0m \u001b[0;34m=\u001b[0m \u001b[0mself\u001b[0m\u001b[0;34m.\u001b[0m\u001b[0m_data\u001b[0m\u001b[0;34m.\u001b[0m\u001b[0mget\u001b[0m\u001b[0;34m(\u001b[0m\u001b[0mitem\u001b[0m\u001b[0;34m)\u001b[0m\u001b[0;34m\u001b[0m\u001b[0m\n\u001b[0m\u001b[1;32m   1346\u001b[0m             \u001b[0mres\u001b[0m \u001b[0;34m=\u001b[0m \u001b[0mself\u001b[0m\u001b[0;34m.\u001b[0m\u001b[0m_box_item_values\u001b[0m\u001b[0;34m(\u001b[0m\u001b[0mitem\u001b[0m\u001b[0;34m,\u001b[0m \u001b[0mvalues\u001b[0m\u001b[0;34m)\u001b[0m\u001b[0;34m\u001b[0m\u001b[0m\n\u001b[1;32m   1347\u001b[0m             \u001b[0mcache\u001b[0m\u001b[0;34m[\u001b[0m\u001b[0mitem\u001b[0m\u001b[0;34m]\u001b[0m \u001b[0;34m=\u001b[0m \u001b[0mres\u001b[0m\u001b[0;34m\u001b[0m\u001b[0m\n",
      "\u001b[0;32m//anaconda/lib/python3.5/site-packages/pandas/core/internals.py\u001b[0m in \u001b[0;36mget\u001b[0;34m(self, item, fastpath)\u001b[0m\n\u001b[1;32m   3223\u001b[0m \u001b[0;34m\u001b[0m\u001b[0m\n\u001b[1;32m   3224\u001b[0m             \u001b[0;32mif\u001b[0m \u001b[0;32mnot\u001b[0m \u001b[0misnull\u001b[0m\u001b[0;34m(\u001b[0m\u001b[0mitem\u001b[0m\u001b[0;34m)\u001b[0m\u001b[0;34m:\u001b[0m\u001b[0;34m\u001b[0m\u001b[0m\n\u001b[0;32m-> 3225\u001b[0;31m                 \u001b[0mloc\u001b[0m \u001b[0;34m=\u001b[0m \u001b[0mself\u001b[0m\u001b[0;34m.\u001b[0m\u001b[0mitems\u001b[0m\u001b[0;34m.\u001b[0m\u001b[0mget_loc\u001b[0m\u001b[0;34m(\u001b[0m\u001b[0mitem\u001b[0m\u001b[0;34m)\u001b[0m\u001b[0;34m\u001b[0m\u001b[0m\n\u001b[0m\u001b[1;32m   3226\u001b[0m             \u001b[0;32melse\u001b[0m\u001b[0;34m:\u001b[0m\u001b[0;34m\u001b[0m\u001b[0m\n\u001b[1;32m   3227\u001b[0m                 \u001b[0mindexer\u001b[0m \u001b[0;34m=\u001b[0m \u001b[0mnp\u001b[0m\u001b[0;34m.\u001b[0m\u001b[0marange\u001b[0m\u001b[0;34m(\u001b[0m\u001b[0mlen\u001b[0m\u001b[0;34m(\u001b[0m\u001b[0mself\u001b[0m\u001b[0;34m.\u001b[0m\u001b[0mitems\u001b[0m\u001b[0;34m)\u001b[0m\u001b[0;34m)\u001b[0m\u001b[0;34m[\u001b[0m\u001b[0misnull\u001b[0m\u001b[0;34m(\u001b[0m\u001b[0mself\u001b[0m\u001b[0;34m.\u001b[0m\u001b[0mitems\u001b[0m\u001b[0;34m)\u001b[0m\u001b[0;34m]\u001b[0m\u001b[0;34m\u001b[0m\u001b[0m\n",
      "\u001b[0;32m//anaconda/lib/python3.5/site-packages/pandas/indexes/base.py\u001b[0m in \u001b[0;36mget_loc\u001b[0;34m(self, key, method, tolerance)\u001b[0m\n\u001b[1;32m   1876\u001b[0m                 \u001b[0;32mreturn\u001b[0m \u001b[0mself\u001b[0m\u001b[0;34m.\u001b[0m\u001b[0m_engine\u001b[0m\u001b[0;34m.\u001b[0m\u001b[0mget_loc\u001b[0m\u001b[0;34m(\u001b[0m\u001b[0mkey\u001b[0m\u001b[0;34m)\u001b[0m\u001b[0;34m\u001b[0m\u001b[0m\n\u001b[1;32m   1877\u001b[0m             \u001b[0;32mexcept\u001b[0m \u001b[0mKeyError\u001b[0m\u001b[0;34m:\u001b[0m\u001b[0;34m\u001b[0m\u001b[0m\n\u001b[0;32m-> 1878\u001b[0;31m                 \u001b[0;32mreturn\u001b[0m \u001b[0mself\u001b[0m\u001b[0;34m.\u001b[0m\u001b[0m_engine\u001b[0m\u001b[0;34m.\u001b[0m\u001b[0mget_loc\u001b[0m\u001b[0;34m(\u001b[0m\u001b[0mself\u001b[0m\u001b[0;34m.\u001b[0m\u001b[0m_maybe_cast_indexer\u001b[0m\u001b[0;34m(\u001b[0m\u001b[0mkey\u001b[0m\u001b[0;34m)\u001b[0m\u001b[0;34m)\u001b[0m\u001b[0;34m\u001b[0m\u001b[0m\n\u001b[0m\u001b[1;32m   1879\u001b[0m \u001b[0;34m\u001b[0m\u001b[0m\n\u001b[1;32m   1880\u001b[0m         \u001b[0mindexer\u001b[0m \u001b[0;34m=\u001b[0m \u001b[0mself\u001b[0m\u001b[0;34m.\u001b[0m\u001b[0mget_indexer\u001b[0m\u001b[0;34m(\u001b[0m\u001b[0;34m[\u001b[0m\u001b[0mkey\u001b[0m\u001b[0;34m]\u001b[0m\u001b[0;34m,\u001b[0m \u001b[0mmethod\u001b[0m\u001b[0;34m=\u001b[0m\u001b[0mmethod\u001b[0m\u001b[0;34m,\u001b[0m \u001b[0mtolerance\u001b[0m\u001b[0;34m=\u001b[0m\u001b[0mtolerance\u001b[0m\u001b[0;34m)\u001b[0m\u001b[0;34m\u001b[0m\u001b[0m\n",
      "\u001b[0;32mpandas/index.pyx\u001b[0m in \u001b[0;36mpandas.index.IndexEngine.get_loc (pandas/index.c:4027)\u001b[0;34m()\u001b[0m\n",
      "\u001b[0;32mpandas/index.pyx\u001b[0m in \u001b[0;36mpandas.index.IndexEngine.get_loc (pandas/index.c:3891)\u001b[0;34m()\u001b[0m\n",
      "\u001b[0;32mpandas/hashtable.pyx\u001b[0m in \u001b[0;36mpandas.hashtable.PyObjectHashTable.get_item (pandas/hashtable.c:12408)\u001b[0;34m()\u001b[0m\n",
      "\u001b[0;32mpandas/hashtable.pyx\u001b[0m in \u001b[0;36mpandas.hashtable.PyObjectHashTable.get_item (pandas/hashtable.c:12359)\u001b[0;34m()\u001b[0m\n",
      "\u001b[0;31mKeyError\u001b[0m: 'cholesterol'"
     ]
    }
   ],
   "source": [
    "sns.kdeplot(us['cholesterol'], label='US')\n",
    "sns.kdeplot(euro['cholesterol'], label='Euro')"
   ]
  },
  {
   "cell_type": "code",
   "execution_count": 45,
   "metadata": {
    "collapsed": false
   },
   "outputs": [
    {
     "data": {
      "text/plain": [
       "1420.0"
      ]
     },
     "execution_count": 45,
     "metadata": {},
     "output_type": "execute_result"
    }
   ],
   "source": [
    "euro['energy_from_fat_100g'].max()"
   ]
  },
  {
   "cell_type": "code",
   "execution_count": null,
   "metadata": {
    "collapsed": false
   },
   "outputs": [],
   "source": [
    "top_features = corr_df.iloc[0:4, :]['feature']\n",
    "g = sns.pairplot(train[top_features])"
   ]
  },
  {
   "cell_type": "code",
   "execution_count": null,
   "metadata": {
    "collapsed": false
   },
   "outputs": [],
   "source": [
    "(X, y) = makeTrainingSet()\n",
    "(Xtrain, Xtest, yTrain, yTest) = cross_validation.train_test_split(X, y)\n",
    "clf = LogisticRegression(class_weight='balanced')\n",
    "clf.fit(Xtrain, yTrain)\n",
    "print('F1 Score: {}'.format(f1_score(yTest.values, clf.predict(Xtest.values))))\n",
    "print('AUC: {}'.format(roc_auc_score(clf.predict(Xtest.values), yTest.values)))\n",
    "print('Precision: {}'.format(precision_score(y_true=yTest.values,y_pred= clf.predict(Xtest.values))))\n",
    "print('Recall: {}'.format(recall_score(y_true=yTest.values,y_pred= clf.predict(Xtest.values))))\n",
    "print('Accuracy: {}'.format(accuracy_score(y_true=yTest.values,y_pred= clf.predict(Xtest.values))))"
   ]
  },
  {
   "cell_type": "markdown",
   "metadata": {},
   "source": [
    "We might as well be guessing randomly. Particularly, the precision score indicates we're making many false positive errors, predicting European foods as US foods."
   ]
  },
  {
   "cell_type": "code",
   "execution_count": null,
   "metadata": {
    "collapsed": false
   },
   "outputs": [],
   "source": [
    "clf = rf(class_weight='balanced', max_depth=5)\n",
    "clf.fit(Xtrain, yTrain)\n",
    "print('F1 Score: {}'.format(f1_score(yTest.values, clf.predict(Xtest.values))))\n",
    "print('AUC: {}'.format(roc_auc_score(clf.predict(Xtest.values), yTest.values)))\n",
    "print('Precision: {}'.format(precision_score(y_true=yTest.values,y_pred= clf.predict(Xtest.values))))\n",
    "print('Recall: {}'.format(recall_score(ytrue=yTest.values,y_pred= clf.predict(Xtest.values))))\n",
    "print('Accuracy: {}'.format(accuracy_score(y_true=yTest.values,y_pred= clf.predict(Xtest.values))))"
   ]
  },
  {
   "cell_type": "code",
   "execution_count": null,
   "metadata": {
    "collapsed": false
   },
   "outputs": [],
   "source": [
    "plt.scatter(train.energy_from_fat_100g, train.cholesterol_100g, c=train.isEuro)\n",
    "plt.xlabel('energy from fat')\n",
    "plt.ylabel('cholesterol')\n",
    "plt.legend(loc='best')"
   ]
  },
  {
   "cell_type": "code",
   "execution_count": 46,
   "metadata": {
    "collapsed": false
   },
   "outputs": [
    {
     "name": "stdout",
     "output_type": "stream",
     "text": [
      "best C: 100\n",
      "best AUC: 0.7807087912670242\n"
     ]
    }
   ],
   "source": [
    "X = train.drop(['isUS'], axis=1).values\n",
    "y = train['isUS'].values\n",
    "(Xtrain, Xtest, yTrain, yTest) = cross_validation.train_test_split(X, y, stratify=y)\n",
    "clf = LogisticRegression()\n",
    "sc = StandardScaler()\n",
    "X = sc.fit_transform(X)\n",
    "params = {'C': [0.01, 0.1, 1, 10, 100, 1000]}\n",
    "gs = GridSearchCV(clf, param_grid=params, scoring='roc_auc')\n",
    "gs.fit(Xtrain, yTrain)\n",
    "\n",
    "print('best C: {}'.format(gs.best_params_['C']))\n",
    "print('best AUC: {}'.format(gs.best_score_))\n",
    "\n",
    "\n"
   ]
  },
  {
   "cell_type": "code",
   "execution_count": 82,
   "metadata": {
    "collapsed": false
   },
   "outputs": [
    {
     "name": "stdout",
     "output_type": "stream",
     "text": [
      "Test Set AUC: 0.9544634491784633\n",
      "Accuracy: 0.9678524916032627\n"
     ]
    }
   ],
   "source": [
    "#preds = gs.predict(Xtest)\n",
    "probas = gs.predict_proba(Xtest)\n",
    "preds = [1 if x > 0.37 else 0 for x in probas[:, 1]]\n",
    "print('Test Set AUC: {}'.format(roc_auc_score(preds, yTest)))\n",
    "print('Accuracy: {}'.format(accuracy_score(y_true=yTest, y_pred= preds)))"
   ]
  },
  {
   "cell_type": "code",
   "execution_count": 81,
   "metadata": {
    "collapsed": false
   },
   "outputs": [
    {
     "data": {
      "text/plain": [
       "array([[13959,    27],\n",
       "       [  448,   155]])"
      ]
     },
     "execution_count": 81,
     "metadata": {},
     "output_type": "execute_result"
    }
   ],
   "source": [
    "confusion_matrix(y_true=yTest, y_pred= preds)"
   ]
  },
  {
   "cell_type": "code",
   "execution_count": 90,
   "metadata": {
    "collapsed": false
   },
   "outputs": [
    {
     "data": {
      "text/plain": [
       "95.866748920419496"
      ]
     },
     "execution_count": 90,
     "metadata": {},
     "output_type": "execute_result"
    }
   ],
   "source": [
    "100 - (sum(yTest) / len(yTest) * 100)"
   ]
  },
  {
   "cell_type": "code",
   "execution_count": 100,
   "metadata": {
    "collapsed": false
   },
   "outputs": [
    {
     "data": {
      "text/html": [
       "<div>\n",
       "<table border=\"1\" class=\"dataframe\">\n",
       "  <thead>\n",
       "    <tr style=\"text-align: right;\">\n",
       "      <th></th>\n",
       "      <th>absVal</th>\n",
       "      <th>feature</th>\n",
       "      <th>value</th>\n",
       "    </tr>\n",
       "  </thead>\n",
       "  <tbody>\n",
       "    <tr>\n",
       "      <th>47</th>\n",
       "      <td>2.078</td>\n",
       "      <td>cocoa_100g</td>\n",
       "      <td>-2.078</td>\n",
       "    </tr>\n",
       "    <tr>\n",
       "      <th>7</th>\n",
       "      <td>0.389</td>\n",
       "      <td>omega_3_fat_100g</td>\n",
       "      <td>-0.389</td>\n",
       "    </tr>\n",
       "    <tr>\n",
       "      <th>10</th>\n",
       "      <td>0.281</td>\n",
       "      <td>cholesterol_100g</td>\n",
       "      <td>0.281</td>\n",
       "    </tr>\n",
       "    <tr>\n",
       "      <th>14</th>\n",
       "      <td>0.179</td>\n",
       "      <td>polyols_100g</td>\n",
       "      <td>-0.179</td>\n",
       "    </tr>\n",
       "    <tr>\n",
       "      <th>30</th>\n",
       "      <td>0.130</td>\n",
       "      <td>vitamin_b12_100g</td>\n",
       "      <td>0.130</td>\n",
       "    </tr>\n",
       "    <tr>\n",
       "      <th>8</th>\n",
       "      <td>0.117</td>\n",
       "      <td>alpha_linolenic_acid_100g</td>\n",
       "      <td>-0.117</td>\n",
       "    </tr>\n",
       "    <tr>\n",
       "      <th>13</th>\n",
       "      <td>0.104</td>\n",
       "      <td>lactose_100g</td>\n",
       "      <td>-0.104</td>\n",
       "    </tr>\n",
       "    <tr>\n",
       "      <th>48</th>\n",
       "      <td>0.096</td>\n",
       "      <td>carbon_footprint_100g</td>\n",
       "      <td>-0.096</td>\n",
       "    </tr>\n",
       "    <tr>\n",
       "      <th>33</th>\n",
       "      <td>0.088</td>\n",
       "      <td>potassium_100g</td>\n",
       "      <td>0.088</td>\n",
       "    </tr>\n",
       "    <tr>\n",
       "      <th>6</th>\n",
       "      <td>0.085</td>\n",
       "      <td>polyunsaturated_fat_100g</td>\n",
       "      <td>0.085</td>\n",
       "    </tr>\n",
       "  </tbody>\n",
       "</table>\n",
       "</div>"
      ],
      "text/plain": [
       "    absVal                    feature  value\n",
       "47   2.078                 cocoa_100g -2.078\n",
       "7    0.389           omega_3_fat_100g -0.389\n",
       "10   0.281           cholesterol_100g  0.281\n",
       "14   0.179               polyols_100g -0.179\n",
       "30   0.130           vitamin_b12_100g  0.130\n",
       "8    0.117  alpha_linolenic_acid_100g -0.117\n",
       "13   0.104               lactose_100g -0.104\n",
       "48   0.096      carbon_footprint_100g -0.096\n",
       "33   0.088             potassium_100g  0.088\n",
       "6    0.085   polyunsaturated_fat_100g  0.085"
      ]
     },
     "execution_count": 100,
     "metadata": {},
     "output_type": "execute_result"
    }
   ],
   "source": [
    "(X_df, y) = makeTrainingSet()\n",
    "coef_df = makeCoefDf(gs.best_estimator_, X_df)\n",
    "coef_df.iloc[0:10, :]"
   ]
  },
  {
   "cell_type": "code",
   "execution_count": 106,
   "metadata": {
    "collapsed": false
   },
   "outputs": [
    {
     "name": "stdout",
     "output_type": "stream",
     "text": [
      "0.024865312888520515\n"
     ]
    },
    {
     "data": {
      "text/plain": [
       "0.3447213185084552"
      ]
     },
     "execution_count": 106,
     "metadata": {},
     "output_type": "execute_result"
    }
   ],
   "source": [
    "print(train[train['isUS'] == 1].cocoa_100g.mean())\n",
    "train[train['isUS'] == 0].cocoa_100g.mean()"
   ]
  },
  {
   "cell_type": "code",
   "execution_count": 83,
   "metadata": {
    "collapsed": false
   },
   "outputs": [
    {
     "data": {
      "text/html": [
       "<div>\n",
       "<table border=\"1\" class=\"dataframe\">\n",
       "  <thead>\n",
       "    <tr style=\"text-align: right;\">\n",
       "      <th></th>\n",
       "      <th>Pred 0</th>\n",
       "      <th>Pred 1</th>\n",
       "    </tr>\n",
       "  </thead>\n",
       "  <tbody>\n",
       "    <tr>\n",
       "      <th>Acutal 0</th>\n",
       "      <td>13977</td>\n",
       "      <td>9</td>\n",
       "    </tr>\n",
       "    <tr>\n",
       "      <th>Acutal 1</th>\n",
       "      <td>460</td>\n",
       "      <td>143</td>\n",
       "    </tr>\n",
       "  </tbody>\n",
       "</table>\n",
       "</div>"
      ],
      "text/plain": [
       "          Pred 0  Pred 1\n",
       "Acutal 0   13977       9\n",
       "Acutal 1     460     143"
      ]
     },
     "execution_count": 83,
     "metadata": {},
     "output_type": "execute_result"
    }
   ],
   "source": [
    "def makeConfusionDf(true, pred):\n",
    "    c = confusion_matrix(y_true=yTest, y_pred= preds) \n",
    "    return pd.DataFrame(c, columns=['Pred 0', 'Pred 1'], index=['Acutal 0', 'Acutal 1'])\n",
    "makeConfusionDf(yTest, preds)"
   ]
  },
  {
   "cell_type": "code",
   "execution_count": 64,
   "metadata": {
    "collapsed": false
   },
   "outputs": [
    {
     "data": {
      "image/png": "[encoded data removed]",
      "text/plain": [
       "<matplotlib.figure.Figure at 0x11b1ccf60>"
      ]
     },
     "metadata": {},
     "output_type": "display_data"
    }
   ],
   "source": [
    "cv = cross_validation.StratifiedKFold(y, n_folds=5, random_state=2)\n",
    "\n",
    "fig = plt.figure(figsize=(7, 5))\n",
    "\n",
    "mean_tpr = 0.0\n",
    "mean_fpr = np.linspace(0, 1, 100)\n",
    "all_tpr = []\n",
    "\n",
    "\n",
    "for i, (train, test) in enumerate(cv):\n",
    "    probas = gs.predict_proba(Xtest)\n",
    "    \n",
    "    fpr, tpr, thresholds = roc_curve(yTest,\n",
    "                                     probas[:, 1],\n",
    "                                     pos_label=1)\n",
    "    mean_tpr += interp(mean_fpr, fpr, tpr)\n",
    "    mean_tpr[0] = 0.0\n",
    "    roc_auc = auc(fpr, tpr)\n",
    "    plt.plot(fpr,\n",
    "             tpr,\n",
    "             lw=1,\n",
    "             label='ROC fold %d (area = %0.2f)'\n",
    "                   % (i+1, roc_auc))\n",
    "mean_tpr /= len(cv)\n",
    "mean_tpr[-1] = 1.0\n",
    "plt.plot([0, 1],\n",
    "         [0, 1],\n",
    "         linestyle='--',\n",
    "         color=(0.6, 0.6, 0.6),\n",
    "         label='random guessing')\n",
    "mean_auc = auc(mean_fpr, mean_tpr)\n",
    "plt.plot(mean_fpr, mean_tpr, 'k--',\n",
    "         label='mean ROC (area = %0.2f)' % mean_auc, lw=2)\n",
    "plt.plot([0, 0, 1],\n",
    "         [0, 1, 1],\n",
    "         lw=2,\n",
    "         linestyle=':',\n",
    "         color='black',\n",
    "         label='perfect performance')\n",
    "\n",
    "plt.xlim([-0.05, 1.05])\n",
    "plt.ylim([-0.05, 1.05])\n",
    "plt.xlabel('false positive rate')\n",
    "plt.ylabel('true positive rate')\n",
    "plt.title('Receiver Operator Characteristic')\n",
    "plt.legend(loc=\"lower right\")\n",
    "\n",
    "plt.tight_layout()\n",
    "plt.show()"
   ]
  },
  {
   "cell_type": "code",
   "execution_count": null,
   "metadata": {
    "collapsed": false
   },
   "outputs": [],
   "source": [
    "strat_df = makeCoefDf(clf, train.drop(['isUS'], axis=1))\n",
    "strat_df.iloc[0:10, :]"
   ]
  },
  {
   "cell_type": "markdown",
   "metadata": {},
   "source": [
    "### Let's explore the how US and Euro foods differ within food categories"
   ]
  }
 ],
 "metadata": {
  "kernelspec": {
   "display_name": "Python 3",
   "language": "python",
   "name": "python3"
  },
  "language_info": {
   "codemirror_mode": {
    "name": "ipython",
    "version": 3
   },
   "file_extension": ".py",
   "mimetype": "text/x-python",
   "name": "python",
   "nbconvert_exporter": "python",
   "pygments_lexer": "ipython3",
   "version": "3.5.1"
  }
 },
 "nbformat": 4,
 "nbformat_minor": 0
}
