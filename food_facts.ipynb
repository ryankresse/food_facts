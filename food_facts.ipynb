{
 "cells": [
  {
   "cell_type": "code",
   "execution_count": 96,
   "metadata": {
    "collapsed": true
   },
   "outputs": [],
   "source": [
    "%matplotlib inline\n",
    "import numpy as np\n",
    "import pandas as pd\n",
    "import seaborn as sns\n",
    "import matplotlib.pyplot as plt\n",
    "from sklearn import cross_validation\n",
    "from sklearn.metrics import roc_auc_score, f1_score, precision_score, recall_score, accuracy_score\n",
    "pd.set_option('display.float_format', lambda x: '%.3f' % x)\n"
   ]
  },
  {
   "cell_type": "code",
   "execution_count": 2,
   "metadata": {
    "collapsed": false
   },
   "outputs": [
    {
     "name": "stderr",
     "output_type": "stream",
     "text": [
      "//anaconda/lib/python3.5/site-packages/IPython/core/interactiveshell.py:2723: DtypeWarning: Columns (0,3,5,27,36) have mixed types. Specify dtype option on import or set low_memory=False.\n",
      "  interactivity=interactivity, compiler=compiler, result=result)\n"
     ]
    }
   ],
   "source": [
    "df = pd.read_csv('FoodFacts.csv')"
   ]
  },
  {
   "cell_type": "code",
   "execution_count": 3,
   "metadata": {
    "collapsed": false
   },
   "outputs": [
    {
     "data": {
      "text/plain": [
       "Index(['code', 'created_t', 'last_modified_t', 'cities', 'allergens_en'], dtype='object')"
      ]
     },
     "execution_count": 3,
     "metadata": {},
     "output_type": "execute_result"
    }
   ],
   "source": [
    "df.columns[[0, 3, 5, 27, 36]]"
   ]
  },
  {
   "cell_type": "code",
   "execution_count": 4,
   "metadata": {
    "collapsed": false
   },
   "outputs": [],
   "source": [
    "# Don't need code column\n",
    "df.drop(['code', 'created_t', 'last_modified_datetime'], axis=1, inplace=True)"
   ]
  },
  {
   "cell_type": "code",
   "execution_count": 5,
   "metadata": {
    "collapsed": false
   },
   "outputs": [
    {
     "data": {
      "text/plain": [
       "url                                  object\n",
       "creator                              object\n",
       "created_datetime                     object\n",
       "last_modified_t                      object\n",
       "product_name                         object\n",
       "generic_name                         object\n",
       "quantity                             object\n",
       "packaging                            object\n",
       "packaging_tags                       object\n",
       "brands                               object\n",
       "brands_tags                          object\n",
       "categories                           object\n",
       "categories_tags                      object\n",
       "categories_en                        object\n",
       "origins                              object\n",
       "origins_tags                         object\n",
       "manufacturing_places                 object\n",
       "manufacturing_places_tags            object\n",
       "labels                               object\n",
       "labels_tags                          object\n",
       "labels_en                            object\n",
       "emb_codes                            object\n",
       "emb_codes_tags                       object\n",
       "first_packaging_code_geo             object\n",
       "cities                               object\n",
       "cities_tags                          object\n",
       "purchase_places                      object\n",
       "stores                               object\n",
       "countries                            object\n",
       "countries_tags                       object\n",
       "                                     ...   \n",
       "vitamin_b9_100g                     float64\n",
       "vitamin_b12_100g                    float64\n",
       "biotin_100g                         float64\n",
       "pantothenic_acid_100g               float64\n",
       "silica_100g                         float64\n",
       "bicarbonate_100g                    float64\n",
       "potassium_100g                      float64\n",
       "chloride_100g                       float64\n",
       "calcium_100g                        float64\n",
       "phosphorus_100g                     float64\n",
       "iron_100g                           float64\n",
       "magnesium_100g                      float64\n",
       "zinc_100g                           float64\n",
       "copper_100g                         float64\n",
       "manganese_100g                      float64\n",
       "fluoride_100g                       float64\n",
       "selenium_100g                       float64\n",
       "chromium_100g                       float64\n",
       "molybdenum_100g                     float64\n",
       "iodine_100g                         float64\n",
       "caffeine_100g                       float64\n",
       "taurine_100g                        float64\n",
       "ph_100g                             float64\n",
       "fruits_vegetables_nuts_100g         float64\n",
       "collagen_meat_protein_ratio_100g    float64\n",
       "cocoa_100g                          float64\n",
       "chlorophyl_100g                     float64\n",
       "carbon_footprint_100g               float64\n",
       "nutrition_score_fr_100g             float64\n",
       "nutrition_score_uk_100g             float64\n",
       "dtype: object"
      ]
     },
     "execution_count": 5,
     "metadata": {},
     "output_type": "execute_result"
    }
   ],
   "source": [
    "df.dtypes"
   ]
  },
  {
   "cell_type": "code",
   "execution_count": 52,
   "metadata": {
    "collapsed": false
   },
   "outputs": [],
   "source": [
    "\n",
    "#https://www.kaggle.com/christinampoid/d/openfoodfacts/world-food-facts/europe-habits\n",
    "\n",
    "#labels: list of Strings with country names\n",
    "#returns the rows that have as country name any of the names in labels\n",
    "def get_rows_country(labels):\n",
    "    return df[df.countries.isin(labels)]\n",
    "\n",
    "#labels: list of Strings with country names\n",
    "#returns the categories and the percentage that appear in the rows of a particular country\n",
    "def get_categories_counts(labels):\n",
    "    rows = get_rows_country(labels)\n",
    "    food_country = rows.main_category_en.value_counts() / len(rows)*100\n",
    "    return food_country\n",
    "\n",
    "#France\n",
    "labels_france = ['France', 'en:FR', 'France,Europe','Belgique,France']\n",
    "french_food = get_rows_country(labels_france)\n",
    "\n",
    "#Spain\n",
    "labels_spain = ['España','en:ES','Espagne','Spain']\n",
    "spanish_food = get_rows_country(labels_spain)\n",
    "\n",
    "#Germany\n",
    "labels_germany = ['Deutschland','Germany','Allemagne','en:DE']\n",
    "german_food = get_rows_country(labels_germany)\n",
    "\n",
    "#United Kingdom\n",
    "labels_uk = ['en:UK','United Kingdom','en:GB','uk','UK']\n",
    "uk_food = get_rows_country(labels_uk)\n",
    "\n",
    "#Belgium\n",
    "labels_belgium = ['Belgique','en:BE','Belgique,France','Belgium','Belgique,France']\n",
    "belgium_food = get_rows_country(labels_belgium)\n",
    "\n",
    "#Italia\n",
    "labels_italia = ['Italia','en:IT','Italie']\n",
    "italian_food = get_rows_country(labels_italia)\n",
    "\n",
    "#Switzerland\n",
    "labels_switzerland = ['Suisse','Switzerland']\n",
    "suisse_food = get_rows_country(labels_switzerland)\n",
    "\n",
    "#Netherlands\n",
    "labels_netherlands = ['Netherlands', 'Holland']\n",
    "holland_food = get_rows_country(labels_netherlands)\n",
    "\n",
    "#Denmark\n",
    "labels_denmark = ['Denmark','Dänemark']\n",
    "dannish_food = get_rows_country(labels_denmark)\n",
    "\n",
    "#Portugal\n",
    "labels_portugal = ['Portugal','en:portugal']\n",
    "portuguese_food = get_rows_country(labels_portugal)\n",
    "\n",
    "#Greece\n",
    "labels_greece = ['Greece','en:GR','Grèce','en:greece']\n",
    "greek_food = get_rows_country(labels_greece)\n",
    "\n",
    "#Sweden\n",
    "labels_sweden = ['Sweden','en:SE','en:sweden']\n",
    "swedish_food = get_rows_country(labels_sweden)\n",
    "\n",
    "#Norway\n",
    "labels_norway = ['Norway','en:NO','en:norway']\n",
    "norwegian_food = get_rows_country(labels_norway)\n",
    "\n",
    "#Croatia\n",
    "labels_croatia = ['Croatia','en:HR','en:croatia']\n",
    "croatian_food = get_rows_country(labels_croatia)\n",
    "\n",
    "#Albania\n",
    "labels_albania = ['Albania','en:AL','en:albania']\n",
    "albanian_food = get_rows_country(labels_albania)\n",
    "\n",
    "labels_usa = ['United States', 'en:US', 'US', 'USA', 'en:united-states','United states', 'united states', 'United States of America']\n",
    "usa = get_rows_country(labels_usa)"
   ]
  },
  {
   "cell_type": "code",
   "execution_count": 53,
   "metadata": {
    "collapsed": false
   },
   "outputs": [],
   "source": [
    "europe = pd.concat([french_food,\n",
    "                    spanish_food,\n",
    "                    german_food, \n",
    "                    uk_food, \n",
    "                    belgium_food, \n",
    "                    italian_food, \n",
    "                    suisse_food,\n",
    "                    holland_food,\n",
    "                    dannish_food, \n",
    "                    portuguese_food, \n",
    "                    greek_food, \n",
    "                    swedish_food,\n",
    "                    norwegian_food,\n",
    "                    croatian_food, \n",
    "                    albanian_food])"
   ]
  },
  {
   "cell_type": "code",
   "execution_count": 54,
   "metadata": {
    "collapsed": false
   },
   "outputs": [
    {
     "data": {
      "text/plain": [
       "array(['en:US', 'US', 'USA', 'France,USA', 'Germany,USA,UK'], dtype=object)"
      ]
     },
     "execution_count": 54,
     "metadata": {},
     "output_type": "execute_result"
    }
   ],
   "source": [
    "mask = df.countries.str.contains('US', na=False)\n",
    "df[mask].countries.unique()"
   ]
  },
  {
   "cell_type": "code",
   "execution_count": 55,
   "metadata": {
    "collapsed": false
   },
   "outputs": [],
   "source": [
    "usaNumOnly = usa.select_dtypes(include=[np.number])\n",
    "europeNumOnly = europe.select_dtypes(include=[np.number])"
   ]
  },
  {
   "cell_type": "code",
   "execution_count": 56,
   "metadata": {
    "collapsed": false
   },
   "outputs": [],
   "source": [
    "usaMeans = usaNumOnly.mean()\n",
    "usaNaCols  = usaMeans[usaMeans.isnull() == True].index.tolist()\n",
    "\n",
    "euroMeans = europeNumOnly.mean()\n",
    "euroNaCols  = euroMeans[euroMeans.isnull() == True].index.tolist()\n",
    "combinedNaCols = usaNaCols + euroNaCols\n",
    "#usaNumOnly.columns[usaNumOnly.mean().isnull().astype(int).values]"
   ]
  },
  {
   "cell_type": "code",
   "execution_count": 57,
   "metadata": {
    "collapsed": false
   },
   "outputs": [
    {
     "name": "stdout",
     "output_type": "stream",
     "text": [
      "(55942, 53)\n",
      "(2413, 53)\n"
     ]
    }
   ],
   "source": [
    "usaNumOnly = usaNumOnly.drop(combinedNaCols, axis=1)\n",
    "europeNumOnly = europeNumOnly.drop(combinedNaCols, axis=1)\n",
    "print(europeNumOnly.shape)\n",
    "print(usaNumOnly.shape)"
   ]
  },
  {
   "cell_type": "code",
   "execution_count": 105,
   "metadata": {
    "collapsed": false
   },
   "outputs": [],
   "source": [
    "usaNumOnly['isUS'] = 1\n",
    "europeNumOnly['isUS'] = 0\n",
    "train = pd.concat([usaNumOnly, europeNumOnly])"
   ]
  },
  {
   "cell_type": "code",
   "execution_count": 106,
   "metadata": {
    "collapsed": false
   },
   "outputs": [],
   "source": [
    "train = train.fillna(0, axis=0)"
   ]
  },
  {
   "cell_type": "code",
   "execution_count": 107,
   "metadata": {
    "collapsed": false
   },
   "outputs": [
    {
     "data": {
      "text/html": [
       "<div>\n",
       "<table border=\"1\" class=\"dataframe\">\n",
       "  <thead>\n",
       "    <tr style=\"text-align: right;\">\n",
       "      <th></th>\n",
       "      <th>additives_n</th>\n",
       "      <th>ingredients_from_palm_oil_n</th>\n",
       "      <th>ingredients_that_may_be_from_palm_oil_n</th>\n",
       "      <th>energy_100g</th>\n",
       "      <th>energy_from_fat_100g</th>\n",
       "      <th>fat_100g</th>\n",
       "      <th>saturated_fat_100g</th>\n",
       "      <th>monounsaturated_fat_100g</th>\n",
       "      <th>polyunsaturated_fat_100g</th>\n",
       "      <th>omega_3_fat_100g</th>\n",
       "      <th>...</th>\n",
       "      <th>chromium_100g</th>\n",
       "      <th>molybdenum_100g</th>\n",
       "      <th>iodine_100g</th>\n",
       "      <th>caffeine_100g</th>\n",
       "      <th>fruits_vegetables_nuts_100g</th>\n",
       "      <th>cocoa_100g</th>\n",
       "      <th>carbon_footprint_100g</th>\n",
       "      <th>nutrition_score_fr_100g</th>\n",
       "      <th>nutrition_score_uk_100g</th>\n",
       "      <th>isUS</th>\n",
       "    </tr>\n",
       "  </thead>\n",
       "  <tbody>\n",
       "    <tr>\n",
       "      <th>20</th>\n",
       "      <td>0.000</td>\n",
       "      <td>0.000</td>\n",
       "      <td>0.000</td>\n",
       "      <td>0.000</td>\n",
       "      <td>0.000</td>\n",
       "      <td>0.000</td>\n",
       "      <td>0.000</td>\n",
       "      <td>0.000</td>\n",
       "      <td>0.000</td>\n",
       "      <td>0.000</td>\n",
       "      <td>...</td>\n",
       "      <td>0.000</td>\n",
       "      <td>0.000</td>\n",
       "      <td>0.000</td>\n",
       "      <td>0.000</td>\n",
       "      <td>0.000</td>\n",
       "      <td>0.000</td>\n",
       "      <td>0.000</td>\n",
       "      <td>0.000</td>\n",
       "      <td>0.000</td>\n",
       "      <td>1</td>\n",
       "    </tr>\n",
       "    <tr>\n",
       "      <th>56</th>\n",
       "      <td>0.000</td>\n",
       "      <td>0.000</td>\n",
       "      <td>0.000</td>\n",
       "      <td>0.000</td>\n",
       "      <td>0.000</td>\n",
       "      <td>0.000</td>\n",
       "      <td>0.000</td>\n",
       "      <td>0.000</td>\n",
       "      <td>0.000</td>\n",
       "      <td>0.000</td>\n",
       "      <td>...</td>\n",
       "      <td>0.000</td>\n",
       "      <td>0.000</td>\n",
       "      <td>0.000</td>\n",
       "      <td>0.000</td>\n",
       "      <td>0.000</td>\n",
       "      <td>0.000</td>\n",
       "      <td>0.000</td>\n",
       "      <td>0.000</td>\n",
       "      <td>0.000</td>\n",
       "      <td>1</td>\n",
       "    </tr>\n",
       "    <tr>\n",
       "      <th>78</th>\n",
       "      <td>0.000</td>\n",
       "      <td>0.000</td>\n",
       "      <td>0.000</td>\n",
       "      <td>0.000</td>\n",
       "      <td>0.000</td>\n",
       "      <td>0.000</td>\n",
       "      <td>0.000</td>\n",
       "      <td>0.000</td>\n",
       "      <td>0.000</td>\n",
       "      <td>0.000</td>\n",
       "      <td>...</td>\n",
       "      <td>0.000</td>\n",
       "      <td>0.000</td>\n",
       "      <td>0.000</td>\n",
       "      <td>0.000</td>\n",
       "      <td>0.000</td>\n",
       "      <td>0.000</td>\n",
       "      <td>0.000</td>\n",
       "      <td>0.000</td>\n",
       "      <td>0.000</td>\n",
       "      <td>1</td>\n",
       "    </tr>\n",
       "    <tr>\n",
       "      <th>83</th>\n",
       "      <td>0.000</td>\n",
       "      <td>0.000</td>\n",
       "      <td>0.000</td>\n",
       "      <td>0.000</td>\n",
       "      <td>0.000</td>\n",
       "      <td>0.000</td>\n",
       "      <td>0.000</td>\n",
       "      <td>0.000</td>\n",
       "      <td>0.000</td>\n",
       "      <td>0.000</td>\n",
       "      <td>...</td>\n",
       "      <td>0.000</td>\n",
       "      <td>0.000</td>\n",
       "      <td>0.000</td>\n",
       "      <td>0.000</td>\n",
       "      <td>0.000</td>\n",
       "      <td>0.000</td>\n",
       "      <td>0.000</td>\n",
       "      <td>0.000</td>\n",
       "      <td>0.000</td>\n",
       "      <td>1</td>\n",
       "    </tr>\n",
       "    <tr>\n",
       "      <th>87</th>\n",
       "      <td>3.000</td>\n",
       "      <td>0.000</td>\n",
       "      <td>0.000</td>\n",
       "      <td>761.000</td>\n",
       "      <td>275.000</td>\n",
       "      <td>7.580</td>\n",
       "      <td>4.040</td>\n",
       "      <td>0.000</td>\n",
       "      <td>0.000</td>\n",
       "      <td>0.000</td>\n",
       "      <td>...</td>\n",
       "      <td>0.000</td>\n",
       "      <td>0.000</td>\n",
       "      <td>0.000</td>\n",
       "      <td>0.000</td>\n",
       "      <td>0.000</td>\n",
       "      <td>0.000</td>\n",
       "      <td>0.000</td>\n",
       "      <td>4.000</td>\n",
       "      <td>4.000</td>\n",
       "      <td>1</td>\n",
       "    </tr>\n",
       "  </tbody>\n",
       "</table>\n",
       "<p>5 rows × 54 columns</p>\n",
       "</div>"
      ],
      "text/plain": [
       "    additives_n  ingredients_from_palm_oil_n  \\\n",
       "20        0.000                        0.000   \n",
       "56        0.000                        0.000   \n",
       "78        0.000                        0.000   \n",
       "83        0.000                        0.000   \n",
       "87        3.000                        0.000   \n",
       "\n",
       "    ingredients_that_may_be_from_palm_oil_n  energy_100g  \\\n",
       "20                                    0.000        0.000   \n",
       "56                                    0.000        0.000   \n",
       "78                                    0.000        0.000   \n",
       "83                                    0.000        0.000   \n",
       "87                                    0.000      761.000   \n",
       "\n",
       "    energy_from_fat_100g  fat_100g  saturated_fat_100g  \\\n",
       "20                 0.000     0.000               0.000   \n",
       "56                 0.000     0.000               0.000   \n",
       "78                 0.000     0.000               0.000   \n",
       "83                 0.000     0.000               0.000   \n",
       "87               275.000     7.580               4.040   \n",
       "\n",
       "    monounsaturated_fat_100g  polyunsaturated_fat_100g  omega_3_fat_100g  \\\n",
       "20                     0.000                     0.000             0.000   \n",
       "56                     0.000                     0.000             0.000   \n",
       "78                     0.000                     0.000             0.000   \n",
       "83                     0.000                     0.000             0.000   \n",
       "87                     0.000                     0.000             0.000   \n",
       "\n",
       "    ...   chromium_100g  molybdenum_100g  iodine_100g  caffeine_100g  \\\n",
       "20  ...           0.000            0.000        0.000          0.000   \n",
       "56  ...           0.000            0.000        0.000          0.000   \n",
       "78  ...           0.000            0.000        0.000          0.000   \n",
       "83  ...           0.000            0.000        0.000          0.000   \n",
       "87  ...           0.000            0.000        0.000          0.000   \n",
       "\n",
       "    fruits_vegetables_nuts_100g  cocoa_100g  carbon_footprint_100g  \\\n",
       "20                        0.000       0.000                  0.000   \n",
       "56                        0.000       0.000                  0.000   \n",
       "78                        0.000       0.000                  0.000   \n",
       "83                        0.000       0.000                  0.000   \n",
       "87                        0.000       0.000                  0.000   \n",
       "\n",
       "    nutrition_score_fr_100g  nutrition_score_uk_100g  isUS  \n",
       "20                    0.000                    0.000     1  \n",
       "56                    0.000                    0.000     1  \n",
       "78                    0.000                    0.000     1  \n",
       "83                    0.000                    0.000     1  \n",
       "87                    4.000                    4.000     1  \n",
       "\n",
       "[5 rows x 54 columns]"
      ]
     },
     "execution_count": 107,
     "metadata": {},
     "output_type": "execute_result"
    }
   ],
   "source": [
    "train.head()"
   ]
  },
  {
   "cell_type": "markdown",
   "metadata": {},
   "source": [
    "### Fit various models to assess the predictive power of each ingredient in distinguishing Euro foods from USA foods"
   ]
  },
  {
   "cell_type": "code",
   "execution_count": 98,
   "metadata": {
    "collapsed": true
   },
   "outputs": [],
   "source": [
    "def makeTrainingSet(colsToDrop=[]):\n",
    "    X = train.drop(['isUS'] + colsToDrop, axis=1)\n",
    "    y = train['isUS']\n",
    "    return (X, y)\n",
    "\n",
    "def makeCoefDf(clf, X):\n",
    "    coef_df = pd.DataFrame({'value': clf.coef_[0], 'absVal': abs(clf.coef_[0]), 'feature': X.columns })\n",
    "    return coef_df.sort_values(by='absVal', ascending=False)\n",
    "\n",
    "def makeFeatureImpDf(clf, X):\n",
    "    coef_df = pd.DataFrame({'value': clf.feature_importances_[0], 'feature': X.columns })\n",
    "    return coef_df.sort_values(by='value', ascending=False)"
   ]
  },
  {
   "cell_type": "code",
   "execution_count": 62,
   "metadata": {
    "collapsed": false
   },
   "outputs": [
    {
     "data": {
      "text/plain": [
       "LogisticRegression(C=1.0, class_weight=None, dual=False, fit_intercept=True,\n",
       "          intercept_scaling=1, max_iter=100, multi_class='ovr', n_jobs=1,\n",
       "          penalty='l2', random_state=None, solver='liblinear', tol=0.0001,\n",
       "          verbose=0, warm_start=False)"
      ]
     },
     "execution_count": 62,
     "metadata": {},
     "output_type": "execute_result"
    }
   ],
   "source": [
    "from sklearn.linear_model import LogisticRegression\n",
    "(X, y) = makeTrainingSet(colsToDrop = [])\n",
    "clf = LogisticRegression()\n",
    "clf.fit(X,y)"
   ]
  },
  {
   "cell_type": "code",
   "execution_count": 17,
   "metadata": {
    "collapsed": false
   },
   "outputs": [],
   "source": [
    "lr_coef_one = makeCoefDf(clf, X)"
   ]
  },
  {
   "cell_type": "code",
   "execution_count": 18,
   "metadata": {
    "collapsed": false
   },
   "outputs": [
    {
     "data": {
      "text/html": [
       "<div>\n",
       "<table border=\"1\" class=\"dataframe\">\n",
       "  <thead>\n",
       "    <tr style=\"text-align: right;\">\n",
       "      <th></th>\n",
       "      <th>absVal</th>\n",
       "      <th>feature</th>\n",
       "      <th>value</th>\n",
       "    </tr>\n",
       "  </thead>\n",
       "  <tbody>\n",
       "    <tr>\n",
       "      <th>1</th>\n",
       "      <td>2.581829</td>\n",
       "      <td>ingredients_from_palm_oil_n</td>\n",
       "      <td>-2.581829</td>\n",
       "    </tr>\n",
       "    <tr>\n",
       "      <th>2</th>\n",
       "      <td>1.674912</td>\n",
       "      <td>ingredients_that_may_be_from_palm_oil_n</td>\n",
       "      <td>-1.674912</td>\n",
       "    </tr>\n",
       "    <tr>\n",
       "      <th>12</th>\n",
       "      <td>1.403766</td>\n",
       "      <td>cholesterol_100g</td>\n",
       "      <td>1.403766</td>\n",
       "    </tr>\n",
       "    <tr>\n",
       "      <th>9</th>\n",
       "      <td>0.789836</td>\n",
       "      <td>omega_3_fat_100g</td>\n",
       "      <td>-0.789836</td>\n",
       "    </tr>\n",
       "    <tr>\n",
       "      <th>31</th>\n",
       "      <td>0.527780</td>\n",
       "      <td>vitamin_b9_100g</td>\n",
       "      <td>0.527780</td>\n",
       "    </tr>\n",
       "    <tr>\n",
       "      <th>40</th>\n",
       "      <td>0.525608</td>\n",
       "      <td>zinc_100g</td>\n",
       "      <td>0.525608</td>\n",
       "    </tr>\n",
       "    <tr>\n",
       "      <th>15</th>\n",
       "      <td>0.272554</td>\n",
       "      <td>lactose_100g</td>\n",
       "      <td>-0.272554</td>\n",
       "    </tr>\n",
       "    <tr>\n",
       "      <th>10</th>\n",
       "      <td>0.222238</td>\n",
       "      <td>alpha_linolenic_acid_100g</td>\n",
       "      <td>-0.222238</td>\n",
       "    </tr>\n",
       "    <tr>\n",
       "      <th>39</th>\n",
       "      <td>0.173613</td>\n",
       "      <td>magnesium_100g</td>\n",
       "      <td>-0.173613</td>\n",
       "    </tr>\n",
       "    <tr>\n",
       "      <th>38</th>\n",
       "      <td>0.169477</td>\n",
       "      <td>iron_100g</td>\n",
       "      <td>0.169477</td>\n",
       "    </tr>\n",
       "  </tbody>\n",
       "</table>\n",
       "</div>"
      ],
      "text/plain": [
       "      absVal                                  feature     value\n",
       "1   2.581829              ingredients_from_palm_oil_n -2.581829\n",
       "2   1.674912  ingredients_that_may_be_from_palm_oil_n -1.674912\n",
       "12  1.403766                         cholesterol_100g  1.403766\n",
       "9   0.789836                         omega_3_fat_100g -0.789836\n",
       "31  0.527780                          vitamin_b9_100g  0.527780\n",
       "40  0.525608                                zinc_100g  0.525608\n",
       "15  0.272554                             lactose_100g -0.272554\n",
       "10  0.222238                alpha_linolenic_acid_100g -0.222238\n",
       "39  0.173613                           magnesium_100g -0.173613\n",
       "38  0.169477                                iron_100g  0.169477"
      ]
     },
     "execution_count": 18,
     "metadata": {},
     "output_type": "execute_result"
    }
   ],
   "source": [
    "lr_coef_one.iloc[0:10, :]"
   ]
  },
  {
   "cell_type": "code",
   "execution_count": 19,
   "metadata": {
    "collapsed": false
   },
   "outputs": [
    {
     "data": {
      "text/plain": [
       "<matplotlib.axes._subplots.AxesSubplot at 0x121c2bdd8>"
      ]
     },
     "execution_count": 19,
     "metadata": {},
     "output_type": "execute_result"
    },
    {
     "data": {
      "image/png": "[encoded data removed]",
      "text/plain": [
       "<matplotlib.figure.Figure at 0x121c2b208>"
      ]
     },
     "metadata": {},
     "output_type": "display_data"
    }
   ],
   "source": [
    "lr_coef_one.iloc[0:10, :].plot(kind='bar', x='feature', y='value')"
   ]
  },
  {
   "cell_type": "markdown",
   "metadata": {},
   "source": [
    "It seems like many palm oil may indicate that a product is European. But that doesn't mean that European products are more likely to contain it than US products. In Europe, palm oil is required on food labels. In the US, it isn't:\n",
    "\n",
    "- https://www.theguardian.com/sustainable-business/2014/dec/12/eu-labelling-changes-palm-oil-consumer-change\n",
    "- http://www.eurofoodlaw.com/labelling/analysis-palm-oil-no-longer-a-hidden-ingredient-108325.htm\n",
    "\n",
    "\n",
    "Now let's try a random forest."
   ]
  },
  {
   "cell_type": "code",
   "execution_count": 63,
   "metadata": {
    "collapsed": false
   },
   "outputs": [
    {
     "data": {
      "text/plain": [
       "RandomForestClassifier(bootstrap=True, class_weight=None, criterion='gini',\n",
       "            max_depth=5, max_features='auto', max_leaf_nodes=None,\n",
       "            min_samples_leaf=1, min_samples_split=2,\n",
       "            min_weight_fraction_leaf=0.0, n_estimators=10, n_jobs=1,\n",
       "            oob_score=False, random_state=None, verbose=0,\n",
       "            warm_start=False)"
      ]
     },
     "execution_count": 63,
     "metadata": {},
     "output_type": "execute_result"
    }
   ],
   "source": [
    "from sklearn.ensemble import RandomForestClassifier as rf\n",
    "clf = rf(max_depth=5)\n",
    "clf.fit(X, y)"
   ]
  },
  {
   "cell_type": "code",
   "execution_count": 64,
   "metadata": {
    "collapsed": false
   },
   "outputs": [],
   "source": [
    "importances_1_df = makeFeatureImpDf(clf, X)"
   ]
  },
  {
   "cell_type": "code",
   "execution_count": 65,
   "metadata": {
    "collapsed": false
   },
   "outputs": [
    {
     "ename": "NameError",
     "evalue": "name 'importances_df' is not defined",
     "output_type": "error",
     "traceback": [
      "\u001b[0;31m---------------------------------------------------------------------------\u001b[0m",
      "\u001b[0;31mNameError\u001b[0m                                 Traceback (most recent call last)",
      "\u001b[0;32m<ipython-input-65-d522f3893ecd>\u001b[0m in \u001b[0;36m<module>\u001b[0;34m()\u001b[0m\n\u001b[0;32m----> 1\u001b[0;31m \u001b[0mimportances_df\u001b[0m\u001b[0;34m.\u001b[0m\u001b[0miloc\u001b[0m\u001b[0;34m[\u001b[0m\u001b[0;36m0\u001b[0m\u001b[0;34m:\u001b[0m\u001b[0;36m10\u001b[0m\u001b[0;34m,\u001b[0m \u001b[0;34m:\u001b[0m\u001b[0;34m]\u001b[0m\u001b[0;34m\u001b[0m\u001b[0m\n\u001b[0m",
      "\u001b[0;31mNameError\u001b[0m: name 'importances_df' is not defined"
     ]
    }
   ],
   "source": [
    "importances_df.iloc[0:10, :]"
   ]
  },
  {
   "cell_type": "code",
   "execution_count": null,
   "metadata": {
    "collapsed": false
   },
   "outputs": [],
   "source": [
    "importances_df.iloc[0:10, :].plot(kind='bar', x='feature', y='value')"
   ]
  },
  {
   "cell_type": "markdown",
   "metadata": {},
   "source": [
    "hmm..it looks like palm oil isn't very important to our random forest. Let's remove palm oil, and see what happes. We'll also drop uk_nutrition_score and france_nutrition_score, as US products wouldn't have those on their labels."
   ]
  },
  {
   "cell_type": "code",
   "execution_count": 108,
   "metadata": {
    "collapsed": false
   },
   "outputs": [
    {
     "data": {
      "text/html": [
       "<div>\n",
       "<table border=\"1\" class=\"dataframe\">\n",
       "  <thead>\n",
       "    <tr style=\"text-align: right;\">\n",
       "      <th></th>\n",
       "      <th>absVal</th>\n",
       "      <th>feature</th>\n",
       "      <th>value</th>\n",
       "    </tr>\n",
       "  </thead>\n",
       "  <tbody>\n",
       "    <tr>\n",
       "      <th>0</th>\n",
       "      <td>0.084</td>\n",
       "      <td>additives_n</td>\n",
       "      <td>-0.084</td>\n",
       "    </tr>\n",
       "    <tr>\n",
       "      <th>6</th>\n",
       "      <td>0.081</td>\n",
       "      <td>polyunsaturated_fat_100g</td>\n",
       "      <td>0.081</td>\n",
       "    </tr>\n",
       "    <tr>\n",
       "      <th>30</th>\n",
       "      <td>0.078</td>\n",
       "      <td>vitamin_b12_100g</td>\n",
       "      <td>0.078</td>\n",
       "    </tr>\n",
       "    <tr>\n",
       "      <th>46</th>\n",
       "      <td>0.066</td>\n",
       "      <td>fruits_vegetables_nuts_100g</td>\n",
       "      <td>-0.066</td>\n",
       "    </tr>\n",
       "    <tr>\n",
       "      <th>14</th>\n",
       "      <td>0.065</td>\n",
       "      <td>polyols_100g</td>\n",
       "      <td>-0.065</td>\n",
       "    </tr>\n",
       "    <tr>\n",
       "      <th>33</th>\n",
       "      <td>0.063</td>\n",
       "      <td>potassium_100g</td>\n",
       "      <td>0.063</td>\n",
       "    </tr>\n",
       "    <tr>\n",
       "      <th>4</th>\n",
       "      <td>0.055</td>\n",
       "      <td>saturated_fat_100g</td>\n",
       "      <td>0.055</td>\n",
       "    </tr>\n",
       "    <tr>\n",
       "      <th>2</th>\n",
       "      <td>0.054</td>\n",
       "      <td>energy_from_fat_100g</td>\n",
       "      <td>0.054</td>\n",
       "    </tr>\n",
       "    <tr>\n",
       "      <th>47</th>\n",
       "      <td>0.051</td>\n",
       "      <td>cocoa_100g</td>\n",
       "      <td>-0.051</td>\n",
       "    </tr>\n",
       "    <tr>\n",
       "      <th>16</th>\n",
       "      <td>0.047</td>\n",
       "      <td>proteins_100g</td>\n",
       "      <td>-0.047</td>\n",
       "    </tr>\n",
       "  </tbody>\n",
       "</table>\n",
       "</div>"
      ],
      "text/plain": [
       "    absVal                      feature  value\n",
       "0    0.084                  additives_n -0.084\n",
       "6    0.081     polyunsaturated_fat_100g  0.081\n",
       "30   0.078             vitamin_b12_100g  0.078\n",
       "46   0.066  fruits_vegetables_nuts_100g -0.066\n",
       "14   0.065                 polyols_100g -0.065\n",
       "33   0.063               potassium_100g  0.063\n",
       "4    0.055           saturated_fat_100g  0.055\n",
       "2    0.054         energy_from_fat_100g  0.054\n",
       "47   0.051                   cocoa_100g -0.051\n",
       "16   0.047                proteins_100g -0.047"
      ]
     },
     "execution_count": 108,
     "metadata": {},
     "output_type": "execute_result"
    }
   ],
   "source": [
    "colsToDrop = ['ingredients_from_palm_oil_n', \n",
    "              'ingredients_that_may_be_from_palm_oil_n', \n",
    "              'nutrition_score_uk_100g',\n",
    "              'nutrition_score_fr_100g']\n",
    "train = train.drop(colsToDrop, axis=1)\n",
    "\n",
    "clf = LogisticRegression()\n",
    "(X, y) = makeTrainingSet()\n",
    "clf.fit(X,y)\n",
    "coef_wo_palm_df = makeCoefDf(clf, X)\n",
    "coef_wo_palm_df.iloc[0:10, :]"
   ]
  },
  {
   "cell_type": "code",
   "execution_count": null,
   "metadata": {
    "collapsed": false
   },
   "outputs": [],
   "source": [
    "from sklearn.ensemble import RandomForestClassifier as rf\n",
    "clf = rf(max_depth=5)\n",
    "clf.fit(X, y)"
   ]
  },
  {
   "cell_type": "code",
   "execution_count": null,
   "metadata": {
    "collapsed": false
   },
   "outputs": [],
   "source": [
    "importances_wo_palm_df = makeFeatureImpDf(clf, X) \n",
    "importances_wo_palm_df"
   ]
  },
  {
   "cell_type": "markdown",
   "metadata": {},
   "source": [
    "Without palm oil, the random forest has gone haywire"
   ]
  },
  {
   "cell_type": "markdown",
   "metadata": {},
   "source": [
    "Let's look at correlation coeffiecients."
   ]
  },
  {
   "cell_type": "code",
   "execution_count": 117,
   "metadata": {
    "collapsed": false
   },
   "outputs": [
    {
     "data": {
      "text/html": [
       "<div>\n",
       "<table border=\"1\" class=\"dataframe\">\n",
       "  <thead>\n",
       "    <tr style=\"text-align: right;\">\n",
       "      <th></th>\n",
       "      <th>feature</th>\n",
       "      <th>pval</th>\n",
       "      <th>value</th>\n",
       "      <th>absVal</th>\n",
       "    </tr>\n",
       "  </thead>\n",
       "  <tbody>\n",
       "    <tr>\n",
       "      <th>2</th>\n",
       "      <td>energy_from_fat_100g</td>\n",
       "      <td>0.000</td>\n",
       "      <td>0.340</td>\n",
       "      <td>0.340</td>\n",
       "    </tr>\n",
       "    <tr>\n",
       "      <th>10</th>\n",
       "      <td>cholesterol_100g</td>\n",
       "      <td>0.000</td>\n",
       "      <td>0.199</td>\n",
       "      <td>0.199</td>\n",
       "    </tr>\n",
       "    <tr>\n",
       "      <th>9</th>\n",
       "      <td>trans_fat_100g</td>\n",
       "      <td>0.000</td>\n",
       "      <td>0.039</td>\n",
       "      <td>0.039</td>\n",
       "    </tr>\n",
       "    <tr>\n",
       "      <th>16</th>\n",
       "      <td>proteins_100g</td>\n",
       "      <td>0.000</td>\n",
       "      <td>-0.037</td>\n",
       "      <td>0.037</td>\n",
       "    </tr>\n",
       "    <tr>\n",
       "      <th>0</th>\n",
       "      <td>additives_n</td>\n",
       "      <td>0.000</td>\n",
       "      <td>-0.031</td>\n",
       "      <td>0.031</td>\n",
       "    </tr>\n",
       "    <tr>\n",
       "      <th>6</th>\n",
       "      <td>polyunsaturated_fat_100g</td>\n",
       "      <td>0.000</td>\n",
       "      <td>0.025</td>\n",
       "      <td>0.025</td>\n",
       "    </tr>\n",
       "    <tr>\n",
       "      <th>46</th>\n",
       "      <td>fruits_vegetables_nuts_100g</td>\n",
       "      <td>0.000</td>\n",
       "      <td>-0.022</td>\n",
       "      <td>0.022</td>\n",
       "    </tr>\n",
       "    <tr>\n",
       "      <th>42</th>\n",
       "      <td>chromium_100g</td>\n",
       "      <td>0.000</td>\n",
       "      <td>0.021</td>\n",
       "      <td>0.021</td>\n",
       "    </tr>\n",
       "    <tr>\n",
       "      <th>38</th>\n",
       "      <td>zinc_100g</td>\n",
       "      <td>0.000</td>\n",
       "      <td>0.021</td>\n",
       "      <td>0.021</td>\n",
       "    </tr>\n",
       "    <tr>\n",
       "      <th>1</th>\n",
       "      <td>energy_100g</td>\n",
       "      <td>0.000</td>\n",
       "      <td>-0.021</td>\n",
       "      <td>0.021</td>\n",
       "    </tr>\n",
       "  </tbody>\n",
       "</table>\n",
       "</div>"
      ],
      "text/plain": [
       "                        feature  pval  value  absVal\n",
       "2          energy_from_fat_100g 0.000  0.340   0.340\n",
       "10             cholesterol_100g 0.000  0.199   0.199\n",
       "9                trans_fat_100g 0.000  0.039   0.039\n",
       "16                proteins_100g 0.000 -0.037   0.037\n",
       "0                   additives_n 0.000 -0.031   0.031\n",
       "6      polyunsaturated_fat_100g 0.000  0.025   0.025\n",
       "46  fruits_vegetables_nuts_100g 0.000 -0.022   0.022\n",
       "42                chromium_100g 0.000  0.021   0.021\n",
       "38                    zinc_100g 0.000  0.021   0.021\n",
       "1                   energy_100g 0.000 -0.021   0.021"
      ]
     },
     "execution_count": 117,
     "metadata": {},
     "output_type": "execute_result"
    }
   ],
   "source": [
    "corr_df = pd.DataFrame({'feature': [], 'pval': [], 'value': []})\n",
    "\n",
    "from scipy.stats import pointbiserialr\n",
    "(X, y) = makeTrainingSet()\n",
    "\n",
    "\n",
    "for col in train.drop(['isUS'], axis= 1).columns:\n",
    "    corr = pointbiserialr(train['isUS'].values, train[col].values)\n",
    "    corr_df = corr_df.append(pd.Series({'feature': col, 'pval':corr.pvalue, 'value': corr.correlation, 'absVal': abs(corr.correlation)}), ignore_index=True)\n",
    "\n",
    "corr_df.sort_values(by='absVal', ascending=False, inplace=True)\n",
    "corr_df.iloc[0:10, :]"
   ]
  },
  {
   "cell_type": "code",
   "execution_count": 142,
   "metadata": {
    "collapsed": false
   },
   "outputs": [
    {
     "data": {
      "text/plain": [
       "<matplotlib.axes._subplots.AxesSubplot at 0x134108dd8>"
      ]
     },
     "execution_count": 142,
     "metadata": {},
     "output_type": "execute_result"
    },
    {
     "data": {
      "image/png": "[encoded data removed]",
      "text/plain": [
       "<matplotlib.figure.Figure at 0x124821208>"
      ]
     },
     "metadata": {},
     "output_type": "display_data"
    }
   ],
   "source": [
    "us = train[train['isUS'] == 1]\n",
    "euro = train[train['isUS'] == 0]\n",
    "#sns.kdeplot(us['cholesterol_100g'], label='US')\n",
    "sns.kdeplot(euro['cholesterol_100g'], label='Euro')"
   ]
  },
  {
   "cell_type": "code",
   "execution_count": 140,
   "metadata": {
    "collapsed": false
   },
   "outputs": [
    {
     "ename": "KeyError",
     "evalue": "'cholesterol'",
     "output_type": "error",
     "traceback": [
      "\u001b[0;31m---------------------------------------------------------------------------\u001b[0m",
      "\u001b[0;31mKeyError\u001b[0m                                  Traceback (most recent call last)",
      "\u001b[0;32m//anaconda/lib/python3.5/site-packages/pandas/indexes/base.py\u001b[0m in \u001b[0;36mget_loc\u001b[0;34m(self, key, method, tolerance)\u001b[0m\n\u001b[1;32m   1875\u001b[0m             \u001b[0;32mtry\u001b[0m\u001b[0;34m:\u001b[0m\u001b[0;34m\u001b[0m\u001b[0m\n\u001b[0;32m-> 1876\u001b[0;31m                 \u001b[0;32mreturn\u001b[0m \u001b[0mself\u001b[0m\u001b[0;34m.\u001b[0m\u001b[0m_engine\u001b[0m\u001b[0;34m.\u001b[0m\u001b[0mget_loc\u001b[0m\u001b[0;34m(\u001b[0m\u001b[0mkey\u001b[0m\u001b[0;34m)\u001b[0m\u001b[0;34m\u001b[0m\u001b[0m\n\u001b[0m\u001b[1;32m   1877\u001b[0m             \u001b[0;32mexcept\u001b[0m \u001b[0mKeyError\u001b[0m\u001b[0;34m:\u001b[0m\u001b[0;34m\u001b[0m\u001b[0m\n",
      "\u001b[0;32mpandas/index.pyx\u001b[0m in \u001b[0;36mpandas.index.IndexEngine.get_loc (pandas/index.c:4027)\u001b[0;34m()\u001b[0m\n",
      "\u001b[0;32mpandas/index.pyx\u001b[0m in \u001b[0;36mpandas.index.IndexEngine.get_loc (pandas/index.c:3891)\u001b[0;34m()\u001b[0m\n",
      "\u001b[0;32mpandas/hashtable.pyx\u001b[0m in \u001b[0;36mpandas.hashtable.PyObjectHashTable.get_item (pandas/hashtable.c:12408)\u001b[0;34m()\u001b[0m\n",
      "\u001b[0;32mpandas/hashtable.pyx\u001b[0m in \u001b[0;36mpandas.hashtable.PyObjectHashTable.get_item (pandas/hashtable.c:12359)\u001b[0;34m()\u001b[0m\n",
      "\u001b[0;31mKeyError\u001b[0m: 'cholesterol'",
      "\nDuring handling of the above exception, another exception occurred:\n",
      "\u001b[0;31mKeyError\u001b[0m                                  Traceback (most recent call last)",
      "\u001b[0;32m<ipython-input-140-629c59465c4f>\u001b[0m in \u001b[0;36m<module>\u001b[0;34m()\u001b[0m\n\u001b[0;32m----> 1\u001b[0;31m \u001b[0msns\u001b[0m\u001b[0;34m.\u001b[0m\u001b[0mkdeplot\u001b[0m\u001b[0;34m(\u001b[0m\u001b[0mus\u001b[0m\u001b[0;34m[\u001b[0m\u001b[0;34m'cholesterol'\u001b[0m\u001b[0;34m]\u001b[0m\u001b[0;34m,\u001b[0m \u001b[0mlabel\u001b[0m\u001b[0;34m=\u001b[0m\u001b[0;34m'US'\u001b[0m\u001b[0;34m)\u001b[0m\u001b[0;34m\u001b[0m\u001b[0m\n\u001b[0m\u001b[1;32m      2\u001b[0m \u001b[0msns\u001b[0m\u001b[0;34m.\u001b[0m\u001b[0mkdeplot\u001b[0m\u001b[0;34m(\u001b[0m\u001b[0meuro\u001b[0m\u001b[0;34m[\u001b[0m\u001b[0;34m'cholesterol'\u001b[0m\u001b[0;34m]\u001b[0m\u001b[0;34m,\u001b[0m \u001b[0mlabel\u001b[0m\u001b[0;34m=\u001b[0m\u001b[0;34m'Euro'\u001b[0m\u001b[0;34m)\u001b[0m\u001b[0;34m\u001b[0m\u001b[0m\n",
      "\u001b[0;32m//anaconda/lib/python3.5/site-packages/pandas/core/frame.py\u001b[0m in \u001b[0;36m__getitem__\u001b[0;34m(self, key)\u001b[0m\n\u001b[1;32m   1990\u001b[0m             \u001b[0;32mreturn\u001b[0m \u001b[0mself\u001b[0m\u001b[0;34m.\u001b[0m\u001b[0m_getitem_multilevel\u001b[0m\u001b[0;34m(\u001b[0m\u001b[0mkey\u001b[0m\u001b[0;34m)\u001b[0m\u001b[0;34m\u001b[0m\u001b[0m\n\u001b[1;32m   1991\u001b[0m         \u001b[0;32melse\u001b[0m\u001b[0;34m:\u001b[0m\u001b[0;34m\u001b[0m\u001b[0m\n\u001b[0;32m-> 1992\u001b[0;31m             \u001b[0;32mreturn\u001b[0m \u001b[0mself\u001b[0m\u001b[0;34m.\u001b[0m\u001b[0m_getitem_column\u001b[0m\u001b[0;34m(\u001b[0m\u001b[0mkey\u001b[0m\u001b[0;34m)\u001b[0m\u001b[0;34m\u001b[0m\u001b[0m\n\u001b[0m\u001b[1;32m   1993\u001b[0m \u001b[0;34m\u001b[0m\u001b[0m\n\u001b[1;32m   1994\u001b[0m     \u001b[0;32mdef\u001b[0m \u001b[0m_getitem_column\u001b[0m\u001b[0;34m(\u001b[0m\u001b[0mself\u001b[0m\u001b[0;34m,\u001b[0m \u001b[0mkey\u001b[0m\u001b[0;34m)\u001b[0m\u001b[0;34m:\u001b[0m\u001b[0;34m\u001b[0m\u001b[0m\n",
      "\u001b[0;32m//anaconda/lib/python3.5/site-packages/pandas/core/frame.py\u001b[0m in \u001b[0;36m_getitem_column\u001b[0;34m(self, key)\u001b[0m\n\u001b[1;32m   1997\u001b[0m         \u001b[0;31m# get column\u001b[0m\u001b[0;34m\u001b[0m\u001b[0;34m\u001b[0m\u001b[0m\n\u001b[1;32m   1998\u001b[0m         \u001b[0;32mif\u001b[0m \u001b[0mself\u001b[0m\u001b[0;34m.\u001b[0m\u001b[0mcolumns\u001b[0m\u001b[0;34m.\u001b[0m\u001b[0mis_unique\u001b[0m\u001b[0;34m:\u001b[0m\u001b[0;34m\u001b[0m\u001b[0m\n\u001b[0;32m-> 1999\u001b[0;31m             \u001b[0;32mreturn\u001b[0m \u001b[0mself\u001b[0m\u001b[0;34m.\u001b[0m\u001b[0m_get_item_cache\u001b[0m\u001b[0;34m(\u001b[0m\u001b[0mkey\u001b[0m\u001b[0;34m)\u001b[0m\u001b[0;34m\u001b[0m\u001b[0m\n\u001b[0m\u001b[1;32m   2000\u001b[0m \u001b[0;34m\u001b[0m\u001b[0m\n\u001b[1;32m   2001\u001b[0m         \u001b[0;31m# duplicate columns & possible reduce dimensionality\u001b[0m\u001b[0;34m\u001b[0m\u001b[0;34m\u001b[0m\u001b[0m\n",
      "\u001b[0;32m//anaconda/lib/python3.5/site-packages/pandas/core/generic.py\u001b[0m in \u001b[0;36m_get_item_cache\u001b[0;34m(self, item)\u001b[0m\n\u001b[1;32m   1343\u001b[0m         \u001b[0mres\u001b[0m \u001b[0;34m=\u001b[0m \u001b[0mcache\u001b[0m\u001b[0;34m.\u001b[0m\u001b[0mget\u001b[0m\u001b[0;34m(\u001b[0m\u001b[0mitem\u001b[0m\u001b[0;34m)\u001b[0m\u001b[0;34m\u001b[0m\u001b[0m\n\u001b[1;32m   1344\u001b[0m         \u001b[0;32mif\u001b[0m \u001b[0mres\u001b[0m \u001b[0;32mis\u001b[0m \u001b[0;32mNone\u001b[0m\u001b[0;34m:\u001b[0m\u001b[0;34m\u001b[0m\u001b[0m\n\u001b[0;32m-> 1345\u001b[0;31m             \u001b[0mvalues\u001b[0m \u001b[0;34m=\u001b[0m \u001b[0mself\u001b[0m\u001b[0;34m.\u001b[0m\u001b[0m_data\u001b[0m\u001b[0;34m.\u001b[0m\u001b[0mget\u001b[0m\u001b[0;34m(\u001b[0m\u001b[0mitem\u001b[0m\u001b[0;34m)\u001b[0m\u001b[0;34m\u001b[0m\u001b[0m\n\u001b[0m\u001b[1;32m   1346\u001b[0m             \u001b[0mres\u001b[0m \u001b[0;34m=\u001b[0m \u001b[0mself\u001b[0m\u001b[0;34m.\u001b[0m\u001b[0m_box_item_values\u001b[0m\u001b[0;34m(\u001b[0m\u001b[0mitem\u001b[0m\u001b[0;34m,\u001b[0m \u001b[0mvalues\u001b[0m\u001b[0;34m)\u001b[0m\u001b[0;34m\u001b[0m\u001b[0m\n\u001b[1;32m   1347\u001b[0m             \u001b[0mcache\u001b[0m\u001b[0;34m[\u001b[0m\u001b[0mitem\u001b[0m\u001b[0;34m]\u001b[0m \u001b[0;34m=\u001b[0m \u001b[0mres\u001b[0m\u001b[0;34m\u001b[0m\u001b[0m\n",
      "\u001b[0;32m//anaconda/lib/python3.5/site-packages/pandas/core/internals.py\u001b[0m in \u001b[0;36mget\u001b[0;34m(self, item, fastpath)\u001b[0m\n\u001b[1;32m   3223\u001b[0m \u001b[0;34m\u001b[0m\u001b[0m\n\u001b[1;32m   3224\u001b[0m             \u001b[0;32mif\u001b[0m \u001b[0;32mnot\u001b[0m \u001b[0misnull\u001b[0m\u001b[0;34m(\u001b[0m\u001b[0mitem\u001b[0m\u001b[0;34m)\u001b[0m\u001b[0;34m:\u001b[0m\u001b[0;34m\u001b[0m\u001b[0m\n\u001b[0;32m-> 3225\u001b[0;31m                 \u001b[0mloc\u001b[0m \u001b[0;34m=\u001b[0m \u001b[0mself\u001b[0m\u001b[0;34m.\u001b[0m\u001b[0mitems\u001b[0m\u001b[0;34m.\u001b[0m\u001b[0mget_loc\u001b[0m\u001b[0;34m(\u001b[0m\u001b[0mitem\u001b[0m\u001b[0;34m)\u001b[0m\u001b[0;34m\u001b[0m\u001b[0m\n\u001b[0m\u001b[1;32m   3226\u001b[0m             \u001b[0;32melse\u001b[0m\u001b[0;34m:\u001b[0m\u001b[0;34m\u001b[0m\u001b[0m\n\u001b[1;32m   3227\u001b[0m                 \u001b[0mindexer\u001b[0m \u001b[0;34m=\u001b[0m \u001b[0mnp\u001b[0m\u001b[0;34m.\u001b[0m\u001b[0marange\u001b[0m\u001b[0;34m(\u001b[0m\u001b[0mlen\u001b[0m\u001b[0;34m(\u001b[0m\u001b[0mself\u001b[0m\u001b[0;34m.\u001b[0m\u001b[0mitems\u001b[0m\u001b[0;34m)\u001b[0m\u001b[0;34m)\u001b[0m\u001b[0;34m[\u001b[0m\u001b[0misnull\u001b[0m\u001b[0;34m(\u001b[0m\u001b[0mself\u001b[0m\u001b[0;34m.\u001b[0m\u001b[0mitems\u001b[0m\u001b[0;34m)\u001b[0m\u001b[0;34m]\u001b[0m\u001b[0;34m\u001b[0m\u001b[0m\n",
      "\u001b[0;32m//anaconda/lib/python3.5/site-packages/pandas/indexes/base.py\u001b[0m in \u001b[0;36mget_loc\u001b[0;34m(self, key, method, tolerance)\u001b[0m\n\u001b[1;32m   1876\u001b[0m                 \u001b[0;32mreturn\u001b[0m \u001b[0mself\u001b[0m\u001b[0;34m.\u001b[0m\u001b[0m_engine\u001b[0m\u001b[0;34m.\u001b[0m\u001b[0mget_loc\u001b[0m\u001b[0;34m(\u001b[0m\u001b[0mkey\u001b[0m\u001b[0;34m)\u001b[0m\u001b[0;34m\u001b[0m\u001b[0m\n\u001b[1;32m   1877\u001b[0m             \u001b[0;32mexcept\u001b[0m \u001b[0mKeyError\u001b[0m\u001b[0;34m:\u001b[0m\u001b[0;34m\u001b[0m\u001b[0m\n\u001b[0;32m-> 1878\u001b[0;31m                 \u001b[0;32mreturn\u001b[0m \u001b[0mself\u001b[0m\u001b[0;34m.\u001b[0m\u001b[0m_engine\u001b[0m\u001b[0;34m.\u001b[0m\u001b[0mget_loc\u001b[0m\u001b[0;34m(\u001b[0m\u001b[0mself\u001b[0m\u001b[0;34m.\u001b[0m\u001b[0m_maybe_cast_indexer\u001b[0m\u001b[0;34m(\u001b[0m\u001b[0mkey\u001b[0m\u001b[0;34m)\u001b[0m\u001b[0;34m)\u001b[0m\u001b[0;34m\u001b[0m\u001b[0m\n\u001b[0m\u001b[1;32m   1879\u001b[0m \u001b[0;34m\u001b[0m\u001b[0m\n\u001b[1;32m   1880\u001b[0m         \u001b[0mindexer\u001b[0m \u001b[0;34m=\u001b[0m \u001b[0mself\u001b[0m\u001b[0;34m.\u001b[0m\u001b[0mget_indexer\u001b[0m\u001b[0;34m(\u001b[0m\u001b[0;34m[\u001b[0m\u001b[0mkey\u001b[0m\u001b[0;34m]\u001b[0m\u001b[0;34m,\u001b[0m \u001b[0mmethod\u001b[0m\u001b[0;34m=\u001b[0m\u001b[0mmethod\u001b[0m\u001b[0;34m,\u001b[0m \u001b[0mtolerance\u001b[0m\u001b[0;34m=\u001b[0m\u001b[0mtolerance\u001b[0m\u001b[0;34m)\u001b[0m\u001b[0;34m\u001b[0m\u001b[0m\n",
      "\u001b[0;32mpandas/index.pyx\u001b[0m in \u001b[0;36mpandas.index.IndexEngine.get_loc (pandas/index.c:4027)\u001b[0;34m()\u001b[0m\n",
      "\u001b[0;32mpandas/index.pyx\u001b[0m in \u001b[0;36mpandas.index.IndexEngine.get_loc (pandas/index.c:3891)\u001b[0;34m()\u001b[0m\n",
      "\u001b[0;32mpandas/hashtable.pyx\u001b[0m in \u001b[0;36mpandas.hashtable.PyObjectHashTable.get_item (pandas/hashtable.c:12408)\u001b[0;34m()\u001b[0m\n",
      "\u001b[0;32mpandas/hashtable.pyx\u001b[0m in \u001b[0;36mpandas.hashtable.PyObjectHashTable.get_item (pandas/hashtable.c:12359)\u001b[0;34m()\u001b[0m\n",
      "\u001b[0;31mKeyError\u001b[0m: 'cholesterol'"
     ]
    }
   ],
   "source": [
    "sns.kdeplot(us['cholesterol'], label='US')\n",
    "sns.kdeplot(euro['cholesterol'], label='Euro')"
   ]
  },
  {
   "cell_type": "code",
   "execution_count": 137,
   "metadata": {
    "collapsed": false
   },
   "outputs": [
    {
     "data": {
      "text/plain": [
       "1420.0"
      ]
     },
     "execution_count": 137,
     "metadata": {},
     "output_type": "execute_result"
    }
   ],
   "source": [
    "euro['energy_from_fat_100g'].max()"
   ]
  },
  {
   "cell_type": "code",
   "execution_count": 120,
   "metadata": {
    "collapsed": false
   },
   "outputs": [
    {
     "data": {
      "image/png": "[encoded data removed]",
      "text/plain": [
       "<matplotlib.figure.Figure at 0x1023139e8>"
      ]
     },
     "metadata": {},
     "output_type": "display_data"
    }
   ],
   "source": [
    "top_features = corr_df.iloc[0:4, :]['feature']\n",
    "g = sns.pairplot(train[top_features])"
   ]
  },
  {
   "cell_type": "code",
   "execution_count": null,
   "metadata": {
    "collapsed": false
   },
   "outputs": [],
   "source": [
    "(X, y) = makeTrainingSet()\n",
    "(Xtrain, Xtest, yTrain, yTest) = cross_validation.train_test_split(X, y)\n",
    "clf = LogisticRegression(class_weight='balanced')\n",
    "clf.fit(Xtrain, yTrain)\n",
    "print('F1 Score: {}'.format(f1_score(yTest.values, clf.predict(Xtest.values))))\n",
    "print('AUC: {}'.format(roc_auc_score(clf.predict(Xtest.values), yTest.values)))\n",
    "print('Precision: {}'.format(precision_score(y_true=yTest.values,y_pred= clf.predict(Xtest.values))))\n",
    "print('Recall: {}'.format(recall_score(y_true=yTest.values,y_pred= clf.predict(Xtest.values))))\n",
    "print('Accuracy: {}'.format(accuracy_score(y_true=yTest.values,y_pred= clf.predict(Xtest.values))))"
   ]
  },
  {
   "cell_type": "markdown",
   "metadata": {},
   "source": [
    "We might as well be guessing randomly. Particularly, the precision score indicates we're making many false positive errors, predicting European foods as US foods."
   ]
  },
  {
   "cell_type": "code",
   "execution_count": null,
   "metadata": {
    "collapsed": false
   },
   "outputs": [],
   "source": [
    "(Xtrain, Xtest, yTrain, yTest) = cross_validation.train_test_split(X, y)\n",
    "clf = rf(class_weight='balanced', max_depth=5)\n",
    "clf.fit(Xtrain, yTrain)\n",
    "print('F1 Score: {}'.format(f1_score(yTest.values, clf.predict(Xtest.values))))\n",
    "print('AUC: {}'.format(roc_auc_score(clf.predict(Xtest.values), yTest.values)))\n",
    "print('Precision: {}'.format(precision_score(y_true=yTest.values,y_pred= clf.predict(Xtest.values))))\n",
    "print('Recall: {}'.format(recall_score(ytrue=yTest.values,y_pred= clf.predict(Xtest.values))))\n",
    "print('Accuracy: {}'.format(accuracy_score(y_true=yTest.values,y_pred= clf.predict(Xtest.values))))"
   ]
  },
  {
   "cell_type": "code",
   "execution_count": null,
   "metadata": {
    "collapsed": false
   },
   "outputs": [],
   "source": [
    "plt.scatter(train.energy_from_fat_100g, train.cholesterol_100g, c=train.isEuro)\n",
    "plt.xlabel('energy from fat')\n",
    "plt.ylabel('cholesterol')\n",
    "plt.legend(loc='best')"
   ]
  },
  {
   "cell_type": "code",
   "execution_count": 109,
   "metadata": {
    "collapsed": false
   },
   "outputs": [
    {
     "name": "stdout",
     "output_type": "stream",
     "text": [
      "AUC: 0.9767249220374221\n",
      "AUC: 0.98399515529025\n",
      "AUC: 0.9644384608417118\n",
      "AUC: 0.9506822481728231\n",
      "AUC: 0.9741364919007409\n",
      "Avg acc.: 0.9668236158998245, Std: 0.0018634463432022122\n"
     ]
    }
   ],
   "source": [
    "X = train.drop(['isUS'], axis=1).values\n",
    "y = train['isUS'].values\n",
    "skf = cross_validation.StratifiedKFold(y, n_folds=5)\n",
    "scores = []\n",
    "clf = LogisticRegression()\n",
    "for train_i, test_i in skf:    \n",
    "    clf.fit(X[train_i], y[train_i])\n",
    "    preds = clf.predict(X[test_i])\n",
    "    scores.append(accuracy_score(y_true=y[test_i],y_pred= preds))\n",
    "    print('AUC: {}'.format(roc_auc_score(preds, y[test_i])))\n",
    "\n",
    "print('Avg acc.: {}, Std: {}'.format(np.mean(scores), np.std(scores)))\n",
    "\n"
   ]
  },
  {
   "cell_type": "code",
   "execution_count": 110,
   "metadata": {
    "collapsed": false
   },
   "outputs": [
    {
     "data": {
      "text/html": [
       "<div>\n",
       "<table border=\"1\" class=\"dataframe\">\n",
       "  <thead>\n",
       "    <tr style=\"text-align: right;\">\n",
       "      <th></th>\n",
       "      <th>absVal</th>\n",
       "      <th>feature</th>\n",
       "      <th>value</th>\n",
       "    </tr>\n",
       "  </thead>\n",
       "  <tbody>\n",
       "    <tr>\n",
       "      <th>7</th>\n",
       "      <td>0.607</td>\n",
       "      <td>omega_3_fat_100g</td>\n",
       "      <td>-0.607</td>\n",
       "    </tr>\n",
       "    <tr>\n",
       "      <th>10</th>\n",
       "      <td>0.538</td>\n",
       "      <td>cholesterol_100g</td>\n",
       "      <td>0.538</td>\n",
       "    </tr>\n",
       "    <tr>\n",
       "      <th>35</th>\n",
       "      <td>0.520</td>\n",
       "      <td>phosphorus_100g</td>\n",
       "      <td>0.520</td>\n",
       "    </tr>\n",
       "    <tr>\n",
       "      <th>8</th>\n",
       "      <td>0.226</td>\n",
       "      <td>alpha_linolenic_acid_100g</td>\n",
       "      <td>-0.226</td>\n",
       "    </tr>\n",
       "    <tr>\n",
       "      <th>38</th>\n",
       "      <td>0.177</td>\n",
       "      <td>zinc_100g</td>\n",
       "      <td>0.177</td>\n",
       "    </tr>\n",
       "    <tr>\n",
       "      <th>29</th>\n",
       "      <td>0.172</td>\n",
       "      <td>vitamin_b9_100g</td>\n",
       "      <td>0.172</td>\n",
       "    </tr>\n",
       "    <tr>\n",
       "      <th>13</th>\n",
       "      <td>0.160</td>\n",
       "      <td>lactose_100g</td>\n",
       "      <td>-0.160</td>\n",
       "    </tr>\n",
       "    <tr>\n",
       "      <th>48</th>\n",
       "      <td>0.139</td>\n",
       "      <td>carbon_footprint_100g</td>\n",
       "      <td>-0.139</td>\n",
       "    </tr>\n",
       "    <tr>\n",
       "      <th>30</th>\n",
       "      <td>0.135</td>\n",
       "      <td>vitamin_b12_100g</td>\n",
       "      <td>0.135</td>\n",
       "    </tr>\n",
       "    <tr>\n",
       "      <th>9</th>\n",
       "      <td>0.103</td>\n",
       "      <td>trans_fat_100g</td>\n",
       "      <td>-0.103</td>\n",
       "    </tr>\n",
       "  </tbody>\n",
       "</table>\n",
       "</div>"
      ],
      "text/plain": [
       "    absVal                    feature  value\n",
       "7    0.607           omega_3_fat_100g -0.607\n",
       "10   0.538           cholesterol_100g  0.538\n",
       "35   0.520            phosphorus_100g  0.520\n",
       "8    0.226  alpha_linolenic_acid_100g -0.226\n",
       "38   0.177                  zinc_100g  0.177\n",
       "29   0.172            vitamin_b9_100g  0.172\n",
       "13   0.160               lactose_100g -0.160\n",
       "48   0.139      carbon_footprint_100g -0.139\n",
       "30   0.135           vitamin_b12_100g  0.135\n",
       "9    0.103             trans_fat_100g -0.103"
      ]
     },
     "execution_count": 110,
     "metadata": {},
     "output_type": "execute_result"
    }
   ],
   "source": [
    "strat_df = makeCoefDf(clf, train.drop(['isUS'], axis=1))\n",
    "strat_df.iloc[0:10, :]"
   ]
  },
  {
   "cell_type": "markdown",
   "metadata": {},
   "source": [
    "### Let's explore the how US and Euro foods differ within food categories"
   ]
  }
 ],
 "metadata": {
  "kernelspec": {
   "display_name": "Python 3",
   "language": "python",
   "name": "python3"
  },
  "language_info": {
   "codemirror_mode": {
    "name": "ipython",
    "version": 3
   },
   "file_extension": ".py",
   "mimetype": "text/x-python",
   "name": "python",
   "nbconvert_exporter": "python",
   "pygments_lexer": "ipython3",
   "version": "3.5.1"
  }
 },
 "nbformat": 4,
 "nbformat_minor": 0
}
