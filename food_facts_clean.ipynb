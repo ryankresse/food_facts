{
 "cells": [
  {
   "cell_type": "code",
   "execution_count": 2,
   "metadata": {
    "collapsed": false
   },
   "outputs": [],
   "source": [
    "%matplotlib inline\n",
    "import numpy as np\n",
    "import pandas as pd\n",
    "import seaborn as sns\n",
    "import matplotlib.pyplot as plt\n",
    "from sklearn import cross_validation\n",
    "from sklearn.grid_search import GridSearchCV\n",
    "from sklearn.metrics import roc_auc_score, f1_score, precision_score, recall_score, accuracy_score, roc_curve, auc, confusion_matrix\n",
    "from sklearn.preprocessing import StandardScaler\n",
    "from scipy import interp\n",
    "pd.set_option('display.float_format', lambda x: '%.3f' % x)\n",
    "\n"
   ]
  },
  {
   "cell_type": "code",
   "execution_count": 6,
   "metadata": {
    "collapsed": false
   },
   "outputs": [
    {
     "name": "stderr",
     "output_type": "stream",
     "text": [
      "//anaconda/lib/python3.5/site-packages/IPython/core/interactiveshell.py:2723: DtypeWarning: Columns (0,3,5,27,36) have mixed types. Specify dtype option on import or set low_memory=False.\n",
      "  interactivity=interactivity, compiler=compiler, result=result)\n"
     ]
    }
   ],
   "source": [
    "df = pd.read_csv('FoodFacts.csv')"
   ]
  },
  {
   "cell_type": "markdown",
   "metadata": {},
   "source": [
    "## Setup"
   ]
  },
  {
   "cell_type": "code",
   "execution_count": 7,
   "metadata": {
    "collapsed": false
   },
   "outputs": [],
   "source": [
    "# These columns probably don't contain info we're interested in.\n",
    "df.drop(['code', 'created_t', 'last_modified_datetime'], axis=1, inplace=True)"
   ]
  },
  {
   "cell_type": "markdown",
   "metadata": {},
   "source": [
    "Split the foods by country. Credit to [Christina](https://www.kaggle.com/christinampoid/d/openfoodfacts/world-food-facts/europe-habits)\n",
    "\n"
   ]
  },
  {
   "cell_type": "code",
   "execution_count": 8,
   "metadata": {
    "collapsed": false
   },
   "outputs": [],
   "source": [
    "#labels: list of Strings with country names\n",
    "#returns the rows that have as country name any of the names in labels\n",
    "def get_rows_country(labels):\n",
    "    return df[df.countries.isin(labels)]\n",
    "\n",
    "#labels: list of Strings with country names\n",
    "#returns the categories and the percentage that appear in the rows of a particular country\n",
    "def get_categories_counts(labels):\n",
    "    rows = get_rows_country(labels)\n",
    "    food_country = rows.main_category_en.value_counts() / len(rows)*100\n",
    "    return food_country\n",
    "\n",
    "#France\n",
    "labels_france = ['France', 'en:FR', 'France,Europe','Belgique,France']\n",
    "french_food = get_rows_country(labels_france)\n",
    "\n",
    "#Spain\n",
    "labels_spain = ['España','en:ES','Espagne','Spain']\n",
    "spanish_food = get_rows_country(labels_spain)\n",
    "\n",
    "#Germany\n",
    "labels_germany = ['Deutschland','Germany','Allemagne','en:DE']\n",
    "german_food = get_rows_country(labels_germany)\n",
    "\n",
    "#United Kingdom\n",
    "labels_uk = ['en:UK','United Kingdom','en:GB','uk','UK']\n",
    "uk_food = get_rows_country(labels_uk)\n",
    "\n",
    "#Belgium\n",
    "labels_belgium = ['Belgique','en:BE','Belgique,France','Belgium','Belgique,France']\n",
    "belgium_food = get_rows_country(labels_belgium)\n",
    "\n",
    "#Italia\n",
    "labels_italia = ['Italia','en:IT','Italie']\n",
    "italian_food = get_rows_country(labels_italia)\n",
    "\n",
    "#Switzerland\n",
    "labels_switzerland = ['Suisse','Switzerland']\n",
    "suisse_food = get_rows_country(labels_switzerland)\n",
    "\n",
    "#Netherlands\n",
    "labels_netherlands = ['Netherlands', 'Holland']\n",
    "holland_food = get_rows_country(labels_netherlands)\n",
    "\n",
    "#Denmark\n",
    "labels_denmark = ['Denmark','Dänemark']\n",
    "dannish_food = get_rows_country(labels_denmark)\n",
    "\n",
    "#Portugal\n",
    "labels_portugal = ['Portugal','en:portugal']\n",
    "portuguese_food = get_rows_country(labels_portugal)\n",
    "\n",
    "#Greece\n",
    "labels_greece = ['Greece','en:GR','Grèce','en:greece']\n",
    "greek_food = get_rows_country(labels_greece)\n",
    "\n",
    "#Sweden\n",
    "labels_sweden = ['Sweden','en:SE','en:sweden']\n",
    "swedish_food = get_rows_country(labels_sweden)\n",
    "\n",
    "#Norway\n",
    "labels_norway = ['Norway','en:NO','en:norway']\n",
    "norwegian_food = get_rows_country(labels_norway)\n",
    "\n",
    "#Croatia\n",
    "labels_croatia = ['Croatia','en:HR','en:croatia']\n",
    "croatian_food = get_rows_country(labels_croatia)\n",
    "\n",
    "#Albania\n",
    "labels_albania = ['Albania','en:AL','en:albania']\n",
    "albanian_food = get_rows_country(labels_albania)\n",
    "\n",
    "labels_usa = ['United States', 'en:US', 'US', 'USA', 'en:united-states','United states', 'united states', 'United States of America']\n",
    "usa = get_rows_country(labels_usa)\n",
    "europe = pd.concat([french_food,\n",
    "                    spanish_food,\n",
    "                    german_food, \n",
    "                    uk_food, \n",
    "                    belgium_food, \n",
    "                    italian_food, \n",
    "                    suisse_food,\n",
    "                    holland_food,\n",
    "                    dannish_food, \n",
    "                    portuguese_food, \n",
    "                    greek_food, \n",
    "                    swedish_food,\n",
    "                    norwegian_food,\n",
    "                    croatian_food, \n",
    "                    albanian_food])"
   ]
  },
  {
   "cell_type": "markdown",
   "metadata": {},
   "source": [
    "Let's keep only the numeric columns, and while we're at it, let's remove any columns that have only NA entries in either of the dataframes, as those won't help us compare European foods to USA foods."
   ]
  },
  {
   "cell_type": "code",
   "execution_count": 9,
   "metadata": {
    "collapsed": false
   },
   "outputs": [
    {
     "name": "stdout",
     "output_type": "stream",
     "text": [
      "(55942, 53)\n",
      "(2413, 53)\n"
     ]
    }
   ],
   "source": [
    "usaNumOnly = usa.select_dtypes(include=[np.number])\n",
    "europeNumOnly = europe.select_dtypes(include=[np.number])\n",
    "\n",
    "usaNaCols = [col for col in usaNumOnly.columns if usaNumOnly[col].isnull().all()]\n",
    "euroNaCols = [col for col in europeNumOnly.columns if europeNumOnly[col].isnull().all()]\n",
    "\n",
    "combinedNaCols = usaNaCols + euroNaCols\n",
    "\n",
    "usa = usa.drop(combinedNaCols, axis=1)\n",
    "europeNumOnly = europeNumOnly.drop(combinedNaCols, axis=1)\n",
    "print(europeNumOnly.shape)\n",
    "print(usaNumOnly.shape)\n"
   ]
  },
  {
   "cell_type": "markdown",
   "metadata": {},
   "source": [
    "Let's add a feature to differentiate the US from Euro foods. We'll fill na's with 0, assuming, perhaps naively, that if something isn't on a food's label, it's doesn't contain it."
   ]
  },
  {
   "cell_type": "code",
   "execution_count": 10,
   "metadata": {
    "collapsed": false
   },
   "outputs": [],
   "source": [
    "usaNumOnly['isUS'] = 1\n",
    "europeNumOnly['isUS'] = 0\n",
    "train = pd.concat([usaNumOnly, europeNumOnly])\n",
    "train = train.fillna(0, axis=0)\n"
   ]
  },
  {
   "cell_type": "markdown",
   "metadata": {},
   "source": [
    "Lastly, let's drop a few more columns. Palm oil is required on food labels in Europe but not in the US. So we'll drop those. Palm oil is actually fairly interesting:\n",
    "- https://www.theguardian.com/sustainable-business/2014/dec/12/eu-labelling-changes-palm-oil-consumer-change\n",
    "- http://www.eurofoodlaw.com/labelling/analysis-palm-oil-no-longer-a-hidden-ingredient-108325.htm\n",
    "\n",
    "We'll also drop the British and French nurtition scores."
   ]
  },
  {
   "cell_type": "code",
   "execution_count": 11,
   "metadata": {
    "collapsed": false
   },
   "outputs": [
    {
     "data": {
      "text/html": [
       "<div>\n",
       "<table border=\"1\" class=\"dataframe\">\n",
       "  <thead>\n",
       "    <tr style=\"text-align: right;\">\n",
       "      <th></th>\n",
       "      <th>additives_n</th>\n",
       "      <th>energy_100g</th>\n",
       "      <th>energy_from_fat_100g</th>\n",
       "      <th>fat_100g</th>\n",
       "      <th>saturated_fat_100g</th>\n",
       "      <th>monounsaturated_fat_100g</th>\n",
       "      <th>polyunsaturated_fat_100g</th>\n",
       "      <th>omega_3_fat_100g</th>\n",
       "      <th>alpha_linolenic_acid_100g</th>\n",
       "      <th>trans_fat_100g</th>\n",
       "      <th>...</th>\n",
       "      <th>manganese_100g</th>\n",
       "      <th>selenium_100g</th>\n",
       "      <th>chromium_100g</th>\n",
       "      <th>molybdenum_100g</th>\n",
       "      <th>iodine_100g</th>\n",
       "      <th>caffeine_100g</th>\n",
       "      <th>fruits_vegetables_nuts_100g</th>\n",
       "      <th>cocoa_100g</th>\n",
       "      <th>carbon_footprint_100g</th>\n",
       "      <th>isUS</th>\n",
       "    </tr>\n",
       "  </thead>\n",
       "  <tbody>\n",
       "    <tr>\n",
       "      <th>20</th>\n",
       "      <td>0.000</td>\n",
       "      <td>0.000</td>\n",
       "      <td>0.000</td>\n",
       "      <td>0.000</td>\n",
       "      <td>0.000</td>\n",
       "      <td>0.000</td>\n",
       "      <td>0.000</td>\n",
       "      <td>0.000</td>\n",
       "      <td>0.000</td>\n",
       "      <td>0.000</td>\n",
       "      <td>...</td>\n",
       "      <td>0.000</td>\n",
       "      <td>0.000</td>\n",
       "      <td>0.000</td>\n",
       "      <td>0.000</td>\n",
       "      <td>0.000</td>\n",
       "      <td>0.000</td>\n",
       "      <td>0.000</td>\n",
       "      <td>0.000</td>\n",
       "      <td>0.000</td>\n",
       "      <td>1</td>\n",
       "    </tr>\n",
       "    <tr>\n",
       "      <th>56</th>\n",
       "      <td>0.000</td>\n",
       "      <td>0.000</td>\n",
       "      <td>0.000</td>\n",
       "      <td>0.000</td>\n",
       "      <td>0.000</td>\n",
       "      <td>0.000</td>\n",
       "      <td>0.000</td>\n",
       "      <td>0.000</td>\n",
       "      <td>0.000</td>\n",
       "      <td>0.000</td>\n",
       "      <td>...</td>\n",
       "      <td>0.000</td>\n",
       "      <td>0.000</td>\n",
       "      <td>0.000</td>\n",
       "      <td>0.000</td>\n",
       "      <td>0.000</td>\n",
       "      <td>0.000</td>\n",
       "      <td>0.000</td>\n",
       "      <td>0.000</td>\n",
       "      <td>0.000</td>\n",
       "      <td>1</td>\n",
       "    </tr>\n",
       "    <tr>\n",
       "      <th>78</th>\n",
       "      <td>0.000</td>\n",
       "      <td>0.000</td>\n",
       "      <td>0.000</td>\n",
       "      <td>0.000</td>\n",
       "      <td>0.000</td>\n",
       "      <td>0.000</td>\n",
       "      <td>0.000</td>\n",
       "      <td>0.000</td>\n",
       "      <td>0.000</td>\n",
       "      <td>0.000</td>\n",
       "      <td>...</td>\n",
       "      <td>0.000</td>\n",
       "      <td>0.000</td>\n",
       "      <td>0.000</td>\n",
       "      <td>0.000</td>\n",
       "      <td>0.000</td>\n",
       "      <td>0.000</td>\n",
       "      <td>0.000</td>\n",
       "      <td>0.000</td>\n",
       "      <td>0.000</td>\n",
       "      <td>1</td>\n",
       "    </tr>\n",
       "    <tr>\n",
       "      <th>83</th>\n",
       "      <td>0.000</td>\n",
       "      <td>0.000</td>\n",
       "      <td>0.000</td>\n",
       "      <td>0.000</td>\n",
       "      <td>0.000</td>\n",
       "      <td>0.000</td>\n",
       "      <td>0.000</td>\n",
       "      <td>0.000</td>\n",
       "      <td>0.000</td>\n",
       "      <td>0.000</td>\n",
       "      <td>...</td>\n",
       "      <td>0.000</td>\n",
       "      <td>0.000</td>\n",
       "      <td>0.000</td>\n",
       "      <td>0.000</td>\n",
       "      <td>0.000</td>\n",
       "      <td>0.000</td>\n",
       "      <td>0.000</td>\n",
       "      <td>0.000</td>\n",
       "      <td>0.000</td>\n",
       "      <td>1</td>\n",
       "    </tr>\n",
       "    <tr>\n",
       "      <th>87</th>\n",
       "      <td>3.000</td>\n",
       "      <td>761.000</td>\n",
       "      <td>275.000</td>\n",
       "      <td>7.580</td>\n",
       "      <td>4.040</td>\n",
       "      <td>0.000</td>\n",
       "      <td>0.000</td>\n",
       "      <td>0.000</td>\n",
       "      <td>0.000</td>\n",
       "      <td>0.000</td>\n",
       "      <td>...</td>\n",
       "      <td>0.000</td>\n",
       "      <td>0.000</td>\n",
       "      <td>0.000</td>\n",
       "      <td>0.000</td>\n",
       "      <td>0.000</td>\n",
       "      <td>0.000</td>\n",
       "      <td>0.000</td>\n",
       "      <td>0.000</td>\n",
       "      <td>0.000</td>\n",
       "      <td>1</td>\n",
       "    </tr>\n",
       "  </tbody>\n",
       "</table>\n",
       "<p>5 rows × 50 columns</p>\n",
       "</div>"
      ],
      "text/plain": [
       "    additives_n  energy_100g  energy_from_fat_100g  fat_100g  \\\n",
       "20        0.000        0.000                 0.000     0.000   \n",
       "56        0.000        0.000                 0.000     0.000   \n",
       "78        0.000        0.000                 0.000     0.000   \n",
       "83        0.000        0.000                 0.000     0.000   \n",
       "87        3.000      761.000               275.000     7.580   \n",
       "\n",
       "    saturated_fat_100g  monounsaturated_fat_100g  polyunsaturated_fat_100g  \\\n",
       "20               0.000                     0.000                     0.000   \n",
       "56               0.000                     0.000                     0.000   \n",
       "78               0.000                     0.000                     0.000   \n",
       "83               0.000                     0.000                     0.000   \n",
       "87               4.040                     0.000                     0.000   \n",
       "\n",
       "    omega_3_fat_100g  alpha_linolenic_acid_100g  trans_fat_100g  ...   \\\n",
       "20             0.000                      0.000           0.000  ...    \n",
       "56             0.000                      0.000           0.000  ...    \n",
       "78             0.000                      0.000           0.000  ...    \n",
       "83             0.000                      0.000           0.000  ...    \n",
       "87             0.000                      0.000           0.000  ...    \n",
       "\n",
       "    manganese_100g  selenium_100g  chromium_100g  molybdenum_100g  \\\n",
       "20           0.000          0.000          0.000            0.000   \n",
       "56           0.000          0.000          0.000            0.000   \n",
       "78           0.000          0.000          0.000            0.000   \n",
       "83           0.000          0.000          0.000            0.000   \n",
       "87           0.000          0.000          0.000            0.000   \n",
       "\n",
       "    iodine_100g  caffeine_100g  fruits_vegetables_nuts_100g  cocoa_100g  \\\n",
       "20        0.000          0.000                        0.000       0.000   \n",
       "56        0.000          0.000                        0.000       0.000   \n",
       "78        0.000          0.000                        0.000       0.000   \n",
       "83        0.000          0.000                        0.000       0.000   \n",
       "87        0.000          0.000                        0.000       0.000   \n",
       "\n",
       "    carbon_footprint_100g  isUS  \n",
       "20                  0.000     1  \n",
       "56                  0.000     1  \n",
       "78                  0.000     1  \n",
       "83                  0.000     1  \n",
       "87                  0.000     1  \n",
       "\n",
       "[5 rows x 50 columns]"
      ]
     },
     "execution_count": 11,
     "metadata": {},
     "output_type": "execute_result"
    }
   ],
   "source": [
    "colsToDrop = ['ingredients_from_palm_oil_n', \n",
    "              'ingredients_that_may_be_from_palm_oil_n', \n",
    "              'nutrition_score_uk_100g',\n",
    "              'nutrition_score_fr_100g']\n",
    "train = train.drop(colsToDrop, axis=1)\n",
    "train.head()"
   ]
  },
  {
   "cell_type": "markdown",
   "metadata": {},
   "source": [
    "## EDA"
   ]
  },
  {
   "cell_type": "markdown",
   "metadata": {},
   "source": [
    "Some helper functions."
   ]
  },
  {
   "cell_type": "code",
   "execution_count": 32,
   "metadata": {
    "collapsed": true
   },
   "outputs": [],
   "source": [
    "def makeTrainingSet(colsToDrop=[]):\n",
    "    X = train.drop(['isUS'] + colsToDrop, axis=1)\n",
    "    y = train['isUS']\n",
    "    return (X, y)\n",
    "\n",
    "def makeCoefDf(clf, X):\n",
    "    coef_df = pd.DataFrame({'value': clf.coef_[0], 'absVal': abs(clf.coef_[0]), 'feature': X.columns })\n",
    "    return coef_df.sort_values(by='absVal', ascending=False)\n",
    "\n",
    "def makeFeatureImpDf(clf, X):\n",
    "    coef_df = pd.DataFrame({'value': clf.feature_importances_[0], 'feature': X.columns })\n",
    "    return coef_df.sort_values(by='value', ascending=False)"
   ]
  },
  {
   "cell_type": "markdown",
   "metadata": {},
   "source": [
    "Let's see which features correlate most strongly with whether a food is from Europe or the US."
   ]
  },
  {
   "cell_type": "code",
   "execution_count": 12,
   "metadata": {
    "collapsed": false
   },
   "outputs": [
    {
     "data": {
      "text/html": [
       "<div>\n",
       "<table border=\"1\" class=\"dataframe\">\n",
       "  <thead>\n",
       "    <tr style=\"text-align: right;\">\n",
       "      <th></th>\n",
       "      <th>feature</th>\n",
       "      <th>pval</th>\n",
       "      <th>value</th>\n",
       "      <th>absVal</th>\n",
       "    </tr>\n",
       "  </thead>\n",
       "  <tbody>\n",
       "    <tr>\n",
       "      <th>2</th>\n",
       "      <td>energy_from_fat_100g</td>\n",
       "      <td>0.000</td>\n",
       "      <td>0.340</td>\n",
       "      <td>0.340</td>\n",
       "    </tr>\n",
       "    <tr>\n",
       "      <th>10</th>\n",
       "      <td>cholesterol_100g</td>\n",
       "      <td>0.000</td>\n",
       "      <td>0.199</td>\n",
       "      <td>0.199</td>\n",
       "    </tr>\n",
       "    <tr>\n",
       "      <th>9</th>\n",
       "      <td>trans_fat_100g</td>\n",
       "      <td>0.000</td>\n",
       "      <td>0.039</td>\n",
       "      <td>0.039</td>\n",
       "    </tr>\n",
       "    <tr>\n",
       "      <th>16</th>\n",
       "      <td>proteins_100g</td>\n",
       "      <td>0.000</td>\n",
       "      <td>-0.037</td>\n",
       "      <td>0.037</td>\n",
       "    </tr>\n",
       "    <tr>\n",
       "      <th>0</th>\n",
       "      <td>additives_n</td>\n",
       "      <td>0.000</td>\n",
       "      <td>-0.031</td>\n",
       "      <td>0.031</td>\n",
       "    </tr>\n",
       "    <tr>\n",
       "      <th>6</th>\n",
       "      <td>polyunsaturated_fat_100g</td>\n",
       "      <td>0.000</td>\n",
       "      <td>0.025</td>\n",
       "      <td>0.025</td>\n",
       "    </tr>\n",
       "    <tr>\n",
       "      <th>46</th>\n",
       "      <td>fruits_vegetables_nuts_100g</td>\n",
       "      <td>0.000</td>\n",
       "      <td>-0.022</td>\n",
       "      <td>0.022</td>\n",
       "    </tr>\n",
       "    <tr>\n",
       "      <th>42</th>\n",
       "      <td>chromium_100g</td>\n",
       "      <td>0.000</td>\n",
       "      <td>0.021</td>\n",
       "      <td>0.021</td>\n",
       "    </tr>\n",
       "    <tr>\n",
       "      <th>38</th>\n",
       "      <td>zinc_100g</td>\n",
       "      <td>0.000</td>\n",
       "      <td>0.021</td>\n",
       "      <td>0.021</td>\n",
       "    </tr>\n",
       "    <tr>\n",
       "      <th>1</th>\n",
       "      <td>energy_100g</td>\n",
       "      <td>0.000</td>\n",
       "      <td>-0.021</td>\n",
       "      <td>0.021</td>\n",
       "    </tr>\n",
       "  </tbody>\n",
       "</table>\n",
       "</div>"
      ],
      "text/plain": [
       "                        feature  pval  value  absVal\n",
       "2          energy_from_fat_100g 0.000  0.340   0.340\n",
       "10             cholesterol_100g 0.000  0.199   0.199\n",
       "9                trans_fat_100g 0.000  0.039   0.039\n",
       "16                proteins_100g 0.000 -0.037   0.037\n",
       "0                   additives_n 0.000 -0.031   0.031\n",
       "6      polyunsaturated_fat_100g 0.000  0.025   0.025\n",
       "46  fruits_vegetables_nuts_100g 0.000 -0.022   0.022\n",
       "42                chromium_100g 0.000  0.021   0.021\n",
       "38                    zinc_100g 0.000  0.021   0.021\n",
       "1                   energy_100g 0.000 -0.021   0.021"
      ]
     },
     "execution_count": 12,
     "metadata": {},
     "output_type": "execute_result"
    }
   ],
   "source": [
    "corr_df = pd.DataFrame({'feature': [], 'pval': [], 'value': []})\n",
    "\n",
    "from scipy.stats import pointbiserialr\n",
    "\n",
    "for col in train.drop(['isUS'], axis= 1).columns:\n",
    "    corr = pointbiserialr(train['isUS'].values, train[col].values)\n",
    "    corr_df = corr_df.append(pd.Series({'feature': col, 'pval':corr.pvalue, 'value': corr.correlation, 'absVal': abs(corr.correlation)}), ignore_index=True)\n",
    "\n",
    "corr_df.sort_values(by='absVal', ascending=False, inplace=True)\n",
    "corr_df.iloc[0:10, :]"
   ]
  },
  {
   "cell_type": "markdown",
   "metadata": {},
   "source": [
    "Let's take a closer look at energy_from_fat and cholesterol"
   ]
  },
  {
   "cell_type": "code",
   "execution_count": 13,
   "metadata": {
    "collapsed": false
   },
   "outputs": [
    {
     "data": {
      "text/html": [
       "<div>\n",
       "<table border=\"1\" class=\"dataframe\">\n",
       "  <thead>\n",
       "    <tr style=\"text-align: right;\">\n",
       "      <th></th>\n",
       "      <th>energy_from_fat_100g</th>\n",
       "      <th>cholesterol_100g</th>\n",
       "    </tr>\n",
       "    <tr>\n",
       "      <th>isUS</th>\n",
       "      <th></th>\n",
       "      <th></th>\n",
       "    </tr>\n",
       "  </thead>\n",
       "  <tbody>\n",
       "    <tr>\n",
       "      <th>0</th>\n",
       "      <td>0.063</td>\n",
       "      <td>0.000</td>\n",
       "    </tr>\n",
       "    <tr>\n",
       "      <th>1</th>\n",
       "      <td>171.939</td>\n",
       "      <td>0.007</td>\n",
       "    </tr>\n",
       "  </tbody>\n",
       "</table>\n",
       "</div>"
      ],
      "text/plain": [
       "      energy_from_fat_100g  cholesterol_100g\n",
       "isUS                                        \n",
       "0                    0.063             0.000\n",
       "1                  171.939             0.007"
      ]
     },
     "execution_count": 13,
     "metadata": {},
     "output_type": "execute_result"
    }
   ],
   "source": [
    "train.groupby('isUS')[['energy_from_fat_100g', 'cholesterol_100g']].mean()"
   ]
  },
  {
   "cell_type": "code",
   "execution_count": 33,
   "metadata": {
    "collapsed": false
   },
   "outputs": [
    {
     "data": {
      "text/html": [
       "<div>\n",
       "<table border=\"1\" class=\"dataframe\">\n",
       "  <thead>\n",
       "    <tr style=\"text-align: right;\">\n",
       "      <th></th>\n",
       "      <th>product_name</th>\n",
       "      <th>energy_from_fat_100g</th>\n",
       "    </tr>\n",
       "  </thead>\n",
       "  <tbody>\n",
       "    <tr>\n",
       "      <th>5141</th>\n",
       "      <td>Lemon Ginger</td>\n",
       "      <td>3740.000</td>\n",
       "    </tr>\n",
       "    <tr>\n",
       "      <th>683</th>\n",
       "      <td>Virgin coconut oil</td>\n",
       "      <td>3590.000</td>\n",
       "    </tr>\n",
       "    <tr>\n",
       "      <th>641</th>\n",
       "      <td>Corn Oil</td>\n",
       "      <td>3350.000</td>\n",
       "    </tr>\n",
       "    <tr>\n",
       "      <th>3612</th>\n",
       "      <td>NaN</td>\n",
       "      <td>3350.000</td>\n",
       "    </tr>\n",
       "    <tr>\n",
       "      <th>2922</th>\n",
       "      <td>Mayonnaise</td>\n",
       "      <td>3220.000</td>\n",
       "    </tr>\n",
       "    <tr>\n",
       "      <th>2934</th>\n",
       "      <td>Mayonnaise</td>\n",
       "      <td>3220.000</td>\n",
       "    </tr>\n",
       "    <tr>\n",
       "      <th>2276</th>\n",
       "      <td>Grade AA Butter</td>\n",
       "      <td>2990.000</td>\n",
       "    </tr>\n",
       "    <tr>\n",
       "      <th>4653</th>\n",
       "      <td>Sweat Cream Butter</td>\n",
       "      <td>2990.000</td>\n",
       "    </tr>\n",
       "    <tr>\n",
       "      <th>1672</th>\n",
       "      <td>Real Mayonnaise</td>\n",
       "      <td>2990.000</td>\n",
       "    </tr>\n",
       "    <tr>\n",
       "      <th>1000</th>\n",
       "      <td>Real Mayonnaise</td>\n",
       "      <td>2990.000</td>\n",
       "    </tr>\n",
       "  </tbody>\n",
       "</table>\n",
       "</div>"
      ],
      "text/plain": [
       "            product_name  energy_from_fat_100g\n",
       "5141        Lemon Ginger              3740.000\n",
       "683   Virgin coconut oil              3590.000\n",
       "641             Corn Oil              3350.000\n",
       "3612                 NaN              3350.000\n",
       "2922          Mayonnaise              3220.000\n",
       "2934          Mayonnaise              3220.000\n",
       "2276     Grade AA Butter              2990.000\n",
       "4653  Sweat Cream Butter              2990.000\n",
       "1672     Real Mayonnaise              2990.000\n",
       "1000     Real Mayonnaise              2990.000"
      ]
     },
     "execution_count": 33,
     "metadata": {},
     "output_type": "execute_result"
    }
   ],
   "source": [
    "usaFattiest = train[train['isUS'] == 1].energy_from_fat_100g.sort_values(ascending=False)\n",
    "usa.ix[usaFattiest.index.values, :][['product_name', 'energy_from_fat_100g']].head(10)"
   ]
  },
  {
   "cell_type": "code",
   "execution_count": 35,
   "metadata": {
    "collapsed": false
   },
   "outputs": [
    {
     "data": {
      "text/html": [
       "<div>\n",
       "<table border=\"1\" class=\"dataframe\">\n",
       "  <thead>\n",
       "    <tr style=\"text-align: right;\">\n",
       "      <th></th>\n",
       "      <th>product_name</th>\n",
       "      <th>energy_from_fat_100g</th>\n",
       "    </tr>\n",
       "  </thead>\n",
       "  <tbody>\n",
       "    <tr>\n",
       "      <th>5217</th>\n",
       "      <td>Dark Chocolate with Almonds</td>\n",
       "      <td>1420.000</td>\n",
       "    </tr>\n",
       "    <tr>\n",
       "      <th>59124</th>\n",
       "      <td>Chocolat au lait et gaufrette</td>\n",
       "      <td>1140.000</td>\n",
       "    </tr>\n",
       "    <tr>\n",
       "      <th>41801</th>\n",
       "      <td>La Galette fine Chocolat</td>\n",
       "      <td>741.000</td>\n",
       "    </tr>\n",
       "    <tr>\n",
       "      <th>34576</th>\n",
       "      <td>Chocolat en poudre lacté 4 étoiles</td>\n",
       "      <td>167.000</td>\n",
       "    </tr>\n",
       "    <tr>\n",
       "      <th>4603</th>\n",
       "      <td>ISO 100  Hydrolyzed 100% Whey Protein Isolate</td>\n",
       "      <td>66.200</td>\n",
       "    </tr>\n",
       "    <tr>\n",
       "      <th>26098</th>\n",
       "      <td>Biscuits sablés à la noix de coco Leader Price</td>\n",
       "      <td>nan</td>\n",
       "    </tr>\n",
       "    <tr>\n",
       "      <th>26097</th>\n",
       "      <td>Boudoirs aux oeufs frais</td>\n",
       "      <td>nan</td>\n",
       "    </tr>\n",
       "    <tr>\n",
       "      <th>26096</th>\n",
       "      <td>Tartelettes au Citron Pur Beurre</td>\n",
       "      <td>nan</td>\n",
       "    </tr>\n",
       "    <tr>\n",
       "      <th>26095</th>\n",
       "      <td>Tartelettes à la fraise</td>\n",
       "      <td>nan</td>\n",
       "    </tr>\n",
       "    <tr>\n",
       "      <th>26094</th>\n",
       "      <td>Gaufres au miel bio</td>\n",
       "      <td>nan</td>\n",
       "    </tr>\n",
       "  </tbody>\n",
       "</table>\n",
       "</div>"
      ],
      "text/plain": [
       "                                         product_name  energy_from_fat_100g\n",
       "5217                      Dark Chocolate with Almonds              1420.000\n",
       "59124                   Chocolat au lait et gaufrette              1140.000\n",
       "41801                        La Galette fine Chocolat               741.000\n",
       "34576             Chocolat en poudre lacté 4 étoiles                167.000\n",
       "4603    ISO 100  Hydrolyzed 100% Whey Protein Isolate                66.200\n",
       "26098  Biscuits sablés à la noix de coco Leader Price                   nan\n",
       "26097                        Boudoirs aux oeufs frais                   nan\n",
       "26096                Tartelettes au Citron Pur Beurre                   nan\n",
       "26095                         Tartelettes à la fraise                   nan\n",
       "26094                             Gaufres au miel bio                   nan"
      ]
     },
     "execution_count": 35,
     "metadata": {},
     "output_type": "execute_result"
    }
   ],
   "source": [
    "euroFattiest = train[train['isUS'] == 0].energy_from_fat_100g.sort_values(ascending=False)\n",
    "europe.ix[euroFattiest.index.values, :][['product_name', 'energy_from_fat_100g']].head(10)"
   ]
  },
  {
   "cell_type": "code",
   "execution_count": 43,
   "metadata": {
    "collapsed": false
   },
   "outputs": [
    {
     "data": {
      "text/plain": [
       "<matplotlib.axes._subplots.AxesSubplot at 0x12283a358>"
      ]
     },
     "execution_count": 43,
     "metadata": {},
     "output_type": "execute_result"
    },
    {
     "data": {
      "image/png": "[encoded data removed]",
      "text/plain": [
       "<matplotlib.figure.Figure at 0x122838fd0>"
      ]
     },
     "metadata": {},
     "output_type": "display_data"
    }
   ],
   "source": [
    "us = train[train['isUS'] == 1]\n",
    "euro = train[train['isUS'] == 0]\n",
    "#sns.kdeplot(us['cholesterol_100g'], label='US')\n",
    "sns.kdeplot(euro['cholesterol_100g'], label='Euro')"
   ]
  },
  {
   "cell_type": "code",
   "execution_count": 44,
   "metadata": {
    "collapsed": false
   },
   "outputs": [
    {
     "ename": "KeyError",
     "evalue": "'cholesterol'",
     "output_type": "error",
     "traceback": [
      "\u001b[0;31m---------------------------------------------------------------------------\u001b[0m",
      "\u001b[0;31mKeyError\u001b[0m                                  Traceback (most recent call last)",
      "\u001b[0;32m//anaconda/lib/python3.5/site-packages/pandas/indexes/base.py\u001b[0m in \u001b[0;36mget_loc\u001b[0;34m(self, key, method, tolerance)\u001b[0m\n\u001b[1;32m   1875\u001b[0m             \u001b[0;32mtry\u001b[0m\u001b[0;34m:\u001b[0m\u001b[0;34m\u001b[0m\u001b[0m\n\u001b[0;32m-> 1876\u001b[0;31m                 \u001b[0;32mreturn\u001b[0m \u001b[0mself\u001b[0m\u001b[0;34m.\u001b[0m\u001b[0m_engine\u001b[0m\u001b[0;34m.\u001b[0m\u001b[0mget_loc\u001b[0m\u001b[0;34m(\u001b[0m\u001b[0mkey\u001b[0m\u001b[0;34m)\u001b[0m\u001b[0;34m\u001b[0m\u001b[0m\n\u001b[0m\u001b[1;32m   1877\u001b[0m             \u001b[0;32mexcept\u001b[0m \u001b[0mKeyError\u001b[0m\u001b[0;34m:\u001b[0m\u001b[0;34m\u001b[0m\u001b[0m\n",
      "\u001b[0;32mpandas/index.pyx\u001b[0m in \u001b[0;36mpandas.index.IndexEngine.get_loc (pandas/index.c:4027)\u001b[0;34m()\u001b[0m\n",
      "\u001b[0;32mpandas/index.pyx\u001b[0m in \u001b[0;36mpandas.index.IndexEngine.get_loc (pandas/index.c:3891)\u001b[0;34m()\u001b[0m\n",
      "\u001b[0;32mpandas/hashtable.pyx\u001b[0m in \u001b[0;36mpandas.hashtable.PyObjectHashTable.get_item (pandas/hashtable.c:12408)\u001b[0;34m()\u001b[0m\n",
      "\u001b[0;32mpandas/hashtable.pyx\u001b[0m in \u001b[0;36mpandas.hashtable.PyObjectHashTable.get_item (pandas/hashtable.c:12359)\u001b[0;34m()\u001b[0m\n",
      "\u001b[0;31mKeyError\u001b[0m: 'cholesterol'",
      "\nDuring handling of the above exception, another exception occurred:\n",
      "\u001b[0;31mKeyError\u001b[0m                                  Traceback (most recent call last)",
      "\u001b[0;32m<ipython-input-44-629c59465c4f>\u001b[0m in \u001b[0;36m<module>\u001b[0;34m()\u001b[0m\n\u001b[0;32m----> 1\u001b[0;31m \u001b[0msns\u001b[0m\u001b[0;34m.\u001b[0m\u001b[0mkdeplot\u001b[0m\u001b[0;34m(\u001b[0m\u001b[0mus\u001b[0m\u001b[0;34m[\u001b[0m\u001b[0;34m'cholesterol'\u001b[0m\u001b[0;34m]\u001b[0m\u001b[0;34m,\u001b[0m \u001b[0mlabel\u001b[0m\u001b[0;34m=\u001b[0m\u001b[0;34m'US'\u001b[0m\u001b[0;34m)\u001b[0m\u001b[0;34m\u001b[0m\u001b[0m\n\u001b[0m\u001b[1;32m      2\u001b[0m \u001b[0msns\u001b[0m\u001b[0;34m.\u001b[0m\u001b[0mkdeplot\u001b[0m\u001b[0;34m(\u001b[0m\u001b[0meuro\u001b[0m\u001b[0;34m[\u001b[0m\u001b[0;34m'cholesterol'\u001b[0m\u001b[0;34m]\u001b[0m\u001b[0;34m,\u001b[0m \u001b[0mlabel\u001b[0m\u001b[0;34m=\u001b[0m\u001b[0;34m'Euro'\u001b[0m\u001b[0;34m)\u001b[0m\u001b[0;34m\u001b[0m\u001b[0m\n",
      "\u001b[0;32m//anaconda/lib/python3.5/site-packages/pandas/core/frame.py\u001b[0m in \u001b[0;36m__getitem__\u001b[0;34m(self, key)\u001b[0m\n\u001b[1;32m   1990\u001b[0m             \u001b[0;32mreturn\u001b[0m \u001b[0mself\u001b[0m\u001b[0;34m.\u001b[0m\u001b[0m_getitem_multilevel\u001b[0m\u001b[0;34m(\u001b[0m\u001b[0mkey\u001b[0m\u001b[0;34m)\u001b[0m\u001b[0;34m\u001b[0m\u001b[0m\n\u001b[1;32m   1991\u001b[0m         \u001b[0;32melse\u001b[0m\u001b[0;34m:\u001b[0m\u001b[0;34m\u001b[0m\u001b[0m\n\u001b[0;32m-> 1992\u001b[0;31m             \u001b[0;32mreturn\u001b[0m \u001b[0mself\u001b[0m\u001b[0;34m.\u001b[0m\u001b[0m_getitem_column\u001b[0m\u001b[0;34m(\u001b[0m\u001b[0mkey\u001b[0m\u001b[0;34m)\u001b[0m\u001b[0;34m\u001b[0m\u001b[0m\n\u001b[0m\u001b[1;32m   1993\u001b[0m \u001b[0;34m\u001b[0m\u001b[0m\n\u001b[1;32m   1994\u001b[0m     \u001b[0;32mdef\u001b[0m \u001b[0m_getitem_column\u001b[0m\u001b[0;34m(\u001b[0m\u001b[0mself\u001b[0m\u001b[0;34m,\u001b[0m \u001b[0mkey\u001b[0m\u001b[0;34m)\u001b[0m\u001b[0;34m:\u001b[0m\u001b[0;34m\u001b[0m\u001b[0m\n",
      "\u001b[0;32m//anaconda/lib/python3.5/site-packages/pandas/core/frame.py\u001b[0m in \u001b[0;36m_getitem_column\u001b[0;34m(self, key)\u001b[0m\n\u001b[1;32m   1997\u001b[0m         \u001b[0;31m# get column\u001b[0m\u001b[0;34m\u001b[0m\u001b[0;34m\u001b[0m\u001b[0m\n\u001b[1;32m   1998\u001b[0m         \u001b[0;32mif\u001b[0m \u001b[0mself\u001b[0m\u001b[0;34m.\u001b[0m\u001b[0mcolumns\u001b[0m\u001b[0;34m.\u001b[0m\u001b[0mis_unique\u001b[0m\u001b[0;34m:\u001b[0m\u001b[0;34m\u001b[0m\u001b[0m\n\u001b[0;32m-> 1999\u001b[0;31m             \u001b[0;32mreturn\u001b[0m \u001b[0mself\u001b[0m\u001b[0;34m.\u001b[0m\u001b[0m_get_item_cache\u001b[0m\u001b[0;34m(\u001b[0m\u001b[0mkey\u001b[0m\u001b[0;34m)\u001b[0m\u001b[0;34m\u001b[0m\u001b[0m\n\u001b[0m\u001b[1;32m   2000\u001b[0m \u001b[0;34m\u001b[0m\u001b[0m\n\u001b[1;32m   2001\u001b[0m         \u001b[0;31m# duplicate columns & possible reduce dimensionality\u001b[0m\u001b[0;34m\u001b[0m\u001b[0;34m\u001b[0m\u001b[0m\n",
      "\u001b[0;32m//anaconda/lib/python3.5/site-packages/pandas/core/generic.py\u001b[0m in \u001b[0;36m_get_item_cache\u001b[0;34m(self, item)\u001b[0m\n\u001b[1;32m   1343\u001b[0m         \u001b[0mres\u001b[0m \u001b[0;34m=\u001b[0m \u001b[0mcache\u001b[0m\u001b[0;34m.\u001b[0m\u001b[0mget\u001b[0m\u001b[0;34m(\u001b[0m\u001b[0mitem\u001b[0m\u001b[0;34m)\u001b[0m\u001b[0;34m\u001b[0m\u001b[0m\n\u001b[1;32m   1344\u001b[0m         \u001b[0;32mif\u001b[0m \u001b[0mres\u001b[0m \u001b[0;32mis\u001b[0m \u001b[0;32mNone\u001b[0m\u001b[0;34m:\u001b[0m\u001b[0;34m\u001b[0m\u001b[0m\n\u001b[0;32m-> 1345\u001b[0;31m             \u001b[0mvalues\u001b[0m \u001b[0;34m=\u001b[0m \u001b[0mself\u001b[0m\u001b[0;34m.\u001b[0m\u001b[0m_data\u001b[0m\u001b[0;34m.\u001b[0m\u001b[0mget\u001b[0m\u001b[0;34m(\u001b[0m\u001b[0mitem\u001b[0m\u001b[0;34m)\u001b[0m\u001b[0;34m\u001b[0m\u001b[0m\n\u001b[0m\u001b[1;32m   1346\u001b[0m             \u001b[0mres\u001b[0m \u001b[0;34m=\u001b[0m \u001b[0mself\u001b[0m\u001b[0;34m.\u001b[0m\u001b[0m_box_item_values\u001b[0m\u001b[0;34m(\u001b[0m\u001b[0mitem\u001b[0m\u001b[0;34m,\u001b[0m \u001b[0mvalues\u001b[0m\u001b[0;34m)\u001b[0m\u001b[0;34m\u001b[0m\u001b[0m\n\u001b[1;32m   1347\u001b[0m             \u001b[0mcache\u001b[0m\u001b[0;34m[\u001b[0m\u001b[0mitem\u001b[0m\u001b[0;34m]\u001b[0m \u001b[0;34m=\u001b[0m \u001b[0mres\u001b[0m\u001b[0;34m\u001b[0m\u001b[0m\n",
      "\u001b[0;32m//anaconda/lib/python3.5/site-packages/pandas/core/internals.py\u001b[0m in \u001b[0;36mget\u001b[0;34m(self, item, fastpath)\u001b[0m\n\u001b[1;32m   3223\u001b[0m \u001b[0;34m\u001b[0m\u001b[0m\n\u001b[1;32m   3224\u001b[0m             \u001b[0;32mif\u001b[0m \u001b[0;32mnot\u001b[0m \u001b[0misnull\u001b[0m\u001b[0;34m(\u001b[0m\u001b[0mitem\u001b[0m\u001b[0;34m)\u001b[0m\u001b[0;34m:\u001b[0m\u001b[0;34m\u001b[0m\u001b[0m\n\u001b[0;32m-> 3225\u001b[0;31m                 \u001b[0mloc\u001b[0m \u001b[0;34m=\u001b[0m \u001b[0mself\u001b[0m\u001b[0;34m.\u001b[0m\u001b[0mitems\u001b[0m\u001b[0;34m.\u001b[0m\u001b[0mget_loc\u001b[0m\u001b[0;34m(\u001b[0m\u001b[0mitem\u001b[0m\u001b[0;34m)\u001b[0m\u001b[0;34m\u001b[0m\u001b[0m\n\u001b[0m\u001b[1;32m   3226\u001b[0m             \u001b[0;32melse\u001b[0m\u001b[0;34m:\u001b[0m\u001b[0;34m\u001b[0m\u001b[0m\n\u001b[1;32m   3227\u001b[0m                 \u001b[0mindexer\u001b[0m \u001b[0;34m=\u001b[0m \u001b[0mnp\u001b[0m\u001b[0;34m.\u001b[0m\u001b[0marange\u001b[0m\u001b[0;34m(\u001b[0m\u001b[0mlen\u001b[0m\u001b[0;34m(\u001b[0m\u001b[0mself\u001b[0m\u001b[0;34m.\u001b[0m\u001b[0mitems\u001b[0m\u001b[0;34m)\u001b[0m\u001b[0;34m)\u001b[0m\u001b[0;34m[\u001b[0m\u001b[0misnull\u001b[0m\u001b[0;34m(\u001b[0m\u001b[0mself\u001b[0m\u001b[0;34m.\u001b[0m\u001b[0mitems\u001b[0m\u001b[0;34m)\u001b[0m\u001b[0;34m]\u001b[0m\u001b[0;34m\u001b[0m\u001b[0m\n",
      "\u001b[0;32m//anaconda/lib/python3.5/site-packages/pandas/indexes/base.py\u001b[0m in \u001b[0;36mget_loc\u001b[0;34m(self, key, method, tolerance)\u001b[0m\n\u001b[1;32m   1876\u001b[0m                 \u001b[0;32mreturn\u001b[0m \u001b[0mself\u001b[0m\u001b[0;34m.\u001b[0m\u001b[0m_engine\u001b[0m\u001b[0;34m.\u001b[0m\u001b[0mget_loc\u001b[0m\u001b[0;34m(\u001b[0m\u001b[0mkey\u001b[0m\u001b[0;34m)\u001b[0m\u001b[0;34m\u001b[0m\u001b[0m\n\u001b[1;32m   1877\u001b[0m             \u001b[0;32mexcept\u001b[0m \u001b[0mKeyError\u001b[0m\u001b[0;34m:\u001b[0m\u001b[0;34m\u001b[0m\u001b[0m\n\u001b[0;32m-> 1878\u001b[0;31m                 \u001b[0;32mreturn\u001b[0m \u001b[0mself\u001b[0m\u001b[0;34m.\u001b[0m\u001b[0m_engine\u001b[0m\u001b[0;34m.\u001b[0m\u001b[0mget_loc\u001b[0m\u001b[0;34m(\u001b[0m\u001b[0mself\u001b[0m\u001b[0;34m.\u001b[0m\u001b[0m_maybe_cast_indexer\u001b[0m\u001b[0;34m(\u001b[0m\u001b[0mkey\u001b[0m\u001b[0;34m)\u001b[0m\u001b[0;34m)\u001b[0m\u001b[0;34m\u001b[0m\u001b[0m\n\u001b[0m\u001b[1;32m   1879\u001b[0m \u001b[0;34m\u001b[0m\u001b[0m\n\u001b[1;32m   1880\u001b[0m         \u001b[0mindexer\u001b[0m \u001b[0;34m=\u001b[0m \u001b[0mself\u001b[0m\u001b[0;34m.\u001b[0m\u001b[0mget_indexer\u001b[0m\u001b[0;34m(\u001b[0m\u001b[0;34m[\u001b[0m\u001b[0mkey\u001b[0m\u001b[0;34m]\u001b[0m\u001b[0;34m,\u001b[0m \u001b[0mmethod\u001b[0m\u001b[0;34m=\u001b[0m\u001b[0mmethod\u001b[0m\u001b[0;34m,\u001b[0m \u001b[0mtolerance\u001b[0m\u001b[0;34m=\u001b[0m\u001b[0mtolerance\u001b[0m\u001b[0;34m)\u001b[0m\u001b[0;34m\u001b[0m\u001b[0m\n",
      "\u001b[0;32mpandas/index.pyx\u001b[0m in \u001b[0;36mpandas.index.IndexEngine.get_loc (pandas/index.c:4027)\u001b[0;34m()\u001b[0m\n",
      "\u001b[0;32mpandas/index.pyx\u001b[0m in \u001b[0;36mpandas.index.IndexEngine.get_loc (pandas/index.c:3891)\u001b[0;34m()\u001b[0m\n",
      "\u001b[0;32mpandas/hashtable.pyx\u001b[0m in \u001b[0;36mpandas.hashtable.PyObjectHashTable.get_item (pandas/hashtable.c:12408)\u001b[0;34m()\u001b[0m\n",
      "\u001b[0;32mpandas/hashtable.pyx\u001b[0m in \u001b[0;36mpandas.hashtable.PyObjectHashTable.get_item (pandas/hashtable.c:12359)\u001b[0;34m()\u001b[0m\n",
      "\u001b[0;31mKeyError\u001b[0m: 'cholesterol'"
     ]
    }
   ],
   "source": [
    "sns.kdeplot(us['cholesterol'], label='US')\n",
    "sns.kdeplot(euro['cholesterol'], label='Euro')"
   ]
  },
  {
   "cell_type": "code",
   "execution_count": 45,
   "metadata": {
    "collapsed": false
   },
   "outputs": [
    {
     "data": {
      "text/plain": [
       "1420.0"
      ]
     },
     "execution_count": 45,
     "metadata": {},
     "output_type": "execute_result"
    }
   ],
   "source": [
    "euro['energy_from_fat_100g'].max()"
   ]
  },
  {
   "cell_type": "code",
   "execution_count": null,
   "metadata": {
    "collapsed": false
   },
   "outputs": [],
   "source": [
    "top_features = corr_df.iloc[0:4, :]['feature']\n",
    "g = sns.pairplot(train[top_features])"
   ]
  },
  {
   "cell_type": "code",
   "execution_count": null,
   "metadata": {
    "collapsed": false
   },
   "outputs": [],
   "source": [
    "(X, y) = makeTrainingSet()\n",
    "(Xtrain, Xtest, yTrain, yTest) = cross_validation.train_test_split(X, y)\n",
    "clf = LogisticRegression(class_weight='balanced')\n",
    "clf.fit(Xtrain, yTrain)\n",
    "print('F1 Score: {}'.format(f1_score(yTest.values, clf.predict(Xtest.values))))\n",
    "print('AUC: {}'.format(roc_auc_score(clf.predict(Xtest.values), yTest.values)))\n",
    "print('Precision: {}'.format(precision_score(y_true=yTest.values,y_pred= clf.predict(Xtest.values))))\n",
    "print('Recall: {}'.format(recall_score(y_true=yTest.values,y_pred= clf.predict(Xtest.values))))\n",
    "print('Accuracy: {}'.format(accuracy_score(y_true=yTest.values,y_pred= clf.predict(Xtest.values))))"
   ]
  },
  {
   "cell_type": "markdown",
   "metadata": {},
   "source": [
    "We might as well be guessing randomly. Particularly, the precision score indicates we're making many false positive errors, predicting European foods as US foods."
   ]
  },
  {
   "cell_type": "code",
   "execution_count": null,
   "metadata": {
    "collapsed": false
   },
   "outputs": [],
   "source": [
    "clf = rf(class_weight='balanced', max_depth=5)\n",
    "clf.fit(Xtrain, yTrain)\n",
    "print('F1 Score: {}'.format(f1_score(yTest.values, clf.predict(Xtest.values))))\n",
    "print('AUC: {}'.format(roc_auc_score(clf.predict(Xtest.values), yTest.values)))\n",
    "print('Precision: {}'.format(precision_score(y_true=yTest.values,y_pred= clf.predict(Xtest.values))))\n",
    "print('Recall: {}'.format(recall_score(ytrue=yTest.values,y_pred= clf.predict(Xtest.values))))\n",
    "print('Accuracy: {}'.format(accuracy_score(y_true=yTest.values,y_pred= clf.predict(Xtest.values))))"
   ]
  },
  {
   "cell_type": "code",
   "execution_count": null,
   "metadata": {
    "collapsed": false
   },
   "outputs": [],
   "source": [
    "plt.scatter(train.energy_from_fat_100g, train.cholesterol_100g, c=train.isEuro)\n",
    "plt.xlabel('energy from fat')\n",
    "plt.ylabel('cholesterol')\n",
    "plt.legend(loc='best')"
   ]
  },
  {
   "cell_type": "code",
   "execution_count": 46,
   "metadata": {
    "collapsed": false
   },
   "outputs": [
    {
     "name": "stdout",
     "output_type": "stream",
     "text": [
      "best C: 100\n",
      "best AUC: 0.7807087912670242\n"
     ]
    }
   ],
   "source": [
    "X = train.drop(['isUS'], axis=1).values\n",
    "y = train['isUS'].values\n",
    "(Xtrain, Xtest, yTrain, yTest) = cross_validation.train_test_split(X, y, stratify=y)\n",
    "clf = LogisticRegression()\n",
    "sc = StandardScaler()\n",
    "X = sc.fit_transform(X)\n",
    "params = {'C': [0.01, 0.1, 1, 10, 100, 1000]}\n",
    "gs = GridSearchCV(clf, param_grid=params, scoring='roc_auc')\n",
    "gs.fit(Xtrain, yTrain)\n",
    "\n",
    "print('best C: {}'.format(gs.best_params_['C']))\n",
    "print('best AUC: {}'.format(gs.best_score_))\n",
    "\n",
    "\n"
   ]
  },
  {
   "cell_type": "code",
   "execution_count": 82,
   "metadata": {
    "collapsed": false
   },
   "outputs": [
    {
     "name": "stdout",
     "output_type": "stream",
     "text": [
      "Test Set AUC: 0.9544634491784633\n",
      "Accuracy: 0.9678524916032627\n"
     ]
    }
   ],
   "source": [
    "#preds = gs.predict(Xtest)\n",
    "probas = gs.predict_proba(Xtest)\n",
    "preds = [1 if x > 0.37 else 0 for x in probas[:, 1]]\n",
    "print('Test Set AUC: {}'.format(roc_auc_score(preds, yTest)))\n",
    "print('Accuracy: {}'.format(accuracy_score(y_true=yTest, y_pred= preds)))"
   ]
  },
  {
   "cell_type": "code",
   "execution_count": 81,
   "metadata": {
    "collapsed": false
   },
   "outputs": [
    {
     "data": {
      "text/plain": [
       "array([[13959,    27],\n",
       "       [  448,   155]])"
      ]
     },
     "execution_count": 81,
     "metadata": {},
     "output_type": "execute_result"
    }
   ],
   "source": [
    "confusion_matrix(y_true=yTest, y_pred= preds)"
   ]
  },
  {
   "cell_type": "code",
   "execution_count": 90,
   "metadata": {
    "collapsed": false
   },
   "outputs": [
    {
     "data": {
      "text/plain": [
       "95.866748920419496"
      ]
     },
     "execution_count": 90,
     "metadata": {},
     "output_type": "execute_result"
    }
   ],
   "source": [
    "100 - (sum(yTest) / len(yTest) * 100)"
   ]
  },
  {
   "cell_type": "code",
   "execution_count": 100,
   "metadata": {
    "collapsed": false
   },
   "outputs": [
    {
     "data": {
      "text/html": [
       "<div>\n",
       "<table border=\"1\" class=\"dataframe\">\n",
       "  <thead>\n",
       "    <tr style=\"text-align: right;\">\n",
       "      <th></th>\n",
       "      <th>absVal</th>\n",
       "      <th>feature</th>\n",
       "      <th>value</th>\n",
       "    </tr>\n",
       "  </thead>\n",
       "  <tbody>\n",
       "    <tr>\n",
       "      <th>47</th>\n",
       "      <td>2.078</td>\n",
       "      <td>cocoa_100g</td>\n",
       "      <td>-2.078</td>\n",
       "    </tr>\n",
       "    <tr>\n",
       "      <th>7</th>\n",
       "      <td>0.389</td>\n",
       "      <td>omega_3_fat_100g</td>\n",
       "      <td>-0.389</td>\n",
       "    </tr>\n",
       "    <tr>\n",
       "      <th>10</th>\n",
       "      <td>0.281</td>\n",
       "      <td>cholesterol_100g</td>\n",
       "      <td>0.281</td>\n",
       "    </tr>\n",
       "    <tr>\n",
       "      <th>14</th>\n",
       "      <td>0.179</td>\n",
       "      <td>polyols_100g</td>\n",
       "      <td>-0.179</td>\n",
       "    </tr>\n",
       "    <tr>\n",
       "      <th>30</th>\n",
       "      <td>0.130</td>\n",
       "      <td>vitamin_b12_100g</td>\n",
       "      <td>0.130</td>\n",
       "    </tr>\n",
       "    <tr>\n",
       "      <th>8</th>\n",
       "      <td>0.117</td>\n",
       "      <td>alpha_linolenic_acid_100g</td>\n",
       "      <td>-0.117</td>\n",
       "    </tr>\n",
       "    <tr>\n",
       "      <th>13</th>\n",
       "      <td>0.104</td>\n",
       "      <td>lactose_100g</td>\n",
       "      <td>-0.104</td>\n",
       "    </tr>\n",
       "    <tr>\n",
       "      <th>48</th>\n",
       "      <td>0.096</td>\n",
       "      <td>carbon_footprint_100g</td>\n",
       "      <td>-0.096</td>\n",
       "    </tr>\n",
       "    <tr>\n",
       "      <th>33</th>\n",
       "      <td>0.088</td>\n",
       "      <td>potassium_100g</td>\n",
       "      <td>0.088</td>\n",
       "    </tr>\n",
       "    <tr>\n",
       "      <th>6</th>\n",
       "      <td>0.085</td>\n",
       "      <td>polyunsaturated_fat_100g</td>\n",
       "      <td>0.085</td>\n",
       "    </tr>\n",
       "  </tbody>\n",
       "</table>\n",
       "</div>"
      ],
      "text/plain": [
       "    absVal                    feature  value\n",
       "47   2.078                 cocoa_100g -2.078\n",
       "7    0.389           omega_3_fat_100g -0.389\n",
       "10   0.281           cholesterol_100g  0.281\n",
       "14   0.179               polyols_100g -0.179\n",
       "30   0.130           vitamin_b12_100g  0.130\n",
       "8    0.117  alpha_linolenic_acid_100g -0.117\n",
       "13   0.104               lactose_100g -0.104\n",
       "48   0.096      carbon_footprint_100g -0.096\n",
       "33   0.088             potassium_100g  0.088\n",
       "6    0.085   polyunsaturated_fat_100g  0.085"
      ]
     },
     "execution_count": 100,
     "metadata": {},
     "output_type": "execute_result"
    }
   ],
   "source": [
    "(X_df, y) = makeTrainingSet()\n",
    "coef_df = makeCoefDf(gs.best_estimator_, X_df)\n",
    "coef_df.iloc[0:10, :]"
   ]
  },
  {
   "cell_type": "code",
   "execution_count": 106,
   "metadata": {
    "collapsed": false
   },
   "outputs": [
    {
     "name": "stdout",
     "output_type": "stream",
     "text": [
      "0.024865312888520515\n"
     ]
    },
    {
     "data": {
      "text/plain": [
       "0.3447213185084552"
      ]
     },
     "execution_count": 106,
     "metadata": {},
     "output_type": "execute_result"
    }
   ],
   "source": [
    "print(train[train['isUS'] == 1].cocoa_100g.mean())\n",
    "train[train['isUS'] == 0].cocoa_100g.mean()"
   ]
  },
  {
   "cell_type": "code",
   "execution_count": 83,
   "metadata": {
    "collapsed": false
   },
   "outputs": [
    {
     "data": {
      "text/html": [
       "<div>\n",
       "<table border=\"1\" class=\"dataframe\">\n",
       "  <thead>\n",
       "    <tr style=\"text-align: right;\">\n",
       "      <th></th>\n",
       "      <th>Pred 0</th>\n",
       "      <th>Pred 1</th>\n",
       "    </tr>\n",
       "  </thead>\n",
       "  <tbody>\n",
       "    <tr>\n",
       "      <th>Acutal 0</th>\n",
       "      <td>13977</td>\n",
       "      <td>9</td>\n",
       "    </tr>\n",
       "    <tr>\n",
       "      <th>Acutal 1</th>\n",
       "      <td>460</td>\n",
       "      <td>143</td>\n",
       "    </tr>\n",
       "  </tbody>\n",
       "</table>\n",
       "</div>"
      ],
      "text/plain": [
       "          Pred 0  Pred 1\n",
       "Acutal 0   13977       9\n",
       "Acutal 1     460     143"
      ]
     },
     "execution_count": 83,
     "metadata": {},
     "output_type": "execute_result"
    }
   ],
   "source": [
    "def makeConfusionDf(true, pred):\n",
    "    c = confusion_matrix(y_true=yTest, y_pred= preds) \n",
    "    return pd.DataFrame(c, columns=['Pred 0', 'Pred 1'], index=['Acutal 0', 'Acutal 1'])\n",
    "makeConfusionDf(yTest, preds)"
   ]
  },
  {
   "cell_type": "code",
   "execution_count": 64,
   "metadata": {
    "collapsed": false
   },
   "outputs": [
    {
     "data": {
      "image/png": "[encoded data removed]",
      "text/plain": [
       "<matplotlib.figure.Figure at 0x11b1ccf60>"
      ]
     },
     "metadata": {},
     "output_type": "display_data"
    }
   ],
   "source": [
    "cv = cross_validation.StratifiedKFold(y, n_folds=5, random_state=2)\n",
    "\n",
    "fig = plt.figure(figsize=(7, 5))\n",
    "\n",
    "mean_tpr = 0.0\n",
    "mean_fpr = np.linspace(0, 1, 100)\n",
    "all_tpr = []\n",
    "\n",
    "\n",
    "for i, (train, test) in enumerate(cv):\n",
    "    probas = gs.predict_proba(Xtest)\n",
    "    \n",
    "    fpr, tpr, thresholds = roc_curve(yTest,\n",
    "                                     probas[:, 1],\n",
    "                                     pos_label=1)\n",
    "    mean_tpr += interp(mean_fpr, fpr, tpr)\n",
    "    mean_tpr[0] = 0.0\n",
    "    roc_auc = auc(fpr, tpr)\n",
    "    plt.plot(fpr,\n",
    "             tpr,\n",
    "             lw=1,\n",
    "             label='ROC fold %d (area = %0.2f)'\n",
    "                   % (i+1, roc_auc))\n",
    "mean_tpr /= len(cv)\n",
    "mean_tpr[-1] = 1.0\n",
    "plt.plot([0, 1],\n",
    "         [0, 1],\n",
    "         linestyle='--',\n",
    "         color=(0.6, 0.6, 0.6),\n",
    "         label='random guessing')\n",
    "mean_auc = auc(mean_fpr, mean_tpr)\n",
    "plt.plot(mean_fpr, mean_tpr, 'k--',\n",
    "         label='mean ROC (area = %0.2f)' % mean_auc, lw=2)\n",
    "plt.plot([0, 0, 1],\n",
    "         [0, 1, 1],\n",
    "         lw=2,\n",
    "         linestyle=':',\n",
    "         color='black',\n",
    "         label='perfect performance')\n",
    "\n",
    "plt.xlim([-0.05, 1.05])\n",
    "plt.ylim([-0.05, 1.05])\n",
    "plt.xlabel('false positive rate')\n",
    "plt.ylabel('true positive rate')\n",
    "plt.title('Receiver Operator Characteristic')\n",
    "plt.legend(loc=\"lower right\")\n",
    "\n",
    "plt.tight_layout()\n",
    "plt.show()"
   ]
  },
  {
   "cell_type": "code",
   "execution_count": null,
   "metadata": {
    "collapsed": false
   },
   "outputs": [],
   "source": [
    "strat_df = makeCoefDf(clf, train.drop(['isUS'], axis=1))\n",
    "strat_df.iloc[0:10, :]"
   ]
  },
  {
   "cell_type": "markdown",
   "metadata": {},
   "source": [
    "### Let's explore the how US and Euro foods differ within food categories"
   ]
  }
 ],
 "metadata": {
  "kernelspec": {
   "display_name": "Python 3",
   "language": "python",
   "name": "python3"
  },
  "language_info": {
   "codemirror_mode": {
    "name": "ipython",
    "version": 3
   },
   "file_extension": ".py",
   "mimetype": "text/x-python",
   "name": "python",
   "nbconvert_exporter": "python",
   "pygments_lexer": "ipython3",
   "version": "3.5.1"
  }
 },
 "nbformat": 4,
 "nbformat_minor": 0
}
